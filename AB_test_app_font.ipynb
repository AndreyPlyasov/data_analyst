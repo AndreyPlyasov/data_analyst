{
 "cells": [
  {
   "cell_type": "markdown",
   "metadata": {},
   "source": [
    "<div class=\"alert alert-success\"><div class='alert btn-success'>\n",
    "Андрей, 😊буду рада, если мои советы тебе пригодились)<br>\n",
    "Критичных ошибок нет. Проект принят!)<br> \n",
    "Уже делилась с тобой материалами, но на всякий случай продублирую)\n",
    "</div></div>\n",
    "\n",
    "Просто о сложном:<br> \n",
    "**[Курс «Математика для анализа данных»](https://practicum.yandex.ru/math-for-da-ds/)**     <br> \n",
    "**[Курс от Анатолия Карпова - Основы статистики часть 1](https://stepik.org/course/76/syllabus)**     <br> \n",
    "**[Курс от Анатолия Карпова - Основы статистики часть 2](https://stepik.org/course/524/syllabus)**     <br> \n",
    "**[Видео от Анатолия Карпова - Как и зачем оценивать размер выборки для A/B теста| Ошибка I и II рода](https://www.youtube.com/watch?v=2nP_gcut7SU)** <br>\n",
    "**[Видео от Глеба Михайлова - А/Б тесты: пропорции | размер группы](https://www.youtube.com/watch?v=TITNwhkI05U)**<br>\n",
    "**[Видео от Глеба Михайлова - Проверка гипотез и p-value](https://www.youtube.com/watch?v=SmReaN-Kn-g&t=4835s)**<br>\n",
    "\n",
    "<br>\n",
    "<div class=\"alert alert-success\"><div class='alert btn-success'>    \n",
    "Надеюсь, ты найдешь время и обязательно посмотришь, а может быть уже посмотрел😊  <br>\n",
    "Ну а я желаю тебе удачи в дальнейшей учебе! 😉 </div></div>"
   ]
  },
  {
   "cell_type": "markdown",
   "metadata": {},
   "source": [
    "Андрей, привет еще раз! Мы с тобой уже знакомы:) Меня зовут Ирина Литвинова. Сегодня я проверю твой проект.<br>\n",
    "<br> Ты можешь обращаться ко мне на \"ты\"😏 Надеюсь, ты не будешь против, если и я буду обращаться к тебе на \"ты\". Но если для тебя это неприемлeмо, дай знать, пожалуйста) <br>\n",
    "<br> Мне очень важна твоя реакция на мои комментарии, особенно <font color='red'>красные</font>. Можешь реагировать, например, так ('исправлено', ...)<br>\n",
    "<br> Ты можешь реагировать на мои комментарии своими, выделяя их цветами и наиболее понравившимся тебе способом оформления, но явно  отличающимся от моих комментариев. <br>\n",
    "Это нужно, чтобы не создавалась путаница😉<br>\n",
    "Например, так:<br>\n",
    "    \n",
    "<div class=\"alert alert-block alert-info\"><b>Комментарий студента</b>\n",
    "    \n",
    "<b>Изменения:</b> Были внесены следующие изменения ...<br></div> \n",
    "\n",
    "\n",
    "<br> Пожалуйста, не удаляй мои комментарии, так как они повышают качество повторного ревью и делают его быстрее)<br>\n",
    "<br> Увидев у тебя неточность, в первый раз я лишь укажу на ее наличие и дам тебе возможность самостоятельно найти и исправить ее. На реальной работе твой руководитель будет поступать также, и я пытаюсь подготовить тебя именно к работе. Но если ты пока не справишься с такой задачей - при следующей проверке я дам более точную подсказку!🤓<br>\n",
    "\n",
    "Для твоего удобства мои комментарии будут в <font color='green'>зеленой</font>, <font color='orange'>желтой</font> или <font color='red'>красной</font> рамках:<br>\n",
    "<br>\n",
    "\n",
    "<div class=\"alert alert-block alert-danger\"><b>Комментарий ревьюера</b>\n",
    "    \n",
    "<b>Ошибка:</b><br>\n",
    "Если требуются исправления. Работа не может быть принята с красными комментариями.<br></div>\n",
    "\n",
    "<div class=\"alert alert-block alert-warning\"><b>Комментарий ревьюера</b>\n",
    "    \n",
    "<b>Совет:</b><br>\n",
    "Если можно немного улучшить.<br></div>\n",
    "\n",
    "<div class=\"alert alert-block alert-success\"><b>Комментарий ревьюера</b>\n",
    "    \n",
    "<b>Успех:</b><br>\n",
    "Если все сделано отлично.<br></div>   "
   ]
  },
  {
   "cell_type": "markdown",
   "metadata": {},
   "source": [
    "# A/A/B тест замены шрифтов на сайте."
   ]
  },
  {
   "cell_type": "markdown",
   "metadata": {},
   "source": [
    "## Введение"
   ]
  },
  {
   "cell_type": "markdown",
   "metadata": {},
   "source": [
    "Мы работаем в стартапе, который продаёт продукты питания. Нужно разобраться, как ведут себя пользователи нашего мобильного приложения."
   ]
  },
  {
   "cell_type": "markdown",
   "metadata": {},
   "source": [
    "Изучим воронку продаж. Узнаем, как пользователи доходят до покупки.  \n",
    "После этого исследуем результаты A/A/B-эксперимента. Дизайнеры захотели поменять шрифты во всём приложении, а менеджеры испугались, что пользователям будет непривычно.  \n",
    "Пользователей разбили на 3 группы: 2 контрольные со старыми шрифтами и одну экспериментальную — с новыми. Выясним, какой шрифт лучше."
   ]
  },
  {
   "cell_type": "markdown",
   "metadata": {},
   "source": [
    "<div class=\"alert alert-block alert-warning\"><b>Комментарий ревьюера</b>\n",
    "    \n",
    "<b>Совет:</b><br>\n",
    "Есть введение в проект. Отлично!<br>\n",
    "Только не забывай добавлять название проекта (не просто \"Сборный проект 2\", а что-то более говорящее о сути проекта).\n",
    "</div>"
   ]
  },
  {
   "cell_type": "markdown",
   "metadata": {},
   "source": [
    "<div class=\"alert alert-block alert-info\"><b>Комментарий студента</b>\n",
    "    \n",
    "<b>Изменения:</b> Изменил название с \"Сборный прорект 2\" на \"A/A/B тест замены шрифтов на сайте.\"<br></div> "
   ]
  },
  {
   "cell_type": "markdown",
   "metadata": {},
   "source": [
    "<div class=\"alert alert-block alert-success\"><b>Комментарий ревьюера V-2</b><br>\n",
    "    \n",
    "Мне приятно, что прислушиваешься к советам:)\n",
    "</div> "
   ]
  },
  {
   "cell_type": "markdown",
   "metadata": {},
   "source": [
    "Импортируем библиотеки, которые будут использоваться в проекте."
   ]
  },
  {
   "cell_type": "code",
   "execution_count": 1,
   "metadata": {},
   "outputs": [],
   "source": [
    "import pandas as pd\n",
    "from scipy import stats as st\n",
    "import numpy as np\n",
    "import math as mth\n",
    "from matplotlib import pyplot as plt"
   ]
  },
  {
   "cell_type": "markdown",
   "metadata": {},
   "source": [
    "<div class=\"alert alert-block alert-success\"><b>Комментарий ревьюера </b>\n",
    "    \n",
    "<b>Успех:</b><br>\n",
    "👍 Библиотеки в первой ячейке. Отлично! Это позволяет легко настроить свое окружение при необходимости. \n",
    "</div> "
   ]
  },
  {
   "cell_type": "markdown",
   "metadata": {},
   "source": [
    "## Откроем файл с данными и изучим общую информацию"
   ]
  },
  {
   "cell_type": "code",
   "execution_count": 2,
   "metadata": {},
   "outputs": [
    {
     "data": {
      "text/html": [
       "<div>\n",
       "<style scoped>\n",
       "    .dataframe tbody tr th:only-of-type {\n",
       "        vertical-align: middle;\n",
       "    }\n",
       "\n",
       "    .dataframe tbody tr th {\n",
       "        vertical-align: top;\n",
       "    }\n",
       "\n",
       "    .dataframe thead th {\n",
       "        text-align: right;\n",
       "    }\n",
       "</style>\n",
       "<table border=\"1\" class=\"dataframe\">\n",
       "  <thead>\n",
       "    <tr style=\"text-align: right;\">\n",
       "      <th></th>\n",
       "      <th>EventName</th>\n",
       "      <th>DeviceIDHash</th>\n",
       "      <th>EventTimestamp</th>\n",
       "      <th>ExpId</th>\n",
       "    </tr>\n",
       "  </thead>\n",
       "  <tbody>\n",
       "    <tr>\n",
       "      <th>0</th>\n",
       "      <td>MainScreenAppear</td>\n",
       "      <td>4575588528974610257</td>\n",
       "      <td>1564029816</td>\n",
       "      <td>246</td>\n",
       "    </tr>\n",
       "    <tr>\n",
       "      <th>1</th>\n",
       "      <td>MainScreenAppear</td>\n",
       "      <td>7416695313311560658</td>\n",
       "      <td>1564053102</td>\n",
       "      <td>246</td>\n",
       "    </tr>\n",
       "    <tr>\n",
       "      <th>2</th>\n",
       "      <td>PaymentScreenSuccessful</td>\n",
       "      <td>3518123091307005509</td>\n",
       "      <td>1564054127</td>\n",
       "      <td>248</td>\n",
       "    </tr>\n",
       "    <tr>\n",
       "      <th>3</th>\n",
       "      <td>CartScreenAppear</td>\n",
       "      <td>3518123091307005509</td>\n",
       "      <td>1564054127</td>\n",
       "      <td>248</td>\n",
       "    </tr>\n",
       "    <tr>\n",
       "      <th>4</th>\n",
       "      <td>PaymentScreenSuccessful</td>\n",
       "      <td>6217807653094995999</td>\n",
       "      <td>1564055322</td>\n",
       "      <td>248</td>\n",
       "    </tr>\n",
       "  </tbody>\n",
       "</table>\n",
       "</div>"
      ],
      "text/plain": [
       "                 EventName         DeviceIDHash  EventTimestamp  ExpId\n",
       "0         MainScreenAppear  4575588528974610257      1564029816    246\n",
       "1         MainScreenAppear  7416695313311560658      1564053102    246\n",
       "2  PaymentScreenSuccessful  3518123091307005509      1564054127    248\n",
       "3         CartScreenAppear  3518123091307005509      1564054127    248\n",
       "4  PaymentScreenSuccessful  6217807653094995999      1564055322    248"
      ]
     },
     "execution_count": 2,
     "metadata": {},
     "output_type": "execute_result"
    }
   ],
   "source": [
    "data = pd.read_csv('https://code.s3.yandex.net/datasets/logs_exp.csv', sep = '\\t')\n",
    "data.head(5)"
   ]
  },
  {
   "cell_type": "markdown",
   "metadata": {},
   "source": [
    "Описание данных: \n",
    "  \n",
    "Каждая запись в логе — это действие пользователя, или событие.  \n",
    "- EventName — название события;  \n",
    "- DeviceIDHash — уникальный идентификатор пользователя;  \n",
    "- EventTimestamp — время события;  \n",
    "- ExpId — номер эксперимента: 246 и 247 — контрольные группы, а 248 — экспериментальная.  "
   ]
  },
  {
   "cell_type": "markdown",
   "metadata": {},
   "source": [
    "## Подготовим данные"
   ]
  },
  {
   "cell_type": "markdown",
   "metadata": {},
   "source": [
    "### Заменим названия столбцов на удобные для нас."
   ]
  },
  {
   "cell_type": "code",
   "execution_count": 3,
   "metadata": {},
   "outputs": [],
   "source": [
    "data.columns = ['event_name', 'device_id', 'event_timestamp', 'exp_id']"
   ]
  },
  {
   "cell_type": "markdown",
   "metadata": {},
   "source": [
    "- event_name — название события;  \n",
    "- device_id — уникальный идентификатор пользователя;  \n",
    "- event_timestamp — время события;  \n",
    "- exp_id — номер эксперимента: 246 и 247 — контрольные группы, а 248 — экспериментальная.  "
   ]
  },
  {
   "cell_type": "markdown",
   "metadata": {},
   "source": [
    "### Проверим пропуски и типы данных."
   ]
  },
  {
   "cell_type": "code",
   "execution_count": 4,
   "metadata": {},
   "outputs": [
    {
     "data": {
      "text/plain": [
       "event_name         0\n",
       "device_id          0\n",
       "event_timestamp    0\n",
       "exp_id             0\n",
       "dtype: int64"
      ]
     },
     "execution_count": 4,
     "metadata": {},
     "output_type": "execute_result"
    }
   ],
   "source": [
    "data.isna().sum()"
   ]
  },
  {
   "cell_type": "markdown",
   "metadata": {},
   "source": [
    "В данных нет пропусков."
   ]
  },
  {
   "cell_type": "code",
   "execution_count": 5,
   "metadata": {
    "scrolled": true
   },
   "outputs": [
    {
     "name": "stdout",
     "output_type": "stream",
     "text": [
      "<class 'pandas.core.frame.DataFrame'>\n",
      "RangeIndex: 244126 entries, 0 to 244125\n",
      "Data columns (total 4 columns):\n",
      " #   Column           Non-Null Count   Dtype \n",
      "---  ------           --------------   ----- \n",
      " 0   event_name       244126 non-null  object\n",
      " 1   device_id        244126 non-null  int64 \n",
      " 2   event_timestamp  244126 non-null  int64 \n",
      " 3   exp_id           244126 non-null  int64 \n",
      "dtypes: int64(3), object(1)\n",
      "memory usage: 7.5+ MB\n"
     ]
    }
   ],
   "source": [
    "data.info()"
   ]
  },
  {
   "cell_type": "markdown",
   "metadata": {},
   "source": [
    "Приведём время событие в формат datetime."
   ]
  },
  {
   "cell_type": "code",
   "execution_count": 6,
   "metadata": {
    "scrolled": false
   },
   "outputs": [
    {
     "data": {
      "text/html": [
       "<div>\n",
       "<style scoped>\n",
       "    .dataframe tbody tr th:only-of-type {\n",
       "        vertical-align: middle;\n",
       "    }\n",
       "\n",
       "    .dataframe tbody tr th {\n",
       "        vertical-align: top;\n",
       "    }\n",
       "\n",
       "    .dataframe thead th {\n",
       "        text-align: right;\n",
       "    }\n",
       "</style>\n",
       "<table border=\"1\" class=\"dataframe\">\n",
       "  <thead>\n",
       "    <tr style=\"text-align: right;\">\n",
       "      <th></th>\n",
       "      <th>event_name</th>\n",
       "      <th>device_id</th>\n",
       "      <th>event_timestamp</th>\n",
       "      <th>exp_id</th>\n",
       "    </tr>\n",
       "  </thead>\n",
       "  <tbody>\n",
       "    <tr>\n",
       "      <th>0</th>\n",
       "      <td>MainScreenAppear</td>\n",
       "      <td>4575588528974610257</td>\n",
       "      <td>2019-07-25 04:43:36</td>\n",
       "      <td>246</td>\n",
       "    </tr>\n",
       "    <tr>\n",
       "      <th>1</th>\n",
       "      <td>MainScreenAppear</td>\n",
       "      <td>7416695313311560658</td>\n",
       "      <td>2019-07-25 11:11:42</td>\n",
       "      <td>246</td>\n",
       "    </tr>\n",
       "    <tr>\n",
       "      <th>2</th>\n",
       "      <td>PaymentScreenSuccessful</td>\n",
       "      <td>3518123091307005509</td>\n",
       "      <td>2019-07-25 11:28:47</td>\n",
       "      <td>248</td>\n",
       "    </tr>\n",
       "    <tr>\n",
       "      <th>3</th>\n",
       "      <td>CartScreenAppear</td>\n",
       "      <td>3518123091307005509</td>\n",
       "      <td>2019-07-25 11:28:47</td>\n",
       "      <td>248</td>\n",
       "    </tr>\n",
       "    <tr>\n",
       "      <th>4</th>\n",
       "      <td>PaymentScreenSuccessful</td>\n",
       "      <td>6217807653094995999</td>\n",
       "      <td>2019-07-25 11:48:42</td>\n",
       "      <td>248</td>\n",
       "    </tr>\n",
       "  </tbody>\n",
       "</table>\n",
       "</div>"
      ],
      "text/plain": [
       "                event_name            device_id     event_timestamp  exp_id\n",
       "0         MainScreenAppear  4575588528974610257 2019-07-25 04:43:36     246\n",
       "1         MainScreenAppear  7416695313311560658 2019-07-25 11:11:42     246\n",
       "2  PaymentScreenSuccessful  3518123091307005509 2019-07-25 11:28:47     248\n",
       "3         CartScreenAppear  3518123091307005509 2019-07-25 11:28:47     248\n",
       "4  PaymentScreenSuccessful  6217807653094995999 2019-07-25 11:48:42     248"
      ]
     },
     "execution_count": 6,
     "metadata": {},
     "output_type": "execute_result"
    }
   ],
   "source": [
    "data['event_timestamp'] = pd.to_datetime(data['event_timestamp'], unit='s')\n",
    "data.head()"
   ]
  },
  {
   "cell_type": "markdown",
   "metadata": {},
   "source": [
    "Проверим на наличие дубликатов."
   ]
  },
  {
   "cell_type": "code",
   "execution_count": 7,
   "metadata": {},
   "outputs": [
    {
     "name": "stdout",
     "output_type": "stream",
     "text": [
      "Дубликатов в таблице 413\n"
     ]
    }
   ],
   "source": [
    "print('Дубликатов в таблице', data.duplicated().sum())\n",
    "data = data.drop_duplicates()"
   ]
  },
  {
   "cell_type": "markdown",
   "metadata": {},
   "source": [
    "В данных нет пропусков, удалили 413 дубликатов, данные в столбце с временем события привели в формат datetime."
   ]
  },
  {
   "cell_type": "markdown",
   "metadata": {},
   "source": [
    "<div class=\"alert alert-block alert-success\"><b>Комментарий ревьюера</b>\n",
    "    \n",
    "<b>Успех:</b><br>\n",
    "👍С данными познакомились, дубликаты проверены и удалены, необходимые преобразования сделаны! Отлично!<br>\n",
    "\n",
    "      \n",
    "</div> "
   ]
  },
  {
   "cell_type": "markdown",
   "metadata": {},
   "source": [
    "<div class=\"alert alert-block alert-warning\"><b>Комментарий ревьюера</b>\n",
    "    \n",
    "<b>Совет:</b><br>\n",
    "При знакомстве с данными еще желательно смотреть уникальные значения категориальных переменных. В некоторых случаях это помогает избежать ошибок. Особенно, это касается проектов с несколькими датафреймами, которые связаны между собой)<br>\n",
    "Знакомясь с уникальными значениями категориальных переменных, мы проверяем данные на соответствие условиям.   \n",
    "</div>"
   ]
  },
  {
   "cell_type": "markdown",
   "metadata": {},
   "source": [
    "## Изучим и проверим данные"
   ]
  },
  {
   "cell_type": "code",
   "execution_count": 8,
   "metadata": {},
   "outputs": [
    {
     "name": "stdout",
     "output_type": "stream",
     "text": [
      "Всего в логе 243713 событий\n"
     ]
    }
   ],
   "source": [
    "print('Всего в логе', data['event_timestamp'].count(), 'событий')"
   ]
  },
  {
   "cell_type": "markdown",
   "metadata": {},
   "source": [
    "<div class=\"alert alert-block alert-warning\"><b>Комментарий ревьюера</b>\n",
    "    \n",
    "<b>Совет:</b><br>\n",
    "После удаления дубликатов их меньше. \n",
    "</div>"
   ]
  },
  {
   "cell_type": "markdown",
   "metadata": {},
   "source": [
    "<div class=\"alert alert-block alert-info\"><b>Комментарий студента</b>\n",
    "    \n",
    "<b>Изменения:</b> исправил количество событий<br></div> "
   ]
  },
  {
   "cell_type": "markdown",
   "metadata": {},
   "source": [
    "<div class=\"alert alert-block alert-success\"><b>Комментарий ревьюера V-2</b><br>\n",
    "    \n",
    "Теперь правильно:)\n",
    "</div> "
   ]
  },
  {
   "cell_type": "code",
   "execution_count": 9,
   "metadata": {},
   "outputs": [
    {
     "name": "stdout",
     "output_type": "stream",
     "text": [
      "Всего пользователей в логе: 7551\n"
     ]
    }
   ],
   "source": [
    "print(f\"Всего пользователей в логе: {data['device_id'].nunique()}\")"
   ]
  },
  {
   "cell_type": "code",
   "execution_count": 10,
   "metadata": {},
   "outputs": [
    {
     "name": "stdout",
     "output_type": "stream",
     "text": [
      "В среднем на пользователя приходится 32.27559263673685 событий\n"
     ]
    }
   ],
   "source": [
    "print(f\"В среднем на пользователя приходится {data.groupby('device_id').agg({'event_timestamp':'count'}).mean()['event_timestamp']} событий\")"
   ]
  },
  {
   "cell_type": "markdown",
   "metadata": {},
   "source": [
    "<div class=\"alert alert-block alert-warning\"><b>Комментарий ревьюера</b>\n",
    "    \n",
    "<b>Совет:</b><br>\n",
    "Здесь еще можно построить гистограмму числа событий на 1 пользователя и посмотреть распределение.\n",
    "</div>"
   ]
  },
  {
   "cell_type": "markdown",
   "metadata": {},
   "source": [
    "Посмотрим на гистограмме за какой период у нас сколько пользователей."
   ]
  },
  {
   "cell_type": "code",
   "execution_count": 11,
   "metadata": {
    "scrolled": true
   },
   "outputs": [
    {
     "data": {
      "image/png": "[encoded data removed]",
      "text/plain": [
       "<Figure size 1080x360 with 1 Axes>"
      ]
     },
     "metadata": {
      "needs_background": "light"
     },
     "output_type": "display_data"
    }
   ],
   "source": [
    "plt.title('Гистограмма пользователей по датам')\n",
    "plt.xlabel('Дата')\n",
    "plt.ylabel('Количество пользователей')\n",
    "data['event_timestamp'].hist(figsize=(15,5), bins=100);"
   ]
  },
  {
   "cell_type": "markdown",
   "metadata": {},
   "source": [
    "<div class=\"alert alert-block alert-danger\"><b>Комментарий ревьюера</b>\n",
    "    \n",
    "<s> <b>Ошибка:</b><br>\n",
    "Андрей, твои графики могут быть использованы в презентации, поэтому те,кто его увидят, должны сразу понимать о чем график.<br>\n",
    "    \n",
    "Пожалуйста, оформи **все графики в проекте**. Название графика, название осей сделают график понятным) </s>\n",
    "</div>"
   ]
  },
  {
   "cell_type": "markdown",
   "metadata": {},
   "source": [
    "<div class=\"alert alert-block alert-info\"><b>Комментарий студента</b>\n",
    "    \n",
    "<b>Изменения:</b> оформил графики)<br></div> "
   ]
  },
  {
   "cell_type": "markdown",
   "metadata": {},
   "source": [
    "<div class=\"alert alert-block alert-success\"><b>Комментарий ревьюера V-2</b><br>\n",
    "    \n",
    "Отлично! Теперь график говорит сам за себя :)\n",
    "</div> "
   ]
  },
  {
   "cell_type": "markdown",
   "metadata": {},
   "source": [
    "Увеличим середину гистограммы."
   ]
  },
  {
   "cell_type": "code",
   "execution_count": 12,
   "metadata": {},
   "outputs": [
    {
     "data": {
      "image/png": "[encoded data removed]",
      "text/plain": [
       "<Figure size 1080x360 with 1 Axes>"
      ]
     },
     "metadata": {
      "needs_background": "light"
     },
     "output_type": "display_data"
    }
   ],
   "source": [
    "plt.title('Гистограмма пользователей по датам')\n",
    "plt.xlabel('Дата')\n",
    "plt.ylabel('Количество пользователей')\n",
    "data['event_timestamp'].hist(figsize=(15,5), bins=100, range=('2019-07-29', '2019-08-03'));"
   ]
  },
  {
   "cell_type": "markdown",
   "metadata": {},
   "source": [
    "<div class=\"alert alert-block alert-danger\"><b>Комментарий ревьюера</b>\n",
    "    \n",
    "<s> <b>Ошибка:</b><br>\n",
    "    График нуждается в оформлении!) </s>\n",
    "</div>"
   ]
  },
  {
   "cell_type": "markdown",
   "metadata": {},
   "source": [
    "<div class=\"alert alert-block alert-info\"><b>Комментарий студента</b>\n",
    "    \n",
    "<b>Изменения:</b> оформил графики)<br></div> "
   ]
  },
  {
   "cell_type": "markdown",
   "metadata": {},
   "source": [
    "Видим что у нас данные начиная с первого августя, а всё что до этого видимо попало в данные по ошибке. Удалим их."
   ]
  },
  {
   "cell_type": "code",
   "execution_count": 13,
   "metadata": {},
   "outputs": [
    {
     "name": "stdout",
     "output_type": "stream",
     "text": [
      "Мы удалили  1.16 % событий\n",
      "Всего осталось событий в логе: 240887\n",
      "Всего осталось пользователей в логе: 7534\n"
     ]
    }
   ],
   "source": [
    "print('Мы удалили ', round((data.query(\"event_timestamp < '2019-08-01'\")['event_timestamp'].count() / data['event_timestamp'].count()) * 100, 2),'% событий')\n",
    "\n",
    "data = data.query(\"event_timestamp >= '2019-08-01'\")\n",
    "print(f\"Всего осталось событий в логе: {data['event_timestamp'].count()}\")\n",
    "print(f\"Всего осталось пользователей в логе: {data['device_id'].nunique()}\")"
   ]
  },
  {
   "cell_type": "markdown",
   "metadata": {},
   "source": [
    "<div class=\"alert alert-block alert-warning\"><b>Комментарий ревьюера</b>\n",
    "    \n",
    "<b>Совет:</b><br>\n",
    "Хорошо, что показываешь относительные показатели потерь, на рассчитывать лучше кодом. Если внести изменения в предобработку данных, значения могут измениться, а выводы не будут им соответствовать.\n",
    "  \n",
    "</div>"
   ]
  },
  {
   "cell_type": "markdown",
   "metadata": {},
   "source": [
    "<div class=\"alert alert-block alert-info\"><b>Комментарий студента</b>\n",
    "    \n",
    "<b>Изменения:</b> добавил расчёт относительных изменений кодом<br></div> "
   ]
  },
  {
   "cell_type": "markdown",
   "metadata": {},
   "source": [
    "<div class=\"alert alert-block alert-success\"><b>Комментарий ревьюера V-2</b><br>\n",
    "    \n",
    "Такой код надежный:) А еще лучше, если и для пользователей кодом относительный показатель рассчитать :)\n",
    "</div> "
   ]
  },
  {
   "cell_type": "code",
   "execution_count": 14,
   "metadata": {
    "scrolled": false
   },
   "outputs": [
    {
     "name": "stdout",
     "output_type": "stream",
     "text": [
      "Итого у нас данные с\n",
      "2019-08-01\n",
      "по\n",
      "2019-08-07\n"
     ]
    }
   ],
   "source": [
    "print(\"Итого у нас данные с\")\n",
    "print(data['event_timestamp'].min().date())\n",
    "print(\"по\")\n",
    "print(data['event_timestamp'].max().date())"
   ]
  },
  {
   "cell_type": "markdown",
   "metadata": {},
   "source": [
    "Посмотрим из всех ли групп A/A/B теста у нас есть пользователи."
   ]
  },
  {
   "cell_type": "code",
   "execution_count": 15,
   "metadata": {},
   "outputs": [
    {
     "data": {
      "text/html": [
       "<div>\n",
       "<style scoped>\n",
       "    .dataframe tbody tr th:only-of-type {\n",
       "        vertical-align: middle;\n",
       "    }\n",
       "\n",
       "    .dataframe tbody tr th {\n",
       "        vertical-align: top;\n",
       "    }\n",
       "\n",
       "    .dataframe thead th {\n",
       "        text-align: right;\n",
       "    }\n",
       "</style>\n",
       "<table border=\"1\" class=\"dataframe\">\n",
       "  <thead>\n",
       "    <tr style=\"text-align: right;\">\n",
       "      <th></th>\n",
       "      <th>device_id</th>\n",
       "    </tr>\n",
       "    <tr>\n",
       "      <th>exp_id</th>\n",
       "      <th></th>\n",
       "    </tr>\n",
       "  </thead>\n",
       "  <tbody>\n",
       "    <tr>\n",
       "      <th>246</th>\n",
       "      <td>2484</td>\n",
       "    </tr>\n",
       "    <tr>\n",
       "      <th>247</th>\n",
       "      <td>2513</td>\n",
       "    </tr>\n",
       "    <tr>\n",
       "      <th>248</th>\n",
       "      <td>2537</td>\n",
       "    </tr>\n",
       "  </tbody>\n",
       "</table>\n",
       "</div>"
      ],
      "text/plain": [
       "        device_id\n",
       "exp_id           \n",
       "246          2484\n",
       "247          2513\n",
       "248          2537"
      ]
     },
     "execution_count": 15,
     "metadata": {},
     "output_type": "execute_result"
    }
   ],
   "source": [
    "data.groupby('exp_id').agg({'device_id':'nunique'})"
   ]
  },
  {
   "cell_type": "markdown",
   "metadata": {},
   "source": [
    "Пользователей во всех группах примерно поровну."
   ]
  },
  {
   "cell_type": "markdown",
   "metadata": {},
   "source": [
    "Итого мы выяснили что у нас данные за одну неделю с 1-го по 7-е августа 2019-го года. Пользователей в каждой группе примерно поровну."
   ]
  },
  {
   "cell_type": "markdown",
   "metadata": {},
   "source": [
    "<div class=\"alert alert-block alert-success\"><b>Комментарий ревьюера</b>\n",
    "    \n",
    "<b>Успех:</b><br>\n",
    "    👍 Верно.\n",
    "    \n",
    "</div>  "
   ]
  },
  {
   "cell_type": "markdown",
   "metadata": {},
   "source": [
    "## Изучим воронку событий"
   ]
  },
  {
   "cell_type": "markdown",
   "metadata": {},
   "source": [
    "### Посмотрим, какие события есть в логах и как часто они встречаются. Отсортируем события по частоте."
   ]
  },
  {
   "cell_type": "code",
   "execution_count": 16,
   "metadata": {},
   "outputs": [
    {
     "data": {
      "text/html": [
       "<div>\n",
       "<style scoped>\n",
       "    .dataframe tbody tr th:only-of-type {\n",
       "        vertical-align: middle;\n",
       "    }\n",
       "\n",
       "    .dataframe tbody tr th {\n",
       "        vertical-align: top;\n",
       "    }\n",
       "\n",
       "    .dataframe thead th {\n",
       "        text-align: right;\n",
       "    }\n",
       "</style>\n",
       "<table border=\"1\" class=\"dataframe\">\n",
       "  <thead>\n",
       "    <tr style=\"text-align: right;\">\n",
       "      <th></th>\n",
       "      <th>event_timestamp</th>\n",
       "    </tr>\n",
       "    <tr>\n",
       "      <th>event_name</th>\n",
       "      <th></th>\n",
       "    </tr>\n",
       "  </thead>\n",
       "  <tbody>\n",
       "    <tr>\n",
       "      <th>MainScreenAppear</th>\n",
       "      <td>117328</td>\n",
       "    </tr>\n",
       "    <tr>\n",
       "      <th>OffersScreenAppear</th>\n",
       "      <td>46333</td>\n",
       "    </tr>\n",
       "    <tr>\n",
       "      <th>CartScreenAppear</th>\n",
       "      <td>42303</td>\n",
       "    </tr>\n",
       "    <tr>\n",
       "      <th>PaymentScreenSuccessful</th>\n",
       "      <td>33918</td>\n",
       "    </tr>\n",
       "    <tr>\n",
       "      <th>Tutorial</th>\n",
       "      <td>1005</td>\n",
       "    </tr>\n",
       "  </tbody>\n",
       "</table>\n",
       "</div>"
      ],
      "text/plain": [
       "                         event_timestamp\n",
       "event_name                              \n",
       "MainScreenAppear                  117328\n",
       "OffersScreenAppear                 46333\n",
       "CartScreenAppear                   42303\n",
       "PaymentScreenSuccessful            33918\n",
       "Tutorial                            1005"
      ]
     },
     "execution_count": 16,
     "metadata": {},
     "output_type": "execute_result"
    }
   ],
   "source": [
    "data.groupby('event_name').agg({'event_timestamp':'count'}).sort_values(by='event_timestamp', ascending=False)"
   ]
  },
  {
   "cell_type": "markdown",
   "metadata": {},
   "source": [
    "Чаще всего смотрят главный экран, почти в 3 раза реже экран с предложениями, чуть реже CartScreen, ещё чуть реже окно оплаты и почти не смотрят обучение."
   ]
  },
  {
   "cell_type": "markdown",
   "metadata": {},
   "source": [
    "### Посчитаем, сколько пользователей совершали каждое из этих событий. Отсортируем события по числу пользователей. Посчитайте долю пользователей, которые хоть раз совершали событие."
   ]
  },
  {
   "cell_type": "code",
   "execution_count": 17,
   "metadata": {},
   "outputs": [
    {
     "data": {
      "text/html": [
       "<div>\n",
       "<style scoped>\n",
       "    .dataframe tbody tr th:only-of-type {\n",
       "        vertical-align: middle;\n",
       "    }\n",
       "\n",
       "    .dataframe tbody tr th {\n",
       "        vertical-align: top;\n",
       "    }\n",
       "\n",
       "    .dataframe thead th {\n",
       "        text-align: right;\n",
       "    }\n",
       "</style>\n",
       "<table border=\"1\" class=\"dataframe\">\n",
       "  <thead>\n",
       "    <tr style=\"text-align: right;\">\n",
       "      <th></th>\n",
       "      <th>device_id</th>\n",
       "      <th>part</th>\n",
       "    </tr>\n",
       "    <tr>\n",
       "      <th>event_name</th>\n",
       "      <th></th>\n",
       "      <th></th>\n",
       "    </tr>\n",
       "  </thead>\n",
       "  <tbody>\n",
       "    <tr>\n",
       "      <th>MainScreenAppear</th>\n",
       "      <td>7419</td>\n",
       "      <td>0.984736</td>\n",
       "    </tr>\n",
       "    <tr>\n",
       "      <th>OffersScreenAppear</th>\n",
       "      <td>4593</td>\n",
       "      <td>0.609636</td>\n",
       "    </tr>\n",
       "    <tr>\n",
       "      <th>CartScreenAppear</th>\n",
       "      <td>3734</td>\n",
       "      <td>0.495620</td>\n",
       "    </tr>\n",
       "    <tr>\n",
       "      <th>PaymentScreenSuccessful</th>\n",
       "      <td>3539</td>\n",
       "      <td>0.469737</td>\n",
       "    </tr>\n",
       "    <tr>\n",
       "      <th>Tutorial</th>\n",
       "      <td>840</td>\n",
       "      <td>0.111495</td>\n",
       "    </tr>\n",
       "  </tbody>\n",
       "</table>\n",
       "</div>"
      ],
      "text/plain": [
       "                         device_id      part\n",
       "event_name                                  \n",
       "MainScreenAppear              7419  0.984736\n",
       "OffersScreenAppear            4593  0.609636\n",
       "CartScreenAppear              3734  0.495620\n",
       "PaymentScreenSuccessful       3539  0.469737\n",
       "Tutorial                       840  0.111495"
      ]
     },
     "execution_count": 17,
     "metadata": {},
     "output_type": "execute_result"
    }
   ],
   "source": [
    "events_users = data.groupby('event_name').agg({'device_id':'nunique'}).sort_values(by='device_id', ascending=False)\n",
    "events_users['part'] = events_users['device_id'] / data['device_id'].nunique()\n",
    "events_users"
   ]
  },
  {
   "cell_type": "markdown",
   "metadata": {},
   "source": [
    "По числу пользователей события распределились в том же порядке что и по общей частоте."
   ]
  },
  {
   "cell_type": "markdown",
   "metadata": {},
   "source": [
    "<div class=\"alert alert-block alert-success\"><b>Комментарий ревьюера</b>\n",
    "    \n",
    "<b>Успех:</b><br>\n",
    "    👍 Доля рассчитана правильно.\n",
    "    \n",
    "</div>  "
   ]
  },
  {
   "cell_type": "markdown",
   "metadata": {},
   "source": [
    "### Расчёт воронки."
   ]
  },
  {
   "cell_type": "markdown",
   "metadata": {},
   "source": [
    "Скорее всего пользователи сначала попадают на MainScreenAppear, затем переходят на OffersScreenAppear, затем CartScreenAppear и в итоге на PaymentScreenSuccessful. Страница Tutorial по всей видимости не обязательная и в воронке её можно не учитывать.  \n",
    "  \n",
    "Расчитаем какая доля пользователей доходит от предыдущего этама до следующего, запишем долю в столбец funnel."
   ]
  },
  {
   "cell_type": "markdown",
   "metadata": {},
   "source": [
    "<div class=\"alert alert-block alert-success\"><b>Комментарий ревьюера</b>\n",
    "    \n",
    "<b>Успех:</b><br>\n",
    "    👍 Верно.\n",
    "    \n",
    "</div>  "
   ]
  },
  {
   "cell_type": "code",
   "execution_count": 18,
   "metadata": {
    "scrolled": true
   },
   "outputs": [
    {
     "data": {
      "text/html": [
       "<div>\n",
       "<style scoped>\n",
       "    .dataframe tbody tr th:only-of-type {\n",
       "        vertical-align: middle;\n",
       "    }\n",
       "\n",
       "    .dataframe tbody tr th {\n",
       "        vertical-align: top;\n",
       "    }\n",
       "\n",
       "    .dataframe thead th {\n",
       "        text-align: right;\n",
       "    }\n",
       "</style>\n",
       "<table border=\"1\" class=\"dataframe\">\n",
       "  <thead>\n",
       "    <tr style=\"text-align: right;\">\n",
       "      <th></th>\n",
       "      <th>device_id</th>\n",
       "      <th>part</th>\n",
       "      <th>funnel</th>\n",
       "    </tr>\n",
       "    <tr>\n",
       "      <th>event_name</th>\n",
       "      <th></th>\n",
       "      <th></th>\n",
       "      <th></th>\n",
       "    </tr>\n",
       "  </thead>\n",
       "  <tbody>\n",
       "    <tr>\n",
       "      <th>MainScreenAppear</th>\n",
       "      <td>7419</td>\n",
       "      <td>0.984736</td>\n",
       "      <td>100.000000</td>\n",
       "    </tr>\n",
       "    <tr>\n",
       "      <th>OffersScreenAppear</th>\n",
       "      <td>4593</td>\n",
       "      <td>0.609636</td>\n",
       "      <td>0.619086</td>\n",
       "    </tr>\n",
       "    <tr>\n",
       "      <th>CartScreenAppear</th>\n",
       "      <td>3734</td>\n",
       "      <td>0.495620</td>\n",
       "      <td>0.812976</td>\n",
       "    </tr>\n",
       "    <tr>\n",
       "      <th>PaymentScreenSuccessful</th>\n",
       "      <td>3539</td>\n",
       "      <td>0.469737</td>\n",
       "      <td>0.947777</td>\n",
       "    </tr>\n",
       "  </tbody>\n",
       "</table>\n",
       "</div>"
      ],
      "text/plain": [
       "                         device_id      part      funnel\n",
       "event_name                                              \n",
       "MainScreenAppear              7419  0.984736  100.000000\n",
       "OffersScreenAppear            4593  0.609636    0.619086\n",
       "CartScreenAppear              3734  0.495620    0.812976\n",
       "PaymentScreenSuccessful       3539  0.469737    0.947777"
      ]
     },
     "execution_count": 18,
     "metadata": {},
     "output_type": "execute_result"
    }
   ],
   "source": [
    "events_users['funnel'] = events_users.apply(lambda row: row['device_id'] / events_users.query(\"device_id>@row['device_id']\")['device_id'].min(), axis=1)\n",
    "events_users = events_users.fillna(100).query(\"event_name!='Tutorial'\")\n",
    "events_users"
   ]
  },
  {
   "cell_type": "code",
   "execution_count": 19,
   "metadata": {},
   "outputs": [
    {
     "name": "stdout",
     "output_type": "stream",
     "text": [
      "Всего от главной страницы и до окончания оплаты проходит 47.7% пользователей\n"
     ]
    }
   ],
   "source": [
    "payment_users = data.query(\"event_name=='PaymentScreenSuccessful'\")['device_id'].nunique()\n",
    "main_screen_users = data.query(\"event_name=='MainScreenAppear'\")['device_id'].nunique()\n",
    "\n",
    "print(f\"Всего от главной страницы и до окончания оплаты проходит {payment_users / main_screen_users:.1%} пользователей\")"
   ]
  },
  {
   "cell_type": "markdown",
   "metadata": {},
   "source": [
    "<div class=\"alert alert-block alert-danger\"><b>Комментарий ревьюера</b>\n",
    "    \n",
    "<s> <b>Ошибка:</b><br>\n",
    "Заполнять всегда лучше кодом, а не готовым числом.<br>\n",
    "    \n",
    "Представь, если ты решишь внести изменения в предобработку данных или что-то удалить/добавить, у тебя значение может измениться, а подставленное число не изменится, возникнет ошибка в расчетах и далее - в выводах. <br> </s>\n",
    "\n",
    "</div>"
   ]
  },
  {
   "cell_type": "markdown",
   "metadata": {},
   "source": [
    "<div class=\"alert alert-block alert-info\"><b>Комментарий студента</b>\n",
    "    \n",
    "<b>Изменения:</b> заполнил кодом количество пользователей посетивших первую и последнюю страницу<br></div> "
   ]
  },
  {
   "cell_type": "markdown",
   "metadata": {},
   "source": [
    "<div class=\"alert alert-block alert-success\"><b>Комментарий ревьюера V-2</b><br>\n",
    "    \n",
    "Отлично!\n",
    "</div> "
   ]
  },
  {
   "cell_type": "markdown",
   "metadata": {},
   "source": [
    "Видим что с главной страницы на страницу с предложениями переходят только 61,9% пользователей, здесь теряется больше всего пользователей."
   ]
  },
  {
   "cell_type": "markdown",
   "metadata": {},
   "source": [
    "<div class=\"alert alert-block alert-success\"><b>Комментарий ревьюера</b>\n",
    "    \n",
    "<b>Успех:</b><br>\n",
    "    👍 Действительно, мы видим самый заметный провал на первом шаге: от MainScreenAppear к OffersScreenAppear. Вероятно, нужно лучше прорабатывать механику, чтобы пользователи переходили к OffersScreen. <br>   \n",
    "     Почти 50% доходят до оплаты - неплохо, учитывая провал на первом шаге)   \n",
    "</div>"
   ]
  },
  {
   "cell_type": "markdown",
   "metadata": {},
   "source": [
    "## Изучим результаты эксперимента."
   ]
  },
  {
   "cell_type": "markdown",
   "metadata": {},
   "source": [
    "### Убедимся что пропорции в группах A/A не различаются."
   ]
  },
  {
   "cell_type": "markdown",
   "metadata": {},
   "source": [
    "Сначала убедимся что нет пользователей, попавших сразу в несколько групп."
   ]
  },
  {
   "cell_type": "code",
   "execution_count": 20,
   "metadata": {},
   "outputs": [
    {
     "name": "stdout",
     "output_type": "stream",
     "text": [
      "Пользователей, попавших сразу в несколько групп:  0\n"
     ]
    }
   ],
   "source": [
    "print('Пользователей, попавших сразу в несколько групп: ',data.groupby('device_id').agg({'exp_id':'nunique'}).query(\"exp_id>1\").count()[0])"
   ]
  },
  {
   "cell_type": "markdown",
   "metadata": {},
   "source": [
    "<div class=\"alert alert-block alert-danger\"><b>Комментарий ревьюера</b>\n",
    "    \n",
    "<s> <b>Ошибка:</b><br>\n",
    "Андрей, хочу обратить твое внимание вот на что! При изучении результатов А/В теста лучше убедиться, что у нас нет пользователей, которые участвовали в двух или более группах одновременно.<br>\n",
    "Пожалуйста, проведи такую проверку.<br>   \n",
    "Можешь, например, сгруппировать по id пользователей и посчитать сколько уник.значений групп будет у каждого. Будут ли пользователи у которых больше 1 группы. <br>    </s>\n",
    "\n",
    "</div>"
   ]
  },
  {
   "cell_type": "markdown",
   "metadata": {},
   "source": [
    "<div class=\"alert alert-block alert-info\"><b>Комментарий студента</b>\n",
    "    \n",
    "<b>Изменения: провёл проверку</b> <br></div> "
   ]
  },
  {
   "cell_type": "markdown",
   "metadata": {},
   "source": [
    "<div class=\"alert alert-block alert-success\"><b>Комментарий ревьюера V-2</b><br>\n",
    "    \n",
    "Таких пользователей нет, убедились, можно идти дальше.\n",
    "</div> "
   ]
  },
  {
   "cell_type": "markdown",
   "metadata": {},
   "source": [
    "Есть 2 контрольные группы для А/А-эксперимента, чтобы проверить корректность всех механизмов и расчётов. Проверим, находят ли статистические критерии разницу между выборками 246 и 247.  \n",
    "  \n",
    "Сформулируем гипотезы:  \n",
    "- H0 - доли уникальных посетителей, побывавших на этапе воронки, одинаковы.\n",
    "- H1 - между долями уникальных посетителей, побывавших на этапе воронки, есть значимая разница.\n",
    "  \n",
    "Порог статистической значимости возьмём 5%. Не смотря на то что у нас три группы, мы сравниваем только две выборки: старый шрифт и новый, поэтому делать поправку значимости на множественное сравнение не нужно.\n",
    "  \n",
    "Для начала создадим функцию pvalue_check для проверки статистической значимости."
   ]
  },
  {
   "cell_type": "markdown",
   "metadata": {},
   "source": [
    "<div class=\"alert alert-block alert-warning\"><b>Комментарий ревьюера</b>\n",
    "    \n",
    "<b>Совет:</b><br>\n",
    "Мы не просто сравниваем группы, а именно доли, т.е. в формулировке гипотез надо точно указывать по какому критерию мы сравниваем группы. Когда в проекте придется сравнивать группы по разным критериям, можно запутаться в результатах теста, если не формулировать точно гипотезы. Поэтому корректнее будет так, например:\n",
    "\n",
    "H0 - доли уникальных посетителей, побывавших на этапе воронки, одинаковы.<br> \n",
    "H1 - между долями уникальных посетителей, побывавших на этапе воронки, есть значимая разница.   \n",
    "</div>  "
   ]
  },
  {
   "cell_type": "markdown",
   "metadata": {},
   "source": [
    "<div class=\"alert alert-block alert-info\"><b>Комментарий студента</b>\n",
    "    \n",
    "<b>Изменения: исправил формулировку гипотез</b> <br></div>"
   ]
  },
  {
   "cell_type": "markdown",
   "metadata": {},
   "source": [
    "<div class=\"alert alert-block alert-success\"><b>Комментарий ревьюера V-2</b><br>\n",
    "    \n",
    "Гипотезы в порядке!\n",
    "</div> "
   ]
  },
  {
   "cell_type": "code",
   "execution_count": 21,
   "metadata": {},
   "outputs": [],
   "source": [
    "def pvalue_check(successes, trials, alpha):    \n",
    "\n",
    "    # пропорция успехов в первой группе:\n",
    "    p1 = successes[0]/trials[0]\n",
    "\n",
    "    # пропорция успехов во второй группе:\n",
    "    p2 = successes[1]/trials[1]\n",
    "\n",
    "    # пропорция успехов в комбинированном датасете:\n",
    "    p_combined = (successes[0] + successes[1]) / (trials[0] + trials[1])\n",
    "\n",
    "    # разница пропорций в датасетах\n",
    "    difference = p1 - p2 \n",
    "\n",
    "    # считаем статистику в ст.отклонениях стандартного нормального распределения\n",
    "    z_value = difference / mth.sqrt(p_combined * (1 - p_combined) * (1/trials[0] + 1/trials[1]))\n",
    "\n",
    "    # задаем стандартное нормальное распределение (среднее 0, ст.отклонение 1)\n",
    "    distr = st.norm(0, 1)  \n",
    "\n",
    "    p_value = (1 - distr.cdf(abs(z_value))) * 2\n",
    "\n",
    "    print('p-значение: ', p_value)\n",
    "    print('разница в группах:', difference)\n",
    "\n",
    "    if p_value < alpha:\n",
    "        print('Отвергаем нулевую гипотезу: между долями есть значимая разница')\n",
    "    else:\n",
    "        print(\n",
    "            'Не получилось отвергнуть нулевую гипотезу, нет оснований считать доли разными'\n",
    "        ) "
   ]
  },
  {
   "cell_type": "markdown",
   "metadata": {},
   "source": [
    "<div class=\"alert alert-block alert-success\"><b>Комментарий ревьюера</b>\n",
    "    \n",
    "<b>Успех:</b><br>\n",
    "    👍  Проверка гипотез обернута в функцию. Отлично!\n",
    "     \n",
    "</div>"
   ]
  },
  {
   "cell_type": "markdown",
   "metadata": {},
   "source": [
    "Проверим разницу в контрольных A/A группах по посещению главной страницы."
   ]
  },
  {
   "cell_type": "code",
   "execution_count": 22,
   "metadata": {},
   "outputs": [
    {
     "name": "stdout",
     "output_type": "stream",
     "text": [
      "p-значение:  0.7570597232046099\n",
      "разница в группах: 0.0010358374776444634\n",
      "Не получилось отвергнуть нулевую гипотезу, нет оснований считать доли разными\n"
     ]
    }
   ],
   "source": [
    "alpha = .05 # критический уровень статистической значимости\n",
    "\n",
    "successes = np.array([data.query(\"exp_id==246 & event_name=='MainScreenAppear'\")['device_id'].nunique(), data.query(\"exp_id==247 & event_name=='MainScreenAppear'\")['device_id'].nunique()])\n",
    "trials = np.array([data.query(\"exp_id==246\")['device_id'].nunique(), data.query(\"exp_id==247\")['device_id'].nunique()])\n",
    "\n",
    "pvalue_check(successes, trials, alpha)"
   ]
  },
  {
   "cell_type": "markdown",
   "metadata": {},
   "source": [
    "<div class=\"alert alert-block alert-danger\"><b>Комментарий ревьюера</b>\n",
    "    \n",
    "<s> <b>Ошибка:</b><br>\n",
    "Андрей, в проверке гипотез есть ошибка. Сейчас объясню)<br>\n",
    "trials  (кол-во всех попыток) - это **ВСЕГДА** кол-во уник.пользователей в группе, а НЕ кол-во на каком-либо этапе.<br>  \n",
    "    \n",
    "Т.е. нам надо провести 4 теста для групп 246 и 247: <br>\n",
    "    \n",
    "Первый тест:<br>  \n",
    "* successes  - кол-во уник.пользователей на этапе 'Появление главного экрана',\n",
    "* trials - кол-во уник.пользователей в группе.\n",
    "    \n",
    "Второй тест:<br>  \n",
    "* successes  - кол-во уник.пользователей на этапе 'Появление экрана предложений',\n",
    "* trials - кол-во уник.пользователей в группе.    \n",
    "    \n",
    "Третий тест:<br>  \n",
    "* successes  - кол-во уник.пользователей на этапе 'Появление экрана корзины',\n",
    "* trials - кол-во уник.пользователей в группе.  \n",
    "    \n",
    "Четвертый тест:<br>  \n",
    "* successes  - кол-во уник.пользователей на этапе 'Экран оплаты успешно',\n",
    "* trials - кол-во уник.пользователей в группе. \n",
    "    \n",
    "Т.е. нам надо провести 4 АА теста, чтобы убедиться, что группы 246 и 247 разбиты корректно. И только после этого мы можем приступать к АВ тесту.<br>    \n",
    "Далее нам надо провести по 4 таких же теста для групп 246 и 248, 247 и 248, 246+247 и 248. <br>    \n",
    "    \n",
    "Всего у нас получится 16 тестов.<br>     \n",
    "    \n",
    "    **Скорректируй, пожалуйста, все проверки**<br>   </s>\n",
    "    \n",
    "\n",
    "</div>"
   ]
  },
  {
   "cell_type": "markdown",
   "metadata": {},
   "source": [
    "<div class=\"alert alert-block alert-info\"><b>Комментарий студента</b>\n",
    "    \n",
    "<b>Изменения: скорректировал все проверки и выводы</b> <br></div>"
   ]
  },
  {
   "cell_type": "markdown",
   "metadata": {},
   "source": [
    "Проверим разницу в контрольных A/A группах по переходам на страницу с предложениями."
   ]
  },
  {
   "cell_type": "code",
   "execution_count": 23,
   "metadata": {},
   "outputs": [
    {
     "name": "stdout",
     "output_type": "stream",
     "text": [
      "p-значение:  0.2480954578522181\n",
      "разница в группах: 0.015918191587320774\n",
      "Не получилось отвергнуть нулевую гипотезу, нет оснований считать доли разными\n"
     ]
    }
   ],
   "source": [
    "alpha = .05 # критический уровень статистической значимости\n",
    "\n",
    "successes = np.array([data.query(\"exp_id==246 & event_name=='OffersScreenAppear'\")['device_id'].nunique(), data.query(\"exp_id==247 & event_name=='OffersScreenAppear'\")['device_id'].nunique()])\n",
    "trials = np.array([data.query(\"exp_id==246\")['device_id'].nunique(), data.query(\"exp_id==247\")['device_id'].nunique()])\n",
    "\n",
    "pvalue_check(successes, trials, alpha)"
   ]
  },
  {
   "cell_type": "markdown",
   "metadata": {},
   "source": [
    "Проверим разницу в контрольных A/A группах по переходам на страницу CartScreen."
   ]
  },
  {
   "cell_type": "code",
   "execution_count": 24,
   "metadata": {},
   "outputs": [
    {
     "name": "stdout",
     "output_type": "stream",
     "text": [
      "p-значение:  0.22883372237997213\n",
      "разница в группах: 0.01702355480967571\n",
      "Не получилось отвергнуть нулевую гипотезу, нет оснований считать доли разными\n"
     ]
    }
   ],
   "source": [
    "alpha = .05 # критический уровень статистической значимости\n",
    "\n",
    "successes = np.array([data.query(\"exp_id==246 & event_name=='CartScreenAppear'\")['device_id'].nunique(), data.query(\"exp_id==247 & event_name=='CartScreenAppear'\")['device_id'].nunique()])\n",
    "trials = np.array([data.query(\"exp_id==246\")['device_id'].nunique(), data.query(\"exp_id==247\")['device_id'].nunique()])\n",
    "\n",
    "pvalue_check(successes, trials, alpha)"
   ]
  },
  {
   "cell_type": "markdown",
   "metadata": {},
   "source": [
    "Проверим разницу в контрольных A/A группах по переходам на страницу с успешной оплатой платежа."
   ]
  },
  {
   "cell_type": "code",
   "execution_count": 25,
   "metadata": {},
   "outputs": [
    {
     "name": "stdout",
     "output_type": "stream",
     "text": [
      "p-значение:  0.11456679313141849\n",
      "разница в группах: 0.022287967304317036\n",
      "Не получилось отвергнуть нулевую гипотезу, нет оснований считать доли разными\n"
     ]
    }
   ],
   "source": [
    "alpha = .05 # критический уровень статистической значимости\n",
    "\n",
    "successes = np.array([data.query(\"exp_id==246 & event_name=='PaymentScreenSuccessful'\")['device_id'].nunique(), data.query(\"exp_id==247 & event_name=='PaymentScreenSuccessful'\")['device_id'].nunique()])\n",
    "trials = np.array([data.query(\"exp_id==246\")['device_id'].nunique(), data.query(\"exp_id==247\")['device_id'].nunique()])\n",
    "\n",
    "pvalue_check(successes, trials, alpha)"
   ]
  },
  {
   "cell_type": "markdown",
   "metadata": {},
   "source": [
    "В контрольных A/A группах нет разницы в пропорциях, значит можно приступать к расчёту итогов A/A/B теста."
   ]
  },
  {
   "cell_type": "markdown",
   "metadata": {},
   "source": [
    "<div class=\"alert alert-block alert-success\"><b>Комментарий ревьюера V-2</b><br>\n",
    "    \n",
    "Абсолютно верно.\n",
    "</div> "
   ]
  },
  {
   "cell_type": "markdown",
   "metadata": {},
   "source": [
    "### Сравнение пропорций в группе B с первой контрольной группой."
   ]
  },
  {
   "cell_type": "markdown",
   "metadata": {},
   "source": [
    "Проверим разницу по посещениям главной страницы между группами 246 и 248."
   ]
  },
  {
   "cell_type": "code",
   "execution_count": 26,
   "metadata": {},
   "outputs": [
    {
     "name": "stdout",
     "output_type": "stream",
     "text": [
      "p-значение:  0.2949721933554552\n",
      "разница в группах: 0.0036557182364452823\n",
      "Не получилось отвергнуть нулевую гипотезу, нет оснований считать доли разными\n"
     ]
    }
   ],
   "source": [
    "alpha = .05 # критический уровень статистической значимости\n",
    "\n",
    "successes = np.array([data.query(\"exp_id==246 & event_name=='MainScreenAppear'\")['device_id'].nunique(), data.query(\"exp_id==248 & event_name=='MainScreenAppear'\")['device_id'].nunique()])\n",
    "trials = np.array([data.query(\"exp_id==246\")['device_id'].nunique(), data.query(\"exp_id==248\")['device_id'].nunique()])\n",
    "\n",
    "pvalue_check(successes, trials, alpha)"
   ]
  },
  {
   "cell_type": "markdown",
   "metadata": {},
   "source": [
    "Проверим разницу по переходам на страницу с предложениями между группами 246 и 248."
   ]
  },
  {
   "cell_type": "code",
   "execution_count": 27,
   "metadata": {},
   "outputs": [
    {
     "name": "stdout",
     "output_type": "stream",
     "text": [
      "p-значение:  0.20836205402738917\n",
      "разница в группах: 0.01730428308378984\n",
      "Не получилось отвергнуть нулевую гипотезу, нет оснований считать доли разными\n"
     ]
    }
   ],
   "source": [
    "alpha = .05 # критический уровень статистической значимости\n",
    "\n",
    "successes = np.array([data.query(\"exp_id==246 & event_name=='OffersScreenAppear'\")['device_id'].nunique(), data.query(\"exp_id==248 & event_name=='OffersScreenAppear'\")['device_id'].nunique()])\n",
    "trials = np.array([data.query(\"exp_id==246\")['device_id'].nunique(), data.query(\"exp_id==248\")['device_id'].nunique()])\n",
    "\n",
    "pvalue_check(successes, trials, alpha)"
   ]
  },
  {
   "cell_type": "markdown",
   "metadata": {},
   "source": [
    "Проверим разницу по переходам на страницу CartScreen между группами 246 и 248."
   ]
  },
  {
   "cell_type": "code",
   "execution_count": 28,
   "metadata": {},
   "outputs": [
    {
     "name": "stdout",
     "output_type": "stream",
     "text": [
      "p-значение:  0.07842923237520116\n",
      "разница в группах: 0.024837239769288977\n",
      "Не получилось отвергнуть нулевую гипотезу, нет оснований считать доли разными\n"
     ]
    }
   ],
   "source": [
    "alpha = .05 # критический уровень статистической значимости\n",
    "\n",
    "successes = np.array([data.query(\"exp_id==246 & event_name=='CartScreenAppear'\")['device_id'].nunique(), data.query(\"exp_id==248 & event_name=='CartScreenAppear'\")['device_id'].nunique()])\n",
    "trials = np.array([data.query(\"exp_id==246\")['device_id'].nunique(), data.query(\"exp_id==248\")['device_id'].nunique()])\n",
    "\n",
    "pvalue_check(successes, trials, alpha)"
   ]
  },
  {
   "cell_type": "markdown",
   "metadata": {},
   "source": [
    "Проверим разницу по переходам на страницу с успешной оплатой платежа между группами 246 и 248."
   ]
  },
  {
   "cell_type": "code",
   "execution_count": 29,
   "metadata": {},
   "outputs": [
    {
     "name": "stdout",
     "output_type": "stream",
     "text": [
      "p-значение:  0.2122553275697796\n",
      "разница в группах: 0.017581342031651348\n",
      "Не получилось отвергнуть нулевую гипотезу, нет оснований считать доли разными\n"
     ]
    }
   ],
   "source": [
    "alpha = .05 # критический уровень статистической значимости\n",
    "\n",
    "successes = np.array([data.query(\"exp_id==246 & event_name=='PaymentScreenSuccessful'\")['device_id'].nunique(), data.query(\"exp_id==248 & event_name=='PaymentScreenSuccessful'\")['device_id'].nunique()])\n",
    "trials = np.array([data.query(\"exp_id==246\")['device_id'].nunique(), data.query(\"exp_id==248\")['device_id'].nunique()])\n",
    "pvalue_check(successes, trials, alpha)"
   ]
  },
  {
   "cell_type": "markdown",
   "metadata": {},
   "source": [
    "В группах 246 и 248 нет разницы в пропорциях."
   ]
  },
  {
   "cell_type": "markdown",
   "metadata": {},
   "source": [
    "### Сравнение пропорций в группе B со второй контрольной группой."
   ]
  },
  {
   "cell_type": "markdown",
   "metadata": {},
   "source": [
    "Проверим разницу по посещениям главной страницы между группами 247 и 248."
   ]
  },
  {
   "cell_type": "code",
   "execution_count": 30,
   "metadata": {},
   "outputs": [
    {
     "name": "stdout",
     "output_type": "stream",
     "text": [
      "p-значение:  0.4587053616621515\n",
      "разница в группах: 0.002619880758800819\n",
      "Не получилось отвергнуть нулевую гипотезу, нет оснований считать доли разными\n"
     ]
    }
   ],
   "source": [
    "alpha = .05 # критический уровень статистической значимости\n",
    "\n",
    "successes = np.array([data.query(\"exp_id==247 & event_name=='MainScreenAppear'\")['device_id'].nunique(), data.query(\"exp_id==248 & event_name=='MainScreenAppear'\")['device_id'].nunique()])\n",
    "trials = np.array([data.query(\"exp_id==247\")['device_id'].nunique(), data.query(\"exp_id==248\")['device_id'].nunique()])\n",
    "\n",
    "pvalue_check(successes, trials, alpha)"
   ]
  },
  {
   "cell_type": "markdown",
   "metadata": {},
   "source": [
    "Проверим разницу по переходам на страницу с предложениями между группами 247 и 248."
   ]
  },
  {
   "cell_type": "code",
   "execution_count": 31,
   "metadata": {},
   "outputs": [
    {
     "name": "stdout",
     "output_type": "stream",
     "text": [
      "p-значение:  0.9197817830592261\n",
      "разница в группах: 0.0013860914964690663\n",
      "Не получилось отвергнуть нулевую гипотезу, нет оснований считать доли разными\n"
     ]
    }
   ],
   "source": [
    "alpha = .05 # критический уровень статистической значимости\n",
    "\n",
    "successes = np.array([data.query(\"exp_id==247 & event_name=='OffersScreenAppear'\")['device_id'].nunique(), data.query(\"exp_id==248 & event_name=='OffersScreenAppear'\")['device_id'].nunique()])\n",
    "trials = np.array([data.query(\"exp_id==247\")['device_id'].nunique(), data.query(\"exp_id==248\")['device_id'].nunique()])\n",
    "\n",
    "pvalue_check(successes, trials, alpha)"
   ]
  },
  {
   "cell_type": "markdown",
   "metadata": {},
   "source": [
    "Проверим разницу по переходам на страницу CartScreen между группами 247 и 248."
   ]
  },
  {
   "cell_type": "code",
   "execution_count": 32,
   "metadata": {},
   "outputs": [
    {
     "name": "stdout",
     "output_type": "stream",
     "text": [
      "p-значение:  0.5786197879539783\n",
      "разница в группах: 0.007813684959613265\n",
      "Не получилось отвергнуть нулевую гипотезу, нет оснований считать доли разными\n"
     ]
    }
   ],
   "source": [
    "alpha = .05 # критический уровень статистической значимости\n",
    "\n",
    "successes = np.array([data.query(\"exp_id==247 & event_name=='CartScreenAppear'\")['device_id'].nunique(), data.query(\"exp_id==248 & event_name=='CartScreenAppear'\")['device_id'].nunique()])\n",
    "trials = np.array([data.query(\"exp_id==247\")['device_id'].nunique(), data.query(\"exp_id==248\")['device_id'].nunique()])\n",
    "\n",
    "pvalue_check(successes, trials, alpha)"
   ]
  },
  {
   "cell_type": "markdown",
   "metadata": {},
   "source": [
    "Проверим разницу по переходам на страницу с успешной оплатой платежа между группами 247 и 248."
   ]
  },
  {
   "cell_type": "code",
   "execution_count": 33,
   "metadata": {},
   "outputs": [
    {
     "name": "stdout",
     "output_type": "stream",
     "text": [
      "p-значение:  0.7373415053803964\n",
      "разница в группах: -0.004706625272665688\n",
      "Не получилось отвергнуть нулевую гипотезу, нет оснований считать доли разными\n"
     ]
    }
   ],
   "source": [
    "alpha = .05 # критический уровень статистической значимости\n",
    "\n",
    "successes = np.array([data.query(\"exp_id==247 & event_name=='PaymentScreenSuccessful'\")['device_id'].nunique(), data.query(\"exp_id==248 & event_name=='PaymentScreenSuccessful'\")['device_id'].nunique()])\n",
    "trials = np.array([data.query(\"exp_id==247\")['device_id'].nunique(), data.query(\"exp_id==248\")['device_id'].nunique()])\n",
    "pvalue_check(successes, trials, alpha)"
   ]
  },
  {
   "cell_type": "markdown",
   "metadata": {},
   "source": [
    "В группах 246 и 248 так же нет разницы в пропорциях."
   ]
  },
  {
   "cell_type": "markdown",
   "metadata": {},
   "source": [
    "### Сравнение пропорций в группе B с обеими контрольными группами вместе взятыми."
   ]
  },
  {
   "cell_type": "markdown",
   "metadata": {},
   "source": [
    "Проверим разницу по посещениям главной страницы."
   ]
  },
  {
   "cell_type": "code",
   "execution_count": 34,
   "metadata": {},
   "outputs": [
    {
     "name": "stdout",
     "output_type": "stream",
     "text": [
      "p-значение:  0.29424526837179577\n",
      "разница в группах: 0.0031347937654985225\n",
      "Не получилось отвергнуть нулевую гипотезу, нет оснований считать доли разными\n"
     ]
    }
   ],
   "source": [
    "alpha = .05 # критический уровень статистической значимости\n",
    "\n",
    "successes = np.array([data.query(\"(exp_id==246 | exp_id==247) & event_name=='MainScreenAppear'\")['device_id'].nunique(), data.query(\"exp_id==248 & event_name=='MainScreenAppear'\")['device_id'].nunique()])\n",
    "trials = np.array([data.query(\"exp_id==246 | exp_id==247\")['device_id'].nunique(), data.query(\"exp_id==248\")['device_id'].nunique()])\n",
    "\n",
    "pvalue_check(successes, trials, alpha)"
   ]
  },
  {
   "cell_type": "markdown",
   "metadata": {},
   "source": [
    "Проверим разницу по переходам на страницу с предложениями."
   ]
  },
  {
   "cell_type": "code",
   "execution_count": 35,
   "metadata": {},
   "outputs": [
    {
     "name": "stdout",
     "output_type": "stream",
     "text": [
      "p-значение:  0.43425549655188256\n",
      "разница в группах: 0.009298996820244265\n",
      "Не получилось отвергнуть нулевую гипотезу, нет оснований считать доли разными\n"
     ]
    }
   ],
   "source": [
    "alpha = .05 # критический уровень статистической значимости\n",
    "\n",
    "successes = np.array([data.query(\"(exp_id==246 | exp_id==247) & event_name=='OffersScreenAppear'\")['device_id'].nunique(), data.query(\"exp_id==248 & event_name=='OffersScreenAppear'\")['device_id'].nunique()])\n",
    "trials = np.array([data.query(\"exp_id==246 | exp_id==247\")['device_id'].nunique(), data.query(\"exp_id==248\")['device_id'].nunique()])\n",
    "\n",
    "pvalue_check(successes, trials, alpha)"
   ]
  },
  {
   "cell_type": "markdown",
   "metadata": {},
   "source": [
    "Проверим разницу по переходам на страницу CartScreen."
   ]
  },
  {
   "cell_type": "code",
   "execution_count": 36,
   "metadata": {},
   "outputs": [
    {
     "name": "stdout",
     "output_type": "stream",
     "text": [
      "p-значение:  0.18175875284404386\n",
      "разница в группах: 0.01627606441673446\n",
      "Не получилось отвергнуть нулевую гипотезу, нет оснований считать доли разными\n"
     ]
    }
   ],
   "source": [
    "alpha = .05 # критический уровень статистической значимости\n",
    "\n",
    "successes = np.array([data.query(\"(exp_id==246 | exp_id==247) & event_name=='CartScreenAppear'\")['device_id'].nunique(), data.query(\"exp_id==248 & event_name=='CartScreenAppear'\")['device_id'].nunique()])\n",
    "trials = np.array([data.query(\"exp_id==246 | exp_id==247\")['device_id'].nunique(), data.query(\"exp_id==248\")['device_id'].nunique()])\n",
    "\n",
    "pvalue_check(successes, trials, alpha)"
   ]
  },
  {
   "cell_type": "markdown",
   "metadata": {},
   "source": [
    "Проверим разницу по переходам на страницу с успешной оплатой платежа."
   ]
  },
  {
   "cell_type": "code",
   "execution_count": 37,
   "metadata": {},
   "outputs": [
    {
     "name": "stdout",
     "output_type": "stream",
     "text": [
      "p-значение:  0.6004294282308704\n",
      "разница в группах: 0.006372684469964585\n",
      "Не получилось отвергнуть нулевую гипотезу, нет оснований считать доли разными\n"
     ]
    }
   ],
   "source": [
    "alpha = .05 # критический уровень статистической значимости\n",
    "\n",
    "successes = np.array([data.query(\"(exp_id==246 | exp_id==247) & event_name=='PaymentScreenSuccessful'\")['device_id'].nunique(), data.query(\"exp_id==248 & event_name=='PaymentScreenSuccessful'\")['device_id'].nunique()])\n",
    "trials = np.array([data.query(\"exp_id==246 | exp_id==247\")['device_id'].nunique(), data.query(\"exp_id==248\")['device_id'].nunique()])\n",
    "pvalue_check(successes, trials, alpha)"
   ]
  },
  {
   "cell_type": "markdown",
   "metadata": {},
   "source": [
    "При сравнении пропорций в группе B с пропорциями суммарно в обеих контрольных группах, статистически значимой разницы так же выявлено не было."
   ]
  },
  {
   "cell_type": "markdown",
   "metadata": {},
   "source": [
    "<div class=\"alert alert-block alert-success\"><b>Комментарий ревьюера V-2</b><br>\n",
    "    \n",
    "Все тесты проведены корректно!\n",
    "</div> "
   ]
  },
  {
   "cell_type": "markdown",
   "metadata": {},
   "source": [
    "<div class=\"alert alert-block alert-warning\"><b>Комментарий ревьюера V-2</b>\n",
    "    \n",
    "<b>Совет:</b><br>\n",
    "Андрей, вот еще на что хочу обратить твое внимание! Надо не увеличивать уровень значимости alpha, а уменьшать. <br>   \n",
    "Здесь можно и даже нужно применить поправку на множественную проверку гипотез.<br>\n",
    "    \n",
    "Во время проверки статистических гипотез при отвержении основной гипотезы (H0) возможна ошибка (ложное отклонение гипотезы, ошибка первого рода). Вероятность такого события ограничивается неким малым предварительно выбранным значением — уровнем значимости обычно alpha = 0.05.<br>    \n",
    "    \n",
    "Если всякий раз вероятность ошибиться равна ɑ, то вероятность не ошибиться: 1-ɑ. Так, вероятность не ошибиться ни разу за N сравнений равна: (1-ɑ)^N <br>\n",
    "\n",
    "В итоге, вероятность ошибиться хотя бы раз за N сравнений: 1 - (1-ɑ)^N  <br>  \n",
    "    \n",
    "За N в нашем случае берем 12, т.к. мы можем учитывать 12 тестов (А1/А2, А1/В, А2/В), а 4 теста (А1+А2)/В не учитываем для поправки, потому как А1/В, А2/В уже рассмотрели.<br> \n",
    "    \n",
    "Вероятность ошибки в нашем случае **без поправки, т.е. с ɑ=0,05**: 1-(1-0.05)^12= 46% <br>\n",
    "Итак, с вероятностью появления ошибки в 46% проводить тестирование не очень целесообразно :)  <br>   \n",
    "    \n",
    "Можно было повторить все тесты с поправкой, но в данном случае в этом нет необходимости.<br>\n",
    "Обрати внимание, в проведенных тестах без поправки везде больше 0,05, в большинстве случаев значительно.\n",
    "Это нам подсказывает, что с поправкой будет также)\n",
    "</div>"
   ]
  },
  {
   "cell_type": "markdown",
   "metadata": {},
   "source": [
    "### Итоги A/A/B теста."
   ]
  },
  {
   "cell_type": "markdown",
   "metadata": {},
   "source": [
    "Всего мы провели 16 проверок статистических гипотез. 4 из них сравнивали контрольные группы, и 12 контрольные группы с группой B. Во всех тестах между пропорциями в группах не выявлено статистически значимой разницы.  \n",
    "  \n",
    "Если бы мы увеличили порог значимости с 5% до 10%, то тест показал бы значимое изменение пропорции лишь в одном тесте. Но так как при уровне значимости в 10% каждый десятый раз можно получать ложный результат, а у нас всего 16 тестов, то это скорее всего был бы ложный результат."
   ]
  },
  {
   "cell_type": "markdown",
   "metadata": {},
   "source": [
    "Вывод: новый шрифт никак не влияет на поток клиентов и на их прохождение по воронке продаж. "
   ]
  },
  {
   "cell_type": "markdown",
   "metadata": {},
   "source": [
    "<div class=\"alert alert-block alert-success\"><b>Комментарий ревьюера V-2</b>\n",
    "    \n",
    "<b>Успех:</b><br>\n",
    "\n",
    " 👍 Действительно, не выявлено ни положительного, ни отрицательного влияния шрифтов. Т.е., их можно менять, можно оставлять - на продажах это не скажется.\n",
    "</div>"
   ]
  },
  {
   "cell_type": "markdown",
   "metadata": {},
   "source": [
    "<div style=\"background: #cceeaa; padding: 5px; border: 1px solid green; border-radius: 5px;\">\n",
    "<font color='green'> \n",
    "    <b><u>Общий вывод по проекту</u></b>\n",
    "<font color='green'><br> \n",
    "\n",
    "\n",
    "Андрей, проект сделан хорошо!) Есть несколько важных моментов, которые я отметила и которые можно было бы улучшить, подсказки ты найдешь в моих комментариях. \n",
    "\n",
    "**Что мне особенно понравилось в твоей работе:**:\n",
    " \n",
    "* Актуальный период выбран правильно.\n",
    "* Доля пользователей рассчитана верно.    \n",
    "* Проверка гипотез обернута в функцию.\n",
    "* Код логичный и понятный, нет ничего лишнего. \n",
    "* Проект полностью соответствует плану!\n",
    "\n",
    "\n",
    "**На что стоит обратить внимание**:\n",
    "    \n",
    "* Осталось совсем немного поправить, а именно: оформить графики, заменить числа кодом, проверить пользователей, которые могут быть в двух и более группах, скорректировать проверки гипотез. Подсказки ты найдешь в моих комментариях.\n",
    "\n",
    "\n",
    "\n",
    "\n",
    "**Доработка займет у тебя совсем немного времени) Желаю удачи и жду твой проект на повторное ревью!**😉  "
   ]
  }
 ],
 "metadata": {
  "ExecuteTimeLog": [
   {
    "duration": 49,
    "start_time": "2022-12-07T11:19:19.250Z"
   },
   {
    "duration": 479,
    "start_time": "2022-12-07T11:22:16.304Z"
   },
   {
    "duration": 623,
    "start_time": "2022-12-07T11:22:17.855Z"
   },
   {
    "duration": 45,
    "start_time": "2022-12-07T11:23:03.296Z"
   },
   {
    "duration": 462,
    "start_time": "2022-12-07T11:23:09.802Z"
   },
   {
    "duration": 254,
    "start_time": "2022-12-07T11:23:15.860Z"
   },
   {
    "duration": 271,
    "start_time": "2022-12-07T11:23:33.150Z"
   },
   {
    "duration": 49,
    "start_time": "2022-12-07T11:24:56.005Z"
   },
   {
    "duration": 437,
    "start_time": "2022-12-07T11:25:10.488Z"
   },
   {
    "duration": 355,
    "start_time": "2022-12-07T11:25:38.470Z"
   },
   {
    "duration": 20,
    "start_time": "2022-12-07T11:27:45.251Z"
   },
   {
    "duration": 20,
    "start_time": "2022-12-07T11:30:06.865Z"
   },
   {
    "duration": 64,
    "start_time": "2022-12-07T11:30:28.518Z"
   },
   {
    "duration": 64,
    "start_time": "2022-12-07T11:30:38.377Z"
   },
   {
    "duration": 64,
    "start_time": "2022-12-07T11:30:46.963Z"
   },
   {
    "duration": 67,
    "start_time": "2022-12-07T11:31:01.230Z"
   },
   {
    "duration": 65,
    "start_time": "2022-12-07T11:31:36.166Z"
   },
   {
    "duration": 56,
    "start_time": "2022-12-07T11:32:41.033Z"
   },
   {
    "duration": 76,
    "start_time": "2022-12-07T11:33:30.651Z"
   },
   {
    "duration": 81,
    "start_time": "2022-12-07T11:33:56.536Z"
   },
   {
    "duration": 47,
    "start_time": "2022-12-07T11:34:20.517Z"
   },
   {
    "duration": 77,
    "start_time": "2022-12-07T11:34:37.668Z"
   },
   {
    "duration": 86,
    "start_time": "2022-12-07T11:34:47.983Z"
   },
   {
    "duration": 46,
    "start_time": "2022-12-07T11:35:16.923Z"
   },
   {
    "duration": 51,
    "start_time": "2022-12-07T11:35:26.787Z"
   },
   {
    "duration": 58,
    "start_time": "2022-12-07T11:36:46.033Z"
   },
   {
    "duration": 20,
    "start_time": "2022-12-07T11:37:31.447Z"
   },
   {
    "duration": 3,
    "start_time": "2022-12-07T11:39:20.310Z"
   },
   {
    "duration": 15,
    "start_time": "2022-12-07T11:40:25.794Z"
   },
   {
    "duration": 19,
    "start_time": "2022-12-07T11:41:05.288Z"
   },
   {
    "duration": 66,
    "start_time": "2022-12-07T11:42:20.724Z"
   },
   {
    "duration": 8,
    "start_time": "2022-12-07T11:46:09.343Z"
   },
   {
    "duration": 16,
    "start_time": "2022-12-07T11:46:20.436Z"
   },
   {
    "duration": 20,
    "start_time": "2022-12-07T11:47:05.187Z"
   },
   {
    "duration": 7,
    "start_time": "2022-12-07T11:54:19.257Z"
   },
   {
    "duration": 7,
    "start_time": "2022-12-07T11:54:45.519Z"
   },
   {
    "duration": 53,
    "start_time": "2022-12-07T11:57:05.030Z"
   },
   {
    "duration": 23,
    "start_time": "2022-12-07T11:57:16.668Z"
   },
   {
    "duration": 12,
    "start_time": "2022-12-07T11:58:09.667Z"
   },
   {
    "duration": 977,
    "start_time": "2022-12-07T11:58:56.335Z"
   },
   {
    "duration": 12,
    "start_time": "2022-12-07T11:59:01.462Z"
   },
   {
    "duration": 12,
    "start_time": "2022-12-07T11:59:20.560Z"
   },
   {
    "duration": 11,
    "start_time": "2022-12-07T11:59:35.042Z"
   },
   {
    "duration": 700,
    "start_time": "2022-12-07T12:05:02.743Z"
   },
   {
    "duration": 167,
    "start_time": "2022-12-07T12:05:06.132Z"
   },
   {
    "duration": 173,
    "start_time": "2022-12-07T12:05:21.088Z"
   },
   {
    "duration": 235,
    "start_time": "2022-12-07T12:05:37.684Z"
   },
   {
    "duration": 287,
    "start_time": "2022-12-07T12:05:43.823Z"
   },
   {
    "duration": 58,
    "start_time": "2022-12-07T12:09:46.766Z"
   },
   {
    "duration": 292,
    "start_time": "2022-12-07T12:09:56.809Z"
   },
   {
    "duration": 398,
    "start_time": "2022-12-07T12:10:15.297Z"
   },
   {
    "duration": 293,
    "start_time": "2022-12-07T12:10:25.657Z"
   },
   {
    "duration": 285,
    "start_time": "2022-12-07T12:10:47.717Z"
   },
   {
    "duration": 295,
    "start_time": "2022-12-07T12:10:54.251Z"
   },
   {
    "duration": 263,
    "start_time": "2022-12-07T12:11:07.444Z"
   },
   {
    "duration": 13,
    "start_time": "2022-12-07T12:16:10.222Z"
   },
   {
    "duration": 22,
    "start_time": "2022-12-07T12:16:25.201Z"
   },
   {
    "duration": 29,
    "start_time": "2022-12-07T12:17:07.518Z"
   },
   {
    "duration": 17,
    "start_time": "2022-12-07T12:17:20.471Z"
   },
   {
    "duration": 6,
    "start_time": "2022-12-07T12:24:52.693Z"
   },
   {
    "duration": 17,
    "start_time": "2022-12-07T12:25:06.553Z"
   },
   {
    "duration": 5,
    "start_time": "2022-12-07T12:25:13.519Z"
   },
   {
    "duration": 4,
    "start_time": "2022-12-07T12:25:17.403Z"
   },
   {
    "duration": 5,
    "start_time": "2022-12-07T12:25:28.900Z"
   },
   {
    "duration": 5,
    "start_time": "2022-12-07T12:25:40.241Z"
   },
   {
    "duration": 6,
    "start_time": "2022-12-07T12:25:44.931Z"
   },
   {
    "duration": 6,
    "start_time": "2022-12-07T12:26:13.627Z"
   },
   {
    "duration": 34,
    "start_time": "2022-12-07T12:28:27.493Z"
   },
   {
    "duration": 144,
    "start_time": "2022-12-08T08:31:03.759Z"
   },
   {
    "duration": 389,
    "start_time": "2022-12-08T08:31:07.549Z"
   },
   {
    "duration": 327,
    "start_time": "2022-12-08T08:31:07.940Z"
   },
   {
    "duration": 3,
    "start_time": "2022-12-08T08:31:08.268Z"
   },
   {
    "duration": 18,
    "start_time": "2022-12-08T08:31:08.273Z"
   },
   {
    "duration": 30,
    "start_time": "2022-12-08T08:31:08.293Z"
   },
   {
    "duration": 16,
    "start_time": "2022-12-08T08:31:08.325Z"
   },
   {
    "duration": 11,
    "start_time": "2022-12-08T08:31:08.343Z"
   },
   {
    "duration": 14,
    "start_time": "2022-12-08T08:31:08.355Z"
   },
   {
    "duration": 795,
    "start_time": "2022-12-08T08:31:08.371Z"
   },
   {
    "duration": 350,
    "start_time": "2022-12-08T08:31:09.168Z"
   },
   {
    "duration": 21,
    "start_time": "2022-12-08T08:31:09.519Z"
   },
   {
    "duration": 6,
    "start_time": "2022-12-08T08:31:09.541Z"
   },
   {
    "duration": 47,
    "start_time": "2022-12-08T08:31:09.549Z"
   },
   {
    "duration": 115,
    "start_time": "2022-12-08T08:31:09.600Z"
   },
   {
    "duration": 25,
    "start_time": "2022-12-08T08:34:22.760Z"
   },
   {
    "duration": 26,
    "start_time": "2022-12-08T08:34:59.580Z"
   },
   {
    "duration": 88,
    "start_time": "2022-12-08T08:35:13.681Z"
   },
   {
    "duration": 25,
    "start_time": "2022-12-08T08:35:18.303Z"
   },
   {
    "duration": 58,
    "start_time": "2022-12-08T11:48:49.202Z"
   },
   {
    "duration": 56,
    "start_time": "2022-12-08T11:51:28.036Z"
   },
   {
    "duration": 62,
    "start_time": "2022-12-08T11:51:36.226Z"
   },
   {
    "duration": 1792,
    "start_time": "2022-12-08T12:34:39.447Z"
   },
   {
    "duration": 2472,
    "start_time": "2022-12-08T12:35:31.939Z"
   },
   {
    "duration": 1886,
    "start_time": "2022-12-08T12:35:41.949Z"
   },
   {
    "duration": 5,
    "start_time": "2022-12-08T12:41:03.467Z"
   },
   {
    "duration": 9,
    "start_time": "2022-12-08T12:41:10.220Z"
   },
   {
    "duration": 5,
    "start_time": "2022-12-08T12:46:36.298Z"
   },
   {
    "duration": 16,
    "start_time": "2022-12-08T12:46:38.130Z"
   },
   {
    "duration": 14,
    "start_time": "2022-12-08T12:46:50.136Z"
   },
   {
    "duration": 20,
    "start_time": "2022-12-08T12:47:00.536Z"
   },
   {
    "duration": 48,
    "start_time": "2022-12-08T12:50:00.672Z"
   },
   {
    "duration": 78,
    "start_time": "2022-12-08T12:50:14.190Z"
   },
   {
    "duration": 58,
    "start_time": "2022-12-08T12:50:43.125Z"
   },
   {
    "duration": 56,
    "start_time": "2022-12-08T12:52:51.060Z"
   },
   {
    "duration": 4,
    "start_time": "2022-12-08T12:57:09.684Z"
   },
   {
    "duration": 4,
    "start_time": "2022-12-08T12:57:25.019Z"
   },
   {
    "duration": 4,
    "start_time": "2022-12-08T12:57:41.109Z"
   },
   {
    "duration": 51,
    "start_time": "2022-12-08T14:20:53.563Z"
   },
   {
    "duration": 20,
    "start_time": "2022-12-08T14:22:10.394Z"
   },
   {
    "duration": 67,
    "start_time": "2022-12-09T07:15:31.799Z"
   },
   {
    "duration": 415,
    "start_time": "2022-12-09T07:15:37.923Z"
   },
   {
    "duration": 481,
    "start_time": "2022-12-09T07:15:38.342Z"
   },
   {
    "duration": 3,
    "start_time": "2022-12-09T07:15:38.826Z"
   },
   {
    "duration": 42,
    "start_time": "2022-12-09T07:15:38.831Z"
   },
   {
    "duration": 23,
    "start_time": "2022-12-09T07:15:38.876Z"
   },
   {
    "duration": 17,
    "start_time": "2022-12-09T07:15:38.901Z"
   },
   {
    "duration": 12,
    "start_time": "2022-12-09T07:15:38.919Z"
   },
   {
    "duration": 45,
    "start_time": "2022-12-09T07:15:38.933Z"
   },
   {
    "duration": 814,
    "start_time": "2022-12-09T07:15:38.981Z"
   },
   {
    "duration": 383,
    "start_time": "2022-12-09T07:15:39.797Z"
   },
   {
    "duration": 22,
    "start_time": "2022-12-09T07:15:40.182Z"
   },
   {
    "duration": 21,
    "start_time": "2022-12-09T07:15:40.205Z"
   },
   {
    "duration": 62,
    "start_time": "2022-12-09T07:15:40.227Z"
   },
   {
    "duration": 28,
    "start_time": "2022-12-09T07:15:40.294Z"
   },
   {
    "duration": 72,
    "start_time": "2022-12-09T07:15:40.324Z"
   },
   {
    "duration": 114,
    "start_time": "2022-12-09T07:15:40.398Z"
   },
   {
    "duration": 4,
    "start_time": "2022-12-09T07:15:40.514Z"
   },
   {
    "duration": 53,
    "start_time": "2022-12-09T07:15:40.520Z"
   },
   {
    "duration": 13,
    "start_time": "2022-12-09T07:15:40.577Z"
   },
   {
    "duration": 24,
    "start_time": "2022-12-09T07:15:40.592Z"
   },
   {
    "duration": 17,
    "start_time": "2022-12-09T07:17:00.515Z"
   },
   {
    "duration": 12,
    "start_time": "2022-12-09T07:18:21.863Z"
   },
   {
    "duration": 414,
    "start_time": "2022-12-09T07:18:39.490Z"
   },
   {
    "duration": 49,
    "start_time": "2022-12-09T07:18:53.051Z"
   },
   {
    "duration": 55,
    "start_time": "2022-12-09T07:19:05.950Z"
   },
   {
    "duration": 50,
    "start_time": "2022-12-09T07:19:16.872Z"
   },
   {
    "duration": 54,
    "start_time": "2022-12-09T07:19:27.828Z"
   },
   {
    "duration": 50,
    "start_time": "2022-12-09T07:20:07.608Z"
   },
   {
    "duration": 51,
    "start_time": "2022-12-09T07:24:50.205Z"
   },
   {
    "duration": 6,
    "start_time": "2022-12-09T07:27:58.120Z"
   },
   {
    "duration": 89,
    "start_time": "2022-12-09T07:28:00.262Z"
   },
   {
    "duration": 7,
    "start_time": "2022-12-09T07:29:26.015Z"
   },
   {
    "duration": 91,
    "start_time": "2022-12-09T07:29:28.071Z"
   },
   {
    "duration": 5,
    "start_time": "2022-12-09T07:30:52.808Z"
   },
   {
    "duration": 48,
    "start_time": "2022-12-09T07:30:54.336Z"
   },
   {
    "duration": 50,
    "start_time": "2022-12-09T07:37:39.506Z"
   },
   {
    "duration": 49,
    "start_time": "2022-12-09T07:37:56.816Z"
   },
   {
    "duration": 49,
    "start_time": "2022-12-09T07:37:59.730Z"
   },
   {
    "duration": 47,
    "start_time": "2022-12-09T07:51:21.076Z"
   },
   {
    "duration": 53,
    "start_time": "2022-12-09T07:52:49.108Z"
   },
   {
    "duration": 660,
    "start_time": "2022-12-09T08:04:19.039Z"
   },
   {
    "duration": 3,
    "start_time": "2022-12-09T08:04:29.030Z"
   },
   {
    "duration": 356,
    "start_time": "2022-12-09T08:04:29.035Z"
   },
   {
    "duration": 3,
    "start_time": "2022-12-09T08:04:29.393Z"
   },
   {
    "duration": 17,
    "start_time": "2022-12-09T08:04:29.398Z"
   },
   {
    "duration": 19,
    "start_time": "2022-12-09T08:04:29.417Z"
   },
   {
    "duration": 14,
    "start_time": "2022-12-09T08:04:29.437Z"
   },
   {
    "duration": 8,
    "start_time": "2022-12-09T08:04:29.478Z"
   },
   {
    "duration": 14,
    "start_time": "2022-12-09T08:04:29.488Z"
   },
   {
    "duration": 320,
    "start_time": "2022-12-09T08:04:29.504Z"
   },
   {
    "duration": 326,
    "start_time": "2022-12-09T08:04:29.826Z"
   },
   {
    "duration": 26,
    "start_time": "2022-12-09T08:04:30.154Z"
   },
   {
    "duration": 7,
    "start_time": "2022-12-09T08:04:30.182Z"
   },
   {
    "duration": 50,
    "start_time": "2022-12-09T08:04:30.192Z"
   },
   {
    "duration": 37,
    "start_time": "2022-12-09T08:04:30.244Z"
   },
   {
    "duration": 84,
    "start_time": "2022-12-09T08:04:30.283Z"
   },
   {
    "duration": 191,
    "start_time": "2022-12-09T08:04:30.369Z"
   },
   {
    "duration": 4,
    "start_time": "2022-12-09T08:04:30.562Z"
   },
   {
    "duration": 62,
    "start_time": "2022-12-09T08:04:30.567Z"
   },
   {
    "duration": 9,
    "start_time": "2022-12-09T08:04:30.631Z"
   },
   {
    "duration": 82,
    "start_time": "2022-12-09T08:04:30.642Z"
   },
   {
    "duration": 56,
    "start_time": "2022-12-09T08:04:30.726Z"
   },
   {
    "duration": 47,
    "start_time": "2022-12-09T08:04:30.785Z"
   },
   {
    "duration": 69,
    "start_time": "2022-12-09T08:04:30.834Z"
   },
   {
    "duration": 49,
    "start_time": "2022-12-09T08:10:45.586Z"
   },
   {
    "duration": 56,
    "start_time": "2022-12-09T08:10:50.032Z"
   },
   {
    "duration": 48,
    "start_time": "2022-12-09T08:10:54.687Z"
   },
   {
    "duration": 59,
    "start_time": "2022-12-09T08:14:49.089Z"
   },
   {
    "duration": 58,
    "start_time": "2022-12-09T08:14:56.398Z"
   },
   {
    "duration": 67,
    "start_time": "2022-12-09T08:15:09.320Z"
   },
   {
    "duration": 68,
    "start_time": "2022-12-09T08:15:17.968Z"
   },
   {
    "duration": 112,
    "start_time": "2022-12-09T08:15:28.947Z"
   },
   {
    "duration": 3,
    "start_time": "2022-12-09T08:15:34.028Z"
   },
   {
    "duration": 311,
    "start_time": "2022-12-09T08:15:34.034Z"
   },
   {
    "duration": 4,
    "start_time": "2022-12-09T08:15:34.347Z"
   },
   {
    "duration": 23,
    "start_time": "2022-12-09T08:15:34.352Z"
   },
   {
    "duration": 21,
    "start_time": "2022-12-09T08:15:34.378Z"
   },
   {
    "duration": 13,
    "start_time": "2022-12-09T08:15:34.401Z"
   },
   {
    "duration": 133,
    "start_time": "2022-12-09T08:15:34.416Z"
   },
   {
    "duration": 8,
    "start_time": "2022-12-09T08:15:34.551Z"
   },
   {
    "duration": 25,
    "start_time": "2022-12-09T08:15:34.561Z"
   },
   {
    "duration": 325,
    "start_time": "2022-12-09T08:15:34.588Z"
   },
   {
    "duration": 316,
    "start_time": "2022-12-09T08:15:34.915Z"
   },
   {
    "duration": 25,
    "start_time": "2022-12-09T08:15:35.234Z"
   },
   {
    "duration": 17,
    "start_time": "2022-12-09T08:15:35.261Z"
   },
   {
    "duration": 43,
    "start_time": "2022-12-09T08:15:35.281Z"
   },
   {
    "duration": 27,
    "start_time": "2022-12-09T08:15:35.325Z"
   },
   {
    "duration": 86,
    "start_time": "2022-12-09T08:15:35.353Z"
   },
   {
    "duration": 108,
    "start_time": "2022-12-09T08:15:35.441Z"
   },
   {
    "duration": 5,
    "start_time": "2022-12-09T08:15:35.550Z"
   },
   {
    "duration": 50,
    "start_time": "2022-12-09T08:15:35.557Z"
   },
   {
    "duration": 5,
    "start_time": "2022-12-09T08:15:35.609Z"
   },
   {
    "duration": 65,
    "start_time": "2022-12-09T08:15:35.616Z"
   },
   {
    "duration": 49,
    "start_time": "2022-12-09T08:15:35.683Z"
   },
   {
    "duration": 73,
    "start_time": "2022-12-09T08:15:35.734Z"
   },
   {
    "duration": 54,
    "start_time": "2022-12-09T08:15:35.809Z"
   },
   {
    "duration": 48,
    "start_time": "2022-12-09T08:19:13.146Z"
   },
   {
    "duration": 38,
    "start_time": "2022-12-09T08:19:24.809Z"
   },
   {
    "duration": 49,
    "start_time": "2022-12-09T08:19:43.884Z"
   },
   {
    "duration": 39,
    "start_time": "2022-12-09T08:24:16.034Z"
   },
   {
    "duration": 48,
    "start_time": "2022-12-09T08:24:17.791Z"
   },
   {
    "duration": 3,
    "start_time": "2022-12-09T08:24:20.223Z"
   },
   {
    "duration": 572,
    "start_time": "2022-12-09T08:24:20.228Z"
   },
   {
    "duration": 4,
    "start_time": "2022-12-09T08:24:20.802Z"
   },
   {
    "duration": 32,
    "start_time": "2022-12-09T08:24:20.808Z"
   },
   {
    "duration": 26,
    "start_time": "2022-12-09T08:24:20.843Z"
   },
   {
    "duration": 27,
    "start_time": "2022-12-09T08:24:20.871Z"
   },
   {
    "duration": 129,
    "start_time": "2022-12-09T08:24:20.900Z"
   },
   {
    "duration": 7,
    "start_time": "2022-12-09T08:24:21.031Z"
   },
   {
    "duration": 36,
    "start_time": "2022-12-09T08:24:21.040Z"
   },
   {
    "duration": 313,
    "start_time": "2022-12-09T08:24:21.078Z"
   },
   {
    "duration": 301,
    "start_time": "2022-12-09T08:24:21.393Z"
   },
   {
    "duration": 19,
    "start_time": "2022-12-09T08:24:21.696Z"
   },
   {
    "duration": 7,
    "start_time": "2022-12-09T08:24:21.717Z"
   },
   {
    "duration": 60,
    "start_time": "2022-12-09T08:24:21.728Z"
   },
   {
    "duration": 27,
    "start_time": "2022-12-09T08:24:21.790Z"
   },
   {
    "duration": 84,
    "start_time": "2022-12-09T08:24:21.819Z"
   },
   {
    "duration": 82,
    "start_time": "2022-12-09T08:24:21.905Z"
   },
   {
    "duration": 3,
    "start_time": "2022-12-09T08:24:21.989Z"
   },
   {
    "duration": 45,
    "start_time": "2022-12-09T08:24:21.994Z"
   },
   {
    "duration": 5,
    "start_time": "2022-12-09T08:24:22.041Z"
   },
   {
    "duration": 67,
    "start_time": "2022-12-09T08:24:22.048Z"
   },
   {
    "duration": 61,
    "start_time": "2022-12-09T08:24:22.117Z"
   },
   {
    "duration": 50,
    "start_time": "2022-12-09T08:24:22.180Z"
   },
   {
    "duration": 52,
    "start_time": "2022-12-09T08:24:22.232Z"
   },
   {
    "duration": 40,
    "start_time": "2022-12-09T08:36:28.499Z"
   },
   {
    "duration": 51,
    "start_time": "2022-12-09T08:41:47.246Z"
   },
   {
    "duration": 3,
    "start_time": "2022-12-09T08:43:50.752Z"
   },
   {
    "duration": 404,
    "start_time": "2022-12-09T08:43:50.757Z"
   },
   {
    "duration": 3,
    "start_time": "2022-12-09T08:43:51.162Z"
   },
   {
    "duration": 24,
    "start_time": "2022-12-09T08:43:51.167Z"
   },
   {
    "duration": 19,
    "start_time": "2022-12-09T08:43:51.193Z"
   },
   {
    "duration": 14,
    "start_time": "2022-12-09T08:43:51.214Z"
   },
   {
    "duration": 134,
    "start_time": "2022-12-09T08:43:51.230Z"
   },
   {
    "duration": 18,
    "start_time": "2022-12-09T08:43:51.366Z"
   },
   {
    "duration": 13,
    "start_time": "2022-12-09T08:43:51.386Z"
   },
   {
    "duration": 317,
    "start_time": "2022-12-09T08:43:51.401Z"
   },
   {
    "duration": 406,
    "start_time": "2022-12-09T08:43:51.720Z"
   },
   {
    "duration": 19,
    "start_time": "2022-12-09T08:43:52.127Z"
   },
   {
    "duration": 5,
    "start_time": "2022-12-09T08:43:52.148Z"
   },
   {
    "duration": 57,
    "start_time": "2022-12-09T08:43:52.155Z"
   },
   {
    "duration": 27,
    "start_time": "2022-12-09T08:43:52.213Z"
   },
   {
    "duration": 78,
    "start_time": "2022-12-09T08:43:52.242Z"
   },
   {
    "duration": 84,
    "start_time": "2022-12-09T08:43:52.322Z"
   },
   {
    "duration": 4,
    "start_time": "2022-12-09T08:43:52.408Z"
   },
   {
    "duration": 12,
    "start_time": "2022-12-09T08:43:52.413Z"
   },
   {
    "duration": 65,
    "start_time": "2022-12-09T08:43:52.426Z"
   },
   {
    "duration": 45,
    "start_time": "2022-12-09T08:43:52.492Z"
   },
   {
    "duration": 63,
    "start_time": "2022-12-09T08:43:52.539Z"
   },
   {
    "duration": 47,
    "start_time": "2022-12-09T08:43:52.604Z"
   },
   {
    "duration": 111,
    "start_time": "2022-12-09T08:44:39.756Z"
   },
   {
    "duration": 3,
    "start_time": "2022-12-09T08:44:44.744Z"
   },
   {
    "duration": 284,
    "start_time": "2022-12-09T08:44:44.749Z"
   },
   {
    "duration": 3,
    "start_time": "2022-12-09T08:44:45.035Z"
   },
   {
    "duration": 31,
    "start_time": "2022-12-09T08:44:45.041Z"
   },
   {
    "duration": 23,
    "start_time": "2022-12-09T08:44:45.074Z"
   },
   {
    "duration": 14,
    "start_time": "2022-12-09T08:44:45.099Z"
   },
   {
    "duration": 136,
    "start_time": "2022-12-09T08:44:45.115Z"
   },
   {
    "duration": 7,
    "start_time": "2022-12-09T08:44:45.253Z"
   },
   {
    "duration": 26,
    "start_time": "2022-12-09T08:44:45.262Z"
   },
   {
    "duration": 312,
    "start_time": "2022-12-09T08:44:45.291Z"
   },
   {
    "duration": 312,
    "start_time": "2022-12-09T08:44:45.605Z"
   },
   {
    "duration": 19,
    "start_time": "2022-12-09T08:44:45.919Z"
   },
   {
    "duration": 6,
    "start_time": "2022-12-09T08:44:45.939Z"
   },
   {
    "duration": 61,
    "start_time": "2022-12-09T08:44:45.947Z"
   },
   {
    "duration": 27,
    "start_time": "2022-12-09T08:44:46.010Z"
   },
   {
    "duration": 84,
    "start_time": "2022-12-09T08:44:46.038Z"
   },
   {
    "duration": 73,
    "start_time": "2022-12-09T08:44:46.123Z"
   },
   {
    "duration": 3,
    "start_time": "2022-12-09T08:44:46.198Z"
   },
   {
    "duration": 8,
    "start_time": "2022-12-09T08:44:46.203Z"
   },
   {
    "duration": 71,
    "start_time": "2022-12-09T08:44:46.212Z"
   },
   {
    "duration": 48,
    "start_time": "2022-12-09T08:44:46.284Z"
   },
   {
    "duration": 66,
    "start_time": "2022-12-09T08:44:46.334Z"
   },
   {
    "duration": 51,
    "start_time": "2022-12-09T08:44:46.402Z"
   },
   {
    "duration": 52,
    "start_time": "2022-12-09T08:53:17.786Z"
   },
   {
    "duration": 51,
    "start_time": "2022-12-09T08:53:27.232Z"
   },
   {
    "duration": 49,
    "start_time": "2022-12-09T08:53:44.298Z"
   },
   {
    "duration": 49,
    "start_time": "2022-12-09T08:54:05.096Z"
   },
   {
    "duration": 53,
    "start_time": "2022-12-09T08:54:29.124Z"
   },
   {
    "duration": 47,
    "start_time": "2022-12-09T08:56:54.821Z"
   },
   {
    "duration": 50,
    "start_time": "2022-12-09T08:56:56.330Z"
   },
   {
    "duration": 49,
    "start_time": "2022-12-09T08:57:02.344Z"
   },
   {
    "duration": 50,
    "start_time": "2022-12-09T08:57:11.059Z"
   },
   {
    "duration": 62,
    "start_time": "2022-12-09T08:58:18.382Z"
   },
   {
    "duration": 52,
    "start_time": "2022-12-09T08:58:25.154Z"
   },
   {
    "duration": 50,
    "start_time": "2022-12-09T08:58:31.361Z"
   },
   {
    "duration": 51,
    "start_time": "2022-12-09T08:58:46.006Z"
   },
   {
    "duration": 59,
    "start_time": "2022-12-09T10:31:42.260Z"
   },
   {
    "duration": 53,
    "start_time": "2022-12-09T10:32:04.233Z"
   },
   {
    "duration": 52,
    "start_time": "2022-12-09T10:32:11.604Z"
   },
   {
    "duration": 57,
    "start_time": "2022-12-09T10:32:20.946Z"
   },
   {
    "duration": 18,
    "start_time": "2022-12-09T11:06:52.466Z"
   },
   {
    "duration": 16,
    "start_time": "2022-12-09T11:08:37.422Z"
   },
   {
    "duration": 912,
    "start_time": "2022-12-09T11:22:12.575Z"
   },
   {
    "duration": 484,
    "start_time": "2022-12-09T11:22:13.490Z"
   },
   {
    "duration": 3,
    "start_time": "2022-12-09T11:22:13.979Z"
   },
   {
    "duration": 21,
    "start_time": "2022-12-09T11:22:13.984Z"
   },
   {
    "duration": 21,
    "start_time": "2022-12-09T11:22:14.007Z"
   },
   {
    "duration": 49,
    "start_time": "2022-12-09T11:22:14.030Z"
   },
   {
    "duration": 192,
    "start_time": "2022-12-09T11:22:14.081Z"
   },
   {
    "duration": 26,
    "start_time": "2022-12-09T11:22:14.275Z"
   },
   {
    "duration": 30,
    "start_time": "2022-12-09T11:22:14.305Z"
   },
   {
    "duration": 682,
    "start_time": "2022-12-09T11:22:14.337Z"
   },
   {
    "duration": 325,
    "start_time": "2022-12-09T11:22:15.021Z"
   },
   {
    "duration": 37,
    "start_time": "2022-12-09T11:22:15.349Z"
   },
   {
    "duration": 35,
    "start_time": "2022-12-09T11:22:15.389Z"
   },
   {
    "duration": 48,
    "start_time": "2022-12-09T11:22:15.427Z"
   },
   {
    "duration": 27,
    "start_time": "2022-12-09T11:22:15.477Z"
   },
   {
    "duration": 95,
    "start_time": "2022-12-09T11:22:15.507Z"
   },
   {
    "duration": 252,
    "start_time": "2022-12-09T11:22:15.604Z"
   },
   {
    "duration": 5,
    "start_time": "2022-12-09T11:22:15.859Z"
   },
   {
    "duration": 9,
    "start_time": "2022-12-09T11:22:15.881Z"
   },
   {
    "duration": 97,
    "start_time": "2022-12-09T11:22:15.894Z"
   },
   {
    "duration": 59,
    "start_time": "2022-12-09T11:22:15.993Z"
   },
   {
    "duration": 69,
    "start_time": "2022-12-09T11:22:16.054Z"
   },
   {
    "duration": 63,
    "start_time": "2022-12-09T11:22:16.125Z"
   },
   {
    "duration": 59,
    "start_time": "2022-12-09T11:22:16.190Z"
   },
   {
    "duration": 89,
    "start_time": "2022-12-09T11:22:16.252Z"
   },
   {
    "duration": 73,
    "start_time": "2022-12-09T11:22:16.344Z"
   },
   {
    "duration": 66,
    "start_time": "2022-12-09T11:22:16.421Z"
   },
   {
    "duration": 61,
    "start_time": "2022-12-09T11:22:16.490Z"
   },
   {
    "duration": 77,
    "start_time": "2022-12-09T11:22:16.553Z"
   },
   {
    "duration": 76,
    "start_time": "2022-12-09T11:22:16.632Z"
   },
   {
    "duration": 54,
    "start_time": "2022-12-09T11:22:16.710Z"
   },
   {
    "duration": 77,
    "start_time": "2022-12-09T11:22:16.766Z"
   },
   {
    "duration": 78,
    "start_time": "2022-12-09T11:22:16.846Z"
   },
   {
    "duration": 70,
    "start_time": "2022-12-09T11:22:16.926Z"
   },
   {
    "duration": 59,
    "start_time": "2022-12-09T11:22:16.998Z"
   },
   {
    "duration": 832,
    "start_time": "2022-12-09T13:34:10.917Z"
   },
   {
    "duration": 416,
    "start_time": "2022-12-09T13:34:11.751Z"
   },
   {
    "duration": 3,
    "start_time": "2022-12-09T13:34:12.168Z"
   },
   {
    "duration": 34,
    "start_time": "2022-12-09T13:34:12.173Z"
   },
   {
    "duration": 38,
    "start_time": "2022-12-09T13:34:12.209Z"
   },
   {
    "duration": 26,
    "start_time": "2022-12-09T13:34:12.249Z"
   },
   {
    "duration": 132,
    "start_time": "2022-12-09T13:34:12.276Z"
   },
   {
    "duration": 7,
    "start_time": "2022-12-09T13:34:12.410Z"
   },
   {
    "duration": 32,
    "start_time": "2022-12-09T13:34:12.418Z"
   },
   {
    "duration": 611,
    "start_time": "2022-12-09T13:34:12.453Z"
   },
   {
    "duration": 289,
    "start_time": "2022-12-09T13:34:13.065Z"
   },
   {
    "duration": 18,
    "start_time": "2022-12-09T13:34:13.356Z"
   },
   {
    "duration": 10,
    "start_time": "2022-12-09T13:34:13.375Z"
   },
   {
    "duration": 55,
    "start_time": "2022-12-09T13:34:13.387Z"
   },
   {
    "duration": 25,
    "start_time": "2022-12-09T13:34:13.443Z"
   },
   {
    "duration": 68,
    "start_time": "2022-12-09T13:34:13.469Z"
   },
   {
    "duration": 172,
    "start_time": "2022-12-09T13:34:13.538Z"
   },
   {
    "duration": 3,
    "start_time": "2022-12-09T13:34:13.712Z"
   },
   {
    "duration": 33,
    "start_time": "2022-12-09T13:34:13.716Z"
   },
   {
    "duration": 92,
    "start_time": "2022-12-09T13:34:13.751Z"
   },
   {
    "duration": 38,
    "start_time": "2022-12-09T13:34:13.845Z"
   },
   {
    "duration": 56,
    "start_time": "2022-12-09T13:34:13.884Z"
   },
   {
    "duration": 47,
    "start_time": "2022-12-09T13:34:13.942Z"
   },
   {
    "duration": 58,
    "start_time": "2022-12-09T13:34:13.991Z"
   },
   {
    "duration": 54,
    "start_time": "2022-12-09T13:34:14.051Z"
   },
   {
    "duration": 44,
    "start_time": "2022-12-09T13:34:14.106Z"
   },
   {
    "duration": 67,
    "start_time": "2022-12-09T13:34:14.152Z"
   },
   {
    "duration": 45,
    "start_time": "2022-12-09T13:34:14.223Z"
   },
   {
    "duration": 58,
    "start_time": "2022-12-09T13:34:14.270Z"
   },
   {
    "duration": 40,
    "start_time": "2022-12-09T13:34:14.330Z"
   },
   {
    "duration": 59,
    "start_time": "2022-12-09T13:34:14.371Z"
   },
   {
    "duration": 47,
    "start_time": "2022-12-09T13:34:14.432Z"
   },
   {
    "duration": 57,
    "start_time": "2022-12-09T13:34:14.481Z"
   },
   {
    "duration": 44,
    "start_time": "2022-12-09T13:34:14.540Z"
   },
   {
    "duration": 66,
    "start_time": "2022-12-09T13:34:14.585Z"
   },
   {
    "duration": 9,
    "start_time": "2022-12-09T13:39:28.781Z"
   },
   {
    "duration": 44,
    "start_time": "2022-12-09T15:42:16.483Z"
   },
   {
    "duration": 790,
    "start_time": "2022-12-09T15:42:19.535Z"
   },
   {
    "duration": 398,
    "start_time": "2022-12-09T15:42:20.327Z"
   },
   {
    "duration": 3,
    "start_time": "2022-12-09T15:42:20.727Z"
   },
   {
    "duration": 33,
    "start_time": "2022-12-09T15:42:20.732Z"
   },
   {
    "duration": 17,
    "start_time": "2022-12-09T15:42:20.767Z"
   },
   {
    "duration": 43,
    "start_time": "2022-12-09T15:42:20.786Z"
   },
   {
    "duration": 113,
    "start_time": "2022-12-09T15:42:20.830Z"
   },
   {
    "duration": 4,
    "start_time": "2022-12-09T15:42:20.945Z"
   },
   {
    "duration": 32,
    "start_time": "2022-12-09T15:42:20.951Z"
   },
   {
    "duration": 18,
    "start_time": "2022-12-09T15:42:20.986Z"
   },
   {
    "duration": 735,
    "start_time": "2022-12-09T15:42:21.006Z"
   },
   {
    "duration": 279,
    "start_time": "2022-12-09T15:42:21.743Z"
   },
   {
    "duration": 20,
    "start_time": "2022-12-09T15:42:22.024Z"
   },
   {
    "duration": 7,
    "start_time": "2022-12-09T15:42:22.046Z"
   },
   {
    "duration": 60,
    "start_time": "2022-12-09T15:42:22.054Z"
   },
   {
    "duration": 29,
    "start_time": "2022-12-09T15:42:22.115Z"
   },
   {
    "duration": 81,
    "start_time": "2022-12-09T15:42:22.146Z"
   },
   {
    "duration": 127,
    "start_time": "2022-12-09T15:42:22.229Z"
   },
   {
    "duration": 4,
    "start_time": "2022-12-09T15:42:22.357Z"
   },
   {
    "duration": 55,
    "start_time": "2022-12-09T15:42:22.363Z"
   },
   {
    "duration": 72,
    "start_time": "2022-12-09T15:42:22.420Z"
   },
   {
    "duration": 43,
    "start_time": "2022-12-09T15:42:22.493Z"
   },
   {
    "duration": 38,
    "start_time": "2022-12-09T15:42:22.537Z"
   },
   {
    "duration": 68,
    "start_time": "2022-12-09T15:42:22.576Z"
   },
   {
    "duration": 53,
    "start_time": "2022-12-09T15:42:22.646Z"
   },
   {
    "duration": 42,
    "start_time": "2022-12-09T15:42:22.701Z"
   },
   {
    "duration": 51,
    "start_time": "2022-12-09T15:42:22.745Z"
   },
   {
    "duration": 45,
    "start_time": "2022-12-09T15:42:22.800Z"
   },
   {
    "duration": 70,
    "start_time": "2022-12-09T15:42:22.847Z"
   },
   {
    "duration": 44,
    "start_time": "2022-12-09T15:42:22.919Z"
   },
   {
    "duration": 59,
    "start_time": "2022-12-09T15:42:22.965Z"
   },
   {
    "duration": 46,
    "start_time": "2022-12-09T15:42:23.026Z"
   },
   {
    "duration": 67,
    "start_time": "2022-12-09T15:42:23.074Z"
   },
   {
    "duration": 54,
    "start_time": "2022-12-09T15:42:23.142Z"
   },
   {
    "duration": 41,
    "start_time": "2022-12-09T15:42:23.197Z"
   },
   {
    "duration": 65,
    "start_time": "2022-12-09T15:42:23.240Z"
   },
   {
    "duration": 7,
    "start_time": "2022-12-09T15:43:57.310Z"
   },
   {
    "duration": 12,
    "start_time": "2022-12-09T15:44:04.637Z"
   },
   {
    "duration": 6,
    "start_time": "2022-12-09T15:44:07.189Z"
   },
   {
    "duration": 7,
    "start_time": "2022-12-09T15:44:10.897Z"
   },
   {
    "duration": 279,
    "start_time": "2022-12-09T15:45:30.510Z"
   },
   {
    "duration": 288,
    "start_time": "2022-12-09T15:45:47.325Z"
   },
   {
    "duration": 337,
    "start_time": "2022-12-09T15:45:57.453Z"
   },
   {
    "duration": 266,
    "start_time": "2022-12-09T15:46:03.248Z"
   },
   {
    "duration": 2,
    "start_time": "2022-12-09T15:46:17.485Z"
   },
   {
    "duration": 286,
    "start_time": "2022-12-09T15:46:17.489Z"
   },
   {
    "duration": 2,
    "start_time": "2022-12-09T15:46:17.777Z"
   },
   {
    "duration": 30,
    "start_time": "2022-12-09T15:46:17.781Z"
   },
   {
    "duration": 28,
    "start_time": "2022-12-09T15:46:17.813Z"
   },
   {
    "duration": 17,
    "start_time": "2022-12-09T15:46:17.843Z"
   },
   {
    "duration": 104,
    "start_time": "2022-12-09T15:46:17.861Z"
   },
   {
    "duration": 4,
    "start_time": "2022-12-09T15:46:17.966Z"
   },
   {
    "duration": 13,
    "start_time": "2022-12-09T15:46:17.971Z"
   },
   {
    "duration": 18,
    "start_time": "2022-12-09T15:46:17.986Z"
   },
   {
    "duration": 277,
    "start_time": "2022-12-09T15:46:18.006Z"
   },
   {
    "duration": 266,
    "start_time": "2022-12-09T15:46:18.285Z"
   },
   {
    "duration": 17,
    "start_time": "2022-12-09T15:46:18.553Z"
   },
   {
    "duration": 6,
    "start_time": "2022-12-09T15:46:18.572Z"
   },
   {
    "duration": 35,
    "start_time": "2022-12-09T15:46:18.597Z"
   },
   {
    "duration": 23,
    "start_time": "2022-12-09T15:46:18.633Z"
   },
   {
    "duration": 75,
    "start_time": "2022-12-09T15:46:18.658Z"
   },
   {
    "duration": 70,
    "start_time": "2022-12-09T15:46:18.735Z"
   },
   {
    "duration": 3,
    "start_time": "2022-12-09T15:46:18.807Z"
   },
   {
    "duration": 6,
    "start_time": "2022-12-09T15:46:18.812Z"
   },
   {
    "duration": 50,
    "start_time": "2022-12-09T15:46:18.820Z"
   },
   {
    "duration": 64,
    "start_time": "2022-12-09T15:46:18.872Z"
   },
   {
    "duration": 37,
    "start_time": "2022-12-09T15:46:18.938Z"
   },
   {
    "duration": 57,
    "start_time": "2022-12-09T15:46:18.977Z"
   },
   {
    "duration": 62,
    "start_time": "2022-12-09T15:46:19.036Z"
   },
   {
    "duration": 48,
    "start_time": "2022-12-09T15:46:19.100Z"
   },
   {
    "duration": 52,
    "start_time": "2022-12-09T15:46:19.150Z"
   },
   {
    "duration": 49,
    "start_time": "2022-12-09T15:46:19.204Z"
   },
   {
    "duration": 64,
    "start_time": "2022-12-09T15:46:19.256Z"
   },
   {
    "duration": 41,
    "start_time": "2022-12-09T15:46:19.321Z"
   },
   {
    "duration": 55,
    "start_time": "2022-12-09T15:46:19.364Z"
   },
   {
    "duration": 42,
    "start_time": "2022-12-09T15:46:19.421Z"
   },
   {
    "duration": 66,
    "start_time": "2022-12-09T15:46:19.465Z"
   },
   {
    "duration": 46,
    "start_time": "2022-12-09T15:46:19.533Z"
   },
   {
    "duration": 55,
    "start_time": "2022-12-09T15:46:19.580Z"
   },
   {
    "duration": 61,
    "start_time": "2022-12-09T15:46:19.637Z"
   },
   {
    "duration": 318,
    "start_time": "2022-12-09T15:47:59.333Z"
   },
   {
    "duration": 404,
    "start_time": "2022-12-09T15:48:06.176Z"
   },
   {
    "duration": 114,
    "start_time": "2022-12-09T15:48:36.375Z"
   },
   {
    "duration": 109,
    "start_time": "2022-12-09T15:48:42.971Z"
   },
   {
    "duration": 279,
    "start_time": "2022-12-09T15:48:50.385Z"
   },
   {
    "duration": 8,
    "start_time": "2022-12-09T15:49:04.972Z"
   },
   {
    "duration": 12,
    "start_time": "2022-12-09T15:49:29.832Z"
   },
   {
    "duration": 9,
    "start_time": "2022-12-09T15:49:49.791Z"
   },
   {
    "duration": 3,
    "start_time": "2022-12-09T15:50:00.604Z"
   },
   {
    "duration": 8,
    "start_time": "2022-12-09T15:50:08.405Z"
   },
   {
    "duration": 305,
    "start_time": "2022-12-09T15:50:16.601Z"
   },
   {
    "duration": 272,
    "start_time": "2022-12-09T15:50:50.382Z"
   },
   {
    "duration": 327,
    "start_time": "2022-12-09T15:52:11.982Z"
   },
   {
    "duration": 305,
    "start_time": "2022-12-09T15:52:23.641Z"
   },
   {
    "duration": 3,
    "start_time": "2022-12-09T15:52:30.111Z"
   },
   {
    "duration": 423,
    "start_time": "2022-12-09T15:52:30.116Z"
   },
   {
    "duration": 3,
    "start_time": "2022-12-09T15:52:30.541Z"
   },
   {
    "duration": 41,
    "start_time": "2022-12-09T15:52:30.545Z"
   },
   {
    "duration": 54,
    "start_time": "2022-12-09T15:52:30.588Z"
   },
   {
    "duration": 31,
    "start_time": "2022-12-09T15:52:30.643Z"
   },
   {
    "duration": 118,
    "start_time": "2022-12-09T15:52:30.676Z"
   },
   {
    "duration": 13,
    "start_time": "2022-12-09T15:52:30.796Z"
   },
   {
    "duration": 22,
    "start_time": "2022-12-09T15:52:30.810Z"
   },
   {
    "duration": 24,
    "start_time": "2022-12-09T15:52:30.833Z"
   },
   {
    "duration": 460,
    "start_time": "2022-12-09T15:52:30.858Z"
   },
   {
    "duration": 320,
    "start_time": "2022-12-09T15:52:31.319Z"
   },
   {
    "duration": 17,
    "start_time": "2022-12-09T15:52:31.641Z"
   },
   {
    "duration": 6,
    "start_time": "2022-12-09T15:52:31.662Z"
   },
   {
    "duration": 59,
    "start_time": "2022-12-09T15:52:31.670Z"
   },
   {
    "duration": 24,
    "start_time": "2022-12-09T15:52:31.730Z"
   },
   {
    "duration": 77,
    "start_time": "2022-12-09T15:52:31.756Z"
   },
   {
    "duration": 79,
    "start_time": "2022-12-09T15:52:31.835Z"
   },
   {
    "duration": 3,
    "start_time": "2022-12-09T15:52:31.916Z"
   },
   {
    "duration": 14,
    "start_time": "2022-12-09T15:52:31.921Z"
   },
   {
    "duration": 56,
    "start_time": "2022-12-09T15:52:31.937Z"
   },
   {
    "duration": 48,
    "start_time": "2022-12-09T15:52:31.995Z"
   },
   {
    "duration": 35,
    "start_time": "2022-12-09T15:52:32.045Z"
   },
   {
    "duration": 66,
    "start_time": "2022-12-09T15:52:32.082Z"
   },
   {
    "duration": 68,
    "start_time": "2022-12-09T15:52:32.149Z"
   },
   {
    "duration": 42,
    "start_time": "2022-12-09T15:52:32.219Z"
   },
   {
    "duration": 54,
    "start_time": "2022-12-09T15:52:32.262Z"
   },
   {
    "duration": 53,
    "start_time": "2022-12-09T15:52:32.317Z"
   },
   {
    "duration": 63,
    "start_time": "2022-12-09T15:52:32.372Z"
   },
   {
    "duration": 41,
    "start_time": "2022-12-09T15:52:32.437Z"
   },
   {
    "duration": 59,
    "start_time": "2022-12-09T15:52:32.480Z"
   },
   {
    "duration": 46,
    "start_time": "2022-12-09T15:52:32.540Z"
   },
   {
    "duration": 57,
    "start_time": "2022-12-09T15:52:32.604Z"
   },
   {
    "duration": 65,
    "start_time": "2022-12-09T15:52:32.663Z"
   },
   {
    "duration": 41,
    "start_time": "2022-12-09T15:52:32.730Z"
   },
   {
    "duration": 66,
    "start_time": "2022-12-09T15:52:32.773Z"
   },
   {
    "duration": 101,
    "start_time": "2022-12-09T16:01:09.589Z"
   },
   {
    "duration": 37,
    "start_time": "2022-12-09T16:01:44.627Z"
   },
   {
    "duration": 9,
    "start_time": "2022-12-09T16:01:57.873Z"
   },
   {
    "duration": 20,
    "start_time": "2022-12-09T16:02:07.912Z"
   },
   {
    "duration": 2,
    "start_time": "2022-12-09T16:02:20.161Z"
   },
   {
    "duration": 419,
    "start_time": "2022-12-09T16:02:20.165Z"
   },
   {
    "duration": 3,
    "start_time": "2022-12-09T16:02:20.585Z"
   },
   {
    "duration": 13,
    "start_time": "2022-12-09T16:02:20.596Z"
   },
   {
    "duration": 18,
    "start_time": "2022-12-09T16:02:20.610Z"
   },
   {
    "duration": 13,
    "start_time": "2022-12-09T16:02:20.630Z"
   },
   {
    "duration": 105,
    "start_time": "2022-12-09T16:02:20.645Z"
   },
   {
    "duration": 4,
    "start_time": "2022-12-09T16:02:20.752Z"
   },
   {
    "duration": 9,
    "start_time": "2022-12-09T16:02:20.758Z"
   },
   {
    "duration": 29,
    "start_time": "2022-12-09T16:02:20.768Z"
   },
   {
    "duration": 292,
    "start_time": "2022-12-09T16:02:20.799Z"
   },
   {
    "duration": 288,
    "start_time": "2022-12-09T16:02:21.095Z"
   },
   {
    "duration": 27,
    "start_time": "2022-12-09T16:02:21.384Z"
   },
   {
    "duration": 4,
    "start_time": "2022-12-09T16:02:21.413Z"
   },
   {
    "duration": 31,
    "start_time": "2022-12-09T16:02:21.419Z"
   },
   {
    "duration": 44,
    "start_time": "2022-12-09T16:02:21.452Z"
   },
   {
    "duration": 54,
    "start_time": "2022-12-09T16:02:21.498Z"
   },
   {
    "duration": 77,
    "start_time": "2022-12-09T16:02:21.554Z"
   },
   {
    "duration": 3,
    "start_time": "2022-12-09T16:02:21.633Z"
   },
   {
    "duration": 13,
    "start_time": "2022-12-09T16:02:21.637Z"
   },
   {
    "duration": 59,
    "start_time": "2022-12-09T16:02:21.651Z"
   },
   {
    "duration": 41,
    "start_time": "2022-12-09T16:02:21.711Z"
   },
   {
    "duration": 48,
    "start_time": "2022-12-09T16:02:21.753Z"
   },
   {
    "duration": 41,
    "start_time": "2022-12-09T16:02:21.802Z"
   },
   {
    "duration": 62,
    "start_time": "2022-12-09T16:02:21.845Z"
   },
   {
    "duration": 46,
    "start_time": "2022-12-09T16:02:21.909Z"
   },
   {
    "duration": 52,
    "start_time": "2022-12-09T16:02:21.957Z"
   },
   {
    "duration": 42,
    "start_time": "2022-12-09T16:02:22.010Z"
   },
   {
    "duration": 63,
    "start_time": "2022-12-09T16:02:22.055Z"
   },
   {
    "duration": 43,
    "start_time": "2022-12-09T16:02:22.119Z"
   },
   {
    "duration": 54,
    "start_time": "2022-12-09T16:02:22.164Z"
   },
   {
    "duration": 43,
    "start_time": "2022-12-09T16:02:22.221Z"
   },
   {
    "duration": 63,
    "start_time": "2022-12-09T16:02:22.266Z"
   },
   {
    "duration": 44,
    "start_time": "2022-12-09T16:02:22.330Z"
   },
   {
    "duration": 57,
    "start_time": "2022-12-09T16:02:22.375Z"
   },
   {
    "duration": 46,
    "start_time": "2022-12-09T16:02:22.433Z"
   },
   {
    "duration": 24,
    "start_time": "2022-12-09T16:03:39.375Z"
   },
   {
    "duration": 22,
    "start_time": "2022-12-09T16:03:53.709Z"
   },
   {
    "duration": 21,
    "start_time": "2022-12-09T16:04:08.754Z"
   },
   {
    "duration": 21,
    "start_time": "2022-12-09T16:04:15.079Z"
   },
   {
    "duration": 3,
    "start_time": "2022-12-09T16:04:52.604Z"
   },
   {
    "duration": 298,
    "start_time": "2022-12-09T16:04:52.609Z"
   },
   {
    "duration": 2,
    "start_time": "2022-12-09T16:04:52.909Z"
   },
   {
    "duration": 16,
    "start_time": "2022-12-09T16:04:52.913Z"
   },
   {
    "duration": 17,
    "start_time": "2022-12-09T16:04:52.931Z"
   },
   {
    "duration": 13,
    "start_time": "2022-12-09T16:04:52.950Z"
   },
   {
    "duration": 123,
    "start_time": "2022-12-09T16:04:52.965Z"
   },
   {
    "duration": 10,
    "start_time": "2022-12-09T16:04:53.089Z"
   },
   {
    "duration": 16,
    "start_time": "2022-12-09T16:04:53.100Z"
   },
   {
    "duration": 39,
    "start_time": "2022-12-09T16:04:53.118Z"
   },
   {
    "duration": 279,
    "start_time": "2022-12-09T16:04:53.160Z"
   },
   {
    "duration": 362,
    "start_time": "2022-12-09T16:04:53.441Z"
   },
   {
    "duration": 3,
    "start_time": "2022-12-09T16:05:00.300Z"
   },
   {
    "duration": 407,
    "start_time": "2022-12-09T16:05:00.304Z"
   },
   {
    "duration": 3,
    "start_time": "2022-12-09T16:05:00.713Z"
   },
   {
    "duration": 38,
    "start_time": "2022-12-09T16:05:00.717Z"
   },
   {
    "duration": 32,
    "start_time": "2022-12-09T16:05:00.757Z"
   },
   {
    "duration": 36,
    "start_time": "2022-12-09T16:05:00.791Z"
   },
   {
    "duration": 105,
    "start_time": "2022-12-09T16:05:00.828Z"
   },
   {
    "duration": 4,
    "start_time": "2022-12-09T16:05:00.935Z"
   },
   {
    "duration": 29,
    "start_time": "2022-12-09T16:05:00.940Z"
   },
   {
    "duration": 32,
    "start_time": "2022-12-09T16:05:00.971Z"
   },
   {
    "duration": 326,
    "start_time": "2022-12-09T16:05:01.005Z"
   },
   {
    "duration": 308,
    "start_time": "2022-12-09T16:05:01.333Z"
   },
   {
    "duration": 22,
    "start_time": "2022-12-09T16:05:01.642Z"
   },
   {
    "duration": 21,
    "start_time": "2022-12-09T16:06:20.173Z"
   },
   {
    "duration": 3,
    "start_time": "2022-12-09T16:06:27.005Z"
   },
   {
    "duration": 474,
    "start_time": "2022-12-09T16:06:27.010Z"
   },
   {
    "duration": 3,
    "start_time": "2022-12-09T16:06:27.485Z"
   },
   {
    "duration": 17,
    "start_time": "2022-12-09T16:06:27.489Z"
   },
   {
    "duration": 17,
    "start_time": "2022-12-09T16:06:27.508Z"
   },
   {
    "duration": 11,
    "start_time": "2022-12-09T16:06:27.527Z"
   },
   {
    "duration": 120,
    "start_time": "2022-12-09T16:06:27.540Z"
   },
   {
    "duration": 4,
    "start_time": "2022-12-09T16:06:27.662Z"
   },
   {
    "duration": 7,
    "start_time": "2022-12-09T16:06:27.667Z"
   },
   {
    "duration": 27,
    "start_time": "2022-12-09T16:06:27.676Z"
   },
   {
    "duration": 291,
    "start_time": "2022-12-09T16:06:27.705Z"
   },
   {
    "duration": 294,
    "start_time": "2022-12-09T16:06:27.997Z"
   },
   {
    "duration": 20,
    "start_time": "2022-12-09T16:06:28.296Z"
   },
   {
    "duration": 3,
    "start_time": "2022-12-09T16:09:32.424Z"
   },
   {
    "duration": 27,
    "start_time": "2022-12-09T16:10:30.871Z"
   },
   {
    "duration": 20,
    "start_time": "2022-12-09T16:10:42.354Z"
   },
   {
    "duration": 34,
    "start_time": "2022-12-09T16:11:00.262Z"
   },
   {
    "duration": 44,
    "start_time": "2022-12-09T16:11:15.789Z"
   },
   {
    "duration": 46,
    "start_time": "2022-12-09T16:13:48.036Z"
   },
   {
    "duration": 26,
    "start_time": "2022-12-09T16:16:22.362Z"
   },
   {
    "duration": 25,
    "start_time": "2022-12-09T16:17:21.826Z"
   },
   {
    "duration": 44,
    "start_time": "2022-12-09T16:23:34.991Z"
   },
   {
    "duration": 39,
    "start_time": "2022-12-09T16:23:55.428Z"
   },
   {
    "duration": 50,
    "start_time": "2022-12-09T16:24:38.657Z"
   },
   {
    "duration": 37,
    "start_time": "2022-12-09T16:24:42.649Z"
   },
   {
    "duration": 36,
    "start_time": "2022-12-09T16:24:52.998Z"
   },
   {
    "duration": 35,
    "start_time": "2022-12-09T16:25:06.964Z"
   },
   {
    "duration": 38,
    "start_time": "2022-12-09T16:25:36.891Z"
   },
   {
    "duration": 42,
    "start_time": "2022-12-09T16:26:32.547Z"
   },
   {
    "duration": 35,
    "start_time": "2022-12-09T16:26:40.889Z"
   },
   {
    "duration": 34,
    "start_time": "2022-12-09T16:27:13.985Z"
   },
   {
    "duration": 46,
    "start_time": "2022-12-09T17:12:28.118Z"
   },
   {
    "duration": 50,
    "start_time": "2022-12-09T17:14:35.087Z"
   },
   {
    "duration": 39,
    "start_time": "2022-12-09T17:15:23.536Z"
   },
   {
    "duration": 39,
    "start_time": "2022-12-09T17:16:09.054Z"
   },
   {
    "duration": 37,
    "start_time": "2022-12-09T17:16:48.022Z"
   },
   {
    "duration": 42,
    "start_time": "2022-12-09T17:17:28.575Z"
   },
   {
    "duration": 40,
    "start_time": "2022-12-09T17:18:26.721Z"
   },
   {
    "duration": 60,
    "start_time": "2022-12-09T17:19:20.298Z"
   },
   {
    "duration": 39,
    "start_time": "2022-12-09T17:20:10.865Z"
   },
   {
    "duration": 49,
    "start_time": "2022-12-09T17:21:09.694Z"
   },
   {
    "duration": 51,
    "start_time": "2022-12-09T17:23:00.666Z"
   },
   {
    "duration": 45,
    "start_time": "2022-12-09T17:23:05.071Z"
   },
   {
    "duration": 40,
    "start_time": "2022-12-09T17:23:13.270Z"
   },
   {
    "duration": 37,
    "start_time": "2022-12-09T17:23:18.120Z"
   },
   {
    "duration": 43,
    "start_time": "2022-12-09T17:24:37.919Z"
   },
   {
    "duration": 54,
    "start_time": "2022-12-09T17:27:37.375Z"
   },
   {
    "duration": 43,
    "start_time": "2022-12-09T17:28:09.806Z"
   },
   {
    "duration": 40,
    "start_time": "2022-12-09T17:28:21.746Z"
   },
   {
    "duration": 40,
    "start_time": "2022-12-09T17:28:33.919Z"
   },
   {
    "duration": 1262,
    "start_time": "2022-12-09T20:07:08.228Z"
   },
   {
    "duration": 578,
    "start_time": "2022-12-09T20:07:09.492Z"
   },
   {
    "duration": 3,
    "start_time": "2022-12-09T20:07:10.072Z"
   },
   {
    "duration": 18,
    "start_time": "2022-12-09T20:07:10.078Z"
   },
   {
    "duration": 28,
    "start_time": "2022-12-09T20:07:10.098Z"
   },
   {
    "duration": 39,
    "start_time": "2022-12-09T20:07:10.128Z"
   },
   {
    "duration": 119,
    "start_time": "2022-12-09T20:07:10.169Z"
   },
   {
    "duration": 4,
    "start_time": "2022-12-09T20:07:10.290Z"
   },
   {
    "duration": 13,
    "start_time": "2022-12-09T20:07:10.295Z"
   },
   {
    "duration": 19,
    "start_time": "2022-12-09T20:07:10.314Z"
   },
   {
    "duration": 429,
    "start_time": "2022-12-09T20:07:10.335Z"
   },
   {
    "duration": 307,
    "start_time": "2022-12-09T20:07:10.766Z"
   },
   {
    "duration": 20,
    "start_time": "2022-12-09T20:07:11.075Z"
   },
   {
    "duration": 5,
    "start_time": "2022-12-09T20:07:11.097Z"
   },
   {
    "duration": 40,
    "start_time": "2022-12-09T20:07:11.127Z"
   },
   {
    "duration": 22,
    "start_time": "2022-12-09T20:07:11.169Z"
   },
   {
    "duration": 66,
    "start_time": "2022-12-09T20:07:11.193Z"
   },
   {
    "duration": 185,
    "start_time": "2022-12-09T20:07:11.261Z"
   },
   {
    "duration": 23,
    "start_time": "2022-12-09T20:07:11.448Z"
   },
   {
    "duration": 44,
    "start_time": "2022-12-09T20:07:11.472Z"
   },
   {
    "duration": 5,
    "start_time": "2022-12-09T20:07:11.518Z"
   },
   {
    "duration": 63,
    "start_time": "2022-12-09T20:07:11.526Z"
   },
   {
    "duration": 43,
    "start_time": "2022-12-09T20:07:11.592Z"
   },
   {
    "duration": 33,
    "start_time": "2022-12-09T20:07:11.638Z"
   },
   {
    "duration": 61,
    "start_time": "2022-12-09T20:07:11.673Z"
   },
   {
    "duration": 48,
    "start_time": "2022-12-09T20:07:11.737Z"
   },
   {
    "duration": 70,
    "start_time": "2022-12-09T20:07:11.787Z"
   },
   {
    "duration": 33,
    "start_time": "2022-12-09T20:07:11.860Z"
   },
   {
    "duration": 50,
    "start_time": "2022-12-09T20:07:11.895Z"
   },
   {
    "duration": 41,
    "start_time": "2022-12-09T20:07:11.947Z"
   },
   {
    "duration": 88,
    "start_time": "2022-12-09T20:07:11.990Z"
   },
   {
    "duration": 55,
    "start_time": "2022-12-09T20:07:12.081Z"
   },
   {
    "duration": 56,
    "start_time": "2022-12-09T20:07:12.140Z"
   },
   {
    "duration": 61,
    "start_time": "2022-12-09T20:07:12.198Z"
   },
   {
    "duration": 64,
    "start_time": "2022-12-09T20:07:12.261Z"
   },
   {
    "duration": 45,
    "start_time": "2022-12-09T20:07:12.328Z"
   },
   {
    "duration": 68,
    "start_time": "2022-12-09T20:07:12.375Z"
   }
  ],
  "kernelspec": {
   "display_name": "Python 3 (ipykernel)",
   "language": "python",
   "name": "python3"
  },
  "language_info": {
   "codemirror_mode": {
    "name": "ipython",
    "version": 3
   },
   "file_extension": ".py",
   "mimetype": "text/x-python",
   "name": "python",
   "nbconvert_exporter": "python",
   "pygments_lexer": "ipython3",
   "version": "3.9.5"
  },
  "toc": {
   "base_numbering": 1,
   "nav_menu": {},
   "number_sections": true,
   "sideBar": true,
   "skip_h1_title": true,
   "title_cell": "Table of Contents",
   "title_sidebar": "Contents",
   "toc_cell": false,
   "toc_position": {},
   "toc_section_display": true,
   "toc_window_display": true
  }
 },
 "nbformat": 4,
 "nbformat_minor": 2
}
