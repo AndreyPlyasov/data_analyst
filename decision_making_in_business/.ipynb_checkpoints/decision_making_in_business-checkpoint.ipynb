{
 "cells": [
  {
   "cell_type": "markdown",
   "metadata": {},
   "source": [
    "# Принятие решений в бизнесе"
   ]
  },
  {
   "cell_type": "markdown",
   "metadata": {},
   "source": [
    "## Введение"
   ]
  },
  {
   "cell_type": "markdown",
   "metadata": {},
   "source": [
    "Контекст:  \n",
    "Мы — аналитики крупного интернет-магазина. Вместе с отделом маркетинга мы подготовили список гипотез для увеличения выручки.\n",
    "Приоритизируем гипотезы, запустим A/B-тест и проанализируем результаты."
   ]
  },
  {
   "cell_type": "markdown",
   "metadata": {},
   "source": [
    "Работа будет состаять из двух частей:"
   ]
  },
  {
   "cell_type": "markdown",
   "metadata": {},
   "source": [
    "Часть 1. Приоритизация гипотез.\n",
    "\n",
    "В файле 'hypothesis.csv' 9 гипотез по увеличению выручки интернет-магазина с указанными параметрами Reach, Impact, Confidence, Effort.  \n",
    "  \n",
    "Задача:\n",
    "- Применить фреймворк ICE для приоритизации гипотез. Отсортировать их по убыванию приоритета.\n",
    "- Применить фреймворк RICE для приоритизации гипотез. Отсортировать их по убыванию приоритета.\n",
    "- Указать, как изменилась приоритизация гипотез при применении RICE вместо ICE. Объяснить, почему так произошло."
   ]
  },
  {
   "cell_type": "markdown",
   "metadata": {},
   "source": [
    "Часть 2. Анализ A/B-теста.  \n",
    "  \n",
    "Мы провели A/B-тест и получили результаты, которые описаны в файлах 'orders.csv' и 'visitors.csv'.  \n",
    "  \n",
    "Задача:\n",
    "Проанализировать A/B-тест:\n",
    "- Построить графики\n",
    "- Выявить аномалии\n",
    "- Посчитать статистическую значимость различий в группах\n",
    "- Принять решение по результатам теста"
   ]
  },
  {
   "cell_type": "markdown",
   "metadata": {},
   "source": [
    "## Предобработка данных"
   ]
  },
  {
   "cell_type": "markdown",
   "metadata": {},
   "source": [
    "Загрузим необходимые для работы библиотеки."
   ]
  },
  {
   "cell_type": "code",
   "execution_count": 1,
   "metadata": {},
   "outputs": [],
   "source": [
    "import pandas as pd\n",
    "from matplotlib import pyplot as plt\n",
    "import datetime as dt\n",
    "import numpy as np\n",
    "import scipy.stats as stats"
   ]
  },
  {
   "cell_type": "markdown",
   "metadata": {},
   "source": [
    "Считаем данные, изучим их, проверим на дубликаты и пропуски, приведём даты в формат для работы с датами."
   ]
  },
  {
   "cell_type": "code",
   "execution_count": 2,
   "metadata": {
    "scrolled": true
   },
   "outputs": [
    {
     "data": {
      "text/html": [
       "<div>\n",
       "<style scoped>\n",
       "    .dataframe tbody tr th:only-of-type {\n",
       "        vertical-align: middle;\n",
       "    }\n",
       "\n",
       "    .dataframe tbody tr th {\n",
       "        vertical-align: top;\n",
       "    }\n",
       "\n",
       "    .dataframe thead th {\n",
       "        text-align: right;\n",
       "    }\n",
       "</style>\n",
       "<table border=\"1\" class=\"dataframe\">\n",
       "  <thead>\n",
       "    <tr style=\"text-align: right;\">\n",
       "      <th></th>\n",
       "      <th>Hypothesis</th>\n",
       "      <th>Reach</th>\n",
       "      <th>Impact</th>\n",
       "      <th>Confidence</th>\n",
       "      <th>Efforts</th>\n",
       "    </tr>\n",
       "  </thead>\n",
       "  <tbody>\n",
       "    <tr>\n",
       "      <th>0</th>\n",
       "      <td>Добавить два новых канала привлечения трафика, что позволит привлекать на 30% больше пользователей</td>\n",
       "      <td>3</td>\n",
       "      <td>10</td>\n",
       "      <td>8</td>\n",
       "      <td>6</td>\n",
       "    </tr>\n",
       "    <tr>\n",
       "      <th>1</th>\n",
       "      <td>Запустить собственную службу доставки, что сократит срок доставки заказов</td>\n",
       "      <td>2</td>\n",
       "      <td>5</td>\n",
       "      <td>4</td>\n",
       "      <td>10</td>\n",
       "    </tr>\n",
       "    <tr>\n",
       "      <th>2</th>\n",
       "      <td>Добавить блоки рекомендаций товаров на сайт интернет магазина, чтобы повысить конверсию и средний чек заказа</td>\n",
       "      <td>8</td>\n",
       "      <td>3</td>\n",
       "      <td>7</td>\n",
       "      <td>3</td>\n",
       "    </tr>\n",
       "    <tr>\n",
       "      <th>3</th>\n",
       "      <td>Изменить структура категорий, что увеличит конверсию, т.к. пользователи быстрее найдут нужный товар</td>\n",
       "      <td>8</td>\n",
       "      <td>3</td>\n",
       "      <td>3</td>\n",
       "      <td>8</td>\n",
       "    </tr>\n",
       "    <tr>\n",
       "      <th>4</th>\n",
       "      <td>Изменить цвет фона главной страницы, чтобы увеличить вовлеченность пользователей</td>\n",
       "      <td>3</td>\n",
       "      <td>1</td>\n",
       "      <td>1</td>\n",
       "      <td>1</td>\n",
       "    </tr>\n",
       "    <tr>\n",
       "      <th>5</th>\n",
       "      <td>Добавить страницу отзывов клиентов о магазине, что позволит увеличить количество заказов</td>\n",
       "      <td>3</td>\n",
       "      <td>2</td>\n",
       "      <td>2</td>\n",
       "      <td>3</td>\n",
       "    </tr>\n",
       "    <tr>\n",
       "      <th>6</th>\n",
       "      <td>Показать на главной странице баннеры с актуальными акциями и распродажами, чтобы увеличить конверсию</td>\n",
       "      <td>5</td>\n",
       "      <td>3</td>\n",
       "      <td>8</td>\n",
       "      <td>3</td>\n",
       "    </tr>\n",
       "    <tr>\n",
       "      <th>7</th>\n",
       "      <td>Добавить форму подписки на все основные страницы, чтобы собрать базу клиентов для email-рассылок</td>\n",
       "      <td>10</td>\n",
       "      <td>7</td>\n",
       "      <td>8</td>\n",
       "      <td>5</td>\n",
       "    </tr>\n",
       "    <tr>\n",
       "      <th>8</th>\n",
       "      <td>Запустить акцию, дающую скидку на товар в день рождения</td>\n",
       "      <td>1</td>\n",
       "      <td>9</td>\n",
       "      <td>9</td>\n",
       "      <td>5</td>\n",
       "    </tr>\n",
       "  </tbody>\n",
       "</table>\n",
       "</div>"
      ],
      "text/plain": [
       "                                                                                                     Hypothesis  \\\n",
       "0            Добавить два новых канала привлечения трафика, что позволит привлекать на 30% больше пользователей   \n",
       "1                                     Запустить собственную службу доставки, что сократит срок доставки заказов   \n",
       "2  Добавить блоки рекомендаций товаров на сайт интернет магазина, чтобы повысить конверсию и средний чек заказа   \n",
       "3           Изменить структура категорий, что увеличит конверсию, т.к. пользователи быстрее найдут нужный товар   \n",
       "4                              Изменить цвет фона главной страницы, чтобы увеличить вовлеченность пользователей   \n",
       "5                      Добавить страницу отзывов клиентов о магазине, что позволит увеличить количество заказов   \n",
       "6          Показать на главной странице баннеры с актуальными акциями и распродажами, чтобы увеличить конверсию   \n",
       "7              Добавить форму подписки на все основные страницы, чтобы собрать базу клиентов для email-рассылок   \n",
       "8                                                       Запустить акцию, дающую скидку на товар в день рождения   \n",
       "\n",
       "   Reach  Impact  Confidence  Efforts  \n",
       "0      3      10           8        6  \n",
       "1      2       5           4       10  \n",
       "2      8       3           7        3  \n",
       "3      8       3           3        8  \n",
       "4      3       1           1        1  \n",
       "5      3       2           2        3  \n",
       "6      5       3           8        3  \n",
       "7     10       7           8        5  \n",
       "8      1       9           9        5  "
      ]
     },
     "metadata": {},
     "output_type": "display_data"
    },
    {
     "name": "stdout",
     "output_type": "stream",
     "text": [
      "<class 'pandas.core.frame.DataFrame'>\n",
      "RangeIndex: 9 entries, 0 to 8\n",
      "Data columns (total 5 columns):\n",
      " #   Column      Non-Null Count  Dtype \n",
      "---  ------      --------------  ----- \n",
      " 0   Hypothesis  9 non-null      object\n",
      " 1   Reach       9 non-null      int64 \n",
      " 2   Impact      9 non-null      int64 \n",
      " 3   Confidence  9 non-null      int64 \n",
      " 4   Efforts     9 non-null      int64 \n",
      "dtypes: int64(4), object(1)\n",
      "memory usage: 488.0+ bytes\n"
     ]
    }
   ],
   "source": [
    "hypothesis = pd.read_csv('https://code.s3.yandex.net/datasets/hypothesis.csv')\n",
    "pd.set_option('display.max_colwidth', None) #надстройка чтобы вывести названия гипотез целиком\n",
    "display(hypothesis)\n",
    "hypothesis.info()"
   ]
  },
  {
   "cell_type": "markdown",
   "metadata": {},
   "source": [
    "Описание таблицы hypothesis:  \n",
    "Hypothesis — краткое описание гипотезы;  \n",
    "Reach — охват пользователей по 10-балльной шкале;  \n",
    "Impact — влияние на пользователей по 10-балльной шкале;  \n",
    "Confidence — уверенность в гипотезе по 10-балльной шкале;  \n",
    "Efforts — затраты ресурсов на проверку гипотезы по 10-балльной шкале. Чем больше значение Efforts, тем дороже проверка гипотезы."
   ]
  },
  {
   "cell_type": "code",
   "execution_count": 3,
   "metadata": {
    "scrolled": true
   },
   "outputs": [
    {
     "data": {
      "text/html": [
       "<div>\n",
       "<style scoped>\n",
       "    .dataframe tbody tr th:only-of-type {\n",
       "        vertical-align: middle;\n",
       "    }\n",
       "\n",
       "    .dataframe tbody tr th {\n",
       "        vertical-align: top;\n",
       "    }\n",
       "\n",
       "    .dataframe thead th {\n",
       "        text-align: right;\n",
       "    }\n",
       "</style>\n",
       "<table border=\"1\" class=\"dataframe\">\n",
       "  <thead>\n",
       "    <tr style=\"text-align: right;\">\n",
       "      <th></th>\n",
       "      <th>transactionId</th>\n",
       "      <th>visitorId</th>\n",
       "      <th>date</th>\n",
       "      <th>revenue</th>\n",
       "      <th>group</th>\n",
       "    </tr>\n",
       "  </thead>\n",
       "  <tbody>\n",
       "    <tr>\n",
       "      <th>0</th>\n",
       "      <td>3667963787</td>\n",
       "      <td>3312258926</td>\n",
       "      <td>2019-08-15</td>\n",
       "      <td>1650</td>\n",
       "      <td>B</td>\n",
       "    </tr>\n",
       "    <tr>\n",
       "      <th>1</th>\n",
       "      <td>2804400009</td>\n",
       "      <td>3642806036</td>\n",
       "      <td>2019-08-15</td>\n",
       "      <td>730</td>\n",
       "      <td>B</td>\n",
       "    </tr>\n",
       "    <tr>\n",
       "      <th>2</th>\n",
       "      <td>2961555356</td>\n",
       "      <td>4069496402</td>\n",
       "      <td>2019-08-15</td>\n",
       "      <td>400</td>\n",
       "      <td>A</td>\n",
       "    </tr>\n",
       "    <tr>\n",
       "      <th>3</th>\n",
       "      <td>3797467345</td>\n",
       "      <td>1196621759</td>\n",
       "      <td>2019-08-15</td>\n",
       "      <td>9759</td>\n",
       "      <td>B</td>\n",
       "    </tr>\n",
       "    <tr>\n",
       "      <th>4</th>\n",
       "      <td>2282983706</td>\n",
       "      <td>2322279887</td>\n",
       "      <td>2019-08-15</td>\n",
       "      <td>2308</td>\n",
       "      <td>B</td>\n",
       "    </tr>\n",
       "    <tr>\n",
       "      <th>5</th>\n",
       "      <td>182168103</td>\n",
       "      <td>935554773</td>\n",
       "      <td>2019-08-15</td>\n",
       "      <td>2210</td>\n",
       "      <td>B</td>\n",
       "    </tr>\n",
       "    <tr>\n",
       "      <th>6</th>\n",
       "      <td>398296753</td>\n",
       "      <td>2900797465</td>\n",
       "      <td>2019-08-15</td>\n",
       "      <td>1860</td>\n",
       "      <td>B</td>\n",
       "    </tr>\n",
       "    <tr>\n",
       "      <th>7</th>\n",
       "      <td>2626614568</td>\n",
       "      <td>78758296</td>\n",
       "      <td>2019-08-15</td>\n",
       "      <td>1044</td>\n",
       "      <td>A</td>\n",
       "    </tr>\n",
       "    <tr>\n",
       "      <th>8</th>\n",
       "      <td>1576988021</td>\n",
       "      <td>295230930</td>\n",
       "      <td>2019-08-15</td>\n",
       "      <td>13710</td>\n",
       "      <td>A</td>\n",
       "    </tr>\n",
       "    <tr>\n",
       "      <th>9</th>\n",
       "      <td>1506739906</td>\n",
       "      <td>1882260405</td>\n",
       "      <td>2019-08-15</td>\n",
       "      <td>1855</td>\n",
       "      <td>B</td>\n",
       "    </tr>\n",
       "  </tbody>\n",
       "</table>\n",
       "</div>"
      ],
      "text/plain": [
       "   transactionId   visitorId       date  revenue group\n",
       "0     3667963787  3312258926 2019-08-15     1650     B\n",
       "1     2804400009  3642806036 2019-08-15      730     B\n",
       "2     2961555356  4069496402 2019-08-15      400     A\n",
       "3     3797467345  1196621759 2019-08-15     9759     B\n",
       "4     2282983706  2322279887 2019-08-15     2308     B\n",
       "5      182168103   935554773 2019-08-15     2210     B\n",
       "6      398296753  2900797465 2019-08-15     1860     B\n",
       "7     2626614568    78758296 2019-08-15     1044     A\n",
       "8     1576988021   295230930 2019-08-15    13710     A\n",
       "9     1506739906  1882260405 2019-08-15     1855     B"
      ]
     },
     "metadata": {},
     "output_type": "display_data"
    },
    {
     "name": "stdout",
     "output_type": "stream",
     "text": [
      "<class 'pandas.core.frame.DataFrame'>\n",
      "RangeIndex: 1197 entries, 0 to 1196\n",
      "Data columns (total 5 columns):\n",
      " #   Column         Non-Null Count  Dtype         \n",
      "---  ------         --------------  -----         \n",
      " 0   transactionId  1197 non-null   int64         \n",
      " 1   visitorId      1197 non-null   int64         \n",
      " 2   date           1197 non-null   datetime64[ns]\n",
      " 3   revenue        1197 non-null   int64         \n",
      " 4   group          1197 non-null   object        \n",
      "dtypes: datetime64[ns](1), int64(3), object(1)\n",
      "memory usage: 46.9+ KB\n",
      "Дубликатов в таблице: 0\n"
     ]
    }
   ],
   "source": [
    "orders = pd.read_csv('https://code.s3.yandex.net/datasets/orders.csv')\n",
    "orders['date'] = pd.to_datetime(orders['date'])\n",
    "display(orders.head(10))\n",
    "orders.info()\n",
    "print(f\"Дубликатов в таблице: {orders.duplicated().sum()}\")"
   ]
  },
  {
   "cell_type": "markdown",
   "metadata": {},
   "source": [
    "Описание таблицы orders:  \n",
    "transactionId — идентификатор заказа;  \n",
    "visitorId — идентификатор пользователя, совершившего заказ;  \n",
    "date — дата, когда был совершён заказ;  \n",
    "revenue — выручка заказа;  \n",
    "group — группа A/B-теста, в которую попал заказ."
   ]
  },
  {
   "cell_type": "code",
   "execution_count": 4,
   "metadata": {
    "scrolled": false
   },
   "outputs": [
    {
     "data": {
      "text/html": [
       "<div>\n",
       "<style scoped>\n",
       "    .dataframe tbody tr th:only-of-type {\n",
       "        vertical-align: middle;\n",
       "    }\n",
       "\n",
       "    .dataframe tbody tr th {\n",
       "        vertical-align: top;\n",
       "    }\n",
       "\n",
       "    .dataframe thead th {\n",
       "        text-align: right;\n",
       "    }\n",
       "</style>\n",
       "<table border=\"1\" class=\"dataframe\">\n",
       "  <thead>\n",
       "    <tr style=\"text-align: right;\">\n",
       "      <th></th>\n",
       "      <th>date</th>\n",
       "      <th>group</th>\n",
       "      <th>visitors</th>\n",
       "    </tr>\n",
       "  </thead>\n",
       "  <tbody>\n",
       "    <tr>\n",
       "      <th>0</th>\n",
       "      <td>2019-08-01</td>\n",
       "      <td>A</td>\n",
       "      <td>719</td>\n",
       "    </tr>\n",
       "    <tr>\n",
       "      <th>1</th>\n",
       "      <td>2019-08-02</td>\n",
       "      <td>A</td>\n",
       "      <td>619</td>\n",
       "    </tr>\n",
       "    <tr>\n",
       "      <th>2</th>\n",
       "      <td>2019-08-03</td>\n",
       "      <td>A</td>\n",
       "      <td>507</td>\n",
       "    </tr>\n",
       "    <tr>\n",
       "      <th>3</th>\n",
       "      <td>2019-08-04</td>\n",
       "      <td>A</td>\n",
       "      <td>717</td>\n",
       "    </tr>\n",
       "    <tr>\n",
       "      <th>4</th>\n",
       "      <td>2019-08-05</td>\n",
       "      <td>A</td>\n",
       "      <td>756</td>\n",
       "    </tr>\n",
       "    <tr>\n",
       "      <th>5</th>\n",
       "      <td>2019-08-06</td>\n",
       "      <td>A</td>\n",
       "      <td>667</td>\n",
       "    </tr>\n",
       "    <tr>\n",
       "      <th>6</th>\n",
       "      <td>2019-08-07</td>\n",
       "      <td>A</td>\n",
       "      <td>644</td>\n",
       "    </tr>\n",
       "    <tr>\n",
       "      <th>7</th>\n",
       "      <td>2019-08-08</td>\n",
       "      <td>A</td>\n",
       "      <td>610</td>\n",
       "    </tr>\n",
       "    <tr>\n",
       "      <th>8</th>\n",
       "      <td>2019-08-09</td>\n",
       "      <td>A</td>\n",
       "      <td>617</td>\n",
       "    </tr>\n",
       "    <tr>\n",
       "      <th>9</th>\n",
       "      <td>2019-08-10</td>\n",
       "      <td>A</td>\n",
       "      <td>406</td>\n",
       "    </tr>\n",
       "  </tbody>\n",
       "</table>\n",
       "</div>"
      ],
      "text/plain": [
       "        date group  visitors\n",
       "0 2019-08-01     A       719\n",
       "1 2019-08-02     A       619\n",
       "2 2019-08-03     A       507\n",
       "3 2019-08-04     A       717\n",
       "4 2019-08-05     A       756\n",
       "5 2019-08-06     A       667\n",
       "6 2019-08-07     A       644\n",
       "7 2019-08-08     A       610\n",
       "8 2019-08-09     A       617\n",
       "9 2019-08-10     A       406"
      ]
     },
     "metadata": {},
     "output_type": "display_data"
    },
    {
     "name": "stdout",
     "output_type": "stream",
     "text": [
      "<class 'pandas.core.frame.DataFrame'>\n",
      "RangeIndex: 62 entries, 0 to 61\n",
      "Data columns (total 3 columns):\n",
      " #   Column    Non-Null Count  Dtype         \n",
      "---  ------    --------------  -----         \n",
      " 0   date      62 non-null     datetime64[ns]\n",
      " 1   group     62 non-null     object        \n",
      " 2   visitors  62 non-null     int64         \n",
      "dtypes: datetime64[ns](1), int64(1), object(1)\n",
      "memory usage: 1.6+ KB\n",
      "Дубликатов в таблице: 0\n"
     ]
    }
   ],
   "source": [
    "visitors = pd.read_csv('https://code.s3.yandex.net/datasets/visitors.csv')\n",
    "visitors['date'] = pd.to_datetime(visitors['date'])\n",
    "display(visitors.head(10))\n",
    "visitors.info()\n",
    "print(f\"Дубликатов в таблице: {visitors.duplicated().sum()}\")"
   ]
  },
  {
   "cell_type": "markdown",
   "metadata": {},
   "source": [
    "Описание таблицы visitors:  \n",
    "date — дата;  \n",
    "group — группа A/B-теста;  \n",
    "visitors — количество пользователей в указанную дату в указанной группе A/B-теста"
   ]
  },
  {
   "cell_type": "markdown",
   "metadata": {},
   "source": [
    "Проверим нет ли пользователей, которые попали сразу в обе группы."
   ]
  },
  {
   "cell_type": "code",
   "execution_count": 5,
   "metadata": {},
   "outputs": [
    {
     "name": "stdout",
     "output_type": "stream",
     "text": [
      "Количество пользователей, попавших в обе группы: 58\n"
     ]
    }
   ],
   "source": [
    "print(f\"Количество пользователей, попавших в обе группы: {orders.groupby('visitorId').agg({'group':'nunique'}).query('group>1').count()['group']}\")"
   ]
  },
  {
   "cell_type": "markdown",
   "metadata": {},
   "source": [
    "Удалим этих пользователей."
   ]
  },
  {
   "cell_type": "code",
   "execution_count": 6,
   "metadata": {},
   "outputs": [
    {
     "name": "stdout",
     "output_type": "stream",
     "text": [
      "Количество пользователей, попавших в обе группы: 58\n"
     ]
    }
   ],
   "source": [
    "double_group_visitors = orders.groupby('visitorId', as_index=False).agg({'group':'nunique'})['visitorId']\n",
    "#orders = orders.query(\"visitorId not in(@double_group_visitors)\")\n",
    "print(f\"Количество пользователей, попавших в обе группы: {orders.groupby('visitorId').agg({'group':'nunique'}).query('group>1').count()['group']}\")"
   ]
  },
  {
   "cell_type": "markdown",
   "metadata": {},
   "source": [
    "Прочитали данные, рассмотрели, в таблицах нет ни дубликатов ни пропусков. Удалили пользователей, которые попали одновременно в обе группы."
   ]
  },
  {
   "cell_type": "markdown",
   "metadata": {},
   "source": [
    "## Приоритизация гипотез."
   ]
  },
  {
   "cell_type": "markdown",
   "metadata": {},
   "source": [
    "### Применим фреймворк ICE для приоритизации гипотез. Отсортируем их по убыванию приоритета."
   ]
  },
  {
   "cell_type": "markdown",
   "metadata": {},
   "source": [
    "![title](https://pictures.s3.yandex.net/resources/ice_score_2-27da3b9e-15cd-4f96-91a4-fefffd1d986e_1569198107.jpg)\n",
    "\n",
    "ICE (от англ. impact, confidence, effort «влияние, уверенность, усилия») — один из самых популярных способов приоритизации задач"
   ]
  },
  {
   "cell_type": "code",
   "execution_count": 7,
   "metadata": {},
   "outputs": [
    {
     "data": {
      "text/html": [
       "<div>\n",
       "<style scoped>\n",
       "    .dataframe tbody tr th:only-of-type {\n",
       "        vertical-align: middle;\n",
       "    }\n",
       "\n",
       "    .dataframe tbody tr th {\n",
       "        vertical-align: top;\n",
       "    }\n",
       "\n",
       "    .dataframe thead th {\n",
       "        text-align: right;\n",
       "    }\n",
       "</style>\n",
       "<table border=\"1\" class=\"dataframe\">\n",
       "  <thead>\n",
       "    <tr style=\"text-align: right;\">\n",
       "      <th></th>\n",
       "      <th>Hypothesis</th>\n",
       "      <th>Reach</th>\n",
       "      <th>Impact</th>\n",
       "      <th>Confidence</th>\n",
       "      <th>Efforts</th>\n",
       "      <th>ICE</th>\n",
       "    </tr>\n",
       "  </thead>\n",
       "  <tbody>\n",
       "    <tr>\n",
       "      <th>8</th>\n",
       "      <td>Запустить акцию, дающую скидку на товар в день рождения</td>\n",
       "      <td>1</td>\n",
       "      <td>9</td>\n",
       "      <td>9</td>\n",
       "      <td>5</td>\n",
       "      <td>16.2</td>\n",
       "    </tr>\n",
       "    <tr>\n",
       "      <th>0</th>\n",
       "      <td>Добавить два новых канала привлечения трафика, что позволит привлекать на 30% больше пользователей</td>\n",
       "      <td>3</td>\n",
       "      <td>10</td>\n",
       "      <td>8</td>\n",
       "      <td>6</td>\n",
       "      <td>13.3</td>\n",
       "    </tr>\n",
       "    <tr>\n",
       "      <th>7</th>\n",
       "      <td>Добавить форму подписки на все основные страницы, чтобы собрать базу клиентов для email-рассылок</td>\n",
       "      <td>10</td>\n",
       "      <td>7</td>\n",
       "      <td>8</td>\n",
       "      <td>5</td>\n",
       "      <td>11.2</td>\n",
       "    </tr>\n",
       "    <tr>\n",
       "      <th>6</th>\n",
       "      <td>Показать на главной странице баннеры с актуальными акциями и распродажами, чтобы увеличить конверсию</td>\n",
       "      <td>5</td>\n",
       "      <td>3</td>\n",
       "      <td>8</td>\n",
       "      <td>3</td>\n",
       "      <td>8.0</td>\n",
       "    </tr>\n",
       "    <tr>\n",
       "      <th>2</th>\n",
       "      <td>Добавить блоки рекомендаций товаров на сайт интернет магазина, чтобы повысить конверсию и средний чек заказа</td>\n",
       "      <td>8</td>\n",
       "      <td>3</td>\n",
       "      <td>7</td>\n",
       "      <td>3</td>\n",
       "      <td>7.0</td>\n",
       "    </tr>\n",
       "    <tr>\n",
       "      <th>1</th>\n",
       "      <td>Запустить собственную службу доставки, что сократит срок доставки заказов</td>\n",
       "      <td>2</td>\n",
       "      <td>5</td>\n",
       "      <td>4</td>\n",
       "      <td>10</td>\n",
       "      <td>2.0</td>\n",
       "    </tr>\n",
       "    <tr>\n",
       "      <th>5</th>\n",
       "      <td>Добавить страницу отзывов клиентов о магазине, что позволит увеличить количество заказов</td>\n",
       "      <td>3</td>\n",
       "      <td>2</td>\n",
       "      <td>2</td>\n",
       "      <td>3</td>\n",
       "      <td>1.3</td>\n",
       "    </tr>\n",
       "    <tr>\n",
       "      <th>3</th>\n",
       "      <td>Изменить структура категорий, что увеличит конверсию, т.к. пользователи быстрее найдут нужный товар</td>\n",
       "      <td>8</td>\n",
       "      <td>3</td>\n",
       "      <td>3</td>\n",
       "      <td>8</td>\n",
       "      <td>1.1</td>\n",
       "    </tr>\n",
       "    <tr>\n",
       "      <th>4</th>\n",
       "      <td>Изменить цвет фона главной страницы, чтобы увеличить вовлеченность пользователей</td>\n",
       "      <td>3</td>\n",
       "      <td>1</td>\n",
       "      <td>1</td>\n",
       "      <td>1</td>\n",
       "      <td>1.0</td>\n",
       "    </tr>\n",
       "  </tbody>\n",
       "</table>\n",
       "</div>"
      ],
      "text/plain": [
       "                                                                                                     Hypothesis  \\\n",
       "8                                                       Запустить акцию, дающую скидку на товар в день рождения   \n",
       "0            Добавить два новых канала привлечения трафика, что позволит привлекать на 30% больше пользователей   \n",
       "7              Добавить форму подписки на все основные страницы, чтобы собрать базу клиентов для email-рассылок   \n",
       "6          Показать на главной странице баннеры с актуальными акциями и распродажами, чтобы увеличить конверсию   \n",
       "2  Добавить блоки рекомендаций товаров на сайт интернет магазина, чтобы повысить конверсию и средний чек заказа   \n",
       "1                                     Запустить собственную службу доставки, что сократит срок доставки заказов   \n",
       "5                      Добавить страницу отзывов клиентов о магазине, что позволит увеличить количество заказов   \n",
       "3           Изменить структура категорий, что увеличит конверсию, т.к. пользователи быстрее найдут нужный товар   \n",
       "4                              Изменить цвет фона главной страницы, чтобы увеличить вовлеченность пользователей   \n",
       "\n",
       "   Reach  Impact  Confidence  Efforts   ICE  \n",
       "8      1       9           9        5  16.2  \n",
       "0      3      10           8        6  13.3  \n",
       "7     10       7           8        5  11.2  \n",
       "6      5       3           8        3   8.0  \n",
       "2      8       3           7        3   7.0  \n",
       "1      2       5           4       10   2.0  \n",
       "5      3       2           2        3   1.3  \n",
       "3      8       3           3        8   1.1  \n",
       "4      3       1           1        1   1.0  "
      ]
     },
     "execution_count": 7,
     "metadata": {},
     "output_type": "execute_result"
    }
   ],
   "source": [
    "hypothesis['ICE'] = round((hypothesis['Impact'] * hypothesis['Confidence']) / hypothesis['Efforts'], 1)\n",
    "hypothesis.sort_values(by='ICE', ascending=False)"
   ]
  },
  {
   "cell_type": "markdown",
   "metadata": {},
   "source": [
    "### Применим фреймворк RICE для приоритизации гипотез. Отсортируем их по убыванию приоритета."
   ]
  },
  {
   "cell_type": "markdown",
   "metadata": {},
   "source": [
    "![title](https://pictures.s3.yandex.net/resources/rice_score_1634305501.png)\n",
    "\n",
    "RICE — модификация метода ICE с учётом reach (англ. \"охват\")"
   ]
  },
  {
   "cell_type": "code",
   "execution_count": 8,
   "metadata": {},
   "outputs": [
    {
     "data": {
      "text/html": [
       "<div>\n",
       "<style scoped>\n",
       "    .dataframe tbody tr th:only-of-type {\n",
       "        vertical-align: middle;\n",
       "    }\n",
       "\n",
       "    .dataframe tbody tr th {\n",
       "        vertical-align: top;\n",
       "    }\n",
       "\n",
       "    .dataframe thead th {\n",
       "        text-align: right;\n",
       "    }\n",
       "</style>\n",
       "<table border=\"1\" class=\"dataframe\">\n",
       "  <thead>\n",
       "    <tr style=\"text-align: right;\">\n",
       "      <th></th>\n",
       "      <th>Hypothesis</th>\n",
       "      <th>Reach</th>\n",
       "      <th>Impact</th>\n",
       "      <th>Confidence</th>\n",
       "      <th>Efforts</th>\n",
       "      <th>ICE</th>\n",
       "      <th>RICE</th>\n",
       "    </tr>\n",
       "  </thead>\n",
       "  <tbody>\n",
       "    <tr>\n",
       "      <th>7</th>\n",
       "      <td>Добавить форму подписки на все основные страницы, чтобы собрать базу клиентов для email-рассылок</td>\n",
       "      <td>10</td>\n",
       "      <td>7</td>\n",
       "      <td>8</td>\n",
       "      <td>5</td>\n",
       "      <td>11.2</td>\n",
       "      <td>112.0</td>\n",
       "    </tr>\n",
       "    <tr>\n",
       "      <th>2</th>\n",
       "      <td>Добавить блоки рекомендаций товаров на сайт интернет магазина, чтобы повысить конверсию и средний чек заказа</td>\n",
       "      <td>8</td>\n",
       "      <td>3</td>\n",
       "      <td>7</td>\n",
       "      <td>3</td>\n",
       "      <td>7.0</td>\n",
       "      <td>56.0</td>\n",
       "    </tr>\n",
       "    <tr>\n",
       "      <th>0</th>\n",
       "      <td>Добавить два новых канала привлечения трафика, что позволит привлекать на 30% больше пользователей</td>\n",
       "      <td>3</td>\n",
       "      <td>10</td>\n",
       "      <td>8</td>\n",
       "      <td>6</td>\n",
       "      <td>13.3</td>\n",
       "      <td>40.0</td>\n",
       "    </tr>\n",
       "    <tr>\n",
       "      <th>6</th>\n",
       "      <td>Показать на главной странице баннеры с актуальными акциями и распродажами, чтобы увеличить конверсию</td>\n",
       "      <td>5</td>\n",
       "      <td>3</td>\n",
       "      <td>8</td>\n",
       "      <td>3</td>\n",
       "      <td>8.0</td>\n",
       "      <td>40.0</td>\n",
       "    </tr>\n",
       "    <tr>\n",
       "      <th>8</th>\n",
       "      <td>Запустить акцию, дающую скидку на товар в день рождения</td>\n",
       "      <td>1</td>\n",
       "      <td>9</td>\n",
       "      <td>9</td>\n",
       "      <td>5</td>\n",
       "      <td>16.2</td>\n",
       "      <td>16.2</td>\n",
       "    </tr>\n",
       "    <tr>\n",
       "      <th>3</th>\n",
       "      <td>Изменить структура категорий, что увеличит конверсию, т.к. пользователи быстрее найдут нужный товар</td>\n",
       "      <td>8</td>\n",
       "      <td>3</td>\n",
       "      <td>3</td>\n",
       "      <td>8</td>\n",
       "      <td>1.1</td>\n",
       "      <td>9.0</td>\n",
       "    </tr>\n",
       "    <tr>\n",
       "      <th>1</th>\n",
       "      <td>Запустить собственную службу доставки, что сократит срок доставки заказов</td>\n",
       "      <td>2</td>\n",
       "      <td>5</td>\n",
       "      <td>4</td>\n",
       "      <td>10</td>\n",
       "      <td>2.0</td>\n",
       "      <td>4.0</td>\n",
       "    </tr>\n",
       "    <tr>\n",
       "      <th>5</th>\n",
       "      <td>Добавить страницу отзывов клиентов о магазине, что позволит увеличить количество заказов</td>\n",
       "      <td>3</td>\n",
       "      <td>2</td>\n",
       "      <td>2</td>\n",
       "      <td>3</td>\n",
       "      <td>1.3</td>\n",
       "      <td>4.0</td>\n",
       "    </tr>\n",
       "    <tr>\n",
       "      <th>4</th>\n",
       "      <td>Изменить цвет фона главной страницы, чтобы увеличить вовлеченность пользователей</td>\n",
       "      <td>3</td>\n",
       "      <td>1</td>\n",
       "      <td>1</td>\n",
       "      <td>1</td>\n",
       "      <td>1.0</td>\n",
       "      <td>3.0</td>\n",
       "    </tr>\n",
       "  </tbody>\n",
       "</table>\n",
       "</div>"
      ],
      "text/plain": [
       "                                                                                                     Hypothesis  \\\n",
       "7              Добавить форму подписки на все основные страницы, чтобы собрать базу клиентов для email-рассылок   \n",
       "2  Добавить блоки рекомендаций товаров на сайт интернет магазина, чтобы повысить конверсию и средний чек заказа   \n",
       "0            Добавить два новых канала привлечения трафика, что позволит привлекать на 30% больше пользователей   \n",
       "6          Показать на главной странице баннеры с актуальными акциями и распродажами, чтобы увеличить конверсию   \n",
       "8                                                       Запустить акцию, дающую скидку на товар в день рождения   \n",
       "3           Изменить структура категорий, что увеличит конверсию, т.к. пользователи быстрее найдут нужный товар   \n",
       "1                                     Запустить собственную службу доставки, что сократит срок доставки заказов   \n",
       "5                      Добавить страницу отзывов клиентов о магазине, что позволит увеличить количество заказов   \n",
       "4                              Изменить цвет фона главной страницы, чтобы увеличить вовлеченность пользователей   \n",
       "\n",
       "   Reach  Impact  Confidence  Efforts   ICE   RICE  \n",
       "7     10       7           8        5  11.2  112.0  \n",
       "2      8       3           7        3   7.0   56.0  \n",
       "0      3      10           8        6  13.3   40.0  \n",
       "6      5       3           8        3   8.0   40.0  \n",
       "8      1       9           9        5  16.2   16.2  \n",
       "3      8       3           3        8   1.1    9.0  \n",
       "1      2       5           4       10   2.0    4.0  \n",
       "5      3       2           2        3   1.3    4.0  \n",
       "4      3       1           1        1   1.0    3.0  "
      ]
     },
     "execution_count": 8,
     "metadata": {},
     "output_type": "execute_result"
    }
   ],
   "source": [
    "hypothesis['RICE'] = round((hypothesis['Reach'] * hypothesis['Impact'] * hypothesis['Confidence']) / hypothesis['Efforts'], 1)\n",
    "hypothesis.sort_values(by='RICE', ascending=False)"
   ]
  },
  {
   "cell_type": "markdown",
   "metadata": {},
   "source": [
    "### Вывод:"
   ]
  },
  {
   "cell_type": "markdown",
   "metadata": {},
   "source": [
    "Видим что если учитывать охват влияния, то приоритеты значительно изменяются. Правильнее при приоритизации всегда учитывать охват."
   ]
  },
  {
   "cell_type": "markdown",
   "metadata": {},
   "source": [
    "## Анализ A/B-теста."
   ]
  },
  {
   "cell_type": "markdown",
   "metadata": {},
   "source": [
    "### Построим график кумулятивной выручки по группам. Сделаем выводы и предположения."
   ]
  },
  {
   "cell_type": "code",
   "execution_count": 9,
   "metadata": {},
   "outputs": [
    {
     "data": {
      "text/html": [
       "<div>\n",
       "<style scoped>\n",
       "    .dataframe tbody tr th:only-of-type {\n",
       "        vertical-align: middle;\n",
       "    }\n",
       "\n",
       "    .dataframe tbody tr th {\n",
       "        vertical-align: top;\n",
       "    }\n",
       "\n",
       "    .dataframe thead th {\n",
       "        text-align: right;\n",
       "    }\n",
       "</style>\n",
       "<table border=\"1\" class=\"dataframe\">\n",
       "  <thead>\n",
       "    <tr style=\"text-align: right;\">\n",
       "      <th></th>\n",
       "      <th>date</th>\n",
       "      <th>group</th>\n",
       "      <th>orders</th>\n",
       "      <th>buyers</th>\n",
       "      <th>revenue</th>\n",
       "      <th>visitors</th>\n",
       "    </tr>\n",
       "  </thead>\n",
       "  <tbody>\n",
       "    <tr>\n",
       "      <th>0</th>\n",
       "      <td>2019-08-01</td>\n",
       "      <td>A</td>\n",
       "      <td>24</td>\n",
       "      <td>20</td>\n",
       "      <td>148579</td>\n",
       "      <td>719</td>\n",
       "    </tr>\n",
       "    <tr>\n",
       "      <th>1</th>\n",
       "      <td>2019-08-01</td>\n",
       "      <td>B</td>\n",
       "      <td>21</td>\n",
       "      <td>20</td>\n",
       "      <td>101217</td>\n",
       "      <td>713</td>\n",
       "    </tr>\n",
       "    <tr>\n",
       "      <th>2</th>\n",
       "      <td>2019-08-02</td>\n",
       "      <td>A</td>\n",
       "      <td>44</td>\n",
       "      <td>38</td>\n",
       "      <td>242401</td>\n",
       "      <td>1338</td>\n",
       "    </tr>\n",
       "    <tr>\n",
       "      <th>3</th>\n",
       "      <td>2019-08-02</td>\n",
       "      <td>B</td>\n",
       "      <td>45</td>\n",
       "      <td>43</td>\n",
       "      <td>266748</td>\n",
       "      <td>1294</td>\n",
       "    </tr>\n",
       "    <tr>\n",
       "      <th>4</th>\n",
       "      <td>2019-08-03</td>\n",
       "      <td>A</td>\n",
       "      <td>68</td>\n",
       "      <td>62</td>\n",
       "      <td>354874</td>\n",
       "      <td>1845</td>\n",
       "    </tr>\n",
       "  </tbody>\n",
       "</table>\n",
       "</div>"
      ],
      "text/plain": [
       "        date group  orders  buyers  revenue  visitors\n",
       "0 2019-08-01     A      24      20   148579       719\n",
       "1 2019-08-01     B      21      20   101217       713\n",
       "2 2019-08-02     A      44      38   242401      1338\n",
       "3 2019-08-02     B      45      43   266748      1294\n",
       "4 2019-08-03     A      68      62   354874      1845"
      ]
     },
     "execution_count": 9,
     "metadata": {},
     "output_type": "execute_result"
    }
   ],
   "source": [
    "# создаем массив уникальных пар значений дат и групп теста\n",
    "datesGroups = orders[['date','group']].drop_duplicates()\n",
    "\n",
    "# получаем агрегированные кумулятивные по дням данные о заказах \n",
    "ordersAggregated = datesGroups.apply(lambda x: orders[np.logical_and(orders['date'] <= x['date'], orders['group'] == x['group'])].agg({'date' : 'max', 'group' : 'max', 'transactionId' : 'nunique', 'visitorId' : 'nunique', 'revenue' : 'sum'}), axis=1).sort_values(by=['date','group'])\n",
    "\n",
    "# получаем агрегированные кумулятивные по дням данные о посетителях интернет-магазина \n",
    "visitorsAggregated = datesGroups.apply(lambda x: visitors[np.logical_and(visitors['date'] <= x['date'], visitors['group'] == x['group'])].agg({'date' : 'max', 'group' : 'max', 'visitors' : 'sum'}), axis=1).sort_values(by=['date','group'])\n",
    "\n",
    "# объединяем кумулятивные данные в одной таблице и присваиваем ее столбцам понятные названия\n",
    "cumulativeData = ordersAggregated.merge(visitorsAggregated, left_on=['date', 'group'], right_on=['date', 'group'])\n",
    "cumulativeData.columns = ['date', 'group', 'orders', 'buyers', 'revenue', 'visitors']\n",
    "\n",
    "cumulativeData.head(5) "
   ]
  },
  {
   "cell_type": "code",
   "execution_count": 10,
   "metadata": {},
   "outputs": [
    {
     "data": {
      "image/png": "[encoded data removed]",
      "text/plain": [
       "<Figure size 1080x720 with 1 Axes>"
      ]
     },
     "metadata": {
      "needs_background": "light"
     },
     "output_type": "display_data"
    }
   ],
   "source": [
    "# датафрейм с кумулятивным количеством заказов и кумулятивной выручкой по дням в группе А\n",
    "cumulativeRevenueA = cumulativeData[cumulativeData['group']=='A'][['date','revenue', 'orders']]\n",
    "\n",
    "# датафрейм с кумулятивным количеством заказов и кумулятивной выручкой по дням в группе B\n",
    "cumulativeRevenueB = cumulativeData[cumulativeData['group']=='B'][['date','revenue', 'orders']]\n",
    "\n",
    "plt.figure(figsize=(15, 10))\n",
    "\n",
    "# Строим график выручки группы А\n",
    "plt.plot(cumulativeRevenueA['date'], cumulativeRevenueA['revenue'], label='A');\n",
    "\n",
    "# Строим график выручки группы B\n",
    "plt.plot(cumulativeRevenueB['date'], cumulativeRevenueB['revenue'], label='B');\n",
    "\n",
    "plt.title('График кумулятивной выручки по группам')\n",
    "plt.xlabel('Дата')\n",
    "plt.ylabel('Кумулятивная выручка')\n",
    "plt.legend();"
   ]
  },
  {
   "cell_type": "markdown",
   "metadata": {},
   "source": [
    "Видим что выручка в группе B больше чем в группе А, но её резкий рост говорит о том что в данных либо есть анамалии с большой ценой заказа либо большое количество заказов за короткий промежуток времени."
   ]
  },
  {
   "cell_type": "markdown",
   "metadata": {},
   "source": [
    "### Построим график кумулятивного среднего чека по группам. Сделаем выводы и предположения."
   ]
  },
  {
   "cell_type": "code",
   "execution_count": 11,
   "metadata": {},
   "outputs": [
    {
     "data": {
      "image/png": "[encoded data removed]",
      "text/plain": [
       "<Figure size 1080x720 with 1 Axes>"
      ]
     },
     "metadata": {
      "needs_background": "light"
     },
     "output_type": "display_data"
    }
   ],
   "source": [
    "plt.figure(figsize=(15,10));\n",
    "plt.plot(cumulativeRevenueA['date'], cumulativeRevenueA['revenue']/cumulativeRevenueA['orders'], label='A');\n",
    "plt.plot(cumulativeRevenueB['date'], cumulativeRevenueB['revenue']/cumulativeRevenueB['orders'], label='B');\n",
    "plt.title('График кумулятивного среднего чека по группам')\n",
    "plt.xlabel('Дата')\n",
    "plt.ylabel('Кумулятивный средний чек')\n",
    "plt.legend();"
   ]
  },
  {
   "cell_type": "markdown",
   "metadata": {},
   "source": [
    "Видим что не смотря на то, что в левой части графика образовалось сердечко, средний чек в группе B сильно вырос в определённый момент и затем снижался. Теперь мы уверены что в данных есть заказ с аномально большой ценой."
   ]
  },
  {
   "cell_type": "markdown",
   "metadata": {},
   "source": [
    "### Построим график относительного изменения кумулятивного среднего чека группы B к группе A. Сделаем выводы и предположения."
   ]
  },
  {
   "cell_type": "code",
   "execution_count": 12,
   "metadata": {},
   "outputs": [
    {
     "data": {
      "text/plain": [
       "Text(0, 0.5, 'Относительное изменение кумулятивного среднего чека группы B к группе A')"
      ]
     },
     "execution_count": 12,
     "metadata": {},
     "output_type": "execute_result"
    },
    {
     "data": {
      "image/png": "[encoded data removed]",
      "text/plain": [
       "<Figure size 1080x720 with 1 Axes>"
      ]
     },
     "metadata": {
      "needs_background": "light"
     },
     "output_type": "display_data"
    }
   ],
   "source": [
    "# собираем данные в одном датафрейме\n",
    "mergedCumulativeRevenue = cumulativeRevenueA.merge(cumulativeRevenueB, left_on='date', right_on='date', how='left', suffixes=['A', 'B'])\n",
    "\n",
    "plt.figure(figsize=(15,10))\n",
    "\n",
    "# cтроим отношение средних чеков\n",
    "plt.plot(mergedCumulativeRevenue['date'], (mergedCumulativeRevenue['revenueB']/mergedCumulativeRevenue['ordersB'])/(mergedCumulativeRevenue['revenueA']/mergedCumulativeRevenue['ordersA'])-1)\n",
    "\n",
    "# добавляем ось X\n",
    "plt.axhline(y=0, color='black', linestyle='--');\n",
    "\n",
    "plt.title('График относительного изменения кумулятивного среднего чека группы B к группе A')\n",
    "plt.xlabel('Дата')\n",
    "plt.ylabel('Относительное изменение кумулятивного среднего чека группы B к группе A')"
   ]
  },
  {
   "cell_type": "markdown",
   "metadata": {},
   "source": [
    "Видим что сначала средний чек группы B вырмался вперёд, затем стал ниже чем средний чек в группе A, и затем опять вырвался вперёд и закрепил первенство засчёт аномально дорогого заказа."
   ]
  },
  {
   "cell_type": "markdown",
   "metadata": {},
   "source": [
    "### Построим график кумулятивной конверсии по группам. Сделаем выводы и предположения."
   ]
  },
  {
   "cell_type": "code",
   "execution_count": 13,
   "metadata": {
    "scrolled": false
   },
   "outputs": [
    {
     "data": {
      "image/png": "[encoded data removed]",
      "text/plain": [
       "<Figure size 1080x720 with 1 Axes>"
      ]
     },
     "metadata": {
      "needs_background": "light"
     },
     "output_type": "display_data"
    }
   ],
   "source": [
    "# считаем кумулятивную конверсию\n",
    "cumulativeData['conversion'] = cumulativeData['orders']/cumulativeData['visitors']\n",
    "\n",
    "# отделяем данные по группе A\n",
    "cumulativeDataA = cumulativeData[cumulativeData['group']=='A']\n",
    "\n",
    "# отделяем данные по группе B\n",
    "cumulativeDataB = cumulativeData[cumulativeData['group']=='B']\n",
    "\n",
    "# строим графики\n",
    "plt.figure(figsize=(15,10))\n",
    "plt.plot(cumulativeDataA['date'], cumulativeDataA['conversion'], label='A')\n",
    "plt.plot(cumulativeDataB['date'], cumulativeDataB['conversion'], label='B')\n",
    "plt.title('График кумулятивной конверсии по группам')\n",
    "plt.xlabel('Дата')\n",
    "plt.ylabel('Кумулятивная конверсия')\n",
    "plt.legend();"
   ]
  },
  {
   "cell_type": "markdown",
   "metadata": {},
   "source": [
    "Конверсия группы B вырвалась вперёд и закрепилась выше конверсии группы A."
   ]
  },
  {
   "cell_type": "markdown",
   "metadata": {},
   "source": [
    "### Построим график относительного различия кумулятивных конверсий в группах. Сделаем выводы и предположения."
   ]
  },
  {
   "cell_type": "code",
   "execution_count": 14,
   "metadata": {},
   "outputs": [
    {
     "data": {
      "text/plain": [
       "Text(0, 0.5, 'Относительное различие кумулятивных конверсий')"
      ]
     },
     "execution_count": 14,
     "metadata": {},
     "output_type": "execute_result"
    },
    {
     "data": {
      "image/png": "[encoded data removed]",
      "text/plain": [
       "<Figure size 1080x720 with 1 Axes>"
      ]
     },
     "metadata": {
      "needs_background": "light"
     },
     "output_type": "display_data"
    }
   ],
   "source": [
    "mergedCumulativeConversions = cumulativeDataA[['date','conversion']].merge(cumulativeDataB[['date','conversion']], left_on='date', right_on='date', how='left', suffixes=['A', 'B'])\n",
    "\n",
    "plt.figure(figsize=(15,10))\n",
    "plt.plot(mergedCumulativeConversions['date'], mergedCumulativeConversions['conversionB']/mergedCumulativeConversions['conversionA']-1, label=\"Относительный прирост конверсии группы B относительно группы A\")\n",
    "plt.legend()\n",
    "\n",
    "plt.axhline(y=0, color='black', linestyle='--');\n",
    "plt.axhline(y=0.138, color='grey', linestyle='--');\n",
    "\n",
    "plt.title('График относительного различия кумулятивных конверсий в группах')\n",
    "plt.xlabel('Дата')\n",
    "plt.ylabel('Относительное различие кумулятивных конверсий')"
   ]
  },
  {
   "cell_type": "markdown",
   "metadata": {},
   "source": [
    "Конверсия в группе B вырвалась вперёд и закрепилась выше конверсии группы A на 15%."
   ]
  },
  {
   "cell_type": "markdown",
   "metadata": {},
   "source": [
    "### Построим точечный график количества заказов по пользователям. Сделаем выводы и предположения."
   ]
  },
  {
   "cell_type": "code",
   "execution_count": 15,
   "metadata": {},
   "outputs": [
    {
     "data": {
      "text/plain": [
       "Text(0, 0.5, 'Количество заказов')"
      ]
     },
     "execution_count": 15,
     "metadata": {},
     "output_type": "execute_result"
    },
    {
     "data": {
      "image/png": "[encoded data removed]",
      "text/plain": [
       "<Figure size 1080x360 with 1 Axes>"
      ]
     },
     "metadata": {
      "needs_background": "light"
     },
     "output_type": "display_data"
    }
   ],
   "source": [
    "ordersByUsers = orders.groupby('visitorId', as_index=False).agg({'transactionId':'nunique'})\n",
    "ordersByUsers.columns = ['visitorId', 'orders']\n",
    "\n",
    "x_values = pd.Series(range(0,len(ordersByUsers['orders'])))\n",
    "plt.figure(figsize=(15,5))\n",
    "plt.scatter(x_values, ordersByUsers['orders']);\n",
    "\n",
    "plt.title('Точечный график количества заказов по пользователям')\n",
    "plt.xlabel('Номер пользователя')\n",
    "plt.ylabel('Количество заказов')"
   ]
  },
  {
   "cell_type": "markdown",
   "metadata": {},
   "source": [
    "Видим что больштнство пользователей сделали 1 или 2 заказа"
   ]
  },
  {
   "cell_type": "markdown",
   "metadata": {},
   "source": [
    "### Посчитаем 95-й и 99-й перцентили количества заказов на пользователя. Выберем границу для определения аномальных пользователей."
   ]
  },
  {
   "cell_type": "code",
   "execution_count": 16,
   "metadata": {},
   "outputs": [
    {
     "name": "stdout",
     "output_type": "stream",
     "text": [
      "[1. 2. 4.]\n"
     ]
    }
   ],
   "source": [
    "print(np.percentile(ordersByUsers['orders'], [90, 95, 99]))\n",
    "orders_max = 3"
   ]
  },
  {
   "cell_type": "markdown",
   "metadata": {},
   "source": [
    "Видим что 95% пользователей сделали 2 заказа или меньше, а 99% пользователей сделали 4 заказа или меньше. Пользователей, которые сделали 3 заказа или более примем за аномальных."
   ]
  },
  {
   "cell_type": "markdown",
   "metadata": {},
   "source": [
    "### Построим точечный график стоимостей заказов. Сделаем выводы и предположения."
   ]
  },
  {
   "cell_type": "code",
   "execution_count": 17,
   "metadata": {},
   "outputs": [
    {
     "data": {
      "text/plain": [
       "Text(0, 0.5, 'Стоимость заказа')"
      ]
     },
     "execution_count": 17,
     "metadata": {},
     "output_type": "execute_result"
    },
    {
     "data": {
      "image/png": "[encoded data removed]",
      "text/plain": [
       "<Figure size 1080x360 with 1 Axes>"
      ]
     },
     "metadata": {
      "needs_background": "light"
     },
     "output_type": "display_data"
    }
   ],
   "source": [
    "x_values = pd.Series(range(0,len(orders['revenue'])))\n",
    "plt.figure(figsize=(15,5))\n",
    "plt.scatter(x_values, orders['revenue']);\n",
    "\n",
    "plt.title('Точечный график стоимостей заказов')\n",
    "plt.xlabel('Номер заказа')\n",
    "plt.ylabel('Стоимость заказа')"
   ]
  },
  {
   "cell_type": "markdown",
   "metadata": {},
   "source": [
    "Видим тот самый выброс, который повлиял на графики. Помимо него есть и менее значительные выбросы."
   ]
  },
  {
   "cell_type": "markdown",
   "metadata": {},
   "source": [
    "### Посчитаем 95-й и 99-й перцентили стоимости заказов. Выберем границу для определения аномальных заказов."
   ]
  },
  {
   "cell_type": "code",
   "execution_count": 18,
   "metadata": {},
   "outputs": [
    {
     "name": "stdout",
     "output_type": "stream",
     "text": [
      "[18168.  28000.  58233.2]\n"
     ]
    }
   ],
   "source": [
    "print(np.percentile(orders['revenue'], [90, 95, 99]))"
   ]
  },
  {
   "cell_type": "markdown",
   "metadata": {},
   "source": [
    "Не более 5% заказов дороже 28 000 и не более 1% дороже 58233.2."
   ]
  },
  {
   "cell_type": "markdown",
   "metadata": {},
   "source": [
    "### Посчитаем статистическую значимость различий в среднем количестве заказов между группами по «сырым» данным. Сделаем выводы и предположения"
   ]
  },
  {
   "cell_type": "markdown",
   "metadata": {},
   "source": [
    "Сформулируем гипотезы:  \n",
    "- Нулевая гипотеза - среднее количество заказов в группах не отличается  \n",
    "- Альтернативная гипотеза - в группах разное среднее количество заказов"
   ]
  },
  {
   "cell_type": "markdown",
   "metadata": {},
   "source": [
    "Начнём с подготовки данных."
   ]
  },
  {
   "cell_type": "code",
   "execution_count": 19,
   "metadata": {
    "scrolled": true
   },
   "outputs": [
    {
     "data": {
      "text/html": [
       "<div>\n",
       "<style scoped>\n",
       "    .dataframe tbody tr th:only-of-type {\n",
       "        vertical-align: middle;\n",
       "    }\n",
       "\n",
       "    .dataframe tbody tr th {\n",
       "        vertical-align: top;\n",
       "    }\n",
       "\n",
       "    .dataframe thead th {\n",
       "        text-align: right;\n",
       "    }\n",
       "</style>\n",
       "<table border=\"1\" class=\"dataframe\">\n",
       "  <thead>\n",
       "    <tr style=\"text-align: right;\">\n",
       "      <th></th>\n",
       "      <th>date</th>\n",
       "      <th>ordersPerDateA</th>\n",
       "      <th>revenuePerDateA</th>\n",
       "      <th>ordersPerDateB</th>\n",
       "      <th>revenuePerDateB</th>\n",
       "      <th>ordersCummulativeA</th>\n",
       "      <th>revenueCummulativeA</th>\n",
       "      <th>ordersCummulativeB</th>\n",
       "      <th>revenueCummulativeB</th>\n",
       "      <th>visitorsPerDateA</th>\n",
       "      <th>visitorsPerDateB</th>\n",
       "      <th>visitorsCummulativeA</th>\n",
       "      <th>visitorsCummulativeB</th>\n",
       "    </tr>\n",
       "  </thead>\n",
       "  <tbody>\n",
       "    <tr>\n",
       "      <th>0</th>\n",
       "      <td>2019-08-01</td>\n",
       "      <td>24</td>\n",
       "      <td>148579</td>\n",
       "      <td>21</td>\n",
       "      <td>101217</td>\n",
       "      <td>24</td>\n",
       "      <td>148579</td>\n",
       "      <td>21</td>\n",
       "      <td>101217</td>\n",
       "      <td>719</td>\n",
       "      <td>713</td>\n",
       "      <td>719</td>\n",
       "      <td>713</td>\n",
       "    </tr>\n",
       "    <tr>\n",
       "      <th>1</th>\n",
       "      <td>2019-08-02</td>\n",
       "      <td>20</td>\n",
       "      <td>93822</td>\n",
       "      <td>24</td>\n",
       "      <td>165531</td>\n",
       "      <td>44</td>\n",
       "      <td>242401</td>\n",
       "      <td>45</td>\n",
       "      <td>266748</td>\n",
       "      <td>619</td>\n",
       "      <td>581</td>\n",
       "      <td>1338</td>\n",
       "      <td>1294</td>\n",
       "    </tr>\n",
       "    <tr>\n",
       "      <th>2</th>\n",
       "      <td>2019-08-03</td>\n",
       "      <td>24</td>\n",
       "      <td>112473</td>\n",
       "      <td>16</td>\n",
       "      <td>114248</td>\n",
       "      <td>68</td>\n",
       "      <td>354874</td>\n",
       "      <td>61</td>\n",
       "      <td>380996</td>\n",
       "      <td>507</td>\n",
       "      <td>509</td>\n",
       "      <td>1845</td>\n",
       "      <td>1803</td>\n",
       "    </tr>\n",
       "    <tr>\n",
       "      <th>3</th>\n",
       "      <td>2019-08-04</td>\n",
       "      <td>16</td>\n",
       "      <td>70825</td>\n",
       "      <td>17</td>\n",
       "      <td>108571</td>\n",
       "      <td>84</td>\n",
       "      <td>425699</td>\n",
       "      <td>78</td>\n",
       "      <td>489567</td>\n",
       "      <td>717</td>\n",
       "      <td>770</td>\n",
       "      <td>2562</td>\n",
       "      <td>2573</td>\n",
       "    </tr>\n",
       "    <tr>\n",
       "      <th>4</th>\n",
       "      <td>2019-08-05</td>\n",
       "      <td>25</td>\n",
       "      <td>124218</td>\n",
       "      <td>23</td>\n",
       "      <td>92428</td>\n",
       "      <td>109</td>\n",
       "      <td>549917</td>\n",
       "      <td>101</td>\n",
       "      <td>581995</td>\n",
       "      <td>756</td>\n",
       "      <td>707</td>\n",
       "      <td>3318</td>\n",
       "      <td>3280</td>\n",
       "    </tr>\n",
       "  </tbody>\n",
       "</table>\n",
       "</div>"
      ],
      "text/plain": [
       "        date  ordersPerDateA  revenuePerDateA  ordersPerDateB  \\\n",
       "0 2019-08-01              24           148579              21   \n",
       "1 2019-08-02              20            93822              24   \n",
       "2 2019-08-03              24           112473              16   \n",
       "3 2019-08-04              16            70825              17   \n",
       "4 2019-08-05              25           124218              23   \n",
       "\n",
       "   revenuePerDateB  ordersCummulativeA  revenueCummulativeA  \\\n",
       "0           101217                  24               148579   \n",
       "1           165531                  44               242401   \n",
       "2           114248                  68               354874   \n",
       "3           108571                  84               425699   \n",
       "4            92428                 109               549917   \n",
       "\n",
       "   ordersCummulativeB  revenueCummulativeB  visitorsPerDateA  \\\n",
       "0                  21               101217               719   \n",
       "1                  45               266748               619   \n",
       "2                  61               380996               507   \n",
       "3                  78               489567               717   \n",
       "4                 101               581995               756   \n",
       "\n",
       "   visitorsPerDateB  visitorsCummulativeA  visitorsCummulativeB  \n",
       "0               713                   719                   713  \n",
       "1               581                  1338                  1294  \n",
       "2               509                  1845                  1803  \n",
       "3               770                  2562                  2573  \n",
       "4               707                  3318                  3280  "
      ]
     },
     "execution_count": 19,
     "metadata": {},
     "output_type": "execute_result"
    }
   ],
   "source": [
    "visitorsADaily = visitors[visitors['group'] == 'A'][['date', 'visitors']]\n",
    "visitorsADaily.columns = ['date', 'visitorsPerDateA']\n",
    "\n",
    "visitorsACummulative = visitorsADaily.apply(\n",
    "    lambda x: visitorsADaily[visitorsADaily['date'] <= x['date']].agg(\n",
    "        {'date': 'max', 'visitorsPerDateA': 'sum'}\n",
    "    ),\n",
    "    axis=1,\n",
    ")\n",
    "visitorsACummulative.columns = ['date', 'visitorsCummulativeA']\n",
    "\n",
    "visitorsBDaily = visitors[visitors['group'] == 'B'][['date', 'visitors']]\n",
    "visitorsBDaily.columns = ['date', 'visitorsPerDateB']\n",
    "\n",
    "visitorsBCummulative = visitorsBDaily.apply(\n",
    "    lambda x: visitorsBDaily[visitorsBDaily['date'] <= x['date']].agg(\n",
    "        {'date': 'max', 'visitorsPerDateB': 'sum'}\n",
    "    ),\n",
    "    axis=1,\n",
    ")\n",
    "visitorsBCummulative.columns = ['date', 'visitorsCummulativeB']\n",
    "\n",
    "ordersADaily = (\n",
    "    orders[orders['group'] == 'A'][['date', 'transactionId', 'visitorId', 'revenue']]\n",
    "    .groupby('date', as_index=False)\n",
    "    .agg({'transactionId': pd.Series.nunique, 'revenue': 'sum'})\n",
    ")\n",
    "ordersADaily.columns = ['date', 'ordersPerDateA', 'revenuePerDateA']\n",
    "\n",
    "ordersACummulative = ordersADaily.apply(\n",
    "    lambda x: ordersADaily[ordersADaily['date'] <= x['date']].agg(\n",
    "        {'date': 'max', 'ordersPerDateA': 'sum', 'revenuePerDateA': 'sum'}\n",
    "    ),\n",
    "    axis=1,\n",
    ").sort_values(by=['date'])\n",
    "ordersACummulative.columns = [\n",
    "    'date',\n",
    "    'ordersCummulativeA',\n",
    "    'revenueCummulativeA',\n",
    "]\n",
    "\n",
    "ordersBDaily = (\n",
    "    orders[orders['group'] == 'B'][['date', 'transactionId', 'visitorId', 'revenue']]\n",
    "    .groupby('date', as_index=False)\n",
    "    .agg({'transactionId': pd.Series.nunique, 'revenue': 'sum'})\n",
    ")\n",
    "ordersBDaily.columns = ['date', 'ordersPerDateB', 'revenuePerDateB']\n",
    "\n",
    "ordersBCummulative = ordersBDaily.apply(\n",
    "    lambda x: ordersBDaily[ordersBDaily['date'] <= x['date']].agg(\n",
    "        {'date': 'max', 'ordersPerDateB': 'sum', 'revenuePerDateB': 'sum'}\n",
    "    ),\n",
    "    axis=1,\n",
    ").sort_values(by=['date'])\n",
    "ordersBCummulative.columns = [\n",
    "    'date',\n",
    "    'ordersCummulativeB',\n",
    "    'revenueCummulativeB',\n",
    "]\n",
    "\n",
    "data = (\n",
    "    ordersADaily.merge(\n",
    "        ordersBDaily, left_on='date', right_on='date', how='left'\n",
    "    )\n",
    "    .merge(ordersACummulative, left_on='date', right_on='date', how='left')\n",
    "    .merge(ordersBCummulative, left_on='date', right_on='date', how='left')\n",
    "    .merge(visitorsADaily, left_on='date', right_on='date', how='left')\n",
    "    .merge(visitorsBDaily, left_on='date', right_on='date', how='left')\n",
    "    .merge(visitorsACummulative, left_on='date', right_on='date', how='left')\n",
    "    .merge(visitorsBCummulative, left_on='date', right_on='date', how='left')\n",
    ")\n",
    "\n",
    "data.head(5)"
   ]
  },
  {
   "cell_type": "code",
   "execution_count": 29,
   "metadata": {
    "scrolled": true
   },
   "outputs": [
    {
     "name": "stdout",
     "output_type": "stream",
     "text": [
      "p-value = 1.68%\n",
      "Прирост составил 13.81% \n"
     ]
    }
   ],
   "source": [
    "ordersByUsersA = (\n",
    "    orders[orders['group'] == 'A']\n",
    "    .groupby('visitorId', as_index=False)\n",
    "    .agg({'transactionId': pd.Series.nunique})\n",
    ")\n",
    "ordersByUsersA.columns = ['visitorId', 'orders']\n",
    "\n",
    "ordersByUsersB = (\n",
    "    orders[orders['group'] == 'B']\n",
    "    .groupby('visitorId', as_index=False)\n",
    "    .agg({'transactionId': pd.Series.nunique})\n",
    ")\n",
    "ordersByUsersB.columns = ['visitorId', 'orders'] \n",
    "sampleA = pd.concat(\n",
    "    [\n",
    "        ordersByUsersA['orders'],\n",
    "        pd.Series(\n",
    "            0,\n",
    "            index=np.arange(\n",
    "                data['visitorsPerDateA'].sum() - len(ordersByUsersA['orders'])\n",
    "            ),\n",
    "            name='orders',\n",
    "        ),\n",
    "    ],\n",
    "    axis=0,\n",
    ")\n",
    "\n",
    "sampleB = pd.concat(\n",
    "    [\n",
    "        ordersByUsersB['orders'],\n",
    "        pd.Series(\n",
    "            0,\n",
    "            index=np.arange(\n",
    "                data['visitorsPerDateB'].sum() - len(ordersByUsersB['orders'])\n",
    "            ),\n",
    "            name='orders',\n",
    "        ),\n",
    "    ],\n",
    "    axis=0,\n",
    ")\n",
    "\n",
    "print(\"p-value = {0:.2f}%\".format((stats.mannwhitneyu(sampleA, sampleB)[1]) * 100))\n",
    "\n",
    "print(\"Прирост составил {0:.2f}% \".format((sampleB.mean() / sampleA.mean() - 1) * 100))"
   ]
  },
  {
   "cell_type": "markdown",
   "metadata": {},
   "source": [
    "Количество заказов выросло на 13,8% и изменение статистически значимо, так как p-value составил 1.68%, что ниже чем 5%."
   ]
  },
  {
   "cell_type": "markdown",
   "metadata": {},
   "source": [
    "### Посчитаем статистическую значимость различий в среднем чеке заказа между группами по «сырым» данным. Сделаем выводы и предположения."
   ]
  },
  {
   "cell_type": "markdown",
   "metadata": {},
   "source": [
    "Сформулируемс гипотезы:  \n",
    "- Нулевая гипотеза - средний чек в группах не отличается\n",
    "- В группах разный средний чек"
   ]
  },
  {
   "cell_type": "code",
   "execution_count": 21,
   "metadata": {},
   "outputs": [
    {
     "name": "stdout",
     "output_type": "stream",
     "text": [
      "p-value = 72.93%\n",
      "Средний чек вырос на 25.87%\n"
     ]
    }
   ],
   "source": [
    "print('p-value = {0:.2f}%'.format((stats.mannwhitneyu(orders[orders['group']=='A']['revenue'], orders[orders['group']=='B']['revenue'])[1]) * 100))\n",
    "print('Средний чек вырос на {0:.2f}%'.format((orders[orders['group']=='B']['revenue'].mean()/orders[orders['group']=='A']['revenue'].mean()-1) * 100))"
   ]
  },
  {
   "cell_type": "markdown",
   "metadata": {},
   "source": [
    "Средний чек вырос на 25.87%, но так как p-value составил 72,93%, что больше чем 5% - то разница статистически не значима. Скорее всего средний чек вырос из-за аномальных значений."
   ]
  },
  {
   "cell_type": "markdown",
   "metadata": {},
   "source": [
    "### Посчитаем статистическую значимость различий в среднем количестве заказов между группами по «очищенным» данным. Сделаем выводы и предположения."
   ]
  },
  {
   "cell_type": "markdown",
   "metadata": {},
   "source": [
    "Сформулируем гипотезы:  \n",
    "- Нулевая гипотеза - среднее количество заказов в группах не отличается  \n",
    "- Альтернативная гипотеза - в группах разное среднее количество заказов"
   ]
  },
  {
   "cell_type": "markdown",
   "metadata": {},
   "source": [
    "Узнаем, сколько всего аномальных пользователей атрибутом shape. Аномальными будем считать пользователей, сделавших больше 3-х заказов и сделавших заказ дороже 28000."
   ]
  },
  {
   "cell_type": "code",
   "execution_count": 22,
   "metadata": {},
   "outputs": [
    {
     "data": {
      "text/plain": [
       "1099    148427295\n",
       "18      199603092\n",
       "928     204675465\n",
       "23      237748145\n",
       "684     358944393\n",
       "Name: visitorId, dtype: int64"
      ]
     },
     "metadata": {},
     "output_type": "display_data"
    },
    {
     "name": "stdout",
     "output_type": "stream",
     "text": [
      "Аномальных пользователей: 63\n"
     ]
    }
   ],
   "source": [
    "usersWithManyOrders = pd.concat(\n",
    "    [\n",
    "        ordersByUsersA[ordersByUsersA['orders'] > orders_max]['visitorId'],\n",
    "        ordersByUsersB[ordersByUsersB['orders'] > orders_max]['visitorId'],\n",
    "    ],\n",
    "    axis=0,\n",
    ")\n",
    "usersWithExpensiveOrders = orders[orders['revenue'] > np.percentile(orders['revenue'], 95)]['visitorId']\n",
    "abnormalUsers = (\n",
    "    pd.concat([usersWithManyOrders, usersWithExpensiveOrders], axis=0)\n",
    "    .drop_duplicates()\n",
    "    .sort_values()\n",
    ")\n",
    "display(abnormalUsers.head(5))\n",
    "print(f\"Аномальных пользователей: {abnormalUsers.shape[0]}\")"
   ]
  },
  {
   "cell_type": "markdown",
   "metadata": {},
   "source": [
    "Всего 63 аномальных пользователей.  \n",
    "Узнаем, как их действия повлияли на результаты теста. Посчитаем статистическую значимость различий в среднем количестве заказов между группами теста по очищенным данным. Сначала подготовим выборки количества заказов по пользователям по группам теста:"
   ]
  },
  {
   "cell_type": "code",
   "execution_count": 23,
   "metadata": {},
   "outputs": [],
   "source": [
    "sampleAFiltered = pd.concat(\n",
    "    [\n",
    "        ordersByUsersA[\n",
    "            np.logical_not(ordersByUsersA['visitorId'].isin(abnormalUsers))\n",
    "        ]['orders'],\n",
    "        pd.Series(\n",
    "            0,\n",
    "            index=np.arange(\n",
    "                data['visitorsPerDateA'].sum() - len(ordersByUsersA['orders'])\n",
    "            ),\n",
    "            name='orders',\n",
    "        ),\n",
    "    ],\n",
    "    axis=0,\n",
    ")\n",
    "\n",
    "sampleBFiltered = pd.concat(\n",
    "    [\n",
    "        ordersByUsersB[\n",
    "            np.logical_not(ordersByUsersB['visitorId'].isin(abnormalUsers))\n",
    "        ]['orders'],\n",
    "        pd.Series(\n",
    "            0,\n",
    "            index=np.arange(\n",
    "                data['visitorsPerDateB'].sum() - len(ordersByUsersB['orders'])\n",
    "            ),\n",
    "            name='orders',\n",
    "        ),\n",
    "    ],\n",
    "    axis=0,\n",
    ") "
   ]
  },
  {
   "cell_type": "markdown",
   "metadata": {},
   "source": [
    "Применим статистический критерий Манна-Уитни к полученным выборкам:"
   ]
  },
  {
   "cell_type": "code",
   "execution_count": 24,
   "metadata": {},
   "outputs": [
    {
     "name": "stdout",
     "output_type": "stream",
     "text": [
      "p-value = 1.79%\n",
      "Прирост составил 14.85% \n"
     ]
    }
   ],
   "source": [
    "print(\"p-value = {0:.2f}%\".format((stats.mannwhitneyu(sampleAFiltered, sampleBFiltered)[1]) * 100))\n",
    "\n",
    "print(\"Прирост составил {0:.2f}% \".format((sampleBFiltered.mean() / sampleAFiltered.mean() - 1) * 100))"
   ]
  },
  {
   "cell_type": "markdown",
   "metadata": {},
   "source": [
    "Результат по среднему количеству заказов почти не изменился: разница осталась статистически значимой, а прирост заказов вырос с 13.81% до 14.85%."
   ]
  },
  {
   "cell_type": "markdown",
   "metadata": {},
   "source": [
    "### Посчитаем статистическую значимость различий в среднем чеке заказа между группами по «очищенным» данным. Сделаем выводы и предположения."
   ]
  },
  {
   "cell_type": "markdown",
   "metadata": {},
   "source": [
    "Сформулируемс гипотезы:  \n",
    "- Нулевая гипотеза - средний чек в группах не отличается\n",
    "- В группах разный средний чек"
   ]
  },
  {
   "cell_type": "code",
   "execution_count": 25,
   "metadata": {},
   "outputs": [
    {
     "name": "stdout",
     "output_type": "stream",
     "text": [
      "p-value = 97.65%\n",
      "Прирост = -1.68%\n"
     ]
    }
   ],
   "source": [
    "print(\n",
    "    'p-value = {0:.2f}%'.format((\n",
    "        stats.mannwhitneyu(\n",
    "            orders[\n",
    "                np.logical_and(\n",
    "                    orders['group'] == 'A',\n",
    "                    np.logical_not(orders['visitorId'].isin(abnormalUsers)),\n",
    "                )\n",
    "            ]['revenue'],\n",
    "            orders[\n",
    "                np.logical_and(\n",
    "                    orders['group'] == 'B',\n",
    "                    np.logical_not(orders['visitorId'].isin(abnormalUsers)),\n",
    "                )\n",
    "            ]['revenue'],\n",
    "        )[1]) * 100\n",
    "    )\n",
    ")\n",
    "\n",
    "print(\n",
    "    \"Прирост = {0:.2f}%\".format((\n",
    "        orders[\n",
    "            np.logical_and(\n",
    "                orders['group'] == 'B',\n",
    "                np.logical_not(orders['visitorId'].isin(abnormalUsers)),\n",
    "            )\n",
    "        ]['revenue'].mean()\n",
    "        / orders[\n",
    "            np.logical_and(\n",
    "                orders['group'] == 'A',\n",
    "                np.logical_not(orders['visitorId'].isin(abnormalUsers)),\n",
    "            )\n",
    "        ]['revenue'].mean()\n",
    "        - 1) * 100\n",
    "    )\n",
    ") "
   ]
  },
  {
   "cell_type": "markdown",
   "metadata": {},
   "source": [
    "На очищенных данных мы убрали аномально дорогие заказы, и теперь средний чек в группах почти не отличается."
   ]
  },
  {
   "cell_type": "markdown",
   "metadata": {},
   "source": [
    "### Решение по результатам A/B теста."
   ]
  },
  {
   "cell_type": "markdown",
   "metadata": {},
   "source": [
    "Мы увидели в группе B не изменился средний чек, но выросло количество заказов на 14.85% и изменение статистически значимо. Значит делаем вывод что группа B победила и тест можно завершать."
   ]
  },
  {
   "cell_type": "markdown",
   "metadata": {},
   "source": [
    "## Выводы"
   ]
  },
  {
   "cell_type": "markdown",
   "metadata": {},
   "source": [
    "### Гипотезы, в порядке убывания приоритета RICE."
   ]
  },
  {
   "cell_type": "code",
   "execution_count": 26,
   "metadata": {},
   "outputs": [
    {
     "data": {
      "text/html": [
       "<div>\n",
       "<style scoped>\n",
       "    .dataframe tbody tr th:only-of-type {\n",
       "        vertical-align: middle;\n",
       "    }\n",
       "\n",
       "    .dataframe tbody tr th {\n",
       "        vertical-align: top;\n",
       "    }\n",
       "\n",
       "    .dataframe thead th {\n",
       "        text-align: right;\n",
       "    }\n",
       "</style>\n",
       "<table border=\"1\" class=\"dataframe\">\n",
       "  <thead>\n",
       "    <tr style=\"text-align: right;\">\n",
       "      <th></th>\n",
       "      <th>Hypothesis</th>\n",
       "      <th>Reach</th>\n",
       "      <th>Impact</th>\n",
       "      <th>Confidence</th>\n",
       "      <th>Efforts</th>\n",
       "      <th>ICE</th>\n",
       "      <th>RICE</th>\n",
       "    </tr>\n",
       "  </thead>\n",
       "  <tbody>\n",
       "    <tr>\n",
       "      <th>7</th>\n",
       "      <td>Добавить форму подписки на все основные страницы, чтобы собрать базу клиентов для email-рассылок</td>\n",
       "      <td>10</td>\n",
       "      <td>7</td>\n",
       "      <td>8</td>\n",
       "      <td>5</td>\n",
       "      <td>11.2</td>\n",
       "      <td>112.0</td>\n",
       "    </tr>\n",
       "    <tr>\n",
       "      <th>2</th>\n",
       "      <td>Добавить блоки рекомендаций товаров на сайт интернет магазина, чтобы повысить конверсию и средний чек заказа</td>\n",
       "      <td>8</td>\n",
       "      <td>3</td>\n",
       "      <td>7</td>\n",
       "      <td>3</td>\n",
       "      <td>7.0</td>\n",
       "      <td>56.0</td>\n",
       "    </tr>\n",
       "    <tr>\n",
       "      <th>0</th>\n",
       "      <td>Добавить два новых канала привлечения трафика, что позволит привлекать на 30% больше пользователей</td>\n",
       "      <td>3</td>\n",
       "      <td>10</td>\n",
       "      <td>8</td>\n",
       "      <td>6</td>\n",
       "      <td>13.3</td>\n",
       "      <td>40.0</td>\n",
       "    </tr>\n",
       "    <tr>\n",
       "      <th>6</th>\n",
       "      <td>Показать на главной странице баннеры с актуальными акциями и распродажами, чтобы увеличить конверсию</td>\n",
       "      <td>5</td>\n",
       "      <td>3</td>\n",
       "      <td>8</td>\n",
       "      <td>3</td>\n",
       "      <td>8.0</td>\n",
       "      <td>40.0</td>\n",
       "    </tr>\n",
       "    <tr>\n",
       "      <th>8</th>\n",
       "      <td>Запустить акцию, дающую скидку на товар в день рождения</td>\n",
       "      <td>1</td>\n",
       "      <td>9</td>\n",
       "      <td>9</td>\n",
       "      <td>5</td>\n",
       "      <td>16.2</td>\n",
       "      <td>16.2</td>\n",
       "    </tr>\n",
       "    <tr>\n",
       "      <th>3</th>\n",
       "      <td>Изменить структура категорий, что увеличит конверсию, т.к. пользователи быстрее найдут нужный товар</td>\n",
       "      <td>8</td>\n",
       "      <td>3</td>\n",
       "      <td>3</td>\n",
       "      <td>8</td>\n",
       "      <td>1.1</td>\n",
       "      <td>9.0</td>\n",
       "    </tr>\n",
       "    <tr>\n",
       "      <th>1</th>\n",
       "      <td>Запустить собственную службу доставки, что сократит срок доставки заказов</td>\n",
       "      <td>2</td>\n",
       "      <td>5</td>\n",
       "      <td>4</td>\n",
       "      <td>10</td>\n",
       "      <td>2.0</td>\n",
       "      <td>4.0</td>\n",
       "    </tr>\n",
       "    <tr>\n",
       "      <th>5</th>\n",
       "      <td>Добавить страницу отзывов клиентов о магазине, что позволит увеличить количество заказов</td>\n",
       "      <td>3</td>\n",
       "      <td>2</td>\n",
       "      <td>2</td>\n",
       "      <td>3</td>\n",
       "      <td>1.3</td>\n",
       "      <td>4.0</td>\n",
       "    </tr>\n",
       "    <tr>\n",
       "      <th>4</th>\n",
       "      <td>Изменить цвет фона главной страницы, чтобы увеличить вовлеченность пользователей</td>\n",
       "      <td>3</td>\n",
       "      <td>1</td>\n",
       "      <td>1</td>\n",
       "      <td>1</td>\n",
       "      <td>1.0</td>\n",
       "      <td>3.0</td>\n",
       "    </tr>\n",
       "  </tbody>\n",
       "</table>\n",
       "</div>"
      ],
      "text/plain": [
       "                                                                                                     Hypothesis  \\\n",
       "7              Добавить форму подписки на все основные страницы, чтобы собрать базу клиентов для email-рассылок   \n",
       "2  Добавить блоки рекомендаций товаров на сайт интернет магазина, чтобы повысить конверсию и средний чек заказа   \n",
       "0            Добавить два новых канала привлечения трафика, что позволит привлекать на 30% больше пользователей   \n",
       "6          Показать на главной странице баннеры с актуальными акциями и распродажами, чтобы увеличить конверсию   \n",
       "8                                                       Запустить акцию, дающую скидку на товар в день рождения   \n",
       "3           Изменить структура категорий, что увеличит конверсию, т.к. пользователи быстрее найдут нужный товар   \n",
       "1                                     Запустить собственную службу доставки, что сократит срок доставки заказов   \n",
       "5                      Добавить страницу отзывов клиентов о магазине, что позволит увеличить количество заказов   \n",
       "4                              Изменить цвет фона главной страницы, чтобы увеличить вовлеченность пользователей   \n",
       "\n",
       "   Reach  Impact  Confidence  Efforts   ICE   RICE  \n",
       "7     10       7           8        5  11.2  112.0  \n",
       "2      8       3           7        3   7.0   56.0  \n",
       "0      3      10           8        6  13.3   40.0  \n",
       "6      5       3           8        3   8.0   40.0  \n",
       "8      1       9           9        5  16.2   16.2  \n",
       "3      8       3           3        8   1.1    9.0  \n",
       "1      2       5           4       10   2.0    4.0  \n",
       "5      3       2           2        3   1.3    4.0  \n",
       "4      3       1           1        1   1.0    3.0  "
      ]
     },
     "execution_count": 26,
     "metadata": {},
     "output_type": "execute_result"
    }
   ],
   "source": [
    "hypothesis.sort_values(by='RICE', ascending=False)"
   ]
  },
  {
   "cell_type": "markdown",
   "metadata": {},
   "source": [
    "### Результат A/B теста."
   ]
  },
  {
   "cell_type": "markdown",
   "metadata": {},
   "source": [
    "Мы увидели что в группе B не изменился средний чек, но выросло количество заказов на 14.85% и изменение статистически значимо. Значит делаем вывод что группа B победила и тест можно завершать."
   ]
  }
 ],
 "metadata": {
  "ExecuteTimeLog": [
   {
    "duration": 429,
    "start_time": "2022-11-30T09:51:34.579Z"
   },
   {
    "duration": 115,
    "start_time": "2022-11-30T09:52:12.043Z"
   },
   {
    "duration": 129,
    "start_time": "2022-11-30T09:52:35.065Z"
   },
   {
    "duration": 120,
    "start_time": "2022-11-30T09:53:05.426Z"
   },
   {
    "duration": 54,
    "start_time": "2022-11-30T09:53:12.243Z"
   },
   {
    "duration": 84,
    "start_time": "2022-11-30T09:55:08.230Z"
   },
   {
    "duration": 57,
    "start_time": "2022-11-30T10:08:56.064Z"
   },
   {
    "duration": 50,
    "start_time": "2022-11-30T10:08:57.308Z"
   },
   {
    "duration": 57,
    "start_time": "2022-11-30T10:18:44.878Z"
   },
   {
    "duration": 120,
    "start_time": "2022-11-30T10:20:22.568Z"
   },
   {
    "duration": 69,
    "start_time": "2022-11-30T10:20:33.214Z"
   },
   {
    "duration": 59,
    "start_time": "2022-11-30T10:23:29.492Z"
   },
   {
    "duration": 64,
    "start_time": "2022-11-30T10:24:09.637Z"
   },
   {
    "duration": 57,
    "start_time": "2022-11-30T10:24:24.424Z"
   },
   {
    "duration": 67,
    "start_time": "2022-11-30T10:25:20.381Z"
   },
   {
    "duration": 83,
    "start_time": "2022-11-30T10:25:30.053Z"
   },
   {
    "duration": 62,
    "start_time": "2022-11-30T10:26:05.444Z"
   },
   {
    "duration": 61,
    "start_time": "2022-11-30T10:26:19.035Z"
   },
   {
    "duration": 48,
    "start_time": "2022-11-30T10:26:34.964Z"
   },
   {
    "duration": 48,
    "start_time": "2022-11-30T22:11:08.479Z"
   },
   {
    "duration": 420,
    "start_time": "2022-11-30T22:11:13.999Z"
   },
   {
    "duration": 107,
    "start_time": "2022-11-30T22:11:14.421Z"
   },
   {
    "duration": 96,
    "start_time": "2022-11-30T22:11:14.529Z"
   },
   {
    "duration": 92,
    "start_time": "2022-11-30T22:11:14.626Z"
   },
   {
    "duration": 828,
    "start_time": "2022-11-30T22:11:14.720Z"
   },
   {
    "duration": 13,
    "start_time": "2022-11-30T22:11:38.339Z"
   },
   {
    "duration": 12,
    "start_time": "2022-11-30T22:11:54.666Z"
   },
   {
    "duration": 14,
    "start_time": "2022-11-30T22:12:08.168Z"
   },
   {
    "duration": 50,
    "start_time": "2022-11-30T22:16:41.487Z"
   },
   {
    "duration": 45,
    "start_time": "2022-11-30T22:16:53.215Z"
   },
   {
    "duration": 13,
    "start_time": "2022-11-30T22:19:59.267Z"
   },
   {
    "duration": 14,
    "start_time": "2022-11-30T22:20:01.674Z"
   },
   {
    "duration": 2,
    "start_time": "2022-11-30T22:22:46.806Z"
   },
   {
    "duration": 57,
    "start_time": "2022-11-30T22:22:46.811Z"
   },
   {
    "duration": 61,
    "start_time": "2022-11-30T22:22:46.870Z"
   },
   {
    "duration": 60,
    "start_time": "2022-11-30T22:22:46.932Z"
   },
   {
    "duration": 12,
    "start_time": "2022-11-30T22:22:46.993Z"
   },
   {
    "duration": 17,
    "start_time": "2022-11-30T22:22:47.007Z"
   },
   {
    "duration": 9,
    "start_time": "2022-11-30T22:35:31.251Z"
   },
   {
    "duration": 49,
    "start_time": "2022-11-30T22:53:26.324Z"
   },
   {
    "duration": 47,
    "start_time": "2022-11-30T22:53:36.540Z"
   },
   {
    "duration": 9,
    "start_time": "2022-11-30T22:53:40.495Z"
   },
   {
    "duration": 17,
    "start_time": "2022-11-30T23:01:11.431Z"
   },
   {
    "duration": 52,
    "start_time": "2022-11-30T23:01:53.119Z"
   },
   {
    "duration": 17,
    "start_time": "2022-11-30T23:02:02.092Z"
   },
   {
    "duration": 88,
    "start_time": "2022-11-30T23:02:18.677Z"
   },
   {
    "duration": 15,
    "start_time": "2022-11-30T23:02:22.378Z"
   },
   {
    "duration": 47,
    "start_time": "2022-11-30T23:02:24.949Z"
   },
   {
    "duration": 15,
    "start_time": "2022-11-30T23:02:29.363Z"
   },
   {
    "duration": 19,
    "start_time": "2022-11-30T23:03:38.699Z"
   },
   {
    "duration": 17,
    "start_time": "2022-11-30T23:09:58.375Z"
   },
   {
    "duration": 36,
    "start_time": "2022-11-30T23:10:22.065Z"
   },
   {
    "duration": 20,
    "start_time": "2022-11-30T23:12:07.423Z"
   },
   {
    "duration": 10751,
    "start_time": "2022-11-30T23:12:49.411Z"
   },
   {
    "duration": 10583,
    "start_time": "2022-11-30T23:13:46.345Z"
   },
   {
    "duration": 19830,
    "start_time": "2022-11-30T23:16:06.740Z"
   },
   {
    "duration": 19350,
    "start_time": "2022-11-30T23:17:41.785Z"
   },
   {
    "duration": 50,
    "start_time": "2022-11-30T23:18:59.010Z"
   },
   {
    "duration": 10,
    "start_time": "2022-11-30T23:19:03.671Z"
   },
   {
    "duration": 13,
    "start_time": "2022-11-30T23:21:07.581Z"
   },
   {
    "duration": 11,
    "start_time": "2022-11-30T23:21:16.555Z"
   },
   {
    "duration": 12,
    "start_time": "2022-11-30T23:21:39.555Z"
   },
   {
    "duration": 16,
    "start_time": "2022-11-30T23:22:18.279Z"
   },
   {
    "duration": 7,
    "start_time": "2022-11-30T23:22:26.680Z"
   },
   {
    "duration": 14,
    "start_time": "2022-11-30T23:22:42.113Z"
   },
   {
    "duration": 7,
    "start_time": "2022-11-30T23:22:57.534Z"
   },
   {
    "duration": 5,
    "start_time": "2022-11-30T23:23:17.779Z"
   },
   {
    "duration": 8,
    "start_time": "2022-11-30T23:23:58.474Z"
   },
   {
    "duration": 7,
    "start_time": "2022-11-30T23:24:15.681Z"
   },
   {
    "duration": 7,
    "start_time": "2022-11-30T23:24:35.687Z"
   },
   {
    "duration": 12,
    "start_time": "2022-11-30T23:27:44.482Z"
   },
   {
    "duration": 11,
    "start_time": "2022-11-30T23:27:59.239Z"
   },
   {
    "duration": 11,
    "start_time": "2022-11-30T23:28:04.701Z"
   },
   {
    "duration": 17988,
    "start_time": "2022-11-30T23:28:41.991Z"
   },
   {
    "duration": 12,
    "start_time": "2022-11-30T23:29:03.710Z"
   },
   {
    "duration": 14,
    "start_time": "2022-11-30T23:29:29.005Z"
   },
   {
    "duration": 50,
    "start_time": "2022-11-30T23:33:08.705Z"
   },
   {
    "duration": 15,
    "start_time": "2022-11-30T23:33:17.480Z"
   },
   {
    "duration": 12,
    "start_time": "2022-11-30T23:34:11.559Z"
   },
   {
    "duration": 49,
    "start_time": "2022-11-30T23:34:42.106Z"
   },
   {
    "duration": 8,
    "start_time": "2022-11-30T23:34:50.971Z"
   },
   {
    "duration": 9,
    "start_time": "2022-11-30T23:35:58.901Z"
   },
   {
    "duration": 49,
    "start_time": "2022-11-30T23:36:18.693Z"
   },
   {
    "duration": 9,
    "start_time": "2022-11-30T23:36:32.319Z"
   },
   {
    "duration": 47,
    "start_time": "2022-11-30T23:36:47.742Z"
   },
   {
    "duration": 9,
    "start_time": "2022-11-30T23:37:03.787Z"
   },
   {
    "duration": 18,
    "start_time": "2022-11-30T23:39:21.604Z"
   },
   {
    "duration": 581,
    "start_time": "2022-11-30T23:40:42.145Z"
   },
   {
    "duration": 166,
    "start_time": "2022-11-30T23:40:45.376Z"
   },
   {
    "duration": 21168,
    "start_time": "2022-11-30T23:41:37.709Z"
   },
   {
    "duration": 765,
    "start_time": "2022-11-30T23:41:58.879Z"
   },
   {
    "duration": 766,
    "start_time": "2022-11-30T23:42:13.081Z"
   },
   {
    "duration": 780,
    "start_time": "2022-11-30T23:42:41.812Z"
   },
   {
    "duration": 707,
    "start_time": "2022-11-30T23:42:50.686Z"
   },
   {
    "duration": 20,
    "start_time": "2022-11-30T23:44:10.469Z"
   },
   {
    "duration": 21,
    "start_time": "2022-11-30T23:44:18.270Z"
   },
   {
    "duration": 19,
    "start_time": "2022-11-30T23:44:21.184Z"
   },
   {
    "duration": 161,
    "start_time": "2022-11-30T23:47:02.517Z"
   },
   {
    "duration": 167,
    "start_time": "2022-11-30T23:47:18.310Z"
   },
   {
    "duration": 307,
    "start_time": "2022-11-30T23:47:33.909Z"
   },
   {
    "duration": 310,
    "start_time": "2022-11-30T23:47:43.023Z"
   },
   {
    "duration": 3,
    "start_time": "2022-11-30T23:48:05.307Z"
   },
   {
    "duration": 334,
    "start_time": "2022-11-30T23:48:13.464Z"
   },
   {
    "duration": 48,
    "start_time": "2022-11-30T23:48:25.020Z"
   },
   {
    "duration": 8,
    "start_time": "2022-11-30T23:48:45.889Z"
   },
   {
    "duration": 2,
    "start_time": "2022-11-30T23:49:08.244Z"
   },
   {
    "duration": 389,
    "start_time": "2022-11-30T23:49:14.216Z"
   },
   {
    "duration": 370,
    "start_time": "2022-11-30T23:49:19.022Z"
   },
   {
    "duration": 174,
    "start_time": "2022-11-30T23:49:32.834Z"
   },
   {
    "duration": 220,
    "start_time": "2022-11-30T23:49:54.338Z"
   },
   {
    "duration": 213,
    "start_time": "2022-11-30T23:50:52.395Z"
   },
   {
    "duration": 230,
    "start_time": "2022-11-30T23:51:01.672Z"
   },
   {
    "duration": 223,
    "start_time": "2022-11-30T23:52:10.842Z"
   },
   {
    "duration": 232,
    "start_time": "2022-11-30T23:52:22.455Z"
   },
   {
    "duration": 9,
    "start_time": "2022-11-30T23:53:40.578Z"
   },
   {
    "duration": 233,
    "start_time": "2022-11-30T23:53:54.859Z"
   },
   {
    "duration": 51,
    "start_time": "2022-11-30T23:54:04.607Z"
   },
   {
    "duration": 220,
    "start_time": "2022-11-30T23:54:09.574Z"
   },
   {
    "duration": 228,
    "start_time": "2022-11-30T23:54:14.589Z"
   },
   {
    "duration": 279,
    "start_time": "2022-11-30T23:54:21.148Z"
   },
   {
    "duration": 215,
    "start_time": "2022-11-30T23:54:27.448Z"
   },
   {
    "duration": 235,
    "start_time": "2022-11-30T23:55:18.583Z"
   },
   {
    "duration": 238,
    "start_time": "2022-11-30T23:55:24.924Z"
   },
   {
    "duration": 243,
    "start_time": "2022-11-30T23:55:34.809Z"
   },
   {
    "duration": 216,
    "start_time": "2022-11-30T23:56:41.631Z"
   },
   {
    "duration": 827,
    "start_time": "2022-12-01T00:00:44.399Z"
   },
   {
    "duration": 200,
    "start_time": "2022-12-01T00:01:39.436Z"
   },
   {
    "duration": 165,
    "start_time": "2022-12-01T00:03:04.999Z"
   },
   {
    "duration": 209,
    "start_time": "2022-12-01T00:03:16.976Z"
   },
   {
    "duration": 145,
    "start_time": "2022-12-01T00:05:17.499Z"
   },
   {
    "duration": 144,
    "start_time": "2022-12-01T00:05:26.794Z"
   },
   {
    "duration": 207,
    "start_time": "2022-12-01T00:05:31.990Z"
   },
   {
    "duration": 70,
    "start_time": "2022-12-01T00:05:46.705Z"
   },
   {
    "duration": 226,
    "start_time": "2022-12-01T00:06:34.960Z"
   },
   {
    "duration": 101,
    "start_time": "2022-12-01T00:07:08.528Z"
   },
   {
    "duration": 199,
    "start_time": "2022-12-01T00:07:20.629Z"
   },
   {
    "duration": 52,
    "start_time": "2022-12-01T00:09:38.982Z"
   },
   {
    "duration": 13,
    "start_time": "2022-12-01T00:09:55.359Z"
   },
   {
    "duration": 205,
    "start_time": "2022-12-01T00:10:49.022Z"
   },
   {
    "duration": 234,
    "start_time": "2022-12-01T00:11:46.610Z"
   },
   {
    "duration": 233,
    "start_time": "2022-12-01T00:11:53.607Z"
   },
   {
    "duration": 215,
    "start_time": "2022-12-01T00:11:57.426Z"
   },
   {
    "duration": 230,
    "start_time": "2022-12-01T00:14:46.935Z"
   },
   {
    "duration": 325,
    "start_time": "2022-12-01T00:14:59.792Z"
   },
   {
    "duration": 215,
    "start_time": "2022-12-01T00:15:42.611Z"
   },
   {
    "duration": 24,
    "start_time": "2022-12-01T00:17:18.769Z"
   },
   {
    "duration": 215,
    "start_time": "2022-12-01T00:18:33.790Z"
   },
   {
    "duration": 232,
    "start_time": "2022-12-01T00:18:54.508Z"
   },
   {
    "duration": 210,
    "start_time": "2022-12-01T00:19:55.787Z"
   },
   {
    "duration": 212,
    "start_time": "2022-12-01T00:20:07.365Z"
   },
   {
    "duration": 213,
    "start_time": "2022-12-01T00:20:30.498Z"
   },
   {
    "duration": 212,
    "start_time": "2022-12-01T00:20:49.876Z"
   },
   {
    "duration": 219,
    "start_time": "2022-12-01T00:21:27.360Z"
   },
   {
    "duration": 238,
    "start_time": "2022-12-01T00:21:47.089Z"
   },
   {
    "duration": 845,
    "start_time": "2022-12-02T10:04:07.597Z"
   },
   {
    "duration": 3,
    "start_time": "2022-12-02T10:08:54.869Z"
   },
   {
    "duration": 147,
    "start_time": "2022-12-02T10:08:54.875Z"
   },
   {
    "duration": 58,
    "start_time": "2022-12-02T10:08:55.023Z"
   },
   {
    "duration": 85,
    "start_time": "2022-12-02T10:08:55.084Z"
   },
   {
    "duration": 13,
    "start_time": "2022-12-02T10:08:55.171Z"
   },
   {
    "duration": 13,
    "start_time": "2022-12-02T10:08:55.186Z"
   },
   {
    "duration": 0,
    "start_time": "2022-12-02T10:09:16.732Z"
   },
   {
    "duration": 0,
    "start_time": "2022-12-02T10:09:16.733Z"
   },
   {
    "duration": 0,
    "start_time": "2022-12-02T10:09:16.734Z"
   },
   {
    "duration": 0,
    "start_time": "2022-12-02T10:09:16.735Z"
   },
   {
    "duration": 0,
    "start_time": "2022-12-02T10:09:16.736Z"
   },
   {
    "duration": 0,
    "start_time": "2022-12-02T10:09:16.737Z"
   },
   {
    "duration": 0,
    "start_time": "2022-12-02T10:09:16.739Z"
   },
   {
    "duration": 0,
    "start_time": "2022-12-02T10:09:16.740Z"
   },
   {
    "duration": 0,
    "start_time": "2022-12-02T10:09:16.741Z"
   },
   {
    "duration": 0,
    "start_time": "2022-12-02T10:09:16.742Z"
   },
   {
    "duration": 1,
    "start_time": "2022-12-02T10:09:16.743Z"
   },
   {
    "duration": 680,
    "start_time": "2022-12-02T10:09:40.095Z"
   },
   {
    "duration": 63,
    "start_time": "2022-12-02T10:09:40.778Z"
   },
   {
    "duration": 53,
    "start_time": "2022-12-02T10:09:40.843Z"
   },
   {
    "duration": 44,
    "start_time": "2022-12-02T10:09:40.898Z"
   },
   {
    "duration": 13,
    "start_time": "2022-12-02T10:09:40.944Z"
   },
   {
    "duration": 13,
    "start_time": "2022-12-02T10:09:40.958Z"
   },
   {
    "duration": 21325,
    "start_time": "2022-12-02T10:09:40.973Z"
   },
   {
    "duration": 24,
    "start_time": "2022-12-02T10:10:02.300Z"
   },
   {
    "duration": 254,
    "start_time": "2022-12-02T10:10:02.326Z"
   },
   {
    "duration": 39,
    "start_time": "2022-12-02T10:10:02.583Z"
   },
   {
    "duration": 0,
    "start_time": "2022-12-02T10:10:02.624Z"
   },
   {
    "duration": 284,
    "start_time": "2022-12-02T10:11:13.751Z"
   },
   {
    "duration": 292,
    "start_time": "2022-12-02T10:11:19.438Z"
   },
   {
    "duration": 309,
    "start_time": "2022-12-02T10:11:21.795Z"
   },
   {
    "duration": 163,
    "start_time": "2022-12-02T10:12:18.618Z"
   },
   {
    "duration": 154,
    "start_time": "2022-12-02T10:14:03.270Z"
   },
   {
    "duration": 201,
    "start_time": "2022-12-02T10:14:16.698Z"
   },
   {
    "duration": 19,
    "start_time": "2022-12-02T10:14:52.421Z"
   },
   {
    "duration": 271,
    "start_time": "2022-12-02T10:14:57.956Z"
   },
   {
    "duration": 234,
    "start_time": "2022-12-02T10:15:03.341Z"
   },
   {
    "duration": 227,
    "start_time": "2022-12-02T10:15:12.857Z"
   },
   {
    "duration": 344,
    "start_time": "2022-12-02T10:17:18.688Z"
   },
   {
    "duration": 216,
    "start_time": "2022-12-02T10:17:35.166Z"
   },
   {
    "duration": 238,
    "start_time": "2022-12-02T10:17:41.424Z"
   },
   {
    "duration": 248,
    "start_time": "2022-12-02T10:17:55.454Z"
   },
   {
    "duration": 259,
    "start_time": "2022-12-02T10:24:13.560Z"
   },
   {
    "duration": 234,
    "start_time": "2022-12-02T10:24:43.429Z"
   },
   {
    "duration": 256,
    "start_time": "2022-12-02T10:24:49.584Z"
   },
   {
    "duration": 227,
    "start_time": "2022-12-02T10:24:52.964Z"
   },
   {
    "duration": 260,
    "start_time": "2022-12-02T10:32:24.152Z"
   },
   {
    "duration": 301,
    "start_time": "2022-12-02T10:32:47.704Z"
   },
   {
    "duration": 332,
    "start_time": "2022-12-02T10:35:39.711Z"
   },
   {
    "duration": 11,
    "start_time": "2022-12-02T10:41:34.466Z"
   },
   {
    "duration": 267,
    "start_time": "2022-12-02T10:43:49.177Z"
   },
   {
    "duration": 230,
    "start_time": "2022-12-02T10:43:52.349Z"
   },
   {
    "duration": 15,
    "start_time": "2022-12-02T10:44:21.763Z"
   },
   {
    "duration": 234,
    "start_time": "2022-12-02T10:44:32.635Z"
   },
   {
    "duration": 235,
    "start_time": "2022-12-02T10:45:29.833Z"
   },
   {
    "duration": 351,
    "start_time": "2022-12-02T10:50:55.684Z"
   },
   {
    "duration": 288,
    "start_time": "2022-12-02T10:51:15.472Z"
   },
   {
    "duration": 246,
    "start_time": "2022-12-02T10:51:41.555Z"
   },
   {
    "duration": 281,
    "start_time": "2022-12-02T10:52:09.328Z"
   },
   {
    "duration": 287,
    "start_time": "2022-12-02T10:52:22.690Z"
   },
   {
    "duration": 299,
    "start_time": "2022-12-02T10:52:47.985Z"
   },
   {
    "duration": 322,
    "start_time": "2022-12-02T10:53:37.730Z"
   },
   {
    "duration": 325,
    "start_time": "2022-12-02T10:53:57.911Z"
   },
   {
    "duration": 348,
    "start_time": "2022-12-02T10:54:10.711Z"
   },
   {
    "duration": 226,
    "start_time": "2022-12-02T11:01:21.391Z"
   },
   {
    "duration": 214,
    "start_time": "2022-12-02T11:05:03.313Z"
   },
   {
    "duration": 315,
    "start_time": "2022-12-02T11:05:09.340Z"
   },
   {
    "duration": 213,
    "start_time": "2022-12-02T11:07:08.251Z"
   },
   {
    "duration": 220,
    "start_time": "2022-12-02T11:07:39.592Z"
   },
   {
    "duration": 286,
    "start_time": "2022-12-02T11:08:27.997Z"
   },
   {
    "duration": 285,
    "start_time": "2022-12-02T11:08:34.684Z"
   },
   {
    "duration": 348,
    "start_time": "2022-12-02T11:11:22.288Z"
   },
   {
    "duration": 321,
    "start_time": "2022-12-02T11:11:38.176Z"
   },
   {
    "duration": 317,
    "start_time": "2022-12-02T11:12:01.753Z"
   },
   {
    "duration": 342,
    "start_time": "2022-12-02T11:13:38.187Z"
   },
   {
    "duration": 311,
    "start_time": "2022-12-02T11:13:42.766Z"
   },
   {
    "duration": 331,
    "start_time": "2022-12-02T11:13:52.268Z"
   },
   {
    "duration": 470,
    "start_time": "2022-12-02T11:13:56.688Z"
   },
   {
    "duration": 9,
    "start_time": "2022-12-02T11:23:32.575Z"
   },
   {
    "duration": 8,
    "start_time": "2022-12-02T11:23:48.266Z"
   },
   {
    "duration": 130,
    "start_time": "2022-12-02T11:23:53.445Z"
   },
   {
    "duration": 149,
    "start_time": "2022-12-02T11:34:25.217Z"
   },
   {
    "duration": 4,
    "start_time": "2022-12-02T11:36:33.226Z"
   },
   {
    "duration": 8,
    "start_time": "2022-12-02T11:36:38.953Z"
   },
   {
    "duration": 9,
    "start_time": "2022-12-02T11:36:54.440Z"
   },
   {
    "duration": 4,
    "start_time": "2022-12-02T11:37:43.965Z"
   },
   {
    "duration": 8,
    "start_time": "2022-12-02T11:37:50.812Z"
   },
   {
    "duration": 9,
    "start_time": "2022-12-02T11:38:23.454Z"
   },
   {
    "duration": 57,
    "start_time": "2022-12-02T11:41:10.361Z"
   },
   {
    "duration": 9,
    "start_time": "2022-12-02T11:41:18.972Z"
   },
   {
    "duration": 9,
    "start_time": "2022-12-02T11:41:29.073Z"
   },
   {
    "duration": 8,
    "start_time": "2022-12-02T11:41:37.537Z"
   },
   {
    "duration": 8,
    "start_time": "2022-12-02T11:41:53.204Z"
   },
   {
    "duration": 8,
    "start_time": "2022-12-02T11:42:57.053Z"
   },
   {
    "duration": 43,
    "start_time": "2022-12-02T11:43:11.174Z"
   },
   {
    "duration": 12,
    "start_time": "2022-12-02T11:44:02.103Z"
   },
   {
    "duration": 140,
    "start_time": "2022-12-02T11:44:37.280Z"
   },
   {
    "duration": 117,
    "start_time": "2022-12-02T11:44:48.751Z"
   },
   {
    "duration": 49,
    "start_time": "2022-12-02T11:46:14.911Z"
   },
   {
    "duration": 166,
    "start_time": "2022-12-02T11:46:28.005Z"
   },
   {
    "duration": 44,
    "start_time": "2022-12-02T11:46:39.147Z"
   },
   {
    "duration": 149,
    "start_time": "2022-12-02T11:48:32.505Z"
   },
   {
    "duration": 797,
    "start_time": "2022-12-02T11:48:36.332Z"
   },
   {
    "duration": 7,
    "start_time": "2022-12-02T11:48:46.349Z"
   },
   {
    "duration": 6,
    "start_time": "2022-12-02T11:49:01.451Z"
   },
   {
    "duration": 5,
    "start_time": "2022-12-02T11:49:06.861Z"
   },
   {
    "duration": 156,
    "start_time": "2022-12-02T11:51:21.176Z"
   },
   {
    "duration": 5,
    "start_time": "2022-12-02T11:51:31.470Z"
   },
   {
    "duration": 176,
    "start_time": "2022-12-02T11:51:36.636Z"
   },
   {
    "duration": 5,
    "start_time": "2022-12-02T11:51:41.961Z"
   },
   {
    "duration": 145,
    "start_time": "2022-12-02T11:52:08.635Z"
   },
   {
    "duration": 5,
    "start_time": "2022-12-02T11:52:12.416Z"
   },
   {
    "duration": 157,
    "start_time": "2022-12-02T11:53:15.950Z"
   },
   {
    "duration": 5,
    "start_time": "2022-12-02T11:53:25.832Z"
   },
   {
    "duration": 6,
    "start_time": "2022-12-02T12:40:08.117Z"
   },
   {
    "duration": 146,
    "start_time": "2022-12-02T12:41:14.709Z"
   },
   {
    "duration": 175,
    "start_time": "2022-12-02T12:41:37.235Z"
   },
   {
    "duration": 181,
    "start_time": "2022-12-02T12:41:41.981Z"
   },
   {
    "duration": 238,
    "start_time": "2022-12-02T12:41:55.072Z"
   },
   {
    "duration": 154,
    "start_time": "2022-12-02T12:42:02.047Z"
   },
   {
    "duration": 5,
    "start_time": "2022-12-02T12:50:23.554Z"
   },
   {
    "duration": 9,
    "start_time": "2022-12-02T12:58:05.867Z"
   },
   {
    "duration": 477,
    "start_time": "2022-12-02T12:58:46.634Z"
   },
   {
    "duration": 37,
    "start_time": "2022-12-02T12:59:14.439Z"
   },
   {
    "duration": 19,
    "start_time": "2022-12-02T13:00:02.576Z"
   },
   {
    "duration": 176,
    "start_time": "2022-12-02T13:01:04.462Z"
   },
   {
    "duration": 111,
    "start_time": "2022-12-02T13:02:47.554Z"
   },
   {
    "duration": 19,
    "start_time": "2022-12-02T13:14:31.972Z"
   },
   {
    "duration": 21,
    "start_time": "2022-12-02T13:14:41.864Z"
   },
   {
    "duration": 20,
    "start_time": "2022-12-02T13:15:05.961Z"
   },
   {
    "duration": 17,
    "start_time": "2022-12-02T13:15:49.550Z"
   },
   {
    "duration": 21,
    "start_time": "2022-12-02T13:16:03.774Z"
   },
   {
    "duration": 16,
    "start_time": "2022-12-02T13:16:19.700Z"
   },
   {
    "duration": 53,
    "start_time": "2022-12-02T13:17:00.397Z"
   },
   {
    "duration": 14,
    "start_time": "2022-12-02T13:17:43.508Z"
   },
   {
    "duration": 23,
    "start_time": "2022-12-02T13:18:09.403Z"
   },
   {
    "duration": 4,
    "start_time": "2022-12-02T13:18:34.530Z"
   },
   {
    "duration": 24,
    "start_time": "2022-12-02T13:18:38.120Z"
   },
   {
    "duration": 15,
    "start_time": "2022-12-02T13:19:34.148Z"
   },
   {
    "duration": 14,
    "start_time": "2022-12-02T13:19:50.950Z"
   },
   {
    "duration": 15,
    "start_time": "2022-12-02T13:19:57.655Z"
   },
   {
    "duration": 16,
    "start_time": "2022-12-02T13:20:19.997Z"
   },
   {
    "duration": 15,
    "start_time": "2022-12-02T13:20:33.847Z"
   },
   {
    "duration": 14,
    "start_time": "2022-12-02T13:22:23.909Z"
   },
   {
    "duration": 18,
    "start_time": "2022-12-02T13:23:34.987Z"
   },
   {
    "duration": 20,
    "start_time": "2022-12-02T13:23:44.836Z"
   },
   {
    "duration": 27,
    "start_time": "2022-12-02T13:24:07.501Z"
   },
   {
    "duration": 20,
    "start_time": "2022-12-02T13:25:03.330Z"
   },
   {
    "duration": 34,
    "start_time": "2022-12-02T13:25:16.294Z"
   },
   {
    "duration": 20,
    "start_time": "2022-12-02T13:25:35.304Z"
   },
   {
    "duration": 21,
    "start_time": "2022-12-02T13:25:48.521Z"
   },
   {
    "duration": 19,
    "start_time": "2022-12-02T13:26:11.362Z"
   },
   {
    "duration": 19,
    "start_time": "2022-12-02T13:26:15.529Z"
   },
   {
    "duration": 1215,
    "start_time": "2022-12-03T12:23:01.280Z"
   },
   {
    "duration": 150,
    "start_time": "2022-12-03T12:23:02.497Z"
   },
   {
    "duration": 142,
    "start_time": "2022-12-03T12:23:02.650Z"
   },
   {
    "duration": 65,
    "start_time": "2022-12-03T12:23:02.794Z"
   },
   {
    "duration": 12,
    "start_time": "2022-12-03T12:23:02.860Z"
   },
   {
    "duration": 15,
    "start_time": "2022-12-03T12:23:02.874Z"
   },
   {
    "duration": 271,
    "start_time": "2022-12-03T12:23:02.891Z"
   },
   {
    "duration": 299,
    "start_time": "2022-12-03T12:23:03.164Z"
   },
   {
    "duration": 219,
    "start_time": "2022-12-03T12:23:03.464Z"
   },
   {
    "duration": 387,
    "start_time": "2022-12-03T12:23:03.686Z"
   },
   {
    "duration": 273,
    "start_time": "2022-12-03T12:23:04.075Z"
   },
   {
    "duration": 304,
    "start_time": "2022-12-03T12:23:04.350Z"
   },
   {
    "duration": 125,
    "start_time": "2022-12-03T12:23:04.656Z"
   },
   {
    "duration": 4,
    "start_time": "2022-12-03T12:23:04.782Z"
   },
   {
    "duration": 149,
    "start_time": "2022-12-03T12:23:04.788Z"
   },
   {
    "duration": 3,
    "start_time": "2022-12-03T12:23:04.939Z"
   },
   {
    "duration": 95,
    "start_time": "2022-12-03T12:23:04.943Z"
   },
   {
    "duration": 181,
    "start_time": "2022-12-03T12:25:06.598Z"
   },
   {
    "duration": 99,
    "start_time": "2022-12-03T12:26:29.081Z"
   },
   {
    "duration": 149,
    "start_time": "2022-12-03T12:27:14.943Z"
   },
   {
    "duration": 213,
    "start_time": "2022-12-03T12:27:28.507Z"
   },
   {
    "duration": 215,
    "start_time": "2022-12-03T12:27:35.970Z"
   },
   {
    "duration": 15,
    "start_time": "2022-12-03T12:28:19.148Z"
   },
   {
    "duration": 129,
    "start_time": "2022-12-03T12:28:52.866Z"
   },
   {
    "duration": 6,
    "start_time": "2022-12-03T12:29:22.347Z"
   },
   {
    "duration": 16,
    "start_time": "2022-12-03T12:29:37.077Z"
   },
   {
    "duration": 145,
    "start_time": "2022-12-03T12:30:30.597Z"
   },
   {
    "duration": 159,
    "start_time": "2022-12-03T12:38:48.285Z"
   },
   {
    "duration": 150,
    "start_time": "2022-12-03T12:40:07.765Z"
   },
   {
    "duration": 141,
    "start_time": "2022-12-03T12:40:13.801Z"
   },
   {
    "duration": 157,
    "start_time": "2022-12-03T12:40:32.996Z"
   },
   {
    "duration": 160,
    "start_time": "2022-12-03T12:40:47.035Z"
   },
   {
    "duration": 151,
    "start_time": "2022-12-03T12:41:10.339Z"
   },
   {
    "duration": 213,
    "start_time": "2022-12-03T12:41:15.291Z"
   },
   {
    "duration": 200,
    "start_time": "2022-12-03T12:41:21.474Z"
   },
   {
    "duration": 10,
    "start_time": "2022-12-03T12:43:04.556Z"
   },
   {
    "duration": 9,
    "start_time": "2022-12-03T12:45:36.647Z"
   },
   {
    "duration": 10,
    "start_time": "2022-12-03T12:45:55.744Z"
   },
   {
    "duration": 9,
    "start_time": "2022-12-03T12:46:02.467Z"
   },
   {
    "duration": 10,
    "start_time": "2022-12-03T12:47:59.896Z"
   },
   {
    "duration": 50,
    "start_time": "2022-12-03T13:23:44.243Z"
   },
   {
    "duration": 684,
    "start_time": "2022-12-03T13:32:05.933Z"
   },
   {
    "duration": 9,
    "start_time": "2022-12-03T13:32:30.497Z"
   },
   {
    "duration": 10,
    "start_time": "2022-12-03T13:32:42.624Z"
   },
   {
    "duration": 10,
    "start_time": "2022-12-03T13:34:34.771Z"
   },
   {
    "duration": 11,
    "start_time": "2022-12-03T13:35:09.341Z"
   },
   {
    "duration": 923,
    "start_time": "2022-12-03T13:36:22.100Z"
   },
   {
    "duration": 670,
    "start_time": "2022-12-03T13:36:26.124Z"
   },
   {
    "duration": 8,
    "start_time": "2022-12-03T13:36:46.523Z"
   },
   {
    "duration": 22,
    "start_time": "2022-12-03T13:37:06.688Z"
   },
   {
    "duration": 21,
    "start_time": "2022-12-03T13:37:27.510Z"
   },
   {
    "duration": 22,
    "start_time": "2022-12-03T13:37:52.021Z"
   },
   {
    "duration": 14,
    "start_time": "2022-12-03T13:42:30.247Z"
   },
   {
    "duration": 12,
    "start_time": "2022-12-03T13:47:44.669Z"
   },
   {
    "duration": 12,
    "start_time": "2022-12-03T13:47:51.834Z"
   },
   {
    "duration": 14,
    "start_time": "2022-12-03T13:48:09.399Z"
   },
   {
    "duration": 13,
    "start_time": "2022-12-03T13:48:24.737Z"
   },
   {
    "duration": 13,
    "start_time": "2022-12-03T13:48:37.218Z"
   },
   {
    "duration": 13,
    "start_time": "2022-12-03T13:48:46.263Z"
   },
   {
    "duration": 16,
    "start_time": "2022-12-03T13:49:01.465Z"
   },
   {
    "duration": 12,
    "start_time": "2022-12-03T13:49:10.118Z"
   },
   {
    "duration": 13,
    "start_time": "2022-12-03T13:49:20.888Z"
   },
   {
    "duration": 14,
    "start_time": "2022-12-03T13:49:34.764Z"
   },
   {
    "duration": 13,
    "start_time": "2022-12-03T13:49:50.452Z"
   },
   {
    "duration": 9,
    "start_time": "2022-12-03T13:53:16.834Z"
   },
   {
    "duration": 8,
    "start_time": "2022-12-03T13:53:29.712Z"
   },
   {
    "duration": 3,
    "start_time": "2022-12-03T13:53:33.396Z"
   },
   {
    "duration": 106,
    "start_time": "2022-12-03T13:53:33.402Z"
   },
   {
    "duration": 88,
    "start_time": "2022-12-03T13:53:33.510Z"
   },
   {
    "duration": 79,
    "start_time": "2022-12-03T13:53:33.600Z"
   },
   {
    "duration": 10,
    "start_time": "2022-12-03T13:53:33.681Z"
   },
   {
    "duration": 21,
    "start_time": "2022-12-03T13:53:33.693Z"
   },
   {
    "duration": 269,
    "start_time": "2022-12-03T13:53:33.716Z"
   },
   {
    "duration": 208,
    "start_time": "2022-12-03T13:53:33.987Z"
   },
   {
    "duration": 207,
    "start_time": "2022-12-03T13:53:34.197Z"
   },
   {
    "duration": 320,
    "start_time": "2022-12-03T13:53:34.407Z"
   },
   {
    "duration": 234,
    "start_time": "2022-12-03T13:53:34.729Z"
   },
   {
    "duration": 293,
    "start_time": "2022-12-03T13:53:34.965Z"
   },
   {
    "duration": 141,
    "start_time": "2022-12-03T13:53:35.261Z"
   },
   {
    "duration": 5,
    "start_time": "2022-12-03T13:53:35.404Z"
   },
   {
    "duration": 184,
    "start_time": "2022-12-03T13:53:35.410Z"
   },
   {
    "duration": 4,
    "start_time": "2022-12-03T13:53:35.595Z"
   },
   {
    "duration": 209,
    "start_time": "2022-12-03T13:53:35.601Z"
   },
   {
    "duration": 158,
    "start_time": "2022-12-03T13:53:35.812Z"
   },
   {
    "duration": 11,
    "start_time": "2022-12-03T13:53:35.971Z"
   },
   {
    "duration": 11,
    "start_time": "2022-12-03T13:53:35.984Z"
   },
   {
    "duration": 29,
    "start_time": "2022-12-03T13:53:35.996Z"
   },
   {
    "duration": 23,
    "start_time": "2022-12-03T13:53:36.027Z"
   },
   {
    "duration": 15,
    "start_time": "2022-12-03T13:53:36.051Z"
   },
   {
    "duration": 13,
    "start_time": "2022-12-03T13:55:02.991Z"
   },
   {
    "duration": 148,
    "start_time": "2022-12-03T14:04:21.652Z"
   },
   {
    "duration": 168,
    "start_time": "2022-12-03T14:04:29.580Z"
   },
   {
    "duration": 11,
    "start_time": "2022-12-03T14:06:05.016Z"
   },
   {
    "duration": 82,
    "start_time": "2022-12-03T14:10:03.890Z"
   },
   {
    "duration": 3,
    "start_time": "2022-12-03T14:10:14.316Z"
   },
   {
    "duration": 234,
    "start_time": "2022-12-03T14:12:53.018Z"
   },
   {
    "duration": 1021,
    "start_time": "2022-12-03T14:36:55.203Z"
   },
   {
    "duration": 66,
    "start_time": "2022-12-03T14:36:56.226Z"
   },
   {
    "duration": 66,
    "start_time": "2022-12-03T14:36:56.293Z"
   },
   {
    "duration": 61,
    "start_time": "2022-12-03T14:36:56.362Z"
   },
   {
    "duration": 14,
    "start_time": "2022-12-03T14:36:56.424Z"
   },
   {
    "duration": 17,
    "start_time": "2022-12-03T14:36:56.439Z"
   },
   {
    "duration": 302,
    "start_time": "2022-12-03T14:36:56.458Z"
   },
   {
    "duration": 312,
    "start_time": "2022-12-03T14:36:56.761Z"
   },
   {
    "duration": 225,
    "start_time": "2022-12-03T14:36:57.075Z"
   },
   {
    "duration": 289,
    "start_time": "2022-12-03T14:36:57.302Z"
   },
   {
    "duration": 261,
    "start_time": "2022-12-03T14:36:57.593Z"
   },
   {
    "duration": 339,
    "start_time": "2022-12-03T14:36:57.856Z"
   },
   {
    "duration": 135,
    "start_time": "2022-12-03T14:36:58.197Z"
   },
   {
    "duration": 5,
    "start_time": "2022-12-03T14:36:58.334Z"
   },
   {
    "duration": 144,
    "start_time": "2022-12-03T14:36:58.355Z"
   },
   {
    "duration": 4,
    "start_time": "2022-12-03T14:36:58.501Z"
   },
   {
    "duration": 250,
    "start_time": "2022-12-03T14:36:58.507Z"
   },
   {
    "duration": 178,
    "start_time": "2022-12-03T14:36:58.759Z"
   },
   {
    "duration": 19,
    "start_time": "2022-12-03T14:36:58.939Z"
   },
   {
    "duration": 12,
    "start_time": "2022-12-03T14:36:58.959Z"
   },
   {
    "duration": 9,
    "start_time": "2022-12-03T14:36:58.973Z"
   },
   {
    "duration": 25,
    "start_time": "2022-12-03T14:36:58.984Z"
   },
   {
    "duration": 14,
    "start_time": "2022-12-03T14:36:59.010Z"
   },
   {
    "duration": 15,
    "start_time": "2022-12-03T14:36:59.055Z"
   },
   {
    "duration": 52,
    "start_time": "2022-12-03T15:54:34.301Z"
   },
   {
    "duration": 43,
    "start_time": "2022-12-03T15:54:39.310Z"
   },
   {
    "duration": 1223,
    "start_time": "2022-12-03T15:54:43.739Z"
   },
   {
    "duration": 203,
    "start_time": "2022-12-03T15:54:44.965Z"
   },
   {
    "duration": 242,
    "start_time": "2022-12-03T15:54:45.170Z"
   },
   {
    "duration": 159,
    "start_time": "2022-12-03T15:54:45.414Z"
   },
   {
    "duration": 13,
    "start_time": "2022-12-03T15:54:45.574Z"
   },
   {
    "duration": 14,
    "start_time": "2022-12-03T15:54:45.589Z"
   },
   {
    "duration": 288,
    "start_time": "2022-12-03T15:54:45.605Z"
   },
   {
    "duration": 372,
    "start_time": "2022-12-03T15:54:45.896Z"
   },
   {
    "duration": 220,
    "start_time": "2022-12-03T15:54:46.270Z"
   },
   {
    "duration": 366,
    "start_time": "2022-12-03T15:54:46.496Z"
   },
   {
    "duration": 257,
    "start_time": "2022-12-03T15:54:46.864Z"
   },
   {
    "duration": 311,
    "start_time": "2022-12-03T15:54:47.123Z"
   },
   {
    "duration": 137,
    "start_time": "2022-12-03T15:54:47.436Z"
   },
   {
    "duration": 5,
    "start_time": "2022-12-03T15:54:47.575Z"
   },
   {
    "duration": 170,
    "start_time": "2022-12-03T15:54:47.582Z"
   },
   {
    "duration": 5,
    "start_time": "2022-12-03T15:54:47.754Z"
   },
   {
    "duration": 306,
    "start_time": "2022-12-03T15:54:47.761Z"
   },
   {
    "duration": 162,
    "start_time": "2022-12-03T15:54:48.068Z"
   },
   {
    "duration": 9,
    "start_time": "2022-12-03T15:54:48.232Z"
   },
   {
    "duration": 10,
    "start_time": "2022-12-03T15:54:48.243Z"
   },
   {
    "duration": 9,
    "start_time": "2022-12-03T15:54:48.254Z"
   },
   {
    "duration": 42,
    "start_time": "2022-12-03T15:54:48.265Z"
   },
   {
    "duration": 13,
    "start_time": "2022-12-03T15:54:48.309Z"
   },
   {
    "duration": 15,
    "start_time": "2022-12-03T15:54:48.324Z"
   },
   {
    "duration": 41,
    "start_time": "2022-12-03T15:55:54.567Z"
   },
   {
    "duration": 39,
    "start_time": "2022-12-03T15:56:00.355Z"
   },
   {
    "duration": 50,
    "start_time": "2022-12-03T15:56:21.860Z"
   },
   {
    "duration": 49,
    "start_time": "2022-12-05T12:12:17.567Z"
   },
   {
    "duration": 1421,
    "start_time": "2022-12-05T12:12:21.316Z"
   },
   {
    "duration": 336,
    "start_time": "2022-12-05T12:12:22.740Z"
   },
   {
    "duration": 67,
    "start_time": "2022-12-05T12:12:23.078Z"
   },
   {
    "duration": 48,
    "start_time": "2022-12-05T12:12:23.147Z"
   },
   {
    "duration": 11,
    "start_time": "2022-12-05T12:12:23.198Z"
   },
   {
    "duration": 28,
    "start_time": "2022-12-05T12:12:23.211Z"
   },
   {
    "duration": 15,
    "start_time": "2022-12-05T12:12:23.242Z"
   },
   {
    "duration": 295,
    "start_time": "2022-12-05T12:12:23.259Z"
   },
   {
    "duration": 322,
    "start_time": "2022-12-05T12:12:23.555Z"
   },
   {
    "duration": 243,
    "start_time": "2022-12-05T12:12:23.880Z"
   },
   {
    "duration": 384,
    "start_time": "2022-12-05T12:12:24.124Z"
   },
   {
    "duration": 276,
    "start_time": "2022-12-05T12:12:24.510Z"
   },
   {
    "duration": 351,
    "start_time": "2022-12-05T12:12:24.789Z"
   },
   {
    "duration": 143,
    "start_time": "2022-12-05T12:12:25.142Z"
   },
   {
    "duration": 6,
    "start_time": "2022-12-05T12:12:25.287Z"
   },
   {
    "duration": 182,
    "start_time": "2022-12-05T12:12:25.295Z"
   },
   {
    "duration": 5,
    "start_time": "2022-12-05T12:12:25.479Z"
   },
   {
    "duration": 260,
    "start_time": "2022-12-05T12:12:25.486Z"
   },
   {
    "duration": 203,
    "start_time": "2022-12-05T12:12:25.748Z"
   },
   {
    "duration": 10,
    "start_time": "2022-12-05T12:12:25.953Z"
   },
   {
    "duration": 13,
    "start_time": "2022-12-05T12:12:25.965Z"
   },
   {
    "duration": 14,
    "start_time": "2022-12-05T12:12:25.980Z"
   },
   {
    "duration": 47,
    "start_time": "2022-12-05T12:12:25.996Z"
   },
   {
    "duration": 15,
    "start_time": "2022-12-05T12:12:26.045Z"
   },
   {
    "duration": 11,
    "start_time": "2022-12-05T12:12:26.062Z"
   },
   {
    "duration": 13,
    "start_time": "2022-12-05T12:13:27.067Z"
   },
   {
    "duration": 10,
    "start_time": "2022-12-05T12:13:37.518Z"
   },
   {
    "duration": 90,
    "start_time": "2022-12-05T12:14:18.473Z"
   },
   {
    "duration": 67,
    "start_time": "2022-12-05T12:15:10.491Z"
   },
   {
    "duration": 95,
    "start_time": "2022-12-05T12:15:46.323Z"
   },
   {
    "duration": 11,
    "start_time": "2022-12-05T12:15:54.113Z"
   },
   {
    "duration": 9,
    "start_time": "2022-12-05T12:16:04.360Z"
   },
   {
    "duration": 72,
    "start_time": "2022-12-05T12:16:12.330Z"
   },
   {
    "duration": 80,
    "start_time": "2022-12-05T12:16:23.277Z"
   },
   {
    "duration": 93,
    "start_time": "2022-12-05T12:16:31.048Z"
   },
   {
    "duration": 10,
    "start_time": "2022-12-05T12:16:47.779Z"
   },
   {
    "duration": 11,
    "start_time": "2022-12-05T12:17:01.159Z"
   },
   {
    "duration": 8,
    "start_time": "2022-12-05T12:17:50.532Z"
   },
   {
    "duration": 8,
    "start_time": "2022-12-05T12:18:01.978Z"
   },
   {
    "duration": 12,
    "start_time": "2022-12-05T12:20:26.320Z"
   },
   {
    "duration": 13,
    "start_time": "2022-12-05T12:20:38.498Z"
   },
   {
    "duration": 9,
    "start_time": "2022-12-05T12:22:00.678Z"
   },
   {
    "duration": 66,
    "start_time": "2022-12-05T12:22:04.857Z"
   },
   {
    "duration": 12,
    "start_time": "2022-12-05T12:22:10.621Z"
   },
   {
    "duration": 14,
    "start_time": "2022-12-05T12:22:59.233Z"
   },
   {
    "duration": 321,
    "start_time": "2022-12-05T12:36:51.338Z"
   },
   {
    "duration": 251,
    "start_time": "2022-12-05T12:37:28.071Z"
   },
   {
    "duration": 257,
    "start_time": "2022-12-05T12:37:56.843Z"
   },
   {
    "duration": 317,
    "start_time": "2022-12-05T12:38:24.587Z"
   },
   {
    "duration": 345,
    "start_time": "2022-12-05T12:38:48.675Z"
   },
   {
    "duration": 350,
    "start_time": "2022-12-05T12:39:16.050Z"
   },
   {
    "duration": 251,
    "start_time": "2022-12-05T12:40:08.010Z"
   },
   {
    "duration": 260,
    "start_time": "2022-12-05T12:40:16.792Z"
   },
   {
    "duration": 392,
    "start_time": "2022-12-05T12:41:07.721Z"
   },
   {
    "duration": 150,
    "start_time": "2022-12-05T12:42:13.161Z"
   },
   {
    "duration": 267,
    "start_time": "2022-12-05T12:42:29.199Z"
   },
   {
    "duration": 128,
    "start_time": "2022-12-05T12:42:34.667Z"
   },
   {
    "duration": 201,
    "start_time": "2022-12-05T12:42:42.502Z"
   },
   {
    "duration": 128,
    "start_time": "2022-12-05T12:42:56.043Z"
   },
   {
    "duration": 3,
    "start_time": "2022-12-05T12:43:00.411Z"
   },
   {
    "duration": 114,
    "start_time": "2022-12-05T12:43:00.416Z"
   },
   {
    "duration": 66,
    "start_time": "2022-12-05T12:43:00.532Z"
   },
   {
    "duration": 57,
    "start_time": "2022-12-05T12:43:00.601Z"
   },
   {
    "duration": 9,
    "start_time": "2022-12-05T12:43:00.659Z"
   },
   {
    "duration": 21,
    "start_time": "2022-12-05T12:43:00.669Z"
   },
   {
    "duration": 12,
    "start_time": "2022-12-05T12:43:00.691Z"
   },
   {
    "duration": 20,
    "start_time": "2022-12-05T12:43:00.705Z"
   },
   {
    "duration": 382,
    "start_time": "2022-12-05T12:43:00.739Z"
   },
   {
    "duration": 0,
    "start_time": "2022-12-05T12:43:01.122Z"
   },
   {
    "duration": 0,
    "start_time": "2022-12-05T12:43:01.124Z"
   },
   {
    "duration": 0,
    "start_time": "2022-12-05T12:43:01.125Z"
   },
   {
    "duration": 0,
    "start_time": "2022-12-05T12:43:01.127Z"
   },
   {
    "duration": 0,
    "start_time": "2022-12-05T12:43:01.128Z"
   },
   {
    "duration": 0,
    "start_time": "2022-12-05T12:43:01.129Z"
   },
   {
    "duration": 0,
    "start_time": "2022-12-05T12:43:01.130Z"
   },
   {
    "duration": 0,
    "start_time": "2022-12-05T12:43:01.132Z"
   },
   {
    "duration": 0,
    "start_time": "2022-12-05T12:43:01.133Z"
   },
   {
    "duration": 0,
    "start_time": "2022-12-05T12:43:01.134Z"
   },
   {
    "duration": 0,
    "start_time": "2022-12-05T12:43:01.135Z"
   },
   {
    "duration": 0,
    "start_time": "2022-12-05T12:43:01.136Z"
   },
   {
    "duration": 0,
    "start_time": "2022-12-05T12:43:01.137Z"
   },
   {
    "duration": 0,
    "start_time": "2022-12-05T12:43:01.138Z"
   },
   {
    "duration": 0,
    "start_time": "2022-12-05T12:43:01.139Z"
   },
   {
    "duration": 0,
    "start_time": "2022-12-05T12:43:01.140Z"
   },
   {
    "duration": 0,
    "start_time": "2022-12-05T12:43:01.141Z"
   },
   {
    "duration": 169,
    "start_time": "2022-12-05T12:43:49.057Z"
   },
   {
    "duration": 1195,
    "start_time": "2022-12-05T12:46:52.419Z"
   },
   {
    "duration": 74,
    "start_time": "2022-12-05T12:46:53.617Z"
   },
   {
    "duration": 68,
    "start_time": "2022-12-05T12:46:53.693Z"
   },
   {
    "duration": 45,
    "start_time": "2022-12-05T12:46:53.763Z"
   },
   {
    "duration": 12,
    "start_time": "2022-12-05T12:46:53.810Z"
   },
   {
    "duration": 18,
    "start_time": "2022-12-05T12:46:53.824Z"
   },
   {
    "duration": 13,
    "start_time": "2022-12-05T12:46:53.844Z"
   },
   {
    "duration": 16,
    "start_time": "2022-12-05T12:46:53.858Z"
   },
   {
    "duration": 435,
    "start_time": "2022-12-05T12:46:53.876Z"
   },
   {
    "duration": 0,
    "start_time": "2022-12-05T12:46:54.314Z"
   },
   {
    "duration": 0,
    "start_time": "2022-12-05T12:46:54.315Z"
   },
   {
    "duration": 0,
    "start_time": "2022-12-05T12:46:54.316Z"
   },
   {
    "duration": 0,
    "start_time": "2022-12-05T12:46:54.317Z"
   },
   {
    "duration": 0,
    "start_time": "2022-12-05T12:46:54.318Z"
   },
   {
    "duration": 0,
    "start_time": "2022-12-05T12:46:54.319Z"
   },
   {
    "duration": 0,
    "start_time": "2022-12-05T12:46:54.320Z"
   },
   {
    "duration": 0,
    "start_time": "2022-12-05T12:46:54.321Z"
   },
   {
    "duration": 0,
    "start_time": "2022-12-05T12:46:54.322Z"
   },
   {
    "duration": 0,
    "start_time": "2022-12-05T12:46:54.323Z"
   },
   {
    "duration": 0,
    "start_time": "2022-12-05T12:46:54.324Z"
   },
   {
    "duration": 0,
    "start_time": "2022-12-05T12:46:54.325Z"
   },
   {
    "duration": 0,
    "start_time": "2022-12-05T12:46:54.326Z"
   },
   {
    "duration": 0,
    "start_time": "2022-12-05T12:46:54.327Z"
   },
   {
    "duration": 0,
    "start_time": "2022-12-05T12:46:54.328Z"
   },
   {
    "duration": 0,
    "start_time": "2022-12-05T12:46:54.330Z"
   },
   {
    "duration": 0,
    "start_time": "2022-12-05T12:46:54.331Z"
   },
   {
    "duration": 3,
    "start_time": "2022-12-05T12:47:58.033Z"
   },
   {
    "duration": 50,
    "start_time": "2022-12-05T12:47:58.039Z"
   },
   {
    "duration": 56,
    "start_time": "2022-12-05T12:47:58.091Z"
   },
   {
    "duration": 46,
    "start_time": "2022-12-05T12:47:58.149Z"
   },
   {
    "duration": 10,
    "start_time": "2022-12-05T12:47:58.198Z"
   },
   {
    "duration": 11,
    "start_time": "2022-12-05T12:47:58.210Z"
   },
   {
    "duration": 32,
    "start_time": "2022-12-05T12:47:58.222Z"
   },
   {
    "duration": 15,
    "start_time": "2022-12-05T12:47:58.256Z"
   },
   {
    "duration": 291,
    "start_time": "2022-12-05T12:47:58.273Z"
   },
   {
    "duration": 367,
    "start_time": "2022-12-05T12:47:58.566Z"
   },
   {
    "duration": 277,
    "start_time": "2022-12-05T12:47:58.939Z"
   },
   {
    "duration": 385,
    "start_time": "2022-12-05T12:47:59.219Z"
   },
   {
    "duration": 308,
    "start_time": "2022-12-05T12:47:59.606Z"
   },
   {
    "duration": 407,
    "start_time": "2022-12-05T12:47:59.916Z"
   },
   {
    "duration": 134,
    "start_time": "2022-12-05T12:48:00.325Z"
   },
   {
    "duration": 5,
    "start_time": "2022-12-05T12:48:00.461Z"
   },
   {
    "duration": 165,
    "start_time": "2022-12-05T12:48:00.467Z"
   },
   {
    "duration": 5,
    "start_time": "2022-12-05T12:48:00.636Z"
   },
   {
    "duration": 246,
    "start_time": "2022-12-05T12:48:00.643Z"
   },
   {
    "duration": 199,
    "start_time": "2022-12-05T12:48:00.891Z"
   },
   {
    "duration": 13,
    "start_time": "2022-12-05T12:48:01.092Z"
   },
   {
    "duration": 34,
    "start_time": "2022-12-05T12:48:01.106Z"
   },
   {
    "duration": 9,
    "start_time": "2022-12-05T12:48:01.142Z"
   },
   {
    "duration": 60,
    "start_time": "2022-12-05T12:48:01.153Z"
   },
   {
    "duration": 15,
    "start_time": "2022-12-05T12:48:01.214Z"
   },
   {
    "duration": 28,
    "start_time": "2022-12-05T12:48:01.231Z"
   },
   {
    "duration": 262,
    "start_time": "2022-12-05T14:35:46.231Z"
   },
   {
    "duration": 174,
    "start_time": "2022-12-05T14:36:33.549Z"
   },
   {
    "duration": 179,
    "start_time": "2022-12-05T14:37:31.476Z"
   },
   {
    "duration": 177,
    "start_time": "2022-12-05T14:54:11.653Z"
   },
   {
    "duration": 5,
    "start_time": "2022-12-05T15:20:53.273Z"
   },
   {
    "duration": 11,
    "start_time": "2022-12-05T15:21:08.729Z"
   },
   {
    "duration": 12,
    "start_time": "2022-12-05T15:21:33.921Z"
   },
   {
    "duration": 14,
    "start_time": "2022-12-05T15:21:35.808Z"
   },
   {
    "duration": 1249,
    "start_time": "2022-12-05T17:58:45.959Z"
   },
   {
    "duration": 112,
    "start_time": "2022-12-05T17:58:47.210Z"
   },
   {
    "duration": 108,
    "start_time": "2022-12-05T17:58:47.323Z"
   },
   {
    "duration": 83,
    "start_time": "2022-12-05T17:58:47.433Z"
   },
   {
    "duration": 12,
    "start_time": "2022-12-05T17:58:47.518Z"
   },
   {
    "duration": 11,
    "start_time": "2022-12-05T17:58:47.531Z"
   },
   {
    "duration": 11,
    "start_time": "2022-12-05T17:58:47.543Z"
   },
   {
    "duration": 17,
    "start_time": "2022-12-05T17:58:47.555Z"
   },
   {
    "duration": 272,
    "start_time": "2022-12-05T17:58:47.573Z"
   },
   {
    "duration": 300,
    "start_time": "2022-12-05T17:58:47.847Z"
   },
   {
    "duration": 240,
    "start_time": "2022-12-05T17:58:48.149Z"
   },
   {
    "duration": 371,
    "start_time": "2022-12-05T17:58:48.391Z"
   },
   {
    "duration": 303,
    "start_time": "2022-12-05T17:58:48.764Z"
   },
   {
    "duration": 371,
    "start_time": "2022-12-05T17:58:49.069Z"
   },
   {
    "duration": 159,
    "start_time": "2022-12-05T17:58:49.441Z"
   },
   {
    "duration": 4,
    "start_time": "2022-12-05T17:58:49.602Z"
   },
   {
    "duration": 161,
    "start_time": "2022-12-05T17:58:49.608Z"
   },
   {
    "duration": 4,
    "start_time": "2022-12-05T17:58:49.770Z"
   },
   {
    "duration": 216,
    "start_time": "2022-12-05T17:58:49.776Z"
   },
   {
    "duration": 147,
    "start_time": "2022-12-05T17:58:49.994Z"
   },
   {
    "duration": 16,
    "start_time": "2022-12-05T17:58:50.143Z"
   },
   {
    "duration": 10,
    "start_time": "2022-12-05T17:58:50.161Z"
   },
   {
    "duration": 9,
    "start_time": "2022-12-05T17:58:50.173Z"
   },
   {
    "duration": 22,
    "start_time": "2022-12-05T17:58:50.183Z"
   },
   {
    "duration": 14,
    "start_time": "2022-12-05T17:58:50.207Z"
   },
   {
    "duration": 39,
    "start_time": "2022-12-05T17:58:50.222Z"
   },
   {
    "duration": 1426,
    "start_time": "2022-12-08T14:48:24.859Z"
   },
   {
    "duration": 191,
    "start_time": "2022-12-08T14:48:26.288Z"
   },
   {
    "duration": 136,
    "start_time": "2022-12-08T14:48:26.481Z"
   },
   {
    "duration": 629,
    "start_time": "2022-12-08T14:48:26.620Z"
   },
   {
    "duration": 13,
    "start_time": "2022-12-08T14:48:27.252Z"
   },
   {
    "duration": 21,
    "start_time": "2022-12-08T14:48:27.268Z"
   },
   {
    "duration": 17,
    "start_time": "2022-12-08T14:48:27.291Z"
   },
   {
    "duration": 25,
    "start_time": "2022-12-08T14:48:27.323Z"
   },
   {
    "duration": 442,
    "start_time": "2022-12-08T14:48:27.351Z"
   },
   {
    "duration": 478,
    "start_time": "2022-12-08T14:48:27.797Z"
   },
   {
    "duration": 368,
    "start_time": "2022-12-08T14:48:28.279Z"
   },
   {
    "duration": 441,
    "start_time": "2022-12-08T14:48:28.650Z"
   },
   {
    "duration": 407,
    "start_time": "2022-12-08T14:48:29.093Z"
   },
   {
    "duration": 508,
    "start_time": "2022-12-08T14:48:29.502Z"
   },
   {
    "duration": 246,
    "start_time": "2022-12-08T14:48:30.012Z"
   },
   {
    "duration": 5,
    "start_time": "2022-12-08T14:48:30.261Z"
   },
   {
    "duration": 285,
    "start_time": "2022-12-08T14:48:30.268Z"
   },
   {
    "duration": 6,
    "start_time": "2022-12-08T14:48:30.557Z"
   },
   {
    "duration": 349,
    "start_time": "2022-12-08T14:48:30.566Z"
   },
   {
    "duration": 316,
    "start_time": "2022-12-08T14:48:30.922Z"
   },
   {
    "duration": 15,
    "start_time": "2022-12-08T14:48:31.240Z"
   },
   {
    "duration": 17,
    "start_time": "2022-12-08T14:48:31.258Z"
   },
   {
    "duration": 43,
    "start_time": "2022-12-08T14:48:31.277Z"
   },
   {
    "duration": 57,
    "start_time": "2022-12-08T14:48:31.323Z"
   },
   {
    "duration": 20,
    "start_time": "2022-12-08T14:48:31.382Z"
   },
   {
    "duration": 42,
    "start_time": "2022-12-08T14:48:31.405Z"
   },
   {
    "duration": 293,
    "start_time": "2022-12-08T14:49:05.884Z"
   },
   {
    "duration": 301,
    "start_time": "2022-12-08T14:49:14.344Z"
   },
   {
    "duration": 286,
    "start_time": "2022-12-08T14:49:36.858Z"
   }
  ],
  "kernelspec": {
   "display_name": "Python 3 (ipykernel)",
   "language": "python",
   "name": "python3"
  },
  "language_info": {
   "codemirror_mode": {
    "name": "ipython",
    "version": 3
   },
   "file_extension": ".py",
   "mimetype": "text/x-python",
   "name": "python",
   "nbconvert_exporter": "python",
   "pygments_lexer": "ipython3",
   "version": "3.9.12"
  },
  "toc": {
   "base_numbering": 1,
   "nav_menu": {},
   "number_sections": true,
   "sideBar": true,
   "skip_h1_title": true,
   "title_cell": "Table of Contents",
   "title_sidebar": "Contents",
   "toc_cell": false,
   "toc_position": {},
   "toc_section_display": true,
   "toc_window_display": true
  }
 },
 "nbformat": 4,
 "nbformat_minor": 2
}
