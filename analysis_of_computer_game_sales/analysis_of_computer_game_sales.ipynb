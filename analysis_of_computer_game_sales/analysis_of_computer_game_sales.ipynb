{
 "cells": [
  {
   "cell_type": "markdown",
   "metadata": {},
   "source": [
    "#  Анализ продаж компьютерных игр"
   ]
  },
  {
   "cell_type": "markdown",
   "metadata": {},
   "source": [
    "## Введение"
   ]
  },
  {
   "cell_type": "markdown",
   "metadata": {},
   "source": [
    "Мы работаем в интернет-магазине «Стримчик», который продаёт по всему миру компьютерные игры. Из открытых источников доступны исторические данные о продажах игр, оценки пользователей и экспертов, жанры и платформы (например, Xbox или PlayStation). Нам нужно выявить определяющие успешность игры закономерности. Это позволит сделать ставку на потенциально популярный продукт и спланировать рекламные кампании."
   ]
  },
  {
   "cell_type": "markdown",
   "metadata": {},
   "source": [
    "## Изучение данных"
   ]
  },
  {
   "cell_type": "markdown",
   "metadata": {},
   "source": [
    "Перед нами данные до 2016 года. Представим, что сейчас декабрь 2016 г., и мы планируем кампанию на 2017-й."
   ]
  },
  {
   "cell_type": "markdown",
   "metadata": {},
   "source": [
    "Описание данных:  \n",
    "Name — название игры  \n",
    "Platform — платформа  \n",
    "Year_of_Release — год выпуска  \n",
    "Genre — жанр игры  \n",
    "NA_sales — продажи в Северной Америке (миллионы проданных копий)  \n",
    "EU_sales — продажи в Европе (миллионы проданных копий)  \n",
    "JP_sales — продажи в Японии (миллионы проданных копий)  \n",
    "Other_sales — продажи в других странах (миллионы проданных копий)  \n",
    "Critic_Score — оценка критиков (максимум 100)  \n",
    "User_Score — оценка пользователей (максимум 10)  \n",
    "Rating — рейтинг от организации ESRB (англ. Entertainment Software Rating Board). Эта ассоциация определяет рейтинг компьютерных игр и присваивает им подходящую возрастную категорию.  \n",
    "Данные за 2016 год могут быть неполными."
   ]
  },
  {
   "cell_type": "markdown",
   "metadata": {},
   "source": [
    "Импортируем используемые в проекте библиотеки."
   ]
  },
  {
   "cell_type": "code",
   "execution_count": null,
   "metadata": {},
   "outputs": [],
   "source": [
    "import pandas as pd\n",
    "import matplotlib.pyplot as plt\n",
    "from scipy import stats as st"
   ]
  },
  {
   "cell_type": "markdown",
   "metadata": {},
   "source": [
    "Изучим датасет."
   ]
  },
  {
   "cell_type": "code",
   "execution_count": 1,
   "metadata": {},
   "outputs": [
    {
     "data": {
      "text/html": [
       "<div>\n",
       "<style scoped>\n",
       "    .dataframe tbody tr th:only-of-type {\n",
       "        vertical-align: middle;\n",
       "    }\n",
       "\n",
       "    .dataframe tbody tr th {\n",
       "        vertical-align: top;\n",
       "    }\n",
       "\n",
       "    .dataframe thead th {\n",
       "        text-align: right;\n",
       "    }\n",
       "</style>\n",
       "<table border=\"1\" class=\"dataframe\">\n",
       "  <thead>\n",
       "    <tr style=\"text-align: right;\">\n",
       "      <th></th>\n",
       "      <th>Name</th>\n",
       "      <th>Platform</th>\n",
       "      <th>Year_of_Release</th>\n",
       "      <th>Genre</th>\n",
       "      <th>NA_sales</th>\n",
       "      <th>EU_sales</th>\n",
       "      <th>JP_sales</th>\n",
       "      <th>Other_sales</th>\n",
       "      <th>Critic_Score</th>\n",
       "      <th>User_Score</th>\n",
       "      <th>Rating</th>\n",
       "    </tr>\n",
       "  </thead>\n",
       "  <tbody>\n",
       "    <tr>\n",
       "      <th>0</th>\n",
       "      <td>Wii Sports</td>\n",
       "      <td>Wii</td>\n",
       "      <td>2006.0</td>\n",
       "      <td>Sports</td>\n",
       "      <td>41.36</td>\n",
       "      <td>28.96</td>\n",
       "      <td>3.77</td>\n",
       "      <td>8.45</td>\n",
       "      <td>76.0</td>\n",
       "      <td>8</td>\n",
       "      <td>E</td>\n",
       "    </tr>\n",
       "    <tr>\n",
       "      <th>1</th>\n",
       "      <td>Super Mario Bros.</td>\n",
       "      <td>NES</td>\n",
       "      <td>1985.0</td>\n",
       "      <td>Platform</td>\n",
       "      <td>29.08</td>\n",
       "      <td>3.58</td>\n",
       "      <td>6.81</td>\n",
       "      <td>0.77</td>\n",
       "      <td>NaN</td>\n",
       "      <td>NaN</td>\n",
       "      <td>NaN</td>\n",
       "    </tr>\n",
       "    <tr>\n",
       "      <th>2</th>\n",
       "      <td>Mario Kart Wii</td>\n",
       "      <td>Wii</td>\n",
       "      <td>2008.0</td>\n",
       "      <td>Racing</td>\n",
       "      <td>15.68</td>\n",
       "      <td>12.76</td>\n",
       "      <td>3.79</td>\n",
       "      <td>3.29</td>\n",
       "      <td>82.0</td>\n",
       "      <td>8.3</td>\n",
       "      <td>E</td>\n",
       "    </tr>\n",
       "    <tr>\n",
       "      <th>3</th>\n",
       "      <td>Wii Sports Resort</td>\n",
       "      <td>Wii</td>\n",
       "      <td>2009.0</td>\n",
       "      <td>Sports</td>\n",
       "      <td>15.61</td>\n",
       "      <td>10.93</td>\n",
       "      <td>3.28</td>\n",
       "      <td>2.95</td>\n",
       "      <td>80.0</td>\n",
       "      <td>8</td>\n",
       "      <td>E</td>\n",
       "    </tr>\n",
       "    <tr>\n",
       "      <th>4</th>\n",
       "      <td>Pokemon Red/Pokemon Blue</td>\n",
       "      <td>GB</td>\n",
       "      <td>1996.0</td>\n",
       "      <td>Role-Playing</td>\n",
       "      <td>11.27</td>\n",
       "      <td>8.89</td>\n",
       "      <td>10.22</td>\n",
       "      <td>1.00</td>\n",
       "      <td>NaN</td>\n",
       "      <td>NaN</td>\n",
       "      <td>NaN</td>\n",
       "    </tr>\n",
       "  </tbody>\n",
       "</table>\n",
       "</div>"
      ],
      "text/plain": [
       "                       Name Platform  Year_of_Release         Genre  NA_sales  \\\n",
       "0                Wii Sports      Wii           2006.0        Sports     41.36   \n",
       "1         Super Mario Bros.      NES           1985.0      Platform     29.08   \n",
       "2            Mario Kart Wii      Wii           2008.0        Racing     15.68   \n",
       "3         Wii Sports Resort      Wii           2009.0        Sports     15.61   \n",
       "4  Pokemon Red/Pokemon Blue       GB           1996.0  Role-Playing     11.27   \n",
       "\n",
       "   EU_sales  JP_sales  Other_sales  Critic_Score User_Score Rating  \n",
       "0     28.96      3.77         8.45          76.0          8      E  \n",
       "1      3.58      6.81         0.77           NaN        NaN    NaN  \n",
       "2     12.76      3.79         3.29          82.0        8.3      E  \n",
       "3     10.93      3.28         2.95          80.0          8      E  \n",
       "4      8.89     10.22         1.00           NaN        NaN    NaN  "
      ]
     },
     "execution_count": 1,
     "metadata": {},
     "output_type": "execute_result"
    }
   ],
   "source": [
    "data = pd.read_csv('/datasets/games.csv')\n",
    "data.head()"
   ]
  },
  {
   "cell_type": "code",
   "execution_count": 2,
   "metadata": {},
   "outputs": [
    {
     "name": "stdout",
     "output_type": "stream",
     "text": [
      "<class 'pandas.core.frame.DataFrame'>\n",
      "RangeIndex: 16715 entries, 0 to 16714\n",
      "Data columns (total 11 columns):\n",
      " #   Column           Non-Null Count  Dtype  \n",
      "---  ------           --------------  -----  \n",
      " 0   Name             16713 non-null  object \n",
      " 1   Platform         16715 non-null  object \n",
      " 2   Year_of_Release  16446 non-null  float64\n",
      " 3   Genre            16713 non-null  object \n",
      " 4   NA_sales         16715 non-null  float64\n",
      " 5   EU_sales         16715 non-null  float64\n",
      " 6   JP_sales         16715 non-null  float64\n",
      " 7   Other_sales      16715 non-null  float64\n",
      " 8   Critic_Score     8137 non-null   float64\n",
      " 9   User_Score       10014 non-null  object \n",
      " 10  Rating           9949 non-null   object \n",
      "dtypes: float64(6), object(5)\n",
      "memory usage: 1.4+ MB\n"
     ]
    }
   ],
   "source": [
    "data.info()"
   ]
  },
  {
   "cell_type": "code",
   "execution_count": 3,
   "metadata": {},
   "outputs": [
    {
     "data": {
      "text/html": [
       "<div>\n",
       "<style scoped>\n",
       "    .dataframe tbody tr th:only-of-type {\n",
       "        vertical-align: middle;\n",
       "    }\n",
       "\n",
       "    .dataframe tbody tr th {\n",
       "        vertical-align: top;\n",
       "    }\n",
       "\n",
       "    .dataframe thead th {\n",
       "        text-align: right;\n",
       "    }\n",
       "</style>\n",
       "<table border=\"1\" class=\"dataframe\">\n",
       "  <thead>\n",
       "    <tr style=\"text-align: right;\">\n",
       "      <th></th>\n",
       "      <th>Year_of_Release</th>\n",
       "      <th>NA_sales</th>\n",
       "      <th>EU_sales</th>\n",
       "      <th>JP_sales</th>\n",
       "      <th>Other_sales</th>\n",
       "      <th>Critic_Score</th>\n",
       "    </tr>\n",
       "  </thead>\n",
       "  <tbody>\n",
       "    <tr>\n",
       "      <th>count</th>\n",
       "      <td>16446.000000</td>\n",
       "      <td>16715.000000</td>\n",
       "      <td>16715.000000</td>\n",
       "      <td>16715.000000</td>\n",
       "      <td>16715.000000</td>\n",
       "      <td>8137.000000</td>\n",
       "    </tr>\n",
       "    <tr>\n",
       "      <th>mean</th>\n",
       "      <td>2006.484616</td>\n",
       "      <td>0.263377</td>\n",
       "      <td>0.145060</td>\n",
       "      <td>0.077617</td>\n",
       "      <td>0.047342</td>\n",
       "      <td>68.967679</td>\n",
       "    </tr>\n",
       "    <tr>\n",
       "      <th>std</th>\n",
       "      <td>5.877050</td>\n",
       "      <td>0.813604</td>\n",
       "      <td>0.503339</td>\n",
       "      <td>0.308853</td>\n",
       "      <td>0.186731</td>\n",
       "      <td>13.938165</td>\n",
       "    </tr>\n",
       "    <tr>\n",
       "      <th>min</th>\n",
       "      <td>1980.000000</td>\n",
       "      <td>0.000000</td>\n",
       "      <td>0.000000</td>\n",
       "      <td>0.000000</td>\n",
       "      <td>0.000000</td>\n",
       "      <td>13.000000</td>\n",
       "    </tr>\n",
       "    <tr>\n",
       "      <th>25%</th>\n",
       "      <td>2003.000000</td>\n",
       "      <td>0.000000</td>\n",
       "      <td>0.000000</td>\n",
       "      <td>0.000000</td>\n",
       "      <td>0.000000</td>\n",
       "      <td>60.000000</td>\n",
       "    </tr>\n",
       "    <tr>\n",
       "      <th>50%</th>\n",
       "      <td>2007.000000</td>\n",
       "      <td>0.080000</td>\n",
       "      <td>0.020000</td>\n",
       "      <td>0.000000</td>\n",
       "      <td>0.010000</td>\n",
       "      <td>71.000000</td>\n",
       "    </tr>\n",
       "    <tr>\n",
       "      <th>75%</th>\n",
       "      <td>2010.000000</td>\n",
       "      <td>0.240000</td>\n",
       "      <td>0.110000</td>\n",
       "      <td>0.040000</td>\n",
       "      <td>0.030000</td>\n",
       "      <td>79.000000</td>\n",
       "    </tr>\n",
       "    <tr>\n",
       "      <th>max</th>\n",
       "      <td>2016.000000</td>\n",
       "      <td>41.360000</td>\n",
       "      <td>28.960000</td>\n",
       "      <td>10.220000</td>\n",
       "      <td>10.570000</td>\n",
       "      <td>98.000000</td>\n",
       "    </tr>\n",
       "  </tbody>\n",
       "</table>\n",
       "</div>"
      ],
      "text/plain": [
       "       Year_of_Release      NA_sales      EU_sales      JP_sales  \\\n",
       "count     16446.000000  16715.000000  16715.000000  16715.000000   \n",
       "mean       2006.484616      0.263377      0.145060      0.077617   \n",
       "std           5.877050      0.813604      0.503339      0.308853   \n",
       "min        1980.000000      0.000000      0.000000      0.000000   \n",
       "25%        2003.000000      0.000000      0.000000      0.000000   \n",
       "50%        2007.000000      0.080000      0.020000      0.000000   \n",
       "75%        2010.000000      0.240000      0.110000      0.040000   \n",
       "max        2016.000000     41.360000     28.960000     10.220000   \n",
       "\n",
       "        Other_sales  Critic_Score  \n",
       "count  16715.000000   8137.000000  \n",
       "mean       0.047342     68.967679  \n",
       "std        0.186731     13.938165  \n",
       "min        0.000000     13.000000  \n",
       "25%        0.000000     60.000000  \n",
       "50%        0.010000     71.000000  \n",
       "75%        0.030000     79.000000  \n",
       "max       10.570000     98.000000  "
      ]
     },
     "execution_count": 3,
     "metadata": {},
     "output_type": "execute_result"
    }
   ],
   "source": [
    "data.describe()"
   ]
  },
  {
   "cell_type": "code",
   "execution_count": 4,
   "metadata": {
    "scrolled": false
   },
   "outputs": [
    {
     "data": {
      "text/plain": [
       "0"
      ]
     },
     "execution_count": 4,
     "metadata": {},
     "output_type": "execute_result"
    }
   ],
   "source": [
    "data.duplicated().sum()"
   ]
  },
  {
   "cell_type": "markdown",
   "metadata": {},
   "source": [
    "Видим что в данных есть пропуски, столбцы User_Score и Rating необхидимо привести к численному типу данных. Явных дубликатов в таблице нет."
   ]
  },
  {
   "cell_type": "markdown",
   "metadata": {},
   "source": [
    "## Предобработка данных"
   ]
  },
  {
   "cell_type": "markdown",
   "metadata": {},
   "source": [
    "### Обработка названий столбцов"
   ]
  },
  {
   "cell_type": "markdown",
   "metadata": {},
   "source": [
    "Приведём названия столбцов к нижнему регистру"
   ]
  },
  {
   "cell_type": "code",
   "execution_count": 5,
   "metadata": {},
   "outputs": [
    {
     "data": {
      "text/plain": [
       "Index(['name', 'platform', 'year_of_release', 'genre', 'na_sales', 'eu_sales',\n",
       "       'jp_sales', 'other_sales', 'critic_score', 'user_score', 'rating'],\n",
       "      dtype='object')"
      ]
     },
     "execution_count": 5,
     "metadata": {},
     "output_type": "execute_result"
    }
   ],
   "source": [
    "# названия столбцов в lower case\n",
    "data.columns = data.columns.str.lower()\n",
    "data.columns"
   ]
  },
  {
   "cell_type": "markdown",
   "metadata": {},
   "source": [
    "### Изменение типов данных"
   ]
  },
  {
   "cell_type": "markdown",
   "metadata": {},
   "source": [
    "Приведём значения в столбце user_score к типу float. В столбце user_score встречается значение 'tbd'. Обычно эта абривиатура расшифровывается как \"to be determined\", что означает \"будет определено позже\". Заменим значения 'tbd' на пустые значения NaN."
   ]
  },
  {
   "cell_type": "code",
   "execution_count": 6,
   "metadata": {
    "scrolled": false
   },
   "outputs": [
    {
     "data": {
      "text/plain": [
       "array(['8', nan, '8.3', '8.5', '6.6', '8.4', '8.6', '7.7', '6.3', '7.4',\n",
       "       '8.2', '9', '7.9', '8.1', '8.7', '7.1', '3.4', '5.3', '4.8', '3.2',\n",
       "       '8.9', '6.4', '7.8', '7.5', '2.6', '7.2', '9.2', '7', '7.3', '4.3',\n",
       "       '7.6', '5.7', '5', '9.1', '6.5', 'tbd', '8.8', '6.9', '9.4', '6.8',\n",
       "       '6.1', '6.7', '5.4', '4', '4.9', '4.5', '9.3', '6.2', '4.2', '6',\n",
       "       '3.7', '4.1', '5.8', '5.6', '5.5', '4.4', '4.6', '5.9', '3.9',\n",
       "       '3.1', '2.9', '5.2', '3.3', '4.7', '5.1', '3.5', '2.5', '1.9', '3',\n",
       "       '2.7', '2.2', '2', '9.5', '2.1', '3.6', '2.8', '1.8', '3.8', '0',\n",
       "       '1.6', '9.6', '2.4', '1.7', '1.1', '0.3', '1.5', '0.7', '1.2',\n",
       "       '2.3', '0.5', '1.3', '0.2', '0.6', '1.4', '0.9', '1', '9.7'],\n",
       "      dtype=object)"
      ]
     },
     "metadata": {},
     "output_type": "display_data"
    },
    {
     "name": "stdout",
     "output_type": "stream",
     "text": [
      "<class 'pandas.core.frame.DataFrame'>\n",
      "RangeIndex: 16715 entries, 0 to 16714\n",
      "Data columns (total 11 columns):\n",
      " #   Column           Non-Null Count  Dtype  \n",
      "---  ------           --------------  -----  \n",
      " 0   name             16713 non-null  object \n",
      " 1   platform         16715 non-null  object \n",
      " 2   year_of_release  16446 non-null  float64\n",
      " 3   genre            16713 non-null  object \n",
      " 4   na_sales         16715 non-null  float64\n",
      " 5   eu_sales         16715 non-null  float64\n",
      " 6   jp_sales         16715 non-null  float64\n",
      " 7   other_sales      16715 non-null  float64\n",
      " 8   critic_score     8137 non-null   float64\n",
      " 9   user_score       7590 non-null   float64\n",
      " 10  rating           9949 non-null   object \n",
      "dtypes: float64(7), object(4)\n",
      "memory usage: 1.4+ MB\n"
     ]
    }
   ],
   "source": [
    "display(data['user_score'].unique())\n",
    "data['user_score'] = data['user_score'].where(data['user_score'] != 'tbd', float('nan'))\n",
    "data['user_score'] = data['user_score'].astype('float')\n",
    "data.info()"
   ]
  },
  {
   "cell_type": "markdown",
   "metadata": {},
   "source": [
    "В столбце year_of_release данные можно было бы поменять с float на int, но в этом столбце есть пропуски, которые имеют тип float, поэтому не будем менять тип данных."
   ]
  },
  {
   "cell_type": "markdown",
   "metadata": {},
   "source": [
    "### Обработка пропусков"
   ]
  },
  {
   "cell_type": "markdown",
   "metadata": {},
   "source": [
    "В столбцах 'name', 'genre' и 'rating' заменим пропуски на 'unknown'."
   ]
  },
  {
   "cell_type": "code",
   "execution_count": 8,
   "metadata": {},
   "outputs": [
    {
     "data": {
      "text/html": [
       "<div>\n",
       "<style scoped>\n",
       "    .dataframe tbody tr th:only-of-type {\n",
       "        vertical-align: middle;\n",
       "    }\n",
       "\n",
       "    .dataframe tbody tr th {\n",
       "        vertical-align: top;\n",
       "    }\n",
       "\n",
       "    .dataframe thead th {\n",
       "        text-align: right;\n",
       "    }\n",
       "</style>\n",
       "<table border=\"1\" class=\"dataframe\">\n",
       "  <thead>\n",
       "    <tr style=\"text-align: right;\">\n",
       "      <th></th>\n",
       "      <th>name</th>\n",
       "      <th>platform</th>\n",
       "      <th>year_of_release</th>\n",
       "      <th>genre</th>\n",
       "      <th>na_sales</th>\n",
       "      <th>eu_sales</th>\n",
       "      <th>jp_sales</th>\n",
       "      <th>other_sales</th>\n",
       "      <th>critic_score</th>\n",
       "      <th>user_score</th>\n",
       "      <th>rating</th>\n",
       "    </tr>\n",
       "  </thead>\n",
       "  <tbody>\n",
       "    <tr>\n",
       "      <th>659</th>\n",
       "      <td>NaN</td>\n",
       "      <td>GEN</td>\n",
       "      <td>1993.0</td>\n",
       "      <td>NaN</td>\n",
       "      <td>1.78</td>\n",
       "      <td>0.53</td>\n",
       "      <td>0.00</td>\n",
       "      <td>0.08</td>\n",
       "      <td>NaN</td>\n",
       "      <td>NaN</td>\n",
       "      <td>NaN</td>\n",
       "    </tr>\n",
       "    <tr>\n",
       "      <th>14244</th>\n",
       "      <td>NaN</td>\n",
       "      <td>GEN</td>\n",
       "      <td>1993.0</td>\n",
       "      <td>NaN</td>\n",
       "      <td>0.00</td>\n",
       "      <td>0.00</td>\n",
       "      <td>0.03</td>\n",
       "      <td>0.00</td>\n",
       "      <td>NaN</td>\n",
       "      <td>NaN</td>\n",
       "      <td>NaN</td>\n",
       "    </tr>\n",
       "  </tbody>\n",
       "</table>\n",
       "</div>"
      ],
      "text/plain": [
       "      name platform  year_of_release genre  na_sales  eu_sales  jp_sales  \\\n",
       "659    NaN      GEN           1993.0   NaN      1.78      0.53      0.00   \n",
       "14244  NaN      GEN           1993.0   NaN      0.00      0.00      0.03   \n",
       "\n",
       "       other_sales  critic_score  user_score rating  \n",
       "659           0.08           NaN         NaN    NaN  \n",
       "14244         0.00           NaN         NaN    NaN  "
      ]
     },
     "metadata": {},
     "output_type": "display_data"
    },
    {
     "data": {
      "text/html": [
       "<div>\n",
       "<style scoped>\n",
       "    .dataframe tbody tr th:only-of-type {\n",
       "        vertical-align: middle;\n",
       "    }\n",
       "\n",
       "    .dataframe tbody tr th {\n",
       "        vertical-align: top;\n",
       "    }\n",
       "\n",
       "    .dataframe thead th {\n",
       "        text-align: right;\n",
       "    }\n",
       "</style>\n",
       "<table border=\"1\" class=\"dataframe\">\n",
       "  <thead>\n",
       "    <tr style=\"text-align: right;\">\n",
       "      <th></th>\n",
       "      <th>name</th>\n",
       "      <th>platform</th>\n",
       "      <th>year_of_release</th>\n",
       "      <th>genre</th>\n",
       "      <th>na_sales</th>\n",
       "      <th>eu_sales</th>\n",
       "      <th>jp_sales</th>\n",
       "      <th>other_sales</th>\n",
       "      <th>critic_score</th>\n",
       "      <th>user_score</th>\n",
       "      <th>rating</th>\n",
       "    </tr>\n",
       "  </thead>\n",
       "  <tbody>\n",
       "    <tr>\n",
       "      <th>659</th>\n",
       "      <td>unknown</td>\n",
       "      <td>GEN</td>\n",
       "      <td>1993.0</td>\n",
       "      <td>NaN</td>\n",
       "      <td>1.78</td>\n",
       "      <td>0.53</td>\n",
       "      <td>0.00</td>\n",
       "      <td>0.08</td>\n",
       "      <td>NaN</td>\n",
       "      <td>NaN</td>\n",
       "      <td>NaN</td>\n",
       "    </tr>\n",
       "    <tr>\n",
       "      <th>14244</th>\n",
       "      <td>unknown</td>\n",
       "      <td>GEN</td>\n",
       "      <td>1993.0</td>\n",
       "      <td>NaN</td>\n",
       "      <td>0.00</td>\n",
       "      <td>0.00</td>\n",
       "      <td>0.03</td>\n",
       "      <td>0.00</td>\n",
       "      <td>NaN</td>\n",
       "      <td>NaN</td>\n",
       "      <td>NaN</td>\n",
       "    </tr>\n",
       "  </tbody>\n",
       "</table>\n",
       "</div>"
      ],
      "text/plain": [
       "          name platform  year_of_release genre  na_sales  eu_sales  jp_sales  \\\n",
       "659    unknown      GEN           1993.0   NaN      1.78      0.53      0.00   \n",
       "14244  unknown      GEN           1993.0   NaN      0.00      0.00      0.03   \n",
       "\n",
       "       other_sales  critic_score  user_score rating  \n",
       "659           0.08           NaN         NaN    NaN  \n",
       "14244         0.00           NaN         NaN    NaN  "
      ]
     },
     "execution_count": 8,
     "metadata": {},
     "output_type": "execute_result"
    }
   ],
   "source": [
    "display(data.query('name.isna()'))\n",
    "data['name'] = data['name'].fillna('unknown')\n",
    "data.query('name == \"unknown\"')"
   ]
  },
  {
   "cell_type": "code",
   "execution_count": 9,
   "metadata": {},
   "outputs": [
    {
     "data": {
      "text/html": [
       "<div>\n",
       "<style scoped>\n",
       "    .dataframe tbody tr th:only-of-type {\n",
       "        vertical-align: middle;\n",
       "    }\n",
       "\n",
       "    .dataframe tbody tr th {\n",
       "        vertical-align: top;\n",
       "    }\n",
       "\n",
       "    .dataframe thead th {\n",
       "        text-align: right;\n",
       "    }\n",
       "</style>\n",
       "<table border=\"1\" class=\"dataframe\">\n",
       "  <thead>\n",
       "    <tr style=\"text-align: right;\">\n",
       "      <th></th>\n",
       "      <th>name</th>\n",
       "      <th>platform</th>\n",
       "      <th>year_of_release</th>\n",
       "      <th>genre</th>\n",
       "      <th>na_sales</th>\n",
       "      <th>eu_sales</th>\n",
       "      <th>jp_sales</th>\n",
       "      <th>other_sales</th>\n",
       "      <th>critic_score</th>\n",
       "      <th>user_score</th>\n",
       "      <th>rating</th>\n",
       "    </tr>\n",
       "  </thead>\n",
       "  <tbody>\n",
       "    <tr>\n",
       "      <th>659</th>\n",
       "      <td>unknown</td>\n",
       "      <td>GEN</td>\n",
       "      <td>1993.0</td>\n",
       "      <td>NaN</td>\n",
       "      <td>1.78</td>\n",
       "      <td>0.53</td>\n",
       "      <td>0.00</td>\n",
       "      <td>0.08</td>\n",
       "      <td>NaN</td>\n",
       "      <td>NaN</td>\n",
       "      <td>NaN</td>\n",
       "    </tr>\n",
       "    <tr>\n",
       "      <th>14244</th>\n",
       "      <td>unknown</td>\n",
       "      <td>GEN</td>\n",
       "      <td>1993.0</td>\n",
       "      <td>NaN</td>\n",
       "      <td>0.00</td>\n",
       "      <td>0.00</td>\n",
       "      <td>0.03</td>\n",
       "      <td>0.00</td>\n",
       "      <td>NaN</td>\n",
       "      <td>NaN</td>\n",
       "      <td>NaN</td>\n",
       "    </tr>\n",
       "  </tbody>\n",
       "</table>\n",
       "</div>"
      ],
      "text/plain": [
       "          name platform  year_of_release genre  na_sales  eu_sales  jp_sales  \\\n",
       "659    unknown      GEN           1993.0   NaN      1.78      0.53      0.00   \n",
       "14244  unknown      GEN           1993.0   NaN      0.00      0.00      0.03   \n",
       "\n",
       "       other_sales  critic_score  user_score rating  \n",
       "659           0.08           NaN         NaN    NaN  \n",
       "14244         0.00           NaN         NaN    NaN  "
      ]
     },
     "metadata": {},
     "output_type": "display_data"
    },
    {
     "data": {
      "text/html": [
       "<div>\n",
       "<style scoped>\n",
       "    .dataframe tbody tr th:only-of-type {\n",
       "        vertical-align: middle;\n",
       "    }\n",
       "\n",
       "    .dataframe tbody tr th {\n",
       "        vertical-align: top;\n",
       "    }\n",
       "\n",
       "    .dataframe thead th {\n",
       "        text-align: right;\n",
       "    }\n",
       "</style>\n",
       "<table border=\"1\" class=\"dataframe\">\n",
       "  <thead>\n",
       "    <tr style=\"text-align: right;\">\n",
       "      <th></th>\n",
       "      <th>name</th>\n",
       "      <th>platform</th>\n",
       "      <th>year_of_release</th>\n",
       "      <th>genre</th>\n",
       "      <th>na_sales</th>\n",
       "      <th>eu_sales</th>\n",
       "      <th>jp_sales</th>\n",
       "      <th>other_sales</th>\n",
       "      <th>critic_score</th>\n",
       "      <th>user_score</th>\n",
       "      <th>rating</th>\n",
       "    </tr>\n",
       "  </thead>\n",
       "  <tbody>\n",
       "    <tr>\n",
       "      <th>659</th>\n",
       "      <td>unknown</td>\n",
       "      <td>GEN</td>\n",
       "      <td>1993.0</td>\n",
       "      <td>unknown</td>\n",
       "      <td>1.78</td>\n",
       "      <td>0.53</td>\n",
       "      <td>0.00</td>\n",
       "      <td>0.08</td>\n",
       "      <td>NaN</td>\n",
       "      <td>NaN</td>\n",
       "      <td>NaN</td>\n",
       "    </tr>\n",
       "    <tr>\n",
       "      <th>14244</th>\n",
       "      <td>unknown</td>\n",
       "      <td>GEN</td>\n",
       "      <td>1993.0</td>\n",
       "      <td>unknown</td>\n",
       "      <td>0.00</td>\n",
       "      <td>0.00</td>\n",
       "      <td>0.03</td>\n",
       "      <td>0.00</td>\n",
       "      <td>NaN</td>\n",
       "      <td>NaN</td>\n",
       "      <td>NaN</td>\n",
       "    </tr>\n",
       "  </tbody>\n",
       "</table>\n",
       "</div>"
      ],
      "text/plain": [
       "          name platform  year_of_release    genre  na_sales  eu_sales  \\\n",
       "659    unknown      GEN           1993.0  unknown      1.78      0.53   \n",
       "14244  unknown      GEN           1993.0  unknown      0.00      0.00   \n",
       "\n",
       "       jp_sales  other_sales  critic_score  user_score rating  \n",
       "659        0.00         0.08           NaN         NaN    NaN  \n",
       "14244      0.03         0.00           NaN         NaN    NaN  "
      ]
     },
     "execution_count": 9,
     "metadata": {},
     "output_type": "execute_result"
    }
   ],
   "source": [
    "display(data.query('genre.isna()'))\n",
    "data['genre'] = data['genre'].fillna('unknown')\n",
    "data.query('genre == \"unknown\"')"
   ]
  },
  {
   "cell_type": "code",
   "execution_count": 10,
   "metadata": {
    "scrolled": true
   },
   "outputs": [
    {
     "data": {
      "text/html": [
       "<div>\n",
       "<style scoped>\n",
       "    .dataframe tbody tr th:only-of-type {\n",
       "        vertical-align: middle;\n",
       "    }\n",
       "\n",
       "    .dataframe tbody tr th {\n",
       "        vertical-align: top;\n",
       "    }\n",
       "\n",
       "    .dataframe thead th {\n",
       "        text-align: right;\n",
       "    }\n",
       "</style>\n",
       "<table border=\"1\" class=\"dataframe\">\n",
       "  <thead>\n",
       "    <tr style=\"text-align: right;\">\n",
       "      <th></th>\n",
       "      <th>name</th>\n",
       "      <th>platform</th>\n",
       "      <th>year_of_release</th>\n",
       "      <th>genre</th>\n",
       "      <th>na_sales</th>\n",
       "      <th>eu_sales</th>\n",
       "      <th>jp_sales</th>\n",
       "      <th>other_sales</th>\n",
       "      <th>critic_score</th>\n",
       "      <th>user_score</th>\n",
       "      <th>rating</th>\n",
       "    </tr>\n",
       "  </thead>\n",
       "  <tbody>\n",
       "    <tr>\n",
       "      <th>1</th>\n",
       "      <td>Super Mario Bros.</td>\n",
       "      <td>NES</td>\n",
       "      <td>1985.0</td>\n",
       "      <td>Platform</td>\n",
       "      <td>29.08</td>\n",
       "      <td>3.58</td>\n",
       "      <td>6.81</td>\n",
       "      <td>0.77</td>\n",
       "      <td>NaN</td>\n",
       "      <td>NaN</td>\n",
       "      <td>NaN</td>\n",
       "    </tr>\n",
       "    <tr>\n",
       "      <th>4</th>\n",
       "      <td>Pokemon Red/Pokemon Blue</td>\n",
       "      <td>GB</td>\n",
       "      <td>1996.0</td>\n",
       "      <td>Role-Playing</td>\n",
       "      <td>11.27</td>\n",
       "      <td>8.89</td>\n",
       "      <td>10.22</td>\n",
       "      <td>1.00</td>\n",
       "      <td>NaN</td>\n",
       "      <td>NaN</td>\n",
       "      <td>NaN</td>\n",
       "    </tr>\n",
       "    <tr>\n",
       "      <th>5</th>\n",
       "      <td>Tetris</td>\n",
       "      <td>GB</td>\n",
       "      <td>1989.0</td>\n",
       "      <td>Puzzle</td>\n",
       "      <td>23.20</td>\n",
       "      <td>2.26</td>\n",
       "      <td>4.22</td>\n",
       "      <td>0.58</td>\n",
       "      <td>NaN</td>\n",
       "      <td>NaN</td>\n",
       "      <td>NaN</td>\n",
       "    </tr>\n",
       "    <tr>\n",
       "      <th>9</th>\n",
       "      <td>Duck Hunt</td>\n",
       "      <td>NES</td>\n",
       "      <td>1984.0</td>\n",
       "      <td>Shooter</td>\n",
       "      <td>26.93</td>\n",
       "      <td>0.63</td>\n",
       "      <td>0.28</td>\n",
       "      <td>0.47</td>\n",
       "      <td>NaN</td>\n",
       "      <td>NaN</td>\n",
       "      <td>NaN</td>\n",
       "    </tr>\n",
       "    <tr>\n",
       "      <th>10</th>\n",
       "      <td>Nintendogs</td>\n",
       "      <td>DS</td>\n",
       "      <td>2005.0</td>\n",
       "      <td>Simulation</td>\n",
       "      <td>9.05</td>\n",
       "      <td>10.95</td>\n",
       "      <td>1.93</td>\n",
       "      <td>2.74</td>\n",
       "      <td>NaN</td>\n",
       "      <td>NaN</td>\n",
       "      <td>NaN</td>\n",
       "    </tr>\n",
       "  </tbody>\n",
       "</table>\n",
       "</div>"
      ],
      "text/plain": [
       "                        name platform  year_of_release         genre  \\\n",
       "1          Super Mario Bros.      NES           1985.0      Platform   \n",
       "4   Pokemon Red/Pokemon Blue       GB           1996.0  Role-Playing   \n",
       "5                     Tetris       GB           1989.0        Puzzle   \n",
       "9                  Duck Hunt      NES           1984.0       Shooter   \n",
       "10                Nintendogs       DS           2005.0    Simulation   \n",
       "\n",
       "    na_sales  eu_sales  jp_sales  other_sales  critic_score  user_score rating  \n",
       "1      29.08      3.58      6.81         0.77           NaN         NaN    NaN  \n",
       "4      11.27      8.89     10.22         1.00           NaN         NaN    NaN  \n",
       "5      23.20      2.26      4.22         0.58           NaN         NaN    NaN  \n",
       "9      26.93      0.63      0.28         0.47           NaN         NaN    NaN  \n",
       "10      9.05     10.95      1.93         2.74           NaN         NaN    NaN  "
      ]
     },
     "metadata": {},
     "output_type": "display_data"
    },
    {
     "data": {
      "text/html": [
       "<div>\n",
       "<style scoped>\n",
       "    .dataframe tbody tr th:only-of-type {\n",
       "        vertical-align: middle;\n",
       "    }\n",
       "\n",
       "    .dataframe tbody tr th {\n",
       "        vertical-align: top;\n",
       "    }\n",
       "\n",
       "    .dataframe thead th {\n",
       "        text-align: right;\n",
       "    }\n",
       "</style>\n",
       "<table border=\"1\" class=\"dataframe\">\n",
       "  <thead>\n",
       "    <tr style=\"text-align: right;\">\n",
       "      <th></th>\n",
       "      <th>name</th>\n",
       "      <th>platform</th>\n",
       "      <th>year_of_release</th>\n",
       "      <th>genre</th>\n",
       "      <th>na_sales</th>\n",
       "      <th>eu_sales</th>\n",
       "      <th>jp_sales</th>\n",
       "      <th>other_sales</th>\n",
       "      <th>critic_score</th>\n",
       "      <th>user_score</th>\n",
       "      <th>rating</th>\n",
       "    </tr>\n",
       "  </thead>\n",
       "  <tbody>\n",
       "    <tr>\n",
       "      <th>1</th>\n",
       "      <td>Super Mario Bros.</td>\n",
       "      <td>NES</td>\n",
       "      <td>1985.0</td>\n",
       "      <td>Platform</td>\n",
       "      <td>29.08</td>\n",
       "      <td>3.58</td>\n",
       "      <td>6.81</td>\n",
       "      <td>0.77</td>\n",
       "      <td>NaN</td>\n",
       "      <td>NaN</td>\n",
       "      <td>unknown</td>\n",
       "    </tr>\n",
       "    <tr>\n",
       "      <th>4</th>\n",
       "      <td>Pokemon Red/Pokemon Blue</td>\n",
       "      <td>GB</td>\n",
       "      <td>1996.0</td>\n",
       "      <td>Role-Playing</td>\n",
       "      <td>11.27</td>\n",
       "      <td>8.89</td>\n",
       "      <td>10.22</td>\n",
       "      <td>1.00</td>\n",
       "      <td>NaN</td>\n",
       "      <td>NaN</td>\n",
       "      <td>unknown</td>\n",
       "    </tr>\n",
       "    <tr>\n",
       "      <th>5</th>\n",
       "      <td>Tetris</td>\n",
       "      <td>GB</td>\n",
       "      <td>1989.0</td>\n",
       "      <td>Puzzle</td>\n",
       "      <td>23.20</td>\n",
       "      <td>2.26</td>\n",
       "      <td>4.22</td>\n",
       "      <td>0.58</td>\n",
       "      <td>NaN</td>\n",
       "      <td>NaN</td>\n",
       "      <td>unknown</td>\n",
       "    </tr>\n",
       "    <tr>\n",
       "      <th>9</th>\n",
       "      <td>Duck Hunt</td>\n",
       "      <td>NES</td>\n",
       "      <td>1984.0</td>\n",
       "      <td>Shooter</td>\n",
       "      <td>26.93</td>\n",
       "      <td>0.63</td>\n",
       "      <td>0.28</td>\n",
       "      <td>0.47</td>\n",
       "      <td>NaN</td>\n",
       "      <td>NaN</td>\n",
       "      <td>unknown</td>\n",
       "    </tr>\n",
       "    <tr>\n",
       "      <th>10</th>\n",
       "      <td>Nintendogs</td>\n",
       "      <td>DS</td>\n",
       "      <td>2005.0</td>\n",
       "      <td>Simulation</td>\n",
       "      <td>9.05</td>\n",
       "      <td>10.95</td>\n",
       "      <td>1.93</td>\n",
       "      <td>2.74</td>\n",
       "      <td>NaN</td>\n",
       "      <td>NaN</td>\n",
       "      <td>unknown</td>\n",
       "    </tr>\n",
       "  </tbody>\n",
       "</table>\n",
       "</div>"
      ],
      "text/plain": [
       "                        name platform  year_of_release         genre  \\\n",
       "1          Super Mario Bros.      NES           1985.0      Platform   \n",
       "4   Pokemon Red/Pokemon Blue       GB           1996.0  Role-Playing   \n",
       "5                     Tetris       GB           1989.0        Puzzle   \n",
       "9                  Duck Hunt      NES           1984.0       Shooter   \n",
       "10                Nintendogs       DS           2005.0    Simulation   \n",
       "\n",
       "    na_sales  eu_sales  jp_sales  other_sales  critic_score  user_score  \\\n",
       "1      29.08      3.58      6.81         0.77           NaN         NaN   \n",
       "4      11.27      8.89     10.22         1.00           NaN         NaN   \n",
       "5      23.20      2.26      4.22         0.58           NaN         NaN   \n",
       "9      26.93      0.63      0.28         0.47           NaN         NaN   \n",
       "10      9.05     10.95      1.93         2.74           NaN         NaN   \n",
       "\n",
       "     rating  \n",
       "1   unknown  \n",
       "4   unknown  \n",
       "5   unknown  \n",
       "9   unknown  \n",
       "10  unknown  "
      ]
     },
     "execution_count": 10,
     "metadata": {},
     "output_type": "execute_result"
    }
   ],
   "source": [
    "display(data.query('rating.isna()').head())\n",
    "data['rating'] = data['rating'].fillna('unknown')\n",
    "data.query('rating == \"unknown\"').head()"
   ]
  },
  {
   "cell_type": "markdown",
   "metadata": {},
   "source": [
    "В столбцах 'year_of_release', 'critic_score' и 'user_score' мы не можем восстановить пропущенные данные или заменить чем то подходящим, поэтому оставим пропуски как есть.  \n",
    "  \n",
    "Возможные причины появления пропусков: в столбцах 'name' и 'genre' есть по 2 пропуска. Скорее всего они возникли из-за того, что данные об этих играх не полностью выгружены. Скорее всего та же причина пропусков и в столбце 'year_of_release'. Пропуски в столбцах 'critic_score', 'user_score' и 'rating' появились либо также из-за того что данные не выгружены в таблицу, либу потому что этих оценок или рейтинга у игры нет. "
   ]
  },
  {
   "cell_type": "markdown",
   "metadata": {},
   "source": [
    "### Добавление столбца с общими продажами"
   ]
  },
  {
   "cell_type": "markdown",
   "metadata": {},
   "source": [
    "Добавим столбец 'total_sales', в котором будет сумма продаж игры по всем регионам."
   ]
  },
  {
   "cell_type": "code",
   "execution_count": 11,
   "metadata": {
    "scrolled": true
   },
   "outputs": [
    {
     "data": {
      "text/html": [
       "<div>\n",
       "<style scoped>\n",
       "    .dataframe tbody tr th:only-of-type {\n",
       "        vertical-align: middle;\n",
       "    }\n",
       "\n",
       "    .dataframe tbody tr th {\n",
       "        vertical-align: top;\n",
       "    }\n",
       "\n",
       "    .dataframe thead th {\n",
       "        text-align: right;\n",
       "    }\n",
       "</style>\n",
       "<table border=\"1\" class=\"dataframe\">\n",
       "  <thead>\n",
       "    <tr style=\"text-align: right;\">\n",
       "      <th></th>\n",
       "      <th>name</th>\n",
       "      <th>platform</th>\n",
       "      <th>year_of_release</th>\n",
       "      <th>genre</th>\n",
       "      <th>na_sales</th>\n",
       "      <th>eu_sales</th>\n",
       "      <th>jp_sales</th>\n",
       "      <th>other_sales</th>\n",
       "      <th>critic_score</th>\n",
       "      <th>user_score</th>\n",
       "      <th>rating</th>\n",
       "      <th>total_sales</th>\n",
       "    </tr>\n",
       "  </thead>\n",
       "  <tbody>\n",
       "    <tr>\n",
       "      <th>0</th>\n",
       "      <td>Wii Sports</td>\n",
       "      <td>Wii</td>\n",
       "      <td>2006.0</td>\n",
       "      <td>Sports</td>\n",
       "      <td>41.36</td>\n",
       "      <td>28.96</td>\n",
       "      <td>3.77</td>\n",
       "      <td>8.45</td>\n",
       "      <td>76.0</td>\n",
       "      <td>8.0</td>\n",
       "      <td>E</td>\n",
       "      <td>82.54</td>\n",
       "    </tr>\n",
       "    <tr>\n",
       "      <th>1</th>\n",
       "      <td>Super Mario Bros.</td>\n",
       "      <td>NES</td>\n",
       "      <td>1985.0</td>\n",
       "      <td>Platform</td>\n",
       "      <td>29.08</td>\n",
       "      <td>3.58</td>\n",
       "      <td>6.81</td>\n",
       "      <td>0.77</td>\n",
       "      <td>NaN</td>\n",
       "      <td>NaN</td>\n",
       "      <td>unknown</td>\n",
       "      <td>40.24</td>\n",
       "    </tr>\n",
       "    <tr>\n",
       "      <th>2</th>\n",
       "      <td>Mario Kart Wii</td>\n",
       "      <td>Wii</td>\n",
       "      <td>2008.0</td>\n",
       "      <td>Racing</td>\n",
       "      <td>15.68</td>\n",
       "      <td>12.76</td>\n",
       "      <td>3.79</td>\n",
       "      <td>3.29</td>\n",
       "      <td>82.0</td>\n",
       "      <td>8.3</td>\n",
       "      <td>E</td>\n",
       "      <td>35.52</td>\n",
       "    </tr>\n",
       "    <tr>\n",
       "      <th>3</th>\n",
       "      <td>Wii Sports Resort</td>\n",
       "      <td>Wii</td>\n",
       "      <td>2009.0</td>\n",
       "      <td>Sports</td>\n",
       "      <td>15.61</td>\n",
       "      <td>10.93</td>\n",
       "      <td>3.28</td>\n",
       "      <td>2.95</td>\n",
       "      <td>80.0</td>\n",
       "      <td>8.0</td>\n",
       "      <td>E</td>\n",
       "      <td>32.77</td>\n",
       "    </tr>\n",
       "    <tr>\n",
       "      <th>4</th>\n",
       "      <td>Pokemon Red/Pokemon Blue</td>\n",
       "      <td>GB</td>\n",
       "      <td>1996.0</td>\n",
       "      <td>Role-Playing</td>\n",
       "      <td>11.27</td>\n",
       "      <td>8.89</td>\n",
       "      <td>10.22</td>\n",
       "      <td>1.00</td>\n",
       "      <td>NaN</td>\n",
       "      <td>NaN</td>\n",
       "      <td>unknown</td>\n",
       "      <td>31.38</td>\n",
       "    </tr>\n",
       "  </tbody>\n",
       "</table>\n",
       "</div>"
      ],
      "text/plain": [
       "                       name platform  year_of_release         genre  na_sales  \\\n",
       "0                Wii Sports      Wii           2006.0        Sports     41.36   \n",
       "1         Super Mario Bros.      NES           1985.0      Platform     29.08   \n",
       "2            Mario Kart Wii      Wii           2008.0        Racing     15.68   \n",
       "3         Wii Sports Resort      Wii           2009.0        Sports     15.61   \n",
       "4  Pokemon Red/Pokemon Blue       GB           1996.0  Role-Playing     11.27   \n",
       "\n",
       "   eu_sales  jp_sales  other_sales  critic_score  user_score   rating  \\\n",
       "0     28.96      3.77         8.45          76.0         8.0        E   \n",
       "1      3.58      6.81         0.77           NaN         NaN  unknown   \n",
       "2     12.76      3.79         3.29          82.0         8.3        E   \n",
       "3     10.93      3.28         2.95          80.0         8.0        E   \n",
       "4      8.89     10.22         1.00           NaN         NaN  unknown   \n",
       "\n",
       "   total_sales  \n",
       "0        82.54  \n",
       "1        40.24  \n",
       "2        35.52  \n",
       "3        32.77  \n",
       "4        31.38  "
      ]
     },
     "execution_count": 11,
     "metadata": {},
     "output_type": "execute_result"
    }
   ],
   "source": [
    "data['total_sales'] = data['na_sales'] + data['eu_sales'] + data['jp_sales'] + data['other_sales']\n",
    "data.head()"
   ]
  },
  {
   "cell_type": "markdown",
   "metadata": {},
   "source": [
    "<p>\n",
    "<div class=\"alert-success\">\n",
    "<b>Комментарий ревьюера ✔️</b>\n",
    "\n",
    "Ещё такой вариант суммирования есть (как альтернатива): `data[['na_sales','eu_sales','jp_sales', 'other_sales']].sum(axis='columns')` и \"присвоить\" этот результат новому столбцу в data."
   ]
  },
  {
   "cell_type": "markdown",
   "metadata": {},
   "source": [
    "## Исследовательский анализ данных"
   ]
  },
  {
   "cell_type": "markdown",
   "metadata": {},
   "source": [
    "### Продажи по годам"
   ]
  },
  {
   "cell_type": "markdown",
   "metadata": {},
   "source": [
    "Посмотрим сколько игр выпускалось в разные года"
   ]
  },
  {
   "cell_type": "code",
   "execution_count": 12,
   "metadata": {},
   "outputs": [
    {
     "data": {
      "image/png": "[encoded data removed]",
      "text/plain": [
       "<Figure size 1080x360 with 1 Axes>"
      ]
     },
     "metadata": {
      "needs_background": "light"
     },
     "output_type": "display_data"
    }
   ],
   "source": [
    "data.groupby('year_of_release')['platform'].count().plot(figsize=(15,5), kind='bar');"
   ]
  },
  {
   "cell_type": "markdown",
   "metadata": {},
   "source": [
    "Видим что до 1994-го года продажи были очень низкими, затем с 1994-го начали расти и достигли пика в 2008-м и 2009-м годах. Затем продажи начали падать."
   ]
  },
  {
   "cell_type": "markdown",
   "metadata": {},
   "source": [
    "### Продажи по платформам"
   ]
  },
  {
   "cell_type": "markdown",
   "metadata": {},
   "source": [
    "Изучим продажи игр для разных платформ по годам.  \n",
    "Построим графики продаж для платформ с самым большим количеством продаж."
   ]
  },
  {
   "cell_type": "code",
   "execution_count": 43,
   "metadata": {},
   "outputs": [
    {
     "data": {
      "image/png": "[encoded data removed]",
      "text/plain": [
       "<Figure size 1080x360 with 1 Axes>"
      ]
     },
     "metadata": {
      "needs_background": "light"
     },
     "output_type": "display_data"
    }
   ],
   "source": [
    "#для игры \"Strongest Tokyo University Shogi DS\" год релиза указан с ошибкой, исправим на правильный\n",
    "data['year_of_release'] = data['year_of_release'].where(data['name'] != \"Strongest Tokyo University Shogi DS\", 2010) \n",
    "\n",
    "platforms = data.groupby('platform')['total_sales'].sum().sort_values(ascending=False).head(9).index\n",
    "\n",
    "for platform in platforms:\n",
    "    data.query('platform==@platform').groupby('year_of_release')['total_sales'].sum().plot(x='year_of_release', y='total_sales', kind='area', alpha=0.5, figsize=(15,5), linewidth = 5)\n",
    "\n",
    "plt.legend(platforms, loc='upper left', title='Platform');\n",
    "plt.title('Продажи по популярным платформам')\n",
    "plt.xlabel('Год')\n",
    "plt.ylabel('Количество продаж (млн)');"
   ]
  },
  {
   "cell_type": "markdown",
   "metadata": {},
   "source": [
    "Видим что платформа обычно живёт от 6 до 10 лет."
   ]
  },
  {
   "cell_type": "markdown",
   "metadata": {},
   "source": [
    "### Определение потенциально прибыльных платформ"
   ]
  },
  {
   "cell_type": "markdown",
   "metadata": {},
   "source": [
    "Посмотрим график продаж для всех платформ с 2010 по 2016 что бы понять какие платформы могут быть самыми прибыльными в 2017."
   ]
  },
  {
   "cell_type": "code",
   "execution_count": 44,
   "metadata": {},
   "outputs": [
    {
     "data": {
      "image/png": "[encoded data removed]",
      "text/plain": [
       "<Figure size 1080x720 with 1 Axes>"
      ]
     },
     "metadata": {
      "needs_background": "light"
     },
     "output_type": "display_data"
    }
   ],
   "source": [
    "platforms = data.groupby('platform')['total_sales'].sum().sort_values(ascending=False).index\n",
    "for platform in platforms:\n",
    "    data.query('platform==@platform').groupby('year_of_release')['total_sales'].sum().plot(x='year_of_release', y='total_sales', kind='area', alpha=0.5, figsize=(15,10), linewidth = 5)\n",
    "plt.legend(platforms, loc='upper left', title='Platforms');\n",
    "plt.xlim(2010,2016)\n",
    "plt.ylim(0,175);\n",
    "plt.title('Продажи по всем платформам с 2010 по 2016 г.')\n",
    "plt.xlabel('Год')\n",
    "plt.ylabel('Количество продаж (млн)');"
   ]
  },
  {
   "cell_type": "code",
   "execution_count": 15,
   "metadata": {},
   "outputs": [
    {
     "data": {
      "text/plain": [
       "platform\n",
       "PS4     69.25\n",
       "XOne    26.15\n",
       "3DS     15.14\n",
       "Name: total_sales, dtype: float64"
      ]
     },
     "execution_count": 15,
     "metadata": {},
     "output_type": "execute_result"
    }
   ],
   "source": [
    "data.query('year_of_release==2016').groupby('platform')['total_sales'].sum().sort_values(ascending=False).head(3)"
   ]
  },
  {
   "cell_type": "markdown",
   "metadata": {},
   "source": [
    "Видим что продажи по всем платформам падают. Есть 3 лидера с отрывом от остальных по продажам в 2016-м году, это PS4, XOne и 3DS. PS4 и XOne существуют всего 4 года, поэтому исходя из предыдущего графика они скорее всего проживут ещё минимум 2 года. У 3DS продаж меньше, чем у первых двух платформ, и на рынке она уже 6 лет, но всё же она занимает 3-е место среди потенциально самых продаваемых платформ в 2017-м году.  \n",
    "Видим что картина на рынке сильно поменялась после 2014-го года, поэтому в дальнейшем будем рассматривать период от 2014-го до 2016-го года."
   ]
  },
  {
   "cell_type": "markdown",
   "metadata": {},
   "source": [
    "### «Ящики с усами» по глобальным продажам игр в разбивке по платформам."
   ]
  },
  {
   "cell_type": "markdown",
   "metadata": {},
   "source": [
    "Построим «ящики с усами» по глобальным продажам игр в разбивке по платформам, для продаж от 2014-го года."
   ]
  },
  {
   "cell_type": "code",
   "execution_count": 45,
   "metadata": {},
   "outputs": [
    {
     "data": {
      "image/png": "[encoded data removed]",
      "text/plain": [
       "<Figure size 1080x360 with 1 Axes>"
      ]
     },
     "metadata": {
      "needs_background": "light"
     },
     "output_type": "display_data"
    }
   ],
   "source": [
    "data.query(\"year_of_release>=2014\").boxplot(by='platform', column='total_sales', figsize=(15,5));\n",
    "plt.ylim(0, 1.75);\n",
    "plt.title('«Ящики с усами» по глобальным продажам игр в разбивке по платформам')\n",
    "plt.xlabel('Платформа')\n",
    "plt.ylabel('Количество продаж (млн)');"
   ]
  },
  {
   "cell_type": "markdown",
   "metadata": {},
   "source": [
    "Если судить по медианным значениям продаж, то видим что для потенциально прибыльных платформ, выявленных в прошлом пункте: PS4, XOne и 3DS, каждая отдельная игра на PS4 и XOne в среднем продаётся больше чем в 2 раза лучше, чем на 3DS. Также для платформ Wii, WiiU, X360 медианные продажы сопоставими с продажами на PS4 и XOne. На PS3 для каждой игры по медиане тоже неплохие продажи, но почти 2 раза ниже чем на PS4 и XOne, сопоставимые с 3DS.  \n",
    "  \n",
    "Вцелом каждая отдельная игра в 2014-2016 годах в среднем одинаково хорошо продавалась на XOne, WiiU, PS4, Wii и X360 (если судить по медианам). Но у PS4 и XOne больше всего бестселлеров с высокими продажами."
   ]
  },
  {
   "cell_type": "markdown",
   "metadata": {},
   "source": [
    "### Влияние отзывов на продажи"
   ]
  },
  {
   "cell_type": "markdown",
   "metadata": {},
   "source": [
    "Посмотрим как оценки критиков и оценки игроков влияют на продажи игр. Посмотрим на примере платформы PS4 по данным с 2014 по 2016 года.  \n",
    "Сначала построим диаграмму рассеяния продаж по оценкам критиков и посмотрим на корреляцию. Затем построим диаграмму рассеяния продаж по оценкам игроков и посмотрим корреляцию."
   ]
  },
  {
   "cell_type": "code",
   "execution_count": 46,
   "metadata": {},
   "outputs": [
    {
     "name": "stdout",
     "output_type": "stream",
     "text": [
      "Корреляция между оценками критиков и продажами для PS4:\n"
     ]
    },
    {
     "data": {
      "image/png": "[encoded data removed]",
      "text/plain": [
       "<Figure size 1080x720 with 1 Axes>"
      ]
     },
     "metadata": {
      "needs_background": "light"
     },
     "output_type": "display_data"
    }
   ],
   "source": [
    "data.query(\"(platform=='PS4') & (year_of_release>=2014)\").plot(x='critic_score',y='total_sales', kind='scatter', alpha=0.5, figsize=(15,10));\n",
    "print(\"Корреляция между оценками критиков и продажами для PS4:\")\n",
    "data.query(\"(platform=='PS4') & (year_of_release>=2014)\")['critic_score'].corr(data.query(\"(platform=='PS4') & (year_of_release>=2014)\")['total_sales'])\n",
    "plt.title('Диаграмму рассеяния продаж по оценкам критиков для PS4')\n",
    "plt.xlabel('Оценка критиков')\n",
    "plt.ylabel('Количество продаж (млн)');"
   ]
  },
  {
   "cell_type": "code",
   "execution_count": 48,
   "metadata": {},
   "outputs": [
    {
     "name": "stdout",
     "output_type": "stream",
     "text": [
      "Корреляция между оценками игроков и продажами для PS4:\n"
     ]
    },
    {
     "data": {
      "image/png": "[encoded data removed]",
      "text/plain": [
       "<Figure size 1080x720 with 1 Axes>"
      ]
     },
     "metadata": {
      "needs_background": "light"
     },
     "output_type": "display_data"
    }
   ],
   "source": [
    "data.query(\"(platform=='PS4') & (year_of_release>=2014)\").plot(x='user_score',y='total_sales', kind='scatter', alpha=0.5, figsize=(15,10));\n",
    "print(\"Корреляция между оценками игроков и продажами для PS4:\")\n",
    "data.query(\"(platform=='PS4') & (year_of_release>=2014)\")['user_score'].corr(data.query(\"(platform=='PS4') & (year_of_release>=2014)\")['total_sales'])\n",
    "plt.title('Диаграмму рассеяния продаж по оценкам игроков для PS4')\n",
    "plt.xlabel('Оценка игроков') \n",
    "plt.ylabel('Количество продаж (млн)');"
   ]
  },
  {
   "cell_type": "markdown",
   "metadata": {},
   "source": [
    "Видим, что между оценками критиков и продажами есть небольшая корреляция. А между оценками игроков и продажами корреляции нет. Проверим такая ли же ситуация с другими популярными платформами за период 2014-2016 г."
   ]
  },
  {
   "cell_type": "code",
   "execution_count": 19,
   "metadata": {},
   "outputs": [
    {
     "name": "stdout",
     "output_type": "stream",
     "text": [
      "Для платформы X360 корреляция оценок критиков и продаж: 0.53\n",
      "                 Корреляция оценок игроков и продаж: -0.14\n",
      "\n",
      "Для платформы PS3 корреляция оценок критиков и продаж: 0.45\n",
      "                 Корреляция оценок игроков и продаж: -0.17\n",
      "\n",
      "Для платформы PS4 корреляция оценок критиков и продаж: 0.4\n",
      "                 Корреляция оценок игроков и продаж: -0.04\n",
      "\n",
      "Для платформы PC корреляция оценок критиков и продаж: 0.17\n",
      "                 Корреляция оценок игроков и продаж: -0.07\n",
      "\n",
      "Для платформы 3DS корреляция оценок критиков и продаж: 0.31\n",
      "                 Корреляция оценок игроков и продаж: 0.22\n",
      "\n",
      "Для платформы XOne корреляция оценок критиков и продаж: 0.43\n",
      "                 Корреляция оценок игроков и продаж: -0.07\n",
      "\n",
      "Для платформы WiiU корреляция оценок критиков и продаж: 0.37\n",
      "                 Корреляция оценок игроков и продаж: 0.41\n",
      "\n",
      "Для платформы PSV корреляция оценок критиков и продаж: 0.04\n",
      "                 Корреляция оценок игроков и продаж: -0.17\n",
      "\n"
     ]
    }
   ],
   "source": [
    "for platform in platforms:\n",
    "    corr = data.query(\"(year_of_release>=2014) & (platform==@platform)\")['critic_score'].corr(data.query(\"(year_of_release>=2014) & (platform==@platform)\")['total_sales'])\n",
    "    corr1 = data.query(\"(year_of_release>=2014) & (platform==@platform)\")['user_score'].corr(data.query(\"(year_of_release>=2014) & (platform==@platform)\")['total_sales'])\n",
    "    if corr<10: #Отсеиваем платформы, в которых нет оценок критиков, для них corr==float('nan'), что при сравнении с 10 даёт False\n",
    "        print(f\"Для платформы {platform} корреляция оценок критиков и продаж: {corr.round(2)}\")\n",
    "        print(f\"                 Корреляция оценок игроков и продаж: {corr1.round(2)}\")\n",
    "        print()"
   ]
  },
  {
   "cell_type": "markdown",
   "metadata": {},
   "source": [
    "Можно заметить что такая же ситуация с платформами X360, PS3, PS4 и XOne. Для них есть некая корреляция между оценками критиков и продажами и нет кореляции между оценками игроков и продажами.  \n",
    "Для 3DS и WiiU есть небольшая корреляция и между оценками критиков и продажами и между оценками игроков и продажами.  \n",
    "Для PSV и PC почти нет корреляции ни там ни там."
   ]
  },
  {
   "cell_type": "markdown",
   "metadata": {},
   "source": [
    "### Распределение игр по жанрам"
   ]
  },
  {
   "cell_type": "markdown",
   "metadata": {},
   "source": [
    "Рассмотрим медианные продажи игр по каждому жанру с 2014 по 2016 г. (Не средние так-как есть игры с очень высокими продажами относительно остальных)."
   ]
  },
  {
   "cell_type": "code",
   "execution_count": 50,
   "metadata": {
    "scrolled": false
   },
   "outputs": [
    {
     "data": {
      "text/html": [
       "<div>\n",
       "<style scoped>\n",
       "    .dataframe tbody tr th:only-of-type {\n",
       "        vertical-align: middle;\n",
       "    }\n",
       "\n",
       "    .dataframe tbody tr th {\n",
       "        vertical-align: top;\n",
       "    }\n",
       "\n",
       "    .dataframe thead th {\n",
       "        text-align: right;\n",
       "    }\n",
       "</style>\n",
       "<table border=\"1\" class=\"dataframe\">\n",
       "  <thead>\n",
       "    <tr style=\"text-align: right;\">\n",
       "      <th></th>\n",
       "      <th>total_sales</th>\n",
       "    </tr>\n",
       "    <tr>\n",
       "      <th>genre</th>\n",
       "      <th></th>\n",
       "    </tr>\n",
       "  </thead>\n",
       "  <tbody>\n",
       "    <tr>\n",
       "      <th>Shooter</th>\n",
       "      <td>0.515</td>\n",
       "    </tr>\n",
       "    <tr>\n",
       "      <th>Sports</th>\n",
       "      <td>0.180</td>\n",
       "    </tr>\n",
       "    <tr>\n",
       "      <th>Platform</th>\n",
       "      <td>0.140</td>\n",
       "    </tr>\n",
       "    <tr>\n",
       "      <th>Fighting</th>\n",
       "      <td>0.125</td>\n",
       "    </tr>\n",
       "    <tr>\n",
       "      <th>Role-Playing</th>\n",
       "      <td>0.110</td>\n",
       "    </tr>\n",
       "    <tr>\n",
       "      <th>Simulation</th>\n",
       "      <td>0.100</td>\n",
       "    </tr>\n",
       "    <tr>\n",
       "      <th>Action</th>\n",
       "      <td>0.090</td>\n",
       "    </tr>\n",
       "    <tr>\n",
       "      <th>Misc</th>\n",
       "      <td>0.090</td>\n",
       "    </tr>\n",
       "    <tr>\n",
       "      <th>Racing</th>\n",
       "      <td>0.090</td>\n",
       "    </tr>\n",
       "    <tr>\n",
       "      <th>Strategy</th>\n",
       "      <td>0.060</td>\n",
       "    </tr>\n",
       "    <tr>\n",
       "      <th>Puzzle</th>\n",
       "      <td>0.045</td>\n",
       "    </tr>\n",
       "    <tr>\n",
       "      <th>Adventure</th>\n",
       "      <td>0.030</td>\n",
       "    </tr>\n",
       "  </tbody>\n",
       "</table>\n",
       "</div>"
      ],
      "text/plain": [
       "              total_sales\n",
       "genre                    \n",
       "Shooter             0.515\n",
       "Sports              0.180\n",
       "Platform            0.140\n",
       "Fighting            0.125\n",
       "Role-Playing        0.110\n",
       "Simulation          0.100\n",
       "Action              0.090\n",
       "Misc                0.090\n",
       "Racing              0.090\n",
       "Strategy            0.060\n",
       "Puzzle              0.045\n",
       "Adventure           0.030"
      ]
     },
     "metadata": {},
     "output_type": "display_data"
    },
    {
     "data": {
      "image/png": "[encoded data removed]",
      "text/plain": [
       "<Figure size 1080x360 with 1 Axes>"
      ]
     },
     "metadata": {
      "needs_background": "light"
     },
     "output_type": "display_data"
    }
   ],
   "source": [
    "display(data.query(\"year_of_release>=2014\").pivot_table(index='genre', values='total_sales', aggfunc='median').sort_values(by='total_sales', ascending=False))\n",
    "data.query(\"year_of_release>=2014\").pivot_table(index='genre', values='total_sales', aggfunc='median').sort_values(by='total_sales', ascending=False).plot(kind='bar', figsize=(15,5));\n",
    "plt.title('Медианные продажи игр по каждому жанру')\n",
    "plt.xlabel('Жанр')\n",
    "plt.ylabel('Медианные продажи');"
   ]
  },
  {
   "cell_type": "markdown",
   "metadata": {},
   "source": [
    "Игра в жанре Shooter в среденем продаётся в разы лучше, чем игра в любом другом жанре.    \n",
    "Игры в жанре Sports по медианным продажам на втором месте а в жанре Platform - на третьем.  \n",
    "Каждая игра в жанрах Strategy, Puzzle или Adventure в среднем продаётся хуже любой другой игры."
   ]
  },
  {
   "cell_type": "markdown",
   "metadata": {},
   "source": [
    "## Портрет пользователя каждого региона"
   ]
  },
  {
   "cell_type": "markdown",
   "metadata": {},
   "source": [
    "### Топ-5 платформ для каждого региона за 2014-2016 года"
   ]
  },
  {
   "cell_type": "markdown",
   "metadata": {},
   "source": [
    "Топ-5 платформ по количеству продаж и круговая диаграмма с продажами по платформам в северной Америке"
   ]
  },
  {
   "cell_type": "code",
   "execution_count": 56,
   "metadata": {},
   "outputs": [
    {
     "data": {
      "text/html": [
       "<div>\n",
       "<style scoped>\n",
       "    .dataframe tbody tr th:only-of-type {\n",
       "        vertical-align: middle;\n",
       "    }\n",
       "\n",
       "    .dataframe tbody tr th {\n",
       "        vertical-align: top;\n",
       "    }\n",
       "\n",
       "    .dataframe thead th {\n",
       "        text-align: right;\n",
       "    }\n",
       "</style>\n",
       "<table border=\"1\" class=\"dataframe\">\n",
       "  <thead>\n",
       "    <tr style=\"text-align: right;\">\n",
       "      <th></th>\n",
       "      <th>na_sales</th>\n",
       "    </tr>\n",
       "    <tr>\n",
       "      <th>platform</th>\n",
       "      <th></th>\n",
       "    </tr>\n",
       "  </thead>\n",
       "  <tbody>\n",
       "    <tr>\n",
       "      <th>PS4</th>\n",
       "      <td>98.61</td>\n",
       "    </tr>\n",
       "    <tr>\n",
       "      <th>XOne</th>\n",
       "      <td>81.27</td>\n",
       "    </tr>\n",
       "    <tr>\n",
       "      <th>X360</th>\n",
       "      <td>28.30</td>\n",
       "    </tr>\n",
       "    <tr>\n",
       "      <th>3DS</th>\n",
       "      <td>22.64</td>\n",
       "    </tr>\n",
       "    <tr>\n",
       "      <th>PS3</th>\n",
       "      <td>22.05</td>\n",
       "    </tr>\n",
       "  </tbody>\n",
       "</table>\n",
       "</div>"
      ],
      "text/plain": [
       "          na_sales\n",
       "platform          \n",
       "PS4          98.61\n",
       "XOne         81.27\n",
       "X360         28.30\n",
       "3DS          22.64\n",
       "PS3          22.05"
      ]
     },
     "metadata": {},
     "output_type": "display_data"
    },
    {
     "data": {
      "image/png": "[encoded data removed]",
      "text/plain": [
       "<Figure size 432x288 with 1 Axes>"
      ]
     },
     "metadata": {},
     "output_type": "display_data"
    }
   ],
   "source": [
    "display(data.query(\"year_of_release>=2014\").pivot_table(index='platform', values='na_sales', aggfunc='sum').sort_values(by='na_sales', ascending=False).head(5))\n",
    "data.query(\"year_of_release>=2014\").pivot_table(index='platform', values='na_sales', aggfunc='sum').sort_values(by='na_sales', ascending=False).plot(y='na_sales', kind='pie');\n",
    "plt.title('Доли продаж по платформам в северной Америке');"
   ]
  },
  {
   "cell_type": "markdown",
   "metadata": {},
   "source": [
    "Топ-5 платформ по продажам и круговая диаграмма продаж по платформам в европе."
   ]
  },
  {
   "cell_type": "code",
   "execution_count": 57,
   "metadata": {},
   "outputs": [
    {
     "data": {
      "text/html": [
       "<div>\n",
       "<style scoped>\n",
       "    .dataframe tbody tr th:only-of-type {\n",
       "        vertical-align: middle;\n",
       "    }\n",
       "\n",
       "    .dataframe tbody tr th {\n",
       "        vertical-align: top;\n",
       "    }\n",
       "\n",
       "    .dataframe thead th {\n",
       "        text-align: right;\n",
       "    }\n",
       "</style>\n",
       "<table border=\"1\" class=\"dataframe\">\n",
       "  <thead>\n",
       "    <tr style=\"text-align: right;\">\n",
       "      <th></th>\n",
       "      <th>eu_sales</th>\n",
       "    </tr>\n",
       "    <tr>\n",
       "      <th>platform</th>\n",
       "      <th></th>\n",
       "    </tr>\n",
       "  </thead>\n",
       "  <tbody>\n",
       "    <tr>\n",
       "      <th>PS4</th>\n",
       "      <td>130.04</td>\n",
       "    </tr>\n",
       "    <tr>\n",
       "      <th>XOne</th>\n",
       "      <td>46.25</td>\n",
       "    </tr>\n",
       "    <tr>\n",
       "      <th>PS3</th>\n",
       "      <td>25.54</td>\n",
       "    </tr>\n",
       "    <tr>\n",
       "      <th>PC</th>\n",
       "      <td>17.97</td>\n",
       "    </tr>\n",
       "    <tr>\n",
       "      <th>3DS</th>\n",
       "      <td>16.12</td>\n",
       "    </tr>\n",
       "  </tbody>\n",
       "</table>\n",
       "</div>"
      ],
      "text/plain": [
       "          eu_sales\n",
       "platform          \n",
       "PS4         130.04\n",
       "XOne         46.25\n",
       "PS3          25.54\n",
       "PC           17.97\n",
       "3DS          16.12"
      ]
     },
     "metadata": {},
     "output_type": "display_data"
    },
    {
     "data": {
      "image/png": "[encoded data removed]",
      "text/plain": [
       "<Figure size 432x288 with 1 Axes>"
      ]
     },
     "metadata": {},
     "output_type": "display_data"
    }
   ],
   "source": [
    "display(data.query(\"year_of_release>=2014\").pivot_table(index='platform', values='eu_sales', aggfunc='sum').sort_values(by='eu_sales', ascending=False).head(5))\n",
    "data.query(\"year_of_release>=2014\").pivot_table(index='platform', values='eu_sales', aggfunc='sum').sort_values(by='eu_sales', ascending=False).plot(y='eu_sales', kind='pie');\n",
    "plt.title('Доли продаж по платформам в Европе');"
   ]
  },
  {
   "cell_type": "markdown",
   "metadata": {},
   "source": [
    "Топ-5 платформ по продажам и круговая диаграмма продаж по платформам в японии."
   ]
  },
  {
   "cell_type": "code",
   "execution_count": 58,
   "metadata": {
    "scrolled": false
   },
   "outputs": [
    {
     "data": {
      "text/html": [
       "<div>\n",
       "<style scoped>\n",
       "    .dataframe tbody tr th:only-of-type {\n",
       "        vertical-align: middle;\n",
       "    }\n",
       "\n",
       "    .dataframe tbody tr th {\n",
       "        vertical-align: top;\n",
       "    }\n",
       "\n",
       "    .dataframe thead th {\n",
       "        text-align: right;\n",
       "    }\n",
       "</style>\n",
       "<table border=\"1\" class=\"dataframe\">\n",
       "  <thead>\n",
       "    <tr style=\"text-align: right;\">\n",
       "      <th></th>\n",
       "      <th>jp_sales</th>\n",
       "    </tr>\n",
       "    <tr>\n",
       "      <th>platform</th>\n",
       "      <th></th>\n",
       "    </tr>\n",
       "  </thead>\n",
       "  <tbody>\n",
       "    <tr>\n",
       "      <th>3DS</th>\n",
       "      <td>44.24</td>\n",
       "    </tr>\n",
       "    <tr>\n",
       "      <th>PS4</th>\n",
       "      <td>15.02</td>\n",
       "    </tr>\n",
       "    <tr>\n",
       "      <th>PSV</th>\n",
       "      <td>14.54</td>\n",
       "    </tr>\n",
       "    <tr>\n",
       "      <th>PS3</th>\n",
       "      <td>11.22</td>\n",
       "    </tr>\n",
       "    <tr>\n",
       "      <th>WiiU</th>\n",
       "      <td>7.31</td>\n",
       "    </tr>\n",
       "  </tbody>\n",
       "</table>\n",
       "</div>"
      ],
      "text/plain": [
       "          jp_sales\n",
       "platform          \n",
       "3DS          44.24\n",
       "PS4          15.02\n",
       "PSV          14.54\n",
       "PS3          11.22\n",
       "WiiU          7.31"
      ]
     },
     "metadata": {},
     "output_type": "display_data"
    },
    {
     "data": {
      "image/png": "[encoded data removed]",
      "text/plain": [
       "<Figure size 432x288 with 1 Axes>"
      ]
     },
     "metadata": {},
     "output_type": "display_data"
    }
   ],
   "source": [
    "display(data.query(\"year_of_release>=2014\").pivot_table(index='platform', values='jp_sales', aggfunc='sum').sort_values(by='jp_sales', ascending=False).head(5))\n",
    "data.query(\"year_of_release>=2014\").pivot_table(index='platform', values='jp_sales', aggfunc='sum').sort_values(by='jp_sales', ascending=False).plot(y='jp_sales', kind='pie');\n",
    "plt.title('Доли продаж по платформам в Японии');"
   ]
  },
  {
   "cell_type": "markdown",
   "metadata": {},
   "source": [
    "### Топ-5 жанров для каждого региона для 2014-2016 годов"
   ]
  },
  {
   "cell_type": "markdown",
   "metadata": {},
   "source": [
    "Топ-5 жанров и круговая диаграмма всех жанров по продажам в северной Америке."
   ]
  },
  {
   "cell_type": "code",
   "execution_count": 59,
   "metadata": {},
   "outputs": [
    {
     "data": {
      "text/plain": [
       "genre\n",
       "Shooter         79.02\n",
       "Action          72.53\n",
       "Sports          46.13\n",
       "Role-Playing    33.47\n",
       "Misc            15.05\n",
       "Name: na_sales, dtype: float64"
      ]
     },
     "metadata": {},
     "output_type": "display_data"
    },
    {
     "data": {
      "image/png": "[encoded data removed]",
      "text/plain": [
       "<Figure size 432x288 with 1 Axes>"
      ]
     },
     "metadata": {},
     "output_type": "display_data"
    }
   ],
   "source": [
    "display(data.query(\"year_of_release>=2014\").groupby('genre')['na_sales'].sum().sort_values(ascending=False).head(5))\n",
    "data.query(\"year_of_release>=2014\").groupby('genre')['na_sales'].sum().sort_values(ascending=False).plot(kind='pie');\n",
    "plt.title('Доли продаж по жанрам в северной Америке');"
   ]
  },
  {
   "cell_type": "markdown",
   "metadata": {},
   "source": [
    "Топ-5 жанров и круговая диаграмма всех жанров по продажам в европе."
   ]
  },
  {
   "cell_type": "code",
   "execution_count": 60,
   "metadata": {
    "scrolled": false
   },
   "outputs": [
    {
     "data": {
      "text/plain": [
       "genre\n",
       "Action          74.68\n",
       "Shooter         65.52\n",
       "Sports          45.73\n",
       "Role-Playing    28.17\n",
       "Racing          14.13\n",
       "Name: eu_sales, dtype: float64"
      ]
     },
     "metadata": {},
     "output_type": "display_data"
    },
    {
     "data": {
      "image/png": "[encoded data removed]",
      "text/plain": [
       "<Figure size 432x288 with 1 Axes>"
      ]
     },
     "metadata": {},
     "output_type": "display_data"
    }
   ],
   "source": [
    "display(data.query(\"year_of_release>=2014\").groupby('genre')['eu_sales'].sum().sort_values(ascending=False).head(5))\n",
    "data.query(\"year_of_release>=2014\").groupby('genre')['eu_sales'].sum().sort_values(ascending=False).plot(kind='pie');\n",
    "plt.title('Доли продаж по жанрам в Европе');"
   ]
  },
  {
   "cell_type": "markdown",
   "metadata": {},
   "source": [
    "Топ-5 жанров и круговая диаграмма всех жанров по продажам в Японии."
   ]
  },
  {
   "cell_type": "code",
   "execution_count": 61,
   "metadata": {},
   "outputs": [
    {
     "data": {
      "text/plain": [
       "genre\n",
       "Role-Playing    31.16\n",
       "Action          29.58\n",
       "Fighting         6.37\n",
       "Misc             5.61\n",
       "Shooter          4.87\n",
       "Name: jp_sales, dtype: float64"
      ]
     },
     "metadata": {},
     "output_type": "display_data"
    },
    {
     "data": {
      "image/png": "[encoded data removed]",
      "text/plain": [
       "<Figure size 432x288 with 1 Axes>"
      ]
     },
     "metadata": {},
     "output_type": "display_data"
    }
   ],
   "source": [
    "display(data.query(\"year_of_release>=2014\").groupby('genre')['jp_sales'].sum().sort_values(ascending=False).head(5))\n",
    "data.query(\"year_of_release>=2014\").groupby('genre')['jp_sales'].sum().sort_values(ascending=False).plot(kind='pie');\n",
    "plt.title('Доли продаж по жанрам в северной Японии');"
   ]
  },
  {
   "cell_type": "markdown",
   "metadata": {},
   "source": [
    "В северной Америке и Европе вкусы примерно схожие, а в Японии отличаются: там больше покупают Role-Playing и Fighting и меньше покупают Shooter."
   ]
  },
  {
   "cell_type": "markdown",
   "metadata": {},
   "source": [
    "### Влияние рейтинга ESRB на продажи в регионе"
   ]
  },
  {
   "cell_type": "markdown",
   "metadata": {},
   "source": [
    "Посмотрим на распределение продаж по рейтингам ESRB в Северной Америке с 2014 по 2016 г."
   ]
  },
  {
   "cell_type": "code",
   "execution_count": 62,
   "metadata": {},
   "outputs": [
    {
     "data": {
      "image/png": "[encoded data removed]",
      "text/plain": [
       "<Figure size 1080x360 with 1 Axes>"
      ]
     },
     "metadata": {
      "needs_background": "light"
     },
     "output_type": "display_data"
    }
   ],
   "source": [
    "data.query(\"(year_of_release>=2014)\").groupby('rating')['na_sales'].sum().plot(kind='bar', figsize=(15,5));\n",
    "plt.title('Распределение продаж по рейтингам ESRB в Северной Америке')\n",
    "plt.xlabel('Рейтинг ESRB')\n",
    "plt.ylabel('Количество продаж (млн)');"
   ]
  },
  {
   "cell_type": "markdown",
   "metadata": {},
   "source": [
    "Посмотрим на распределение продаж по рейтингам ESRB в Европе с 2014 по 2016 г."
   ]
  },
  {
   "cell_type": "code",
   "execution_count": 63,
   "metadata": {},
   "outputs": [
    {
     "data": {
      "image/png": "[encoded data removed]",
      "text/plain": [
       "<Figure size 1080x360 with 1 Axes>"
      ]
     },
     "metadata": {
      "needs_background": "light"
     },
     "output_type": "display_data"
    }
   ],
   "source": [
    "data.query(\"(year_of_release>=2014)\").groupby('rating')['eu_sales'].sum().plot(kind='bar', figsize=(15,5));\n",
    "plt.title('Распределение продаж по рейтингам ESRB в Европе')\n",
    "plt.xlabel('Рейтинг ESRB')\n",
    "plt.ylabel('Количество продаж (млн)');"
   ]
  },
  {
   "cell_type": "markdown",
   "metadata": {},
   "source": [
    "Посмотрим на распределение продаж по рейтингам ESRB в Японии с 2014 по 2016 г."
   ]
  },
  {
   "cell_type": "code",
   "execution_count": 64,
   "metadata": {},
   "outputs": [
    {
     "data": {
      "image/png": "[encoded data removed]",
      "text/plain": [
       "<Figure size 1080x360 with 1 Axes>"
      ]
     },
     "metadata": {
      "needs_background": "light"
     },
     "output_type": "display_data"
    }
   ],
   "source": [
    "data.query(\"(year_of_release>=2014)\").groupby('rating')['jp_sales'].sum().plot(kind='bar', figsize=(15,5));\n",
    "plt.title('Распределение продаж по рейтингам ESRB в Японии')\n",
    "plt.xlabel('Рейтинг ESRB')\n",
    "plt.ylabel('Количество продаж (млн)');"
   ]
  },
  {
   "cell_type": "markdown",
   "metadata": {},
   "source": [
    "В Америке больше всего покупают игры для взрослой ауитории, в Европе так же, но чуть больше чем в Америке покупаю игры для всех возрастов.  \n",
    "В Японии подавляющее большинство игр не имеет рейтинга. Скорее всего это связано с тем, что рейтинг выдаёт Американское рейтинговое агенство, которое не оценивает большинство Японских игры.\n",
    "Стреди игр, имеющих рейтинг, в Японии больше всего покупают игры для подростков от 13-ти лет."
   ]
  },
  {
   "cell_type": "markdown",
   "metadata": {},
   "source": [
    "## Проверка гипотез"
   ]
  },
  {
   "cell_type": "markdown",
   "metadata": {},
   "source": [
    "Проверим гипотезу о том, что средние пользовательские рейтинки пользователей XOne и PC одинаковые. Это будет нулевая гипотеза H0, альтернативная гипотеза H1 будет: \"Средние пользовательские рейтинки пользователей XOne и PC не одинаковые\". Предположим что распределение рейтингов близко к нормальному и используем t-test Стьюдента. Пороговое значение для статистической значимости возьмём 5%."
   ]
  },
  {
   "cell_type": "code",
   "execution_count": 30,
   "metadata": {},
   "outputs": [
    {
     "name": "stdout",
     "output_type": "stream",
     "text": [
      "p-value = 0.10450507919348415; Гипотеза H0 о том что средние равны не отвергается\n"
     ]
    }
   ],
   "source": [
    "result = st.ttest_ind(data.query(\"(year_of_release>=2014) & (platform=='PC')\")['user_score'].dropna(), data.query(\"(year_of_release>=2014) & (platform=='XOne')\")['user_score'].dropna())\n",
    "if result.pvalue>=0.05:\n",
    "    print(f'p-value = {result.pvalue}; Гипотеза H0 о том что средние равны не отвергается')\n",
    "else:\n",
    "    print(f'p-value = {result.pvalue}; Гипотеза H0 о том что средние равны отвергается')\n",
    "    "
   ]
  },
  {
   "cell_type": "markdown",
   "metadata": {},
   "source": [
    "P-Value получилась больше порогового значения 0.05, значит мы не можем отвергнуть нулевую гипотезу о том что средние пользовательские рейтинки пользователей XOne и PC одинаковые."
   ]
  },
  {
   "cell_type": "markdown",
   "metadata": {},
   "source": [
    "Проверим гипотезу о том, что средние пользовательские рейтинги жанров Action и Sports разные. За нулевую гипотезу H0 возьмём гипотезу о том что они равны, альтернавтивная гипотеза H1 будет что они разные."
   ]
  },
  {
   "cell_type": "code",
   "execution_count": 31,
   "metadata": {},
   "outputs": [
    {
     "name": "stdout",
     "output_type": "stream",
     "text": [
      "p-value = 2.8711147985105864e-19; Гипотеза H0 о том что средние равны отвергается\n"
     ]
    }
   ],
   "source": [
    "result = st.ttest_ind(data.query(\"(year_of_release>=2014) & (genre=='Action')\")['user_score'].dropna(), data.query(\"(year_of_release>=2014) & (genre=='Sports')\")['user_score'].dropna())\n",
    "if result.pvalue>=0.05:\n",
    "    print(f'p-value = {result.pvalue}; Гипотеза H0 о том что средние равны не отвергается')\n",
    "else:\n",
    "    print(f'p-value = {result.pvalue}; Гипотеза H0 о том что средние равны отвергается')"
   ]
  },
  {
   "cell_type": "markdown",
   "metadata": {},
   "source": [
    "P-Value получилось меньше порогового значения 0.05, значит мы отвергаем нулевую гипотезу о равенстве средних и принимаем гипотезу что средние значения разные.  \n",
    "То есть наша гипотеза о том, что средние пользовательские рейтинги жанров Action и Sports разные оказалась более вероятной."
   ]
  },
  {
   "cell_type": "markdown",
   "metadata": {},
   "source": [
    "Проверим эти же гипотезы с помощью критерия Манна-Уитни. Этот критерий даёт более точный результат чем t-test Стьюдента если распределение данных отличается от нормального."
   ]
  },
  {
   "cell_type": "code",
   "execution_count": 32,
   "metadata": {},
   "outputs": [
    {
     "name": "stdout",
     "output_type": "stream",
     "text": [
      "p-value = 0.27752869727762175; Гипотеза H0 о том что средние равны не отвергается\n"
     ]
    }
   ],
   "source": [
    "result = st.mannwhitneyu(data.query(\"(year_of_release>=2014) & (platform=='PC')\")['user_score'].dropna(), data.query(\"(year_of_release>=2014) & (platform=='XOne')\")['user_score'].dropna())\n",
    "if result.pvalue>=0.05:\n",
    "    print(f'p-value = {result.pvalue}; Гипотеза H0 о том что средние равны не отвергается')\n",
    "else:\n",
    "    print(f'p-value = {result.pvalue}; Гипотеза H0 о том что средние равны отвергается')"
   ]
  },
  {
   "cell_type": "code",
   "execution_count": 33,
   "metadata": {},
   "outputs": [
    {
     "name": "stdout",
     "output_type": "stream",
     "text": [
      "p-value = 1.2166879280294303e-16; Гипотеза H0 о том что средние равны отвергается\n"
     ]
    }
   ],
   "source": [
    "result = st.mannwhitneyu(data.query(\"(year_of_release>=2014) & (genre=='Action')\")['user_score'].dropna(), data.query(\"(year_of_release>=2014) & (genre=='Sports')\")['user_score'].dropna())\n",
    "if result.pvalue>=0.05:\n",
    "    print(f'p-value = {result.pvalue}; Гипотеза H0 о том что средние равны не отвергается')\n",
    "else:\n",
    "    print(f'p-value = {result.pvalue}; Гипотеза H0 о том что средние равны отвергается')"
   ]
  },
  {
   "cell_type": "markdown",
   "metadata": {},
   "source": [
    "Критерий Манна-Уитни и t-test Стьюдента дали одинаковые результаты. Делаем выводы:  \n",
    "1. Гипотеза о том, что средние пользовательские рейтинги пользователей XOne и PC одинаковые, не отвергается.  \n",
    "2. Гипотеза о том, что средние пользовательские рейтинги жанров Action и Sports разные, доминирует над гипотезой об их равенстве."
   ]
  },
  {
   "cell_type": "markdown",
   "metadata": {},
   "source": [
    "## Вывод"
   ]
  },
  {
   "cell_type": "markdown",
   "metadata": {},
   "source": [
    "1. Мы изучили данные\n",
    "2. Провели предобработку данных\n",
    "3. Выяснили что продажи игр вцелом падают после 2009-го года.\n",
    "4. Определии средний срок жизни игровой платформы на рынке и на его основе и на основе продаж за последний период выявили 3 платформы с потенциально самыми большими продажами в 2017-м годы: это PS4, XOne и 3DS\n",
    "5. Выяснили что каждая отдельная игра в 2014-2016 годах в среднем одинаково хорошо продавалась на XOne, WiiU, PS4, Wii и X360 (если судить по медианам). Но у PS4 и XOne больше всего бестселлеров с высокими продажами.\n",
    "6. Выяснили что для платформ X360, PS3, PS4 и XOne есть некая корреляция между оценками критиков и продажами, но нет кореляции между оценками игроков и продажами.\n",
    "7. Выяснили что игры в жанре Shooter по медианным продажам продаются в разы лучше, чем игры в любом другом жанре. Игры в жанре Sports по медианным продажам на втором месте а в жанре Platform - на третьем. Каждая игра в жанрах Strategy, Puzzle или Adventure в среднем продаётся хуже любой другой игры.\n",
    "8. Рассмотрели топ 5 игровых платформ для каждого региона и на круговой диаграмме увидели их соотношения.\n",
    "9. Рассмотрели топ 5 игровых жанров для каждого региона и на круговой диаграмме увидели их соотношения.\n",
    "10. Рассмотрели влияние рейтинга ESRB на продажи в регионе. Выяснили, что в Америке больше всего покупают игры для взрослой ауитории, в Европе так же, но чуть больше чем в Америке покупаю игры для всех возрастов. В Японии подавляющее большинство игр не имеет рейтинга. Скорее всего это связано с тем, что рейтинг выдаёт Американское рейтинговое агенство, которое не оценивает большинство Японских игры.\n",
    "Стреди игр, имеющих рейтинг, в Японии больше всего покупают игры для подростков от 13-ти лет..\n",
    "11. Проверили пару гипотез:  \n",
    "Гипотеза о том, что средние пользовательские рейтинги на XOne и PC одинаковые, не отверглась.  \n",
    "Гипотеза о том, что средние пользовательские рейтинги жанров Action и Sports разные, оказалась доминирующей над гипотезой об их равенстве.  \n",
    "  \n",
    "Рекомендации бизнесу.  \n",
    "  \n",
    "В Америке и Европе делать упор на продажи игр в жанрах Shooter, Action и Sports на платформы PS4 и XOne с высокими оценками критиков и с возрастным рейтингом M.  \n",
    "  \n",
    "В Японии делать упор на продажи игр в жанрах Role-Playing и Action на платформы 3DS, PS4 и PSV. Для 3DS выбирать игры с высокими оценками критиков и игроков."
   ]
  }
 ],
 "metadata": {
  "ExecuteTimeLog": [
   {
    "duration": 471,
    "start_time": "2022-09-21T19:41:25.583Z"
   },
   {
    "duration": 69,
    "start_time": "2022-09-21T19:41:48.937Z"
   },
   {
    "duration": 59,
    "start_time": "2022-09-22T18:17:58.522Z"
   },
   {
    "duration": 492,
    "start_time": "2022-09-22T18:18:03.394Z"
   },
   {
    "duration": 12,
    "start_time": "2022-09-22T18:18:03.887Z"
   },
   {
    "duration": 28,
    "start_time": "2022-09-22T18:18:35.269Z"
   },
   {
    "duration": 17,
    "start_time": "2022-09-22T18:20:56.164Z"
   },
   {
    "duration": 13,
    "start_time": "2022-09-22T18:21:03.153Z"
   },
   {
    "duration": 4,
    "start_time": "2022-09-22T18:24:00.297Z"
   },
   {
    "duration": 31,
    "start_time": "2022-09-22T18:24:32.814Z"
   },
   {
    "duration": 7,
    "start_time": "2022-09-22T18:24:36.681Z"
   },
   {
    "duration": 8,
    "start_time": "2022-09-22T18:24:38.588Z"
   },
   {
    "duration": 6,
    "start_time": "2022-09-22T18:24:42.952Z"
   },
   {
    "duration": 6,
    "start_time": "2022-09-22T18:24:44.814Z"
   },
   {
    "duration": 6,
    "start_time": "2022-09-22T18:27:10.636Z"
   },
   {
    "duration": 214,
    "start_time": "2022-09-22T18:27:16.524Z"
   },
   {
    "duration": 3,
    "start_time": "2022-09-22T18:27:28.249Z"
   },
   {
    "duration": 8,
    "start_time": "2022-09-22T18:27:32.825Z"
   },
   {
    "duration": 5,
    "start_time": "2022-09-22T18:27:41.476Z"
   },
   {
    "duration": 7,
    "start_time": "2022-09-22T18:34:16.577Z"
   },
   {
    "duration": 12,
    "start_time": "2022-09-22T18:34:22.558Z"
   },
   {
    "duration": 1028,
    "start_time": "2022-09-22T18:38:47.513Z"
   },
   {
    "duration": 10,
    "start_time": "2022-09-22T18:41:01.117Z"
   },
   {
    "duration": 16,
    "start_time": "2022-09-22T18:43:49.174Z"
   },
   {
    "duration": 3,
    "start_time": "2022-09-22T18:46:10.103Z"
   },
   {
    "duration": 15,
    "start_time": "2022-09-22T18:46:27.777Z"
   },
   {
    "duration": 11,
    "start_time": "2022-09-22T18:49:06.341Z"
   },
   {
    "duration": 9,
    "start_time": "2022-09-22T18:52:52.298Z"
   },
   {
    "duration": 9,
    "start_time": "2022-09-22T18:53:03.420Z"
   },
   {
    "duration": 11,
    "start_time": "2022-09-22T18:53:06.600Z"
   },
   {
    "duration": 20,
    "start_time": "2022-09-22T18:53:22.506Z"
   },
   {
    "duration": 5,
    "start_time": "2022-09-22T18:53:38.136Z"
   },
   {
    "duration": 6,
    "start_time": "2022-09-22T18:53:40.302Z"
   },
   {
    "duration": 15,
    "start_time": "2022-09-22T18:53:46.759Z"
   },
   {
    "duration": 19,
    "start_time": "2022-09-22T18:54:49.070Z"
   },
   {
    "duration": 10,
    "start_time": "2022-09-22T18:55:15.334Z"
   },
   {
    "duration": 16,
    "start_time": "2022-09-22T18:55:41.244Z"
   },
   {
    "duration": 50,
    "start_time": "2022-09-22T18:55:48.142Z"
   },
   {
    "duration": 15,
    "start_time": "2022-09-22T18:55:57.769Z"
   },
   {
    "duration": 17,
    "start_time": "2022-09-22T18:56:22.568Z"
   },
   {
    "duration": 28,
    "start_time": "2022-09-22T18:58:06.970Z"
   },
   {
    "duration": 17,
    "start_time": "2022-09-22T18:58:57.299Z"
   },
   {
    "duration": 14,
    "start_time": "2022-09-22T18:59:29.353Z"
   },
   {
    "duration": 5,
    "start_time": "2022-09-22T19:07:35.539Z"
   },
   {
    "duration": 4,
    "start_time": "2022-09-22T19:07:56.325Z"
   },
   {
    "duration": 13,
    "start_time": "2022-09-22T19:08:48.257Z"
   },
   {
    "duration": 17,
    "start_time": "2022-09-22T19:08:59.137Z"
   },
   {
    "duration": 20,
    "start_time": "2022-09-22T19:09:56.731Z"
   },
   {
    "duration": 25,
    "start_time": "2022-09-22T19:10:23.988Z"
   },
   {
    "duration": 10,
    "start_time": "2022-09-22T19:10:45.879Z"
   },
   {
    "duration": 11,
    "start_time": "2022-09-22T19:11:01.538Z"
   },
   {
    "duration": 14,
    "start_time": "2022-09-22T19:11:12.129Z"
   },
   {
    "duration": 16,
    "start_time": "2022-09-22T19:11:21.420Z"
   },
   {
    "duration": 47,
    "start_time": "2022-09-24T05:28:38.018Z"
   },
   {
    "duration": 466,
    "start_time": "2022-09-24T05:28:46.406Z"
   },
   {
    "duration": 12,
    "start_time": "2022-09-24T05:28:46.874Z"
   },
   {
    "duration": 27,
    "start_time": "2022-09-24T05:28:46.887Z"
   },
   {
    "duration": 17,
    "start_time": "2022-09-24T05:28:46.916Z"
   },
   {
    "duration": 6,
    "start_time": "2022-09-24T05:28:46.935Z"
   },
   {
    "duration": 52,
    "start_time": "2022-09-24T05:28:46.942Z"
   },
   {
    "duration": 4,
    "start_time": "2022-09-24T05:28:46.996Z"
   },
   {
    "duration": 14,
    "start_time": "2022-09-24T05:28:55.911Z"
   },
   {
    "duration": 57,
    "start_time": "2022-09-24T06:06:07.350Z"
   },
   {
    "duration": 13,
    "start_time": "2022-09-24T06:06:07.409Z"
   },
   {
    "duration": 28,
    "start_time": "2022-09-24T06:06:07.424Z"
   },
   {
    "duration": 30,
    "start_time": "2022-09-24T06:06:07.454Z"
   },
   {
    "duration": 5,
    "start_time": "2022-09-24T06:06:07.486Z"
   },
   {
    "duration": 28,
    "start_time": "2022-09-24T06:06:07.493Z"
   },
   {
    "duration": 6,
    "start_time": "2022-09-24T06:39:47.299Z"
   },
   {
    "duration": 10,
    "start_time": "2022-09-24T06:40:20.546Z"
   },
   {
    "duration": 48,
    "start_time": "2022-09-24T06:44:29.654Z"
   },
   {
    "duration": 16,
    "start_time": "2022-09-24T06:45:21.429Z"
   },
   {
    "duration": 8,
    "start_time": "2022-09-24T06:50:50.946Z"
   },
   {
    "duration": 16,
    "start_time": "2022-09-24T06:50:59.614Z"
   },
   {
    "duration": 27,
    "start_time": "2022-09-24T06:51:17.303Z"
   },
   {
    "duration": 24,
    "start_time": "2022-09-24T06:51:38.378Z"
   },
   {
    "duration": 24,
    "start_time": "2022-09-24T06:56:29.743Z"
   },
   {
    "duration": 12,
    "start_time": "2022-09-24T06:56:50.387Z"
   },
   {
    "duration": 60,
    "start_time": "2022-09-24T06:56:57.436Z"
   },
   {
    "duration": 14,
    "start_time": "2022-09-24T06:56:57.497Z"
   },
   {
    "duration": 29,
    "start_time": "2022-09-24T06:56:57.513Z"
   },
   {
    "duration": 38,
    "start_time": "2022-09-24T06:56:57.544Z"
   },
   {
    "duration": 5,
    "start_time": "2022-09-24T06:56:57.584Z"
   },
   {
    "duration": 22,
    "start_time": "2022-09-24T06:56:57.591Z"
   },
   {
    "duration": 19,
    "start_time": "2022-09-24T06:56:57.614Z"
   },
   {
    "duration": 23,
    "start_time": "2022-09-24T07:07:31.511Z"
   },
   {
    "duration": 61,
    "start_time": "2022-09-24T07:07:39.226Z"
   },
   {
    "duration": 13,
    "start_time": "2022-09-24T07:07:39.289Z"
   },
   {
    "duration": 30,
    "start_time": "2022-09-24T07:07:39.304Z"
   },
   {
    "duration": 14,
    "start_time": "2022-09-24T07:07:39.336Z"
   },
   {
    "duration": 25,
    "start_time": "2022-09-24T07:07:39.352Z"
   },
   {
    "duration": 19,
    "start_time": "2022-09-24T07:07:39.379Z"
   },
   {
    "duration": 28,
    "start_time": "2022-09-24T07:07:39.400Z"
   },
   {
    "duration": 5,
    "start_time": "2022-09-24T07:08:41.037Z"
   },
   {
    "duration": 20,
    "start_time": "2022-09-24T07:09:18.682Z"
   },
   {
    "duration": 15,
    "start_time": "2022-09-24T07:45:08.348Z"
   },
   {
    "duration": 58,
    "start_time": "2022-09-24T07:47:54.428Z"
   },
   {
    "duration": 12,
    "start_time": "2022-09-24T07:47:54.487Z"
   },
   {
    "duration": 26,
    "start_time": "2022-09-24T07:47:54.500Z"
   },
   {
    "duration": 13,
    "start_time": "2022-09-24T07:47:54.527Z"
   },
   {
    "duration": 14,
    "start_time": "2022-09-24T07:47:54.541Z"
   },
   {
    "duration": 45,
    "start_time": "2022-09-24T07:47:54.556Z"
   },
   {
    "duration": 27,
    "start_time": "2022-09-24T07:47:54.602Z"
   },
   {
    "duration": 25,
    "start_time": "2022-09-24T07:47:54.631Z"
   },
   {
    "duration": 62,
    "start_time": "2022-09-24T08:02:44.660Z"
   },
   {
    "duration": 26,
    "start_time": "2022-09-24T08:03:03.101Z"
   },
   {
    "duration": 58,
    "start_time": "2022-09-24T08:03:10.287Z"
   },
   {
    "duration": 14,
    "start_time": "2022-09-24T08:03:10.348Z"
   },
   {
    "duration": 28,
    "start_time": "2022-09-24T08:03:10.363Z"
   },
   {
    "duration": 20,
    "start_time": "2022-09-24T08:03:10.394Z"
   },
   {
    "duration": 5,
    "start_time": "2022-09-24T08:03:10.416Z"
   },
   {
    "duration": 23,
    "start_time": "2022-09-24T08:03:10.423Z"
   },
   {
    "duration": 52,
    "start_time": "2022-09-24T08:03:10.448Z"
   },
   {
    "duration": 27,
    "start_time": "2022-09-24T08:03:10.502Z"
   },
   {
    "duration": 71,
    "start_time": "2022-09-24T08:03:10.531Z"
   },
   {
    "duration": 13,
    "start_time": "2022-09-24T08:30:32.223Z"
   },
   {
    "duration": 28,
    "start_time": "2022-09-24T09:45:09.995Z"
   },
   {
    "duration": 27,
    "start_time": "2022-09-24T09:45:17.793Z"
   },
   {
    "duration": 11,
    "start_time": "2022-09-24T09:45:28.502Z"
   },
   {
    "duration": 86,
    "start_time": "2022-09-24T09:45:33.808Z"
   },
   {
    "duration": 24,
    "start_time": "2022-09-24T09:45:37.429Z"
   },
   {
    "duration": 13,
    "start_time": "2022-09-24T09:46:04.810Z"
   },
   {
    "duration": 11,
    "start_time": "2022-09-24T09:46:17.827Z"
   },
   {
    "duration": 11,
    "start_time": "2022-09-24T09:46:28.991Z"
   },
   {
    "duration": 22,
    "start_time": "2022-09-24T09:46:47.228Z"
   },
   {
    "duration": 20,
    "start_time": "2022-09-24T09:47:46.230Z"
   },
   {
    "duration": 25,
    "start_time": "2022-09-24T09:47:59.088Z"
   },
   {
    "duration": 82,
    "start_time": "2022-09-24T09:48:27.773Z"
   },
   {
    "duration": 60,
    "start_time": "2022-09-24T09:49:29.245Z"
   },
   {
    "duration": 24,
    "start_time": "2022-09-24T09:49:33.555Z"
   },
   {
    "duration": 48,
    "start_time": "2022-09-24T09:49:44.622Z"
   },
   {
    "duration": 39,
    "start_time": "2022-09-24T09:49:51.466Z"
   },
   {
    "duration": 40,
    "start_time": "2022-09-24T09:50:09.315Z"
   },
   {
    "duration": 63,
    "start_time": "2022-09-24T12:38:05.825Z"
   },
   {
    "duration": 84,
    "start_time": "2022-09-24T12:38:17.274Z"
   },
   {
    "duration": 51,
    "start_time": "2022-09-24T12:38:25.118Z"
   },
   {
    "duration": 59,
    "start_time": "2022-09-24T12:38:34.781Z"
   },
   {
    "duration": 58,
    "start_time": "2022-09-24T12:39:51.915Z"
   },
   {
    "duration": 51,
    "start_time": "2022-09-25T06:12:23.061Z"
   },
   {
    "duration": 490,
    "start_time": "2022-09-25T06:12:28.840Z"
   },
   {
    "duration": 13,
    "start_time": "2022-09-25T06:12:29.333Z"
   },
   {
    "duration": 25,
    "start_time": "2022-09-25T06:12:29.348Z"
   },
   {
    "duration": 14,
    "start_time": "2022-09-25T06:12:29.375Z"
   },
   {
    "duration": 3,
    "start_time": "2022-09-25T06:12:29.391Z"
   },
   {
    "duration": 67,
    "start_time": "2022-09-25T06:12:29.396Z"
   },
   {
    "duration": 0,
    "start_time": "2022-09-25T06:12:29.465Z"
   },
   {
    "duration": 0,
    "start_time": "2022-09-25T06:12:29.466Z"
   },
   {
    "duration": 0,
    "start_time": "2022-09-25T06:12:29.467Z"
   },
   {
    "duration": 0,
    "start_time": "2022-09-25T06:12:29.468Z"
   },
   {
    "duration": 17,
    "start_time": "2022-09-25T06:12:41.743Z"
   },
   {
    "duration": 13,
    "start_time": "2022-09-25T06:13:11.782Z"
   },
   {
    "duration": 59,
    "start_time": "2022-09-25T06:13:16.441Z"
   },
   {
    "duration": 11,
    "start_time": "2022-09-25T06:13:16.502Z"
   },
   {
    "duration": 24,
    "start_time": "2022-09-25T06:13:16.515Z"
   },
   {
    "duration": 13,
    "start_time": "2022-09-25T06:13:16.540Z"
   },
   {
    "duration": 24,
    "start_time": "2022-09-25T06:13:16.554Z"
   },
   {
    "duration": 18,
    "start_time": "2022-09-25T06:13:16.580Z"
   },
   {
    "duration": 59,
    "start_time": "2022-09-25T06:13:16.599Z"
   },
   {
    "duration": 26,
    "start_time": "2022-09-25T06:13:16.660Z"
   },
   {
    "duration": 59,
    "start_time": "2022-09-25T06:13:16.688Z"
   },
   {
    "duration": 62,
    "start_time": "2022-09-25T06:13:16.748Z"
   },
   {
    "duration": 21,
    "start_time": "2022-09-25T06:17:43.595Z"
   },
   {
    "duration": 77,
    "start_time": "2022-09-25T06:17:47.935Z"
   },
   {
    "duration": 13,
    "start_time": "2022-09-25T06:17:48.014Z"
   },
   {
    "duration": 26,
    "start_time": "2022-09-25T06:17:48.029Z"
   },
   {
    "duration": 15,
    "start_time": "2022-09-25T06:17:48.057Z"
   },
   {
    "duration": 4,
    "start_time": "2022-09-25T06:17:48.075Z"
   },
   {
    "duration": 20,
    "start_time": "2022-09-25T06:17:48.080Z"
   },
   {
    "duration": 64,
    "start_time": "2022-09-25T06:17:48.102Z"
   },
   {
    "duration": 27,
    "start_time": "2022-09-25T06:17:48.168Z"
   },
   {
    "duration": 46,
    "start_time": "2022-09-25T06:17:48.197Z"
   },
   {
    "duration": 56,
    "start_time": "2022-09-25T06:17:48.245Z"
   },
   {
    "duration": 24,
    "start_time": "2022-09-25T06:17:54.872Z"
   },
   {
    "duration": 59,
    "start_time": "2022-09-25T06:17:59.151Z"
   },
   {
    "duration": 13,
    "start_time": "2022-09-25T06:17:59.212Z"
   },
   {
    "duration": 32,
    "start_time": "2022-09-25T06:17:59.226Z"
   },
   {
    "duration": 13,
    "start_time": "2022-09-25T06:17:59.259Z"
   },
   {
    "duration": 4,
    "start_time": "2022-09-25T06:17:59.274Z"
   },
   {
    "duration": 28,
    "start_time": "2022-09-25T06:17:59.279Z"
   },
   {
    "duration": 40,
    "start_time": "2022-09-25T06:17:59.308Z"
   },
   {
    "duration": 27,
    "start_time": "2022-09-25T06:17:59.350Z"
   },
   {
    "duration": 28,
    "start_time": "2022-09-25T06:17:59.379Z"
   },
   {
    "duration": 55,
    "start_time": "2022-09-25T06:17:59.434Z"
   },
   {
    "duration": 5,
    "start_time": "2022-09-25T06:43:07.069Z"
   },
   {
    "duration": 8,
    "start_time": "2022-09-25T06:43:19.255Z"
   },
   {
    "duration": 15,
    "start_time": "2022-09-25T06:43:31.906Z"
   },
   {
    "duration": 20,
    "start_time": "2022-09-25T06:48:17.800Z"
   },
   {
    "duration": 8,
    "start_time": "2022-09-25T06:49:00.744Z"
   },
   {
    "duration": 524,
    "start_time": "2022-09-25T06:49:38.842Z"
   },
   {
    "duration": 9,
    "start_time": "2022-09-25T06:49:49.681Z"
   },
   {
    "duration": 139,
    "start_time": "2022-09-25T06:49:58.378Z"
   },
   {
    "duration": 7,
    "start_time": "2022-09-25T06:50:17.012Z"
   },
   {
    "duration": 150,
    "start_time": "2022-09-25T06:50:28.719Z"
   },
   {
    "duration": 8,
    "start_time": "2022-09-25T06:50:43.370Z"
   },
   {
    "duration": 127,
    "start_time": "2022-09-25T06:51:29.842Z"
   },
   {
    "duration": 177,
    "start_time": "2022-09-25T06:51:48.282Z"
   },
   {
    "duration": 159,
    "start_time": "2022-09-25T06:51:56.357Z"
   },
   {
    "duration": 140,
    "start_time": "2022-09-25T06:52:01.577Z"
   },
   {
    "duration": 126,
    "start_time": "2022-09-25T06:52:08.468Z"
   },
   {
    "duration": 144,
    "start_time": "2022-09-25T06:52:20.003Z"
   },
   {
    "duration": 152,
    "start_time": "2022-09-25T06:52:26.716Z"
   },
   {
    "duration": 127,
    "start_time": "2022-09-25T06:53:12.991Z"
   },
   {
    "duration": 158,
    "start_time": "2022-09-25T06:54:24.100Z"
   },
   {
    "duration": 148,
    "start_time": "2022-09-25T06:56:09.965Z"
   },
   {
    "duration": 142,
    "start_time": "2022-09-25T06:56:37.288Z"
   },
   {
    "duration": 146,
    "start_time": "2022-09-25T06:56:55.613Z"
   },
   {
    "duration": 204,
    "start_time": "2022-09-25T06:57:02.546Z"
   },
   {
    "duration": 154,
    "start_time": "2022-09-25T06:59:08.044Z"
   },
   {
    "duration": 150,
    "start_time": "2022-09-25T06:59:45.982Z"
   },
   {
    "duration": 141,
    "start_time": "2022-09-25T06:59:55.539Z"
   },
   {
    "duration": 9,
    "start_time": "2022-09-25T07:05:39.446Z"
   },
   {
    "duration": 8,
    "start_time": "2022-09-25T07:06:34.484Z"
   },
   {
    "duration": 303,
    "start_time": "2022-09-25T07:11:51.644Z"
   },
   {
    "duration": 10,
    "start_time": "2022-09-25T07:20:46.691Z"
   },
   {
    "duration": 9,
    "start_time": "2022-09-25T07:21:04.460Z"
   },
   {
    "duration": 9,
    "start_time": "2022-09-25T07:21:16.685Z"
   },
   {
    "duration": 7,
    "start_time": "2022-09-25T07:21:30.461Z"
   },
   {
    "duration": 12,
    "start_time": "2022-09-25T07:22:59.276Z"
   },
   {
    "duration": 15,
    "start_time": "2022-09-25T07:23:24.970Z"
   },
   {
    "duration": 7,
    "start_time": "2022-09-25T07:23:36.596Z"
   },
   {
    "duration": 16,
    "start_time": "2022-09-25T07:23:39.843Z"
   },
   {
    "duration": 8,
    "start_time": "2022-09-25T07:28:36.023Z"
   },
   {
    "duration": 10,
    "start_time": "2022-09-25T07:28:51.333Z"
   },
   {
    "duration": 7,
    "start_time": "2022-09-25T07:28:58.326Z"
   },
   {
    "duration": 30,
    "start_time": "2022-09-25T07:29:58.579Z"
   },
   {
    "duration": 432,
    "start_time": "2022-09-25T07:30:14.859Z"
   },
   {
    "duration": 165,
    "start_time": "2022-09-25T07:31:03.124Z"
   },
   {
    "duration": 144,
    "start_time": "2022-09-25T07:32:06.747Z"
   },
   {
    "duration": 144,
    "start_time": "2022-09-25T07:33:05.477Z"
   },
   {
    "duration": 414,
    "start_time": "2022-09-25T07:33:25.583Z"
   },
   {
    "duration": 961,
    "start_time": "2022-09-25T07:33:49.485Z"
   },
   {
    "duration": 153,
    "start_time": "2022-09-25T07:34:39.775Z"
   },
   {
    "duration": 22,
    "start_time": "2022-09-25T07:36:26.845Z"
   },
   {
    "duration": 908,
    "start_time": "2022-09-25T07:36:33.784Z"
   },
   {
    "duration": 807,
    "start_time": "2022-09-25T07:36:52.591Z"
   },
   {
    "duration": 922,
    "start_time": "2022-09-25T07:37:04.259Z"
   },
   {
    "duration": 21,
    "start_time": "2022-09-25T07:37:30.609Z"
   },
   {
    "duration": 965,
    "start_time": "2022-09-25T07:37:36.749Z"
   },
   {
    "duration": 901,
    "start_time": "2022-09-25T07:38:01.193Z"
   },
   {
    "duration": 171,
    "start_time": "2022-09-25T07:38:10.081Z"
   },
   {
    "duration": 169,
    "start_time": "2022-09-25T07:38:38.145Z"
   },
   {
    "duration": 28,
    "start_time": "2022-09-25T07:38:50.110Z"
   },
   {
    "duration": 26,
    "start_time": "2022-09-25T07:38:56.506Z"
   },
   {
    "duration": 804,
    "start_time": "2022-09-25T07:39:54.082Z"
   },
   {
    "duration": 163,
    "start_time": "2022-09-25T07:40:08.579Z"
   },
   {
    "duration": 242,
    "start_time": "2022-09-25T07:40:39.747Z"
   },
   {
    "duration": 964,
    "start_time": "2022-09-25T07:40:53.141Z"
   },
   {
    "duration": 159,
    "start_time": "2022-09-25T07:41:17.637Z"
   },
   {
    "duration": 63,
    "start_time": "2022-09-25T07:42:26.785Z"
   },
   {
    "duration": 178,
    "start_time": "2022-09-25T07:42:35.870Z"
   },
   {
    "duration": 21,
    "start_time": "2022-09-25T07:43:52.942Z"
   },
   {
    "duration": 1530,
    "start_time": "2022-09-25T07:43:59.273Z"
   },
   {
    "duration": 1557,
    "start_time": "2022-09-25T07:44:17.926Z"
   },
   {
    "duration": 1649,
    "start_time": "2022-09-25T07:44:35.002Z"
   },
   {
    "duration": 88,
    "start_time": "2022-09-25T07:45:20.395Z"
   },
   {
    "duration": 389,
    "start_time": "2022-09-25T07:45:30.059Z"
   },
   {
    "duration": 169,
    "start_time": "2022-09-25T07:45:53.262Z"
   },
   {
    "duration": 329,
    "start_time": "2022-09-25T07:46:04.607Z"
   },
   {
    "duration": 299,
    "start_time": "2022-09-25T07:46:18.613Z"
   },
   {
    "duration": 298,
    "start_time": "2022-09-25T07:46:23.892Z"
   },
   {
    "duration": 248,
    "start_time": "2022-09-25T07:46:49.353Z"
   },
   {
    "duration": 390,
    "start_time": "2022-09-25T07:46:58.871Z"
   },
   {
    "duration": 344,
    "start_time": "2022-09-25T07:47:27.062Z"
   },
   {
    "duration": 393,
    "start_time": "2022-09-25T07:47:35.894Z"
   },
   {
    "duration": 400,
    "start_time": "2022-09-25T07:47:40.190Z"
   },
   {
    "duration": 400,
    "start_time": "2022-09-25T07:47:46.284Z"
   },
   {
    "duration": 422,
    "start_time": "2022-09-25T07:48:03.327Z"
   },
   {
    "duration": 290,
    "start_time": "2022-09-25T07:48:28.497Z"
   },
   {
    "duration": 222,
    "start_time": "2022-09-25T07:48:34.571Z"
   },
   {
    "duration": 377,
    "start_time": "2022-09-25T07:48:48.080Z"
   },
   {
    "duration": 60,
    "start_time": "2022-09-25T07:51:27.415Z"
   },
   {
    "duration": 17,
    "start_time": "2022-09-25T07:53:04.340Z"
   },
   {
    "duration": 12,
    "start_time": "2022-09-25T07:54:05.496Z"
   },
   {
    "duration": 61,
    "start_time": "2022-09-25T07:54:11.320Z"
   },
   {
    "duration": 13,
    "start_time": "2022-09-25T07:54:11.383Z"
   },
   {
    "duration": 28,
    "start_time": "2022-09-25T07:54:11.397Z"
   },
   {
    "duration": 22,
    "start_time": "2022-09-25T07:54:11.427Z"
   },
   {
    "duration": 4,
    "start_time": "2022-09-25T07:54:11.452Z"
   },
   {
    "duration": 22,
    "start_time": "2022-09-25T07:54:11.458Z"
   },
   {
    "duration": 53,
    "start_time": "2022-09-25T07:54:11.482Z"
   },
   {
    "duration": 31,
    "start_time": "2022-09-25T07:54:11.537Z"
   },
   {
    "duration": 34,
    "start_time": "2022-09-25T07:54:11.569Z"
   },
   {
    "duration": 45,
    "start_time": "2022-09-25T07:54:11.604Z"
   },
   {
    "duration": 424,
    "start_time": "2022-09-25T07:54:11.652Z"
   },
   {
    "duration": 378,
    "start_time": "2022-09-25T07:54:12.078Z"
   },
   {
    "duration": 404,
    "start_time": "2022-09-25T07:54:21.333Z"
   },
   {
    "duration": 495,
    "start_time": "2022-09-25T07:54:29.247Z"
   },
   {
    "duration": 791,
    "start_time": "2022-09-25T07:54:57.751Z"
   },
   {
    "duration": 513,
    "start_time": "2022-09-25T07:55:16.905Z"
   },
   {
    "duration": 214,
    "start_time": "2022-09-25T07:55:30.303Z"
   },
   {
    "duration": 375,
    "start_time": "2022-09-25T07:55:38.040Z"
   },
   {
    "duration": 12,
    "start_time": "2022-09-25T08:04:44.571Z"
   },
   {
    "duration": 25,
    "start_time": "2022-09-25T08:04:49.614Z"
   },
   {
    "duration": 12,
    "start_time": "2022-09-25T08:05:10.516Z"
   },
   {
    "duration": 24,
    "start_time": "2022-09-25T08:05:14.343Z"
   },
   {
    "duration": 25,
    "start_time": "2022-09-25T08:05:21.244Z"
   },
   {
    "duration": 217,
    "start_time": "2022-09-25T08:09:26.664Z"
   },
   {
    "duration": 210,
    "start_time": "2022-09-25T08:09:34.881Z"
   },
   {
    "duration": 228,
    "start_time": "2022-09-25T08:09:40.379Z"
   },
   {
    "duration": 238,
    "start_time": "2022-09-25T08:09:43.298Z"
   },
   {
    "duration": 26,
    "start_time": "2022-09-25T08:09:52.691Z"
   },
   {
    "duration": 81,
    "start_time": "2022-09-25T08:14:50.938Z"
   },
   {
    "duration": 80,
    "start_time": "2022-09-25T08:15:03.884Z"
   },
   {
    "duration": 16,
    "start_time": "2022-09-25T08:15:03.967Z"
   },
   {
    "duration": 50,
    "start_time": "2022-09-25T08:15:03.985Z"
   },
   {
    "duration": 20,
    "start_time": "2022-09-25T08:15:04.037Z"
   },
   {
    "duration": 6,
    "start_time": "2022-09-25T08:15:04.060Z"
   },
   {
    "duration": 32,
    "start_time": "2022-09-25T08:15:04.068Z"
   },
   {
    "duration": 70,
    "start_time": "2022-09-25T08:15:04.102Z"
   },
   {
    "duration": 38,
    "start_time": "2022-09-25T08:15:04.174Z"
   },
   {
    "duration": 43,
    "start_time": "2022-09-25T08:15:04.232Z"
   },
   {
    "duration": 22,
    "start_time": "2022-09-25T08:15:04.277Z"
   },
   {
    "duration": 326,
    "start_time": "2022-09-25T08:15:04.301Z"
   },
   {
    "duration": 92,
    "start_time": "2022-09-25T08:15:04.630Z"
   },
   {
    "duration": 0,
    "start_time": "2022-09-25T08:15:04.724Z"
   },
   {
    "duration": 25,
    "start_time": "2022-09-25T08:15:19.945Z"
   },
   {
    "duration": 86,
    "start_time": "2022-09-25T08:15:43.760Z"
   },
   {
    "duration": 417,
    "start_time": "2022-09-25T08:16:14.377Z"
   },
   {
    "duration": 13,
    "start_time": "2022-09-25T08:16:14.796Z"
   },
   {
    "duration": 28,
    "start_time": "2022-09-25T08:16:14.810Z"
   },
   {
    "duration": 13,
    "start_time": "2022-09-25T08:16:14.840Z"
   },
   {
    "duration": 4,
    "start_time": "2022-09-25T08:16:14.856Z"
   },
   {
    "duration": 22,
    "start_time": "2022-09-25T08:16:14.862Z"
   },
   {
    "duration": 56,
    "start_time": "2022-09-25T08:16:14.886Z"
   },
   {
    "duration": 28,
    "start_time": "2022-09-25T08:16:14.944Z"
   },
   {
    "duration": 31,
    "start_time": "2022-09-25T08:16:14.973Z"
   },
   {
    "duration": 41,
    "start_time": "2022-09-25T08:16:15.006Z"
   },
   {
    "duration": 567,
    "start_time": "2022-09-25T08:16:15.049Z"
   },
   {
    "duration": 86,
    "start_time": "2022-09-25T08:16:15.618Z"
   },
   {
    "duration": 0,
    "start_time": "2022-09-25T08:16:15.705Z"
   },
   {
    "duration": 79,
    "start_time": "2022-09-25T08:16:26.817Z"
   },
   {
    "duration": 62,
    "start_time": "2022-09-25T08:16:31.051Z"
   },
   {
    "duration": 14,
    "start_time": "2022-09-25T08:16:31.116Z"
   },
   {
    "duration": 52,
    "start_time": "2022-09-25T08:16:31.131Z"
   },
   {
    "duration": 21,
    "start_time": "2022-09-25T08:16:31.185Z"
   },
   {
    "duration": 27,
    "start_time": "2022-09-25T08:16:31.208Z"
   },
   {
    "duration": 34,
    "start_time": "2022-09-25T08:16:31.237Z"
   },
   {
    "duration": 27,
    "start_time": "2022-09-25T08:16:31.274Z"
   },
   {
    "duration": 44,
    "start_time": "2022-09-25T08:16:31.303Z"
   },
   {
    "duration": 31,
    "start_time": "2022-09-25T08:16:31.348Z"
   },
   {
    "duration": 16,
    "start_time": "2022-09-25T08:16:31.381Z"
   },
   {
    "duration": 321,
    "start_time": "2022-09-25T08:16:31.399Z"
   },
   {
    "duration": 67,
    "start_time": "2022-09-25T08:16:31.722Z"
   },
   {
    "duration": 0,
    "start_time": "2022-09-25T08:16:31.791Z"
   },
   {
    "duration": 79,
    "start_time": "2022-09-25T08:16:50.056Z"
   },
   {
    "duration": 59,
    "start_time": "2022-09-25T08:16:52.454Z"
   },
   {
    "duration": 14,
    "start_time": "2022-09-25T08:16:52.515Z"
   },
   {
    "duration": 32,
    "start_time": "2022-09-25T08:16:52.531Z"
   },
   {
    "duration": 14,
    "start_time": "2022-09-25T08:16:52.565Z"
   },
   {
    "duration": 4,
    "start_time": "2022-09-25T08:16:52.581Z"
   },
   {
    "duration": 22,
    "start_time": "2022-09-25T08:16:52.586Z"
   },
   {
    "duration": 58,
    "start_time": "2022-09-25T08:16:52.609Z"
   },
   {
    "duration": 25,
    "start_time": "2022-09-25T08:16:52.669Z"
   },
   {
    "duration": 57,
    "start_time": "2022-09-25T08:16:52.695Z"
   },
   {
    "duration": 15,
    "start_time": "2022-09-25T08:16:52.754Z"
   },
   {
    "duration": 398,
    "start_time": "2022-09-25T08:16:52.771Z"
   },
   {
    "duration": 44,
    "start_time": "2022-09-25T08:16:53.171Z"
   },
   {
    "duration": 0,
    "start_time": "2022-09-25T08:16:53.217Z"
   },
   {
    "duration": 261,
    "start_time": "2022-09-25T08:17:01.113Z"
   },
   {
    "duration": 284,
    "start_time": "2022-09-25T08:17:25.141Z"
   },
   {
    "duration": 257,
    "start_time": "2022-09-25T08:17:42.710Z"
   },
   {
    "duration": 252,
    "start_time": "2022-09-25T08:17:49.098Z"
   },
   {
    "duration": 550,
    "start_time": "2022-09-25T08:18:13.999Z"
   },
   {
    "duration": 983,
    "start_time": "2022-09-25T08:20:10.402Z"
   },
   {
    "duration": 522,
    "start_time": "2022-09-25T08:20:20.034Z"
   },
   {
    "duration": 527,
    "start_time": "2022-09-25T08:20:39.705Z"
   },
   {
    "duration": 25,
    "start_time": "2022-09-25T08:21:00.465Z"
   },
   {
    "duration": 14,
    "start_time": "2022-09-25T08:21:28.121Z"
   },
   {
    "duration": 430,
    "start_time": "2022-09-25T08:23:53.233Z"
   },
   {
    "duration": 265,
    "start_time": "2022-09-25T08:24:00.873Z"
   },
   {
    "duration": 508,
    "start_time": "2022-09-25T08:28:08.051Z"
   },
   {
    "duration": 664,
    "start_time": "2022-09-25T08:28:36.846Z"
   },
   {
    "duration": 501,
    "start_time": "2022-09-25T08:28:44.109Z"
   },
   {
    "duration": 509,
    "start_time": "2022-09-25T08:33:36.713Z"
   },
   {
    "duration": 602,
    "start_time": "2022-09-25T08:33:43.469Z"
   },
   {
    "duration": 533,
    "start_time": "2022-09-25T08:33:47.277Z"
   },
   {
    "duration": 200,
    "start_time": "2022-09-25T08:35:05.933Z"
   },
   {
    "duration": 483,
    "start_time": "2022-09-25T08:35:35.209Z"
   },
   {
    "duration": 208,
    "start_time": "2022-09-25T08:36:05.610Z"
   },
   {
    "duration": 508,
    "start_time": "2022-09-25T08:36:27.946Z"
   },
   {
    "duration": 249,
    "start_time": "2022-09-25T08:37:02.651Z"
   },
   {
    "duration": 270,
    "start_time": "2022-09-25T08:37:35.405Z"
   },
   {
    "duration": 252,
    "start_time": "2022-09-25T08:37:44.826Z"
   },
   {
    "duration": 268,
    "start_time": "2022-09-25T08:37:49.806Z"
   },
   {
    "duration": 378,
    "start_time": "2022-09-25T08:37:56.451Z"
   },
   {
    "duration": 233,
    "start_time": "2022-09-25T08:38:17.153Z"
   },
   {
    "duration": 251,
    "start_time": "2022-09-25T08:38:27.896Z"
   },
   {
    "duration": 265,
    "start_time": "2022-09-25T08:41:08.954Z"
   },
   {
    "duration": 18,
    "start_time": "2022-09-25T08:41:27.081Z"
   },
   {
    "duration": 229,
    "start_time": "2022-09-25T08:41:34.848Z"
   },
   {
    "duration": 270,
    "start_time": "2022-09-25T08:41:42.579Z"
   },
   {
    "duration": 340,
    "start_time": "2022-09-25T08:42:26.462Z"
   },
   {
    "duration": 395,
    "start_time": "2022-09-25T08:42:46.176Z"
   },
   {
    "duration": 349,
    "start_time": "2022-09-25T08:43:07.184Z"
   },
   {
    "duration": 267,
    "start_time": "2022-09-25T08:45:01.842Z"
   },
   {
    "duration": 304,
    "start_time": "2022-09-25T08:45:06.514Z"
   },
   {
    "duration": 437,
    "start_time": "2022-09-25T08:45:19.820Z"
   },
   {
    "duration": 376,
    "start_time": "2022-09-25T08:45:41.548Z"
   },
   {
    "duration": 347,
    "start_time": "2022-09-25T08:45:47.705Z"
   },
   {
    "duration": 199,
    "start_time": "2022-09-25T08:47:13.784Z"
   },
   {
    "duration": 328,
    "start_time": "2022-09-25T08:47:50.649Z"
   },
   {
    "duration": 722,
    "start_time": "2022-09-25T08:59:13.294Z"
   },
   {
    "duration": 691,
    "start_time": "2022-09-25T08:59:27.232Z"
   },
   {
    "duration": 332,
    "start_time": "2022-09-25T08:59:56.918Z"
   },
   {
    "duration": 330,
    "start_time": "2022-09-25T09:00:54.076Z"
   },
   {
    "duration": 507,
    "start_time": "2022-09-25T09:01:06.254Z"
   },
   {
    "duration": 822,
    "start_time": "2022-09-25T09:01:31.808Z"
   },
   {
    "duration": 326,
    "start_time": "2022-09-25T09:01:54.474Z"
   },
   {
    "duration": 732,
    "start_time": "2022-09-25T09:03:11.641Z"
   },
   {
    "duration": 724,
    "start_time": "2022-09-25T09:03:17.413Z"
   },
   {
    "duration": 307,
    "start_time": "2022-09-25T09:03:33.778Z"
   },
   {
    "duration": 245,
    "start_time": "2022-09-25T09:19:07.457Z"
   },
   {
    "duration": 296,
    "start_time": "2022-09-25T09:19:23.058Z"
   },
   {
    "duration": 410,
    "start_time": "2022-09-25T14:00:23.471Z"
   },
   {
    "duration": 313,
    "start_time": "2022-09-25T14:01:10.700Z"
   },
   {
    "duration": 715,
    "start_time": "2022-09-25T14:01:23.807Z"
   },
   {
    "duration": 764,
    "start_time": "2022-09-25T14:01:40.854Z"
   },
   {
    "duration": 759,
    "start_time": "2022-09-25T14:01:47.617Z"
   },
   {
    "duration": 929,
    "start_time": "2022-09-25T14:01:59.753Z"
   },
   {
    "duration": 1051,
    "start_time": "2022-09-25T14:02:10.988Z"
   },
   {
    "duration": 778,
    "start_time": "2022-09-25T14:02:22.391Z"
   },
   {
    "duration": 780,
    "start_time": "2022-09-25T14:02:53.023Z"
   },
   {
    "duration": 792,
    "start_time": "2022-09-25T14:03:03.206Z"
   },
   {
    "duration": 301,
    "start_time": "2022-09-25T14:03:42.754Z"
   },
   {
    "duration": 373,
    "start_time": "2022-09-25T14:03:48.536Z"
   },
   {
    "duration": 475,
    "start_time": "2022-09-25T14:03:52.771Z"
   },
   {
    "duration": 895,
    "start_time": "2022-09-25T14:04:07.881Z"
   },
   {
    "duration": 735,
    "start_time": "2022-09-25T14:04:21.753Z"
   },
   {
    "duration": 8,
    "start_time": "2022-09-25T14:07:13.277Z"
   },
   {
    "duration": 8,
    "start_time": "2022-09-25T14:07:21.728Z"
   },
   {
    "duration": 7,
    "start_time": "2022-09-25T14:07:35.216Z"
   },
   {
    "duration": 10,
    "start_time": "2022-09-25T14:08:16.869Z"
   },
   {
    "duration": 9,
    "start_time": "2022-09-25T14:08:45.963Z"
   },
   {
    "duration": 9,
    "start_time": "2022-09-25T14:10:27.544Z"
   },
   {
    "duration": 10,
    "start_time": "2022-09-25T14:10:31.184Z"
   },
   {
    "duration": 8,
    "start_time": "2022-09-25T14:10:38.051Z"
   },
   {
    "duration": 9,
    "start_time": "2022-09-25T14:11:00.629Z"
   },
   {
    "duration": 9,
    "start_time": "2022-09-25T14:11:12.829Z"
   },
   {
    "duration": 805,
    "start_time": "2022-09-25T14:11:56.295Z"
   },
   {
    "duration": 317,
    "start_time": "2022-09-25T14:12:06.894Z"
   },
   {
    "duration": 12,
    "start_time": "2022-09-25T14:42:37.145Z"
   },
   {
    "duration": 118,
    "start_time": "2022-09-25T14:44:54.698Z"
   },
   {
    "duration": 106,
    "start_time": "2022-09-25T14:45:04.830Z"
   },
   {
    "duration": 12,
    "start_time": "2022-09-25T14:45:09.530Z"
   },
   {
    "duration": 96,
    "start_time": "2022-09-25T14:45:12.997Z"
   },
   {
    "duration": 182,
    "start_time": "2022-09-25T14:48:40.979Z"
   },
   {
    "duration": 185,
    "start_time": "2022-09-25T14:49:10.359Z"
   },
   {
    "duration": 191,
    "start_time": "2022-09-25T14:49:25.835Z"
   },
   {
    "duration": 85,
    "start_time": "2022-09-25T14:49:35.456Z"
   },
   {
    "duration": 109,
    "start_time": "2022-09-25T14:49:41.477Z"
   },
   {
    "duration": 132,
    "start_time": "2022-09-25T14:49:56.314Z"
   },
   {
    "duration": 258,
    "start_time": "2022-09-25T14:50:01.677Z"
   },
   {
    "duration": 89,
    "start_time": "2022-09-25T14:50:13.774Z"
   },
   {
    "duration": 18,
    "start_time": "2022-09-25T14:50:22.205Z"
   },
   {
    "duration": 89,
    "start_time": "2022-09-25T14:50:31.536Z"
   },
   {
    "duration": 163,
    "start_time": "2022-09-25T15:19:14.667Z"
   },
   {
    "duration": 111,
    "start_time": "2022-09-25T15:19:32.019Z"
   },
   {
    "duration": 112,
    "start_time": "2022-09-25T15:22:17.786Z"
   },
   {
    "duration": 195,
    "start_time": "2022-09-25T15:22:29.930Z"
   },
   {
    "duration": 87,
    "start_time": "2022-09-25T15:22:33.427Z"
   },
   {
    "duration": 262,
    "start_time": "2022-09-25T15:22:36.287Z"
   },
   {
    "duration": 83,
    "start_time": "2022-09-25T15:22:39.775Z"
   },
   {
    "duration": 109,
    "start_time": "2022-09-25T15:25:50.358Z"
   },
   {
    "duration": 208,
    "start_time": "2022-09-25T15:25:58.747Z"
   },
   {
    "duration": 290,
    "start_time": "2022-09-25T15:26:10.610Z"
   },
   {
    "duration": 546,
    "start_time": "2022-09-25T15:26:28.913Z"
   },
   {
    "duration": 454,
    "start_time": "2022-09-25T15:26:58.515Z"
   },
   {
    "duration": 482,
    "start_time": "2022-09-25T15:27:28.411Z"
   },
   {
    "duration": 481,
    "start_time": "2022-09-25T15:27:42.923Z"
   },
   {
    "duration": 698,
    "start_time": "2022-09-25T15:27:47.929Z"
   },
   {
    "duration": 808,
    "start_time": "2022-09-25T15:28:23.845Z"
   },
   {
    "duration": 523,
    "start_time": "2022-09-25T15:31:18.896Z"
   },
   {
    "duration": 409,
    "start_time": "2022-09-25T15:33:42.134Z"
   },
   {
    "duration": 238,
    "start_time": "2022-09-25T15:34:06.640Z"
   },
   {
    "duration": 223,
    "start_time": "2022-09-25T15:53:33.920Z"
   },
   {
    "duration": 244,
    "start_time": "2022-09-25T15:54:32.635Z"
   },
   {
    "duration": 242,
    "start_time": "2022-09-25T15:54:44.308Z"
   },
   {
    "duration": 232,
    "start_time": "2022-09-25T15:54:52.595Z"
   },
   {
    "duration": 47,
    "start_time": "2022-09-26T16:16:33.657Z"
   },
   {
    "duration": 531,
    "start_time": "2022-09-26T16:16:38.611Z"
   },
   {
    "duration": 14,
    "start_time": "2022-09-26T16:16:39.144Z"
   },
   {
    "duration": 38,
    "start_time": "2022-09-26T16:16:39.160Z"
   },
   {
    "duration": 42,
    "start_time": "2022-09-26T16:16:39.200Z"
   },
   {
    "duration": 6,
    "start_time": "2022-09-26T16:16:39.245Z"
   },
   {
    "duration": 27,
    "start_time": "2022-09-26T16:16:39.253Z"
   },
   {
    "duration": 51,
    "start_time": "2022-09-26T16:16:39.282Z"
   },
   {
    "duration": 28,
    "start_time": "2022-09-26T16:16:39.335Z"
   },
   {
    "duration": 32,
    "start_time": "2022-09-26T16:16:39.365Z"
   },
   {
    "duration": 59,
    "start_time": "2022-09-26T16:16:39.399Z"
   },
   {
    "duration": 730,
    "start_time": "2022-09-26T16:16:39.461Z"
   },
   {
    "duration": 382,
    "start_time": "2022-09-26T16:16:40.193Z"
   },
   {
    "duration": 835,
    "start_time": "2022-09-26T16:16:40.577Z"
   },
   {
    "duration": 19,
    "start_time": "2022-09-26T16:16:41.415Z"
   },
   {
    "duration": 278,
    "start_time": "2022-09-26T16:16:41.436Z"
   },
   {
    "duration": 53,
    "start_time": "2022-09-26T16:16:41.717Z"
   },
   {
    "duration": 129,
    "start_time": "2022-09-26T16:17:48.194Z"
   },
   {
    "duration": 126,
    "start_time": "2022-09-26T16:18:12.519Z"
   },
   {
    "duration": 137,
    "start_time": "2022-09-26T16:18:19.572Z"
   },
   {
    "duration": 138,
    "start_time": "2022-09-26T16:18:25.035Z"
   },
   {
    "duration": 173,
    "start_time": "2022-09-26T16:19:24.344Z"
   },
   {
    "duration": 167,
    "start_time": "2022-09-26T16:19:49.871Z"
   },
   {
    "duration": 160,
    "start_time": "2022-09-26T16:20:27.659Z"
   },
   {
    "duration": 144,
    "start_time": "2022-09-26T16:20:38.778Z"
   },
   {
    "duration": 268,
    "start_time": "2022-09-26T16:20:46.223Z"
   },
   {
    "duration": 197,
    "start_time": "2022-09-26T16:20:55.167Z"
   },
   {
    "duration": 262,
    "start_time": "2022-09-26T16:21:06.343Z"
   },
   {
    "duration": 187,
    "start_time": "2022-09-26T16:23:02.164Z"
   },
   {
    "duration": 65,
    "start_time": "2022-09-26T16:24:14.682Z"
   },
   {
    "duration": 188,
    "start_time": "2022-09-26T16:24:30.627Z"
   },
   {
    "duration": 181,
    "start_time": "2022-09-26T16:24:47.733Z"
   },
   {
    "duration": 202,
    "start_time": "2022-09-26T16:25:29.349Z"
   },
   {
    "duration": 183,
    "start_time": "2022-09-26T16:26:21.088Z"
   },
   {
    "duration": 184,
    "start_time": "2022-09-26T16:26:32.584Z"
   },
   {
    "duration": 66,
    "start_time": "2022-09-26T16:29:12.812Z"
   },
   {
    "duration": 44,
    "start_time": "2022-09-26T16:29:32.989Z"
   },
   {
    "duration": 54,
    "start_time": "2022-09-26T16:29:54.378Z"
   },
   {
    "duration": 52,
    "start_time": "2022-09-26T16:29:56.013Z"
   },
   {
    "duration": 166,
    "start_time": "2022-09-26T16:30:04.512Z"
   },
   {
    "duration": 66,
    "start_time": "2022-09-26T16:30:07.307Z"
   },
   {
    "duration": 176,
    "start_time": "2022-09-26T16:30:17.609Z"
   },
   {
    "duration": 66,
    "start_time": "2022-09-26T16:30:58.854Z"
   },
   {
    "duration": 230,
    "start_time": "2022-09-26T16:31:10.813Z"
   },
   {
    "duration": 77,
    "start_time": "2022-09-26T16:31:56.835Z"
   },
   {
    "duration": 183,
    "start_time": "2022-09-26T16:32:21.325Z"
   },
   {
    "duration": 188,
    "start_time": "2022-09-26T16:32:38.755Z"
   },
   {
    "duration": 205,
    "start_time": "2022-09-26T16:32:46.834Z"
   },
   {
    "duration": 173,
    "start_time": "2022-09-26T16:32:53.467Z"
   },
   {
    "duration": 195,
    "start_time": "2022-09-26T16:32:58.563Z"
   },
   {
    "duration": 184,
    "start_time": "2022-09-26T16:34:24.592Z"
   },
   {
    "duration": 70,
    "start_time": "2022-09-26T16:34:51.522Z"
   },
   {
    "duration": 51,
    "start_time": "2022-09-26T16:34:57.951Z"
   },
   {
    "duration": 51,
    "start_time": "2022-09-26T16:35:06.326Z"
   },
   {
    "duration": 191,
    "start_time": "2022-09-26T16:35:23.237Z"
   },
   {
    "duration": 193,
    "start_time": "2022-09-26T16:35:30.113Z"
   },
   {
    "duration": 192,
    "start_time": "2022-09-26T16:36:01.186Z"
   },
   {
    "duration": 206,
    "start_time": "2022-09-26T16:36:35.742Z"
   },
   {
    "duration": 231,
    "start_time": "2022-09-26T16:45:24.373Z"
   },
   {
    "duration": 179,
    "start_time": "2022-09-26T16:45:38.252Z"
   },
   {
    "duration": 171,
    "start_time": "2022-09-26T16:46:29.293Z"
   },
   {
    "duration": 175,
    "start_time": "2022-09-26T16:46:40.587Z"
   },
   {
    "duration": 6,
    "start_time": "2022-09-26T16:55:04.879Z"
   },
   {
    "duration": 168,
    "start_time": "2022-09-26T16:57:13.734Z"
   },
   {
    "duration": 182,
    "start_time": "2022-09-26T16:58:21.218Z"
   },
   {
    "duration": 206,
    "start_time": "2022-09-26T16:59:18.717Z"
   },
   {
    "duration": 205,
    "start_time": "2022-09-26T16:59:37.250Z"
   },
   {
    "duration": 162,
    "start_time": "2022-09-26T17:00:33.732Z"
   },
   {
    "duration": 13,
    "start_time": "2022-09-26T17:01:17.506Z"
   },
   {
    "duration": 19,
    "start_time": "2022-09-26T17:01:45.367Z"
   },
   {
    "duration": 193,
    "start_time": "2022-09-26T17:01:54.070Z"
   },
   {
    "duration": 86,
    "start_time": "2022-09-26T17:02:15.235Z"
   },
   {
    "duration": 4,
    "start_time": "2022-09-26T17:02:19.380Z"
   },
   {
    "duration": 4,
    "start_time": "2022-09-26T17:02:23.221Z"
   },
   {
    "duration": 5,
    "start_time": "2022-09-26T17:02:34.946Z"
   },
   {
    "duration": 49,
    "start_time": "2022-09-26T17:02:41.891Z"
   },
   {
    "duration": 4,
    "start_time": "2022-09-26T17:02:45.213Z"
   },
   {
    "duration": 3,
    "start_time": "2022-09-26T17:03:14.933Z"
   },
   {
    "duration": 5,
    "start_time": "2022-09-26T17:03:19.003Z"
   },
   {
    "duration": 147,
    "start_time": "2022-09-26T17:03:57.474Z"
   },
   {
    "duration": 152,
    "start_time": "2022-09-26T17:04:10.470Z"
   },
   {
    "duration": 25,
    "start_time": "2022-09-26T17:04:52.408Z"
   },
   {
    "duration": 24,
    "start_time": "2022-09-26T17:05:34.289Z"
   },
   {
    "duration": 177,
    "start_time": "2022-09-26T17:06:00.080Z"
   },
   {
    "duration": 186,
    "start_time": "2022-09-26T17:10:56.758Z"
   },
   {
    "duration": 187,
    "start_time": "2022-09-26T17:11:11.863Z"
   },
   {
    "duration": 180,
    "start_time": "2022-09-26T17:11:46.536Z"
   },
   {
    "duration": 178,
    "start_time": "2022-09-26T17:12:17.179Z"
   },
   {
    "duration": 171,
    "start_time": "2022-09-26T17:12:27.352Z"
   },
   {
    "duration": 25,
    "start_time": "2022-09-26T17:12:50.243Z"
   },
   {
    "duration": 189,
    "start_time": "2022-09-26T17:13:18.877Z"
   },
   {
    "duration": 236,
    "start_time": "2022-09-26T17:13:25.515Z"
   },
   {
    "duration": 169,
    "start_time": "2022-09-26T17:13:39.859Z"
   },
   {
    "duration": 19,
    "start_time": "2022-09-26T17:14:13.756Z"
   },
   {
    "duration": 20,
    "start_time": "2022-09-26T17:14:17.827Z"
   },
   {
    "duration": 181,
    "start_time": "2022-09-26T17:14:52.303Z"
   },
   {
    "duration": 28,
    "start_time": "2022-09-26T17:15:08.697Z"
   },
   {
    "duration": 140,
    "start_time": "2022-09-26T17:17:42.799Z"
   },
   {
    "duration": 144,
    "start_time": "2022-09-26T17:18:07.586Z"
   },
   {
    "duration": 269,
    "start_time": "2022-09-26T17:33:33.680Z"
   },
   {
    "duration": 296,
    "start_time": "2022-09-26T17:33:40.332Z"
   },
   {
    "duration": 304,
    "start_time": "2022-09-26T17:33:50.129Z"
   },
   {
    "duration": 284,
    "start_time": "2022-09-26T17:33:59.098Z"
   },
   {
    "duration": 275,
    "start_time": "2022-09-26T17:34:03.158Z"
   },
   {
    "duration": 278,
    "start_time": "2022-09-26T17:34:05.658Z"
   },
   {
    "duration": 317,
    "start_time": "2022-09-26T17:34:39.662Z"
   },
   {
    "duration": 287,
    "start_time": "2022-09-26T17:34:44.402Z"
   },
   {
    "duration": 298,
    "start_time": "2022-09-26T17:34:54.110Z"
   },
   {
    "duration": 281,
    "start_time": "2022-09-26T17:34:59.791Z"
   },
   {
    "duration": 316,
    "start_time": "2022-09-26T17:35:05.961Z"
   },
   {
    "duration": 301,
    "start_time": "2022-09-26T17:40:54.495Z"
   },
   {
    "duration": 306,
    "start_time": "2022-09-26T17:41:12.934Z"
   },
   {
    "duration": 31,
    "start_time": "2022-09-26T18:01:24.549Z"
   },
   {
    "duration": 37,
    "start_time": "2022-09-26T18:03:13.361Z"
   },
   {
    "duration": 22,
    "start_time": "2022-09-26T18:04:18.576Z"
   },
   {
    "duration": 23,
    "start_time": "2022-09-26T18:04:40.826Z"
   },
   {
    "duration": 21,
    "start_time": "2022-09-26T18:05:24.513Z"
   },
   {
    "duration": 22,
    "start_time": "2022-09-26T18:06:54.556Z"
   },
   {
    "duration": 28,
    "start_time": "2022-09-26T18:14:17.411Z"
   },
   {
    "duration": 19,
    "start_time": "2022-09-26T18:14:34.482Z"
   },
   {
    "duration": 15,
    "start_time": "2022-09-26T18:14:53.967Z"
   },
   {
    "duration": 17,
    "start_time": "2022-09-26T18:15:14.575Z"
   },
   {
    "duration": 16,
    "start_time": "2022-09-26T18:15:23.173Z"
   },
   {
    "duration": 52,
    "start_time": "2022-09-26T18:15:26.294Z"
   },
   {
    "duration": 14,
    "start_time": "2022-09-26T18:15:27.661Z"
   },
   {
    "duration": 15,
    "start_time": "2022-09-26T18:15:36.324Z"
   },
   {
    "duration": 14,
    "start_time": "2022-09-26T18:15:44.793Z"
   },
   {
    "duration": 15,
    "start_time": "2022-09-26T18:15:54.104Z"
   },
   {
    "duration": 13,
    "start_time": "2022-09-26T18:16:00.413Z"
   },
   {
    "duration": 17,
    "start_time": "2022-09-26T18:16:39.064Z"
   },
   {
    "duration": 25,
    "start_time": "2022-09-26T18:28:33.198Z"
   },
   {
    "duration": 27,
    "start_time": "2022-09-26T18:28:44.497Z"
   },
   {
    "duration": 16,
    "start_time": "2022-09-26T18:28:53.758Z"
   },
   {
    "duration": 16,
    "start_time": "2022-09-26T18:28:55.109Z"
   },
   {
    "duration": 26,
    "start_time": "2022-09-26T18:31:07.275Z"
   },
   {
    "duration": 51,
    "start_time": "2022-09-27T05:55:44.965Z"
   },
   {
    "duration": 572,
    "start_time": "2022-09-27T05:55:50.347Z"
   },
   {
    "duration": 13,
    "start_time": "2022-09-27T05:55:50.921Z"
   },
   {
    "duration": 32,
    "start_time": "2022-09-27T05:55:50.935Z"
   },
   {
    "duration": 13,
    "start_time": "2022-09-27T05:55:50.969Z"
   },
   {
    "duration": 4,
    "start_time": "2022-09-27T05:55:50.984Z"
   },
   {
    "duration": 39,
    "start_time": "2022-09-27T05:55:50.989Z"
   },
   {
    "duration": 38,
    "start_time": "2022-09-27T05:55:51.030Z"
   },
   {
    "duration": 30,
    "start_time": "2022-09-27T05:55:51.070Z"
   },
   {
    "duration": 31,
    "start_time": "2022-09-27T05:55:51.122Z"
   },
   {
    "duration": 17,
    "start_time": "2022-09-27T05:55:51.155Z"
   },
   {
    "duration": 703,
    "start_time": "2022-09-27T05:55:51.174Z"
   },
   {
    "duration": 329,
    "start_time": "2022-09-27T05:55:51.879Z"
   },
   {
    "duration": 787,
    "start_time": "2022-09-27T05:55:52.209Z"
   },
   {
    "duration": 10,
    "start_time": "2022-09-27T05:55:52.997Z"
   },
   {
    "duration": 251,
    "start_time": "2022-09-27T05:55:53.008Z"
   },
   {
    "duration": 212,
    "start_time": "2022-09-27T05:55:53.261Z"
   },
   {
    "duration": 186,
    "start_time": "2022-09-27T05:55:53.475Z"
   },
   {
    "duration": 325,
    "start_time": "2022-09-27T05:55:53.663Z"
   },
   {
    "duration": 14,
    "start_time": "2022-09-27T05:55:53.990Z"
   },
   {
    "duration": 24,
    "start_time": "2022-09-27T05:55:54.005Z"
   },
   {
    "duration": 31,
    "start_time": "2022-09-27T06:01:14.628Z"
   },
   {
    "duration": 8,
    "start_time": "2022-09-27T06:01:38.952Z"
   },
   {
    "duration": 42,
    "start_time": "2022-09-27T06:04:35.105Z"
   },
   {
    "duration": 13,
    "start_time": "2022-09-27T06:04:50.904Z"
   },
   {
    "duration": 22,
    "start_time": "2022-09-27T06:05:07.836Z"
   },
   {
    "duration": 26,
    "start_time": "2022-09-27T06:05:48.193Z"
   },
   {
    "duration": 20,
    "start_time": "2022-09-27T06:07:57.906Z"
   },
   {
    "duration": 22,
    "start_time": "2022-09-27T06:08:31.273Z"
   },
   {
    "duration": 19,
    "start_time": "2022-09-27T06:08:52.073Z"
   },
   {
    "duration": 14,
    "start_time": "2022-09-27T06:13:54.358Z"
   },
   {
    "duration": 15,
    "start_time": "2022-09-27T06:14:21.413Z"
   },
   {
    "duration": 14,
    "start_time": "2022-09-27T06:14:38.553Z"
   },
   {
    "duration": 15,
    "start_time": "2022-09-27T06:16:05.157Z"
   },
   {
    "duration": 13,
    "start_time": "2022-09-27T06:16:23.033Z"
   },
   {
    "duration": 13,
    "start_time": "2022-09-27T06:17:14.407Z"
   },
   {
    "duration": 14,
    "start_time": "2022-09-27T06:18:50.268Z"
   },
   {
    "duration": 15,
    "start_time": "2022-09-27T06:19:18.408Z"
   },
   {
    "duration": 16,
    "start_time": "2022-09-27T06:19:33.650Z"
   },
   {
    "duration": 15,
    "start_time": "2022-09-27T06:32:28.532Z"
   },
   {
    "duration": 15,
    "start_time": "2022-09-27T06:32:44.184Z"
   },
   {
    "duration": 18,
    "start_time": "2022-09-27T06:33:06.878Z"
   },
   {
    "duration": 17,
    "start_time": "2022-09-27T06:33:49.833Z"
   },
   {
    "duration": 16,
    "start_time": "2022-09-27T06:34:25.710Z"
   },
   {
    "duration": 237,
    "start_time": "2022-09-27T06:34:40.850Z"
   },
   {
    "duration": 230,
    "start_time": "2022-09-27T06:34:56.655Z"
   },
   {
    "duration": 247,
    "start_time": "2022-09-27T07:11:53.200Z"
   },
   {
    "duration": 259,
    "start_time": "2022-09-27T07:12:21.080Z"
   },
   {
    "duration": 1245,
    "start_time": "2022-09-27T07:13:30.857Z"
   },
   {
    "duration": 0,
    "start_time": "2022-09-27T07:14:26.124Z"
   },
   {
    "duration": 248,
    "start_time": "2022-09-27T07:15:01.326Z"
   },
   {
    "duration": 233,
    "start_time": "2022-09-27T07:16:21.783Z"
   },
   {
    "duration": 14,
    "start_time": "2022-09-27T07:38:35.928Z"
   },
   {
    "duration": 27,
    "start_time": "2022-09-27T07:38:47.379Z"
   },
   {
    "duration": 12,
    "start_time": "2022-09-27T07:39:20.026Z"
   },
   {
    "duration": 8,
    "start_time": "2022-09-27T07:49:55.647Z"
   },
   {
    "duration": 8,
    "start_time": "2022-09-27T07:58:08.545Z"
   },
   {
    "duration": 12,
    "start_time": "2022-09-27T07:58:22.371Z"
   },
   {
    "duration": 9,
    "start_time": "2022-09-27T07:58:32.638Z"
   },
   {
    "duration": 9,
    "start_time": "2022-09-27T07:58:44.371Z"
   },
   {
    "duration": 10,
    "start_time": "2022-09-27T07:59:54.686Z"
   },
   {
    "duration": 193,
    "start_time": "2022-09-27T08:00:52.262Z"
   },
   {
    "duration": 114,
    "start_time": "2022-09-27T08:01:13.440Z"
   },
   {
    "duration": 161,
    "start_time": "2022-09-27T08:01:26.019Z"
   },
   {
    "duration": 122,
    "start_time": "2022-09-27T08:03:58.617Z"
   },
   {
    "duration": 115,
    "start_time": "2022-09-27T08:06:26.763Z"
   },
   {
    "duration": 47,
    "start_time": "2022-09-28T04:28:56.006Z"
   },
   {
    "duration": 669,
    "start_time": "2022-09-28T04:28:59.653Z"
   },
   {
    "duration": 16,
    "start_time": "2022-09-28T04:29:00.324Z"
   },
   {
    "duration": 30,
    "start_time": "2022-09-28T04:29:00.341Z"
   },
   {
    "duration": 26,
    "start_time": "2022-09-28T04:29:00.373Z"
   },
   {
    "duration": 17,
    "start_time": "2022-09-28T04:29:00.403Z"
   },
   {
    "duration": 41,
    "start_time": "2022-09-28T04:29:00.421Z"
   },
   {
    "duration": 31,
    "start_time": "2022-09-28T04:29:00.463Z"
   },
   {
    "duration": 36,
    "start_time": "2022-09-28T04:29:00.496Z"
   },
   {
    "duration": 69,
    "start_time": "2022-09-28T04:29:00.534Z"
   },
   {
    "duration": 23,
    "start_time": "2022-09-28T04:29:00.605Z"
   },
   {
    "duration": 768,
    "start_time": "2022-09-28T04:29:00.630Z"
   },
   {
    "duration": 409,
    "start_time": "2022-09-28T04:29:01.400Z"
   },
   {
    "duration": 933,
    "start_time": "2022-09-28T04:29:01.811Z"
   },
   {
    "duration": 11,
    "start_time": "2022-09-28T04:29:02.748Z"
   },
   {
    "duration": 294,
    "start_time": "2022-09-28T04:29:02.762Z"
   },
   {
    "duration": 214,
    "start_time": "2022-09-28T04:29:03.058Z"
   },
   {
    "duration": 205,
    "start_time": "2022-09-28T04:29:03.274Z"
   },
   {
    "duration": 308,
    "start_time": "2022-09-28T04:29:03.481Z"
   },
   {
    "duration": 14,
    "start_time": "2022-09-28T04:29:03.791Z"
   },
   {
    "duration": 290,
    "start_time": "2022-09-28T04:29:03.807Z"
   },
   {
    "duration": 279,
    "start_time": "2022-09-28T04:29:04.098Z"
   },
   {
    "duration": 271,
    "start_time": "2022-09-28T04:29:04.379Z"
   },
   {
    "duration": 150,
    "start_time": "2022-09-28T04:29:04.651Z"
   },
   {
    "duration": 146,
    "start_time": "2022-09-28T04:29:04.803Z"
   },
   {
    "duration": 148,
    "start_time": "2022-09-28T04:29:04.951Z"
   },
   {
    "duration": 6,
    "start_time": "2022-09-28T04:29:05.101Z"
   },
   {
    "duration": 3,
    "start_time": "2022-09-28T04:30:03.130Z"
   },
   {
    "duration": 6,
    "start_time": "2022-09-28T04:30:08.531Z"
   },
   {
    "duration": 7,
    "start_time": "2022-09-28T04:30:14.868Z"
   },
   {
    "duration": 6,
    "start_time": "2022-09-28T04:30:23.746Z"
   },
   {
    "duration": 6,
    "start_time": "2022-09-28T04:30:30.972Z"
   },
   {
    "duration": 25,
    "start_time": "2022-09-28T04:30:56.318Z"
   },
   {
    "duration": 61,
    "start_time": "2022-09-28T04:33:06.330Z"
   },
   {
    "duration": 37,
    "start_time": "2022-09-28T04:33:18.270Z"
   },
   {
    "duration": 218,
    "start_time": "2022-09-28T04:35:38.491Z"
   },
   {
    "duration": 16,
    "start_time": "2022-09-28T04:35:57.687Z"
   },
   {
    "duration": 153,
    "start_time": "2022-09-28T04:36:29.122Z"
   },
   {
    "duration": 10859,
    "start_time": "2022-09-28T04:40:14.509Z"
   },
   {
    "duration": 474,
    "start_time": "2022-09-28T04:40:54.948Z"
   },
   {
    "duration": 124,
    "start_time": "2022-09-28T04:42:09.114Z"
   },
   {
    "duration": 285,
    "start_time": "2022-09-28T04:42:27.101Z"
   },
   {
    "duration": 142,
    "start_time": "2022-09-28T04:42:45.437Z"
   },
   {
    "duration": 134,
    "start_time": "2022-09-28T04:42:58.901Z"
   },
   {
    "duration": 140,
    "start_time": "2022-09-28T04:43:10.763Z"
   },
   {
    "duration": 133,
    "start_time": "2022-09-28T04:43:40.319Z"
   },
   {
    "duration": 125,
    "start_time": "2022-09-28T04:45:28.465Z"
   },
   {
    "duration": 123,
    "start_time": "2022-09-28T04:45:51.303Z"
   },
   {
    "duration": 144,
    "start_time": "2022-09-28T04:46:23.855Z"
   },
   {
    "duration": 709,
    "start_time": "2022-09-28T07:28:25.147Z"
   },
   {
    "duration": 365,
    "start_time": "2022-09-28T07:28:35.058Z"
   },
   {
    "duration": 16,
    "start_time": "2022-09-28T07:28:35.425Z"
   },
   {
    "duration": 50,
    "start_time": "2022-09-28T07:28:35.442Z"
   },
   {
    "duration": 18,
    "start_time": "2022-09-28T07:28:35.494Z"
   },
   {
    "duration": 21,
    "start_time": "2022-09-28T07:28:35.516Z"
   },
   {
    "duration": 27,
    "start_time": "2022-09-28T07:28:35.539Z"
   },
   {
    "duration": 36,
    "start_time": "2022-09-28T07:28:35.568Z"
   },
   {
    "duration": 53,
    "start_time": "2022-09-28T07:28:35.606Z"
   },
   {
    "duration": 35,
    "start_time": "2022-09-28T07:28:35.661Z"
   },
   {
    "duration": 18,
    "start_time": "2022-09-28T07:28:35.697Z"
   },
   {
    "duration": 790,
    "start_time": "2022-09-28T07:28:35.717Z"
   },
   {
    "duration": 387,
    "start_time": "2022-09-28T07:28:36.509Z"
   },
   {
    "duration": 826,
    "start_time": "2022-09-28T07:28:36.898Z"
   },
   {
    "duration": 10,
    "start_time": "2022-09-28T07:28:37.731Z"
   },
   {
    "duration": 276,
    "start_time": "2022-09-28T07:28:37.755Z"
   },
   {
    "duration": 223,
    "start_time": "2022-09-28T07:28:38.033Z"
   },
   {
    "duration": 222,
    "start_time": "2022-09-28T07:28:38.258Z"
   },
   {
    "duration": 413,
    "start_time": "2022-09-28T07:28:38.482Z"
   },
   {
    "duration": 17,
    "start_time": "2022-09-28T07:28:38.897Z"
   },
   {
    "duration": 299,
    "start_time": "2022-09-28T07:28:38.916Z"
   },
   {
    "duration": 287,
    "start_time": "2022-09-28T07:28:39.217Z"
   },
   {
    "duration": 273,
    "start_time": "2022-09-28T07:28:39.506Z"
   },
   {
    "duration": 158,
    "start_time": "2022-09-28T07:28:39.780Z"
   },
   {
    "duration": 161,
    "start_time": "2022-09-28T07:28:39.940Z"
   },
   {
    "duration": 170,
    "start_time": "2022-09-28T07:28:40.103Z"
   },
   {
    "duration": 141,
    "start_time": "2022-09-28T07:28:40.275Z"
   },
   {
    "duration": 131,
    "start_time": "2022-09-28T07:28:40.418Z"
   },
   {
    "duration": 160,
    "start_time": "2022-09-28T07:28:40.553Z"
   },
   {
    "duration": 66,
    "start_time": "2022-09-28T07:28:40.714Z"
   },
   {
    "duration": 39,
    "start_time": "2022-09-28T07:28:57.589Z"
   },
   {
    "duration": 12,
    "start_time": "2022-09-28T07:29:25.229Z"
   },
   {
    "duration": 13,
    "start_time": "2022-09-28T07:53:30.867Z"
   },
   {
    "duration": 15,
    "start_time": "2022-09-28T07:54:37.417Z"
   },
   {
    "duration": 16,
    "start_time": "2022-09-28T07:55:41.450Z"
   },
   {
    "duration": 12,
    "start_time": "2022-09-28T07:55:59.795Z"
   },
   {
    "duration": 23,
    "start_time": "2022-09-28T07:57:46.954Z"
   },
   {
    "duration": 4,
    "start_time": "2022-09-28T07:58:19.465Z"
   },
   {
    "duration": 5,
    "start_time": "2022-09-28T07:58:44.132Z"
   },
   {
    "duration": 6,
    "start_time": "2022-09-28T08:03:05.499Z"
   },
   {
    "duration": 14,
    "start_time": "2022-09-28T08:04:26.556Z"
   },
   {
    "duration": 63,
    "start_time": "2022-09-28T08:05:59.052Z"
   },
   {
    "duration": 9,
    "start_time": "2022-09-28T08:06:08.324Z"
   },
   {
    "duration": 10,
    "start_time": "2022-09-28T08:06:30.432Z"
   },
   {
    "duration": 13,
    "start_time": "2022-09-28T08:07:08.331Z"
   },
   {
    "duration": 13,
    "start_time": "2022-09-28T08:08:20.513Z"
   },
   {
    "duration": 17,
    "start_time": "2022-09-28T08:16:48.878Z"
   },
   {
    "duration": 47,
    "start_time": "2022-09-28T17:27:59.942Z"
   },
   {
    "duration": 524,
    "start_time": "2022-09-28T17:28:04.220Z"
   },
   {
    "duration": 15,
    "start_time": "2022-09-28T17:28:04.746Z"
   },
   {
    "duration": 33,
    "start_time": "2022-09-28T17:28:04.762Z"
   },
   {
    "duration": 26,
    "start_time": "2022-09-28T17:28:04.796Z"
   },
   {
    "duration": 4,
    "start_time": "2022-09-28T17:28:04.824Z"
   },
   {
    "duration": 29,
    "start_time": "2022-09-28T17:28:04.830Z"
   },
   {
    "duration": 32,
    "start_time": "2022-09-28T17:28:04.860Z"
   },
   {
    "duration": 53,
    "start_time": "2022-09-28T17:28:04.894Z"
   },
   {
    "duration": 52,
    "start_time": "2022-09-28T17:28:04.950Z"
   },
   {
    "duration": 17,
    "start_time": "2022-09-28T17:28:05.004Z"
   },
   {
    "duration": 1145,
    "start_time": "2022-09-28T17:28:05.023Z"
   },
   {
    "duration": 429,
    "start_time": "2022-09-28T17:28:06.170Z"
   },
   {
    "duration": 848,
    "start_time": "2022-09-28T17:28:06.601Z"
   },
   {
    "duration": 10,
    "start_time": "2022-09-28T17:28:07.452Z"
   },
   {
    "duration": 274,
    "start_time": "2022-09-28T17:28:07.464Z"
   },
   {
    "duration": 222,
    "start_time": "2022-09-28T17:28:07.740Z"
   },
   {
    "duration": 203,
    "start_time": "2022-09-28T17:28:07.963Z"
   },
   {
    "duration": 323,
    "start_time": "2022-09-28T17:28:08.168Z"
   },
   {
    "duration": 18,
    "start_time": "2022-09-28T17:28:08.493Z"
   },
   {
    "duration": 298,
    "start_time": "2022-09-28T17:28:08.520Z"
   },
   {
    "duration": 349,
    "start_time": "2022-09-28T17:28:08.820Z"
   },
   {
    "duration": 272,
    "start_time": "2022-09-28T17:28:09.171Z"
   },
   {
    "duration": 149,
    "start_time": "2022-09-28T17:28:09.446Z"
   },
   {
    "duration": 147,
    "start_time": "2022-09-28T17:28:09.597Z"
   },
   {
    "duration": 163,
    "start_time": "2022-09-28T17:28:09.746Z"
   },
   {
    "duration": 136,
    "start_time": "2022-09-28T17:28:09.911Z"
   },
   {
    "duration": 135,
    "start_time": "2022-09-28T17:28:10.049Z"
   },
   {
    "duration": 144,
    "start_time": "2022-09-28T17:28:10.186Z"
   },
   {
    "duration": 405,
    "start_time": "2022-09-28T17:28:10.333Z"
   },
   {
    "duration": 13,
    "start_time": "2022-09-28T17:28:10.740Z"
   },
   {
    "duration": 13,
    "start_time": "2022-09-28T17:28:10.754Z"
   },
   {
    "duration": 15,
    "start_time": "2022-09-28T17:28:32.841Z"
   },
   {
    "duration": 13,
    "start_time": "2022-09-28T17:29:05.474Z"
   },
   {
    "duration": 17,
    "start_time": "2022-09-28T17:37:51.659Z"
   },
   {
    "duration": 19,
    "start_time": "2022-09-28T17:37:53.265Z"
   },
   {
    "duration": 165,
    "start_time": "2022-09-28T18:50:47.207Z"
   },
   {
    "duration": 168,
    "start_time": "2022-09-28T18:51:01.294Z"
   },
   {
    "duration": 181,
    "start_time": "2022-09-28T18:51:15.465Z"
   },
   {
    "duration": 162,
    "start_time": "2022-09-28T18:51:45.938Z"
   },
   {
    "duration": 216,
    "start_time": "2022-09-28T18:52:04.869Z"
   },
   {
    "duration": 72,
    "start_time": "2022-09-28T19:22:41.479Z"
   },
   {
    "duration": 21,
    "start_time": "2022-09-28T19:22:41.554Z"
   },
   {
    "duration": 59,
    "start_time": "2022-09-28T19:22:41.577Z"
   },
   {
    "duration": 18,
    "start_time": "2022-09-28T19:22:41.638Z"
   },
   {
    "duration": 10,
    "start_time": "2022-09-28T19:22:41.660Z"
   },
   {
    "duration": 53,
    "start_time": "2022-09-28T19:22:41.672Z"
   },
   {
    "duration": 37,
    "start_time": "2022-09-28T19:22:41.727Z"
   },
   {
    "duration": 62,
    "start_time": "2022-09-28T19:22:41.766Z"
   },
   {
    "duration": 43,
    "start_time": "2022-09-28T19:22:41.830Z"
   },
   {
    "duration": 23,
    "start_time": "2022-09-28T19:22:41.874Z"
   },
   {
    "duration": 354,
    "start_time": "2022-09-28T19:22:41.923Z"
   },
   {
    "duration": 390,
    "start_time": "2022-09-28T19:22:42.279Z"
   },
   {
    "duration": 949,
    "start_time": "2022-09-28T19:22:42.671Z"
   },
   {
    "duration": 13,
    "start_time": "2022-09-28T19:22:43.624Z"
   },
   {
    "duration": 808,
    "start_time": "2022-09-28T19:22:43.638Z"
   },
   {
    "duration": 246,
    "start_time": "2022-09-28T19:22:44.448Z"
   },
   {
    "duration": 220,
    "start_time": "2022-09-28T19:22:44.696Z"
   },
   {
    "duration": 332,
    "start_time": "2022-09-28T19:22:44.920Z"
   },
   {
    "duration": 246,
    "start_time": "2022-09-28T19:22:45.254Z"
   },
   {
    "duration": 311,
    "start_time": "2022-09-28T19:22:45.502Z"
   },
   {
    "duration": 310,
    "start_time": "2022-09-28T19:22:45.815Z"
   },
   {
    "duration": 293,
    "start_time": "2022-09-28T19:22:46.127Z"
   },
   {
    "duration": 159,
    "start_time": "2022-09-28T19:22:46.422Z"
   },
   {
    "duration": 167,
    "start_time": "2022-09-28T19:22:46.583Z"
   },
   {
    "duration": 179,
    "start_time": "2022-09-28T19:22:46.752Z"
   },
   {
    "duration": 149,
    "start_time": "2022-09-28T19:22:46.933Z"
   },
   {
    "duration": 149,
    "start_time": "2022-09-28T19:22:47.084Z"
   },
   {
    "duration": 151,
    "start_time": "2022-09-28T19:22:47.235Z"
   },
   {
    "duration": 13,
    "start_time": "2022-09-28T19:22:47.388Z"
   },
   {
    "duration": 27,
    "start_time": "2022-09-28T19:22:47.404Z"
   },
   {
    "duration": 14,
    "start_time": "2022-09-28T19:22:47.434Z"
   },
   {
    "duration": 14,
    "start_time": "2022-09-28T19:22:47.450Z"
   },
   {
    "duration": 578,
    "start_time": "2022-09-29T11:44:08.139Z"
   },
   {
    "duration": 13,
    "start_time": "2022-09-29T11:44:08.720Z"
   },
   {
    "duration": 38,
    "start_time": "2022-09-29T11:44:08.735Z"
   },
   {
    "duration": 14,
    "start_time": "2022-09-29T11:44:08.775Z"
   },
   {
    "duration": 4,
    "start_time": "2022-09-29T11:44:08.791Z"
   },
   {
    "duration": 42,
    "start_time": "2022-09-29T11:44:08.797Z"
   },
   {
    "duration": 27,
    "start_time": "2022-09-29T11:44:08.841Z"
   },
   {
    "duration": 54,
    "start_time": "2022-09-29T11:44:08.870Z"
   },
   {
    "duration": 31,
    "start_time": "2022-09-29T11:44:08.926Z"
   },
   {
    "duration": 15,
    "start_time": "2022-09-29T11:44:08.958Z"
   },
   {
    "duration": 676,
    "start_time": "2022-09-29T11:44:08.974Z"
   },
   {
    "duration": 364,
    "start_time": "2022-09-29T11:44:09.652Z"
   },
   {
    "duration": 770,
    "start_time": "2022-09-29T11:44:10.018Z"
   },
   {
    "duration": 10,
    "start_time": "2022-09-29T11:44:10.792Z"
   },
   {
    "duration": 251,
    "start_time": "2022-09-29T11:44:10.804Z"
   },
   {
    "duration": 216,
    "start_time": "2022-09-29T11:44:11.057Z"
   },
   {
    "duration": 185,
    "start_time": "2022-09-29T11:44:11.275Z"
   },
   {
    "duration": 326,
    "start_time": "2022-09-29T11:44:11.462Z"
   },
   {
    "duration": 207,
    "start_time": "2022-09-29T11:44:11.789Z"
   },
   {
    "duration": 251,
    "start_time": "2022-09-29T11:44:11.997Z"
   },
   {
    "duration": 255,
    "start_time": "2022-09-29T11:44:12.249Z"
   },
   {
    "duration": 248,
    "start_time": "2022-09-29T11:44:12.506Z"
   },
   {
    "duration": 133,
    "start_time": "2022-09-29T11:44:12.756Z"
   },
   {
    "duration": 144,
    "start_time": "2022-09-29T11:44:12.891Z"
   },
   {
    "duration": 204,
    "start_time": "2022-09-29T11:44:13.037Z"
   },
   {
    "duration": 125,
    "start_time": "2022-09-29T11:44:13.243Z"
   },
   {
    "duration": 131,
    "start_time": "2022-09-29T11:44:13.370Z"
   },
   {
    "duration": 140,
    "start_time": "2022-09-29T11:44:13.503Z"
   },
   {
    "duration": 447,
    "start_time": "2022-09-29T11:44:13.645Z"
   },
   {
    "duration": 10,
    "start_time": "2022-09-29T11:44:14.093Z"
   },
   {
    "duration": 32,
    "start_time": "2022-09-29T11:44:14.105Z"
   },
   {
    "duration": 20,
    "start_time": "2022-09-29T11:44:14.139Z"
   },
   {
    "duration": 449,
    "start_time": "2022-09-29T12:42:34.715Z"
   },
   {
    "duration": 18,
    "start_time": "2022-09-29T12:42:35.167Z"
   },
   {
    "duration": 63,
    "start_time": "2022-09-29T12:42:35.187Z"
   },
   {
    "duration": 15,
    "start_time": "2022-09-29T12:42:35.252Z"
   },
   {
    "duration": 14,
    "start_time": "2022-09-29T12:42:35.269Z"
   },
   {
    "duration": 47,
    "start_time": "2022-09-29T12:42:35.285Z"
   },
   {
    "duration": 43,
    "start_time": "2022-09-29T12:42:35.334Z"
   },
   {
    "duration": 44,
    "start_time": "2022-09-29T12:42:35.379Z"
   },
   {
    "duration": 41,
    "start_time": "2022-09-29T12:42:35.424Z"
   },
   {
    "duration": 24,
    "start_time": "2022-09-29T12:42:35.467Z"
   },
   {
    "duration": 642,
    "start_time": "2022-09-29T12:42:35.493Z"
   },
   {
    "duration": 422,
    "start_time": "2022-09-29T12:42:36.138Z"
   },
   {
    "duration": 796,
    "start_time": "2022-09-29T12:42:36.563Z"
   },
   {
    "duration": 10,
    "start_time": "2022-09-29T12:42:37.362Z"
   },
   {
    "duration": 312,
    "start_time": "2022-09-29T12:42:37.374Z"
   },
   {
    "duration": 225,
    "start_time": "2022-09-29T12:42:37.688Z"
   },
   {
    "duration": 233,
    "start_time": "2022-09-29T12:42:37.915Z"
   },
   {
    "duration": 346,
    "start_time": "2022-09-29T12:42:38.151Z"
   },
   {
    "duration": 246,
    "start_time": "2022-09-29T12:42:38.499Z"
   },
   {
    "duration": 382,
    "start_time": "2022-09-29T12:42:38.747Z"
   },
   {
    "duration": 268,
    "start_time": "2022-09-29T12:42:39.131Z"
   },
   {
    "duration": 255,
    "start_time": "2022-09-29T12:42:39.401Z"
   },
   {
    "duration": 169,
    "start_time": "2022-09-29T12:42:39.658Z"
   },
   {
    "duration": 184,
    "start_time": "2022-09-29T12:42:39.829Z"
   },
   {
    "duration": 151,
    "start_time": "2022-09-29T12:42:40.031Z"
   },
   {
    "duration": 210,
    "start_time": "2022-09-29T12:42:40.185Z"
   },
   {
    "duration": 195,
    "start_time": "2022-09-29T12:42:40.397Z"
   },
   {
    "duration": 222,
    "start_time": "2022-09-29T12:42:40.594Z"
   },
   {
    "duration": 549,
    "start_time": "2022-09-29T12:42:40.818Z"
   },
   {
    "duration": 16,
    "start_time": "2022-09-29T12:42:41.369Z"
   },
   {
    "duration": 30,
    "start_time": "2022-09-29T12:42:41.388Z"
   },
   {
    "duration": 18,
    "start_time": "2022-09-29T12:42:41.420Z"
   },
   {
    "duration": 467,
    "start_time": "2022-09-29T13:34:47.412Z"
   },
   {
    "duration": 12,
    "start_time": "2022-09-29T13:34:47.881Z"
   },
   {
    "duration": 26,
    "start_time": "2022-09-29T13:34:47.894Z"
   },
   {
    "duration": 13,
    "start_time": "2022-09-29T13:34:47.921Z"
   },
   {
    "duration": 4,
    "start_time": "2022-09-29T13:34:47.935Z"
   },
   {
    "duration": 20,
    "start_time": "2022-09-29T13:34:47.940Z"
   },
   {
    "duration": 421,
    "start_time": "2022-09-29T13:34:47.961Z"
   },
   {
    "duration": 40,
    "start_time": "2022-09-29T13:34:48.384Z"
   },
   {
    "duration": 23,
    "start_time": "2022-09-29T13:34:48.426Z"
   },
   {
    "duration": 26,
    "start_time": "2022-09-29T13:34:48.452Z"
   },
   {
    "duration": 33,
    "start_time": "2022-09-29T13:34:48.479Z"
   },
   {
    "duration": 297,
    "start_time": "2022-09-29T13:34:48.514Z"
   },
   {
    "duration": 334,
    "start_time": "2022-09-29T13:34:48.813Z"
   },
   {
    "duration": 772,
    "start_time": "2022-09-29T13:34:49.149Z"
   },
   {
    "duration": 9,
    "start_time": "2022-09-29T13:34:49.922Z"
   },
   {
    "duration": 228,
    "start_time": "2022-09-29T13:34:49.932Z"
   },
   {
    "duration": 182,
    "start_time": "2022-09-29T13:34:50.162Z"
   },
   {
    "duration": 191,
    "start_time": "2022-09-29T13:34:50.345Z"
   },
   {
    "duration": 279,
    "start_time": "2022-09-29T13:34:50.538Z"
   },
   {
    "duration": 190,
    "start_time": "2022-09-29T13:34:50.819Z"
   },
   {
    "duration": 237,
    "start_time": "2022-09-29T13:34:51.011Z"
   },
   {
    "duration": 238,
    "start_time": "2022-09-29T13:34:51.250Z"
   },
   {
    "duration": 245,
    "start_time": "2022-09-29T13:34:51.490Z"
   },
   {
    "duration": 135,
    "start_time": "2022-09-29T13:34:51.737Z"
   },
   {
    "duration": 134,
    "start_time": "2022-09-29T13:34:51.873Z"
   },
   {
    "duration": 195,
    "start_time": "2022-09-29T13:34:52.008Z"
   },
   {
    "duration": 114,
    "start_time": "2022-09-29T13:34:52.205Z"
   },
   {
    "duration": 116,
    "start_time": "2022-09-29T13:34:52.322Z"
   },
   {
    "duration": 124,
    "start_time": "2022-09-29T13:34:52.439Z"
   },
   {
    "duration": 437,
    "start_time": "2022-09-29T13:34:52.564Z"
   },
   {
    "duration": 14,
    "start_time": "2022-09-29T13:34:53.002Z"
   },
   {
    "duration": 12,
    "start_time": "2022-09-29T13:34:53.017Z"
   },
   {
    "duration": 17,
    "start_time": "2022-09-29T13:34:53.030Z"
   },
   {
    "duration": 13,
    "start_time": "2022-09-29T13:45:02.624Z"
   },
   {
    "duration": 15,
    "start_time": "2022-09-29T13:45:23.980Z"
   },
   {
    "duration": 284,
    "start_time": "2022-09-29T13:52:39.705Z"
   },
   {
    "duration": 232,
    "start_time": "2022-09-29T13:52:52.875Z"
   },
   {
    "duration": 112,
    "start_time": "2022-09-29T13:57:22.056Z"
   },
   {
    "duration": 112,
    "start_time": "2022-09-29T13:57:33.873Z"
   },
   {
    "duration": 119,
    "start_time": "2022-09-29T13:57:39.881Z"
   },
   {
    "duration": 311,
    "start_time": "2022-09-29T14:16:45.005Z"
   },
   {
    "duration": 314,
    "start_time": "2022-09-29T14:16:57.829Z"
   },
   {
    "duration": 316,
    "start_time": "2022-09-29T14:17:43.575Z"
   },
   {
    "duration": 804,
    "start_time": "2022-09-29T14:17:59.433Z"
   },
   {
    "duration": 318,
    "start_time": "2022-09-29T14:18:42.379Z"
   },
   {
    "duration": 192,
    "start_time": "2022-09-29T14:20:11.937Z"
   },
   {
    "duration": 196,
    "start_time": "2022-09-29T14:20:35.387Z"
   },
   {
    "duration": 187,
    "start_time": "2022-09-29T14:20:45.592Z"
   },
   {
    "duration": 209,
    "start_time": "2022-09-29T14:21:58.487Z"
   },
   {
    "duration": 207,
    "start_time": "2022-09-29T14:22:01.030Z"
   },
   {
    "duration": 274,
    "start_time": "2022-09-29T14:22:55.354Z"
   },
   {
    "duration": 273,
    "start_time": "2022-09-29T14:23:06.113Z"
   },
   {
    "duration": 305,
    "start_time": "2022-09-29T14:23:14.453Z"
   },
   {
    "duration": 243,
    "start_time": "2022-09-29T14:23:45.169Z"
   },
   {
    "duration": 342,
    "start_time": "2022-09-29T14:23:57.697Z"
   },
   {
    "duration": 263,
    "start_time": "2022-09-29T14:24:01.624Z"
   },
   {
    "duration": 260,
    "start_time": "2022-09-29T14:24:17.710Z"
   },
   {
    "duration": 237,
    "start_time": "2022-09-29T14:24:28.807Z"
   },
   {
    "duration": 127,
    "start_time": "2022-09-29T14:25:44.887Z"
   },
   {
    "duration": 128,
    "start_time": "2022-09-29T14:25:58.512Z"
   },
   {
    "duration": 128,
    "start_time": "2022-09-29T14:26:07.145Z"
   },
   {
    "duration": 155,
    "start_time": "2022-09-29T14:27:15.965Z"
   },
   {
    "duration": 138,
    "start_time": "2022-09-29T14:28:07.398Z"
   },
   {
    "duration": 136,
    "start_time": "2022-09-29T14:28:21.468Z"
   }
  ],
  "kernelspec": {
   "display_name": "Python 3 (ipykernel)",
   "language": "python",
   "name": "python3"
  },
  "language_info": {
   "codemirror_mode": {
    "name": "ipython",
    "version": 3
   },
   "file_extension": ".py",
   "mimetype": "text/x-python",
   "name": "python",
   "nbconvert_exporter": "python",
   "pygments_lexer": "ipython3",
   "version": "3.9.12"
  },
  "toc": {
   "base_numbering": 1,
   "nav_menu": {},
   "number_sections": true,
   "sideBar": true,
   "skip_h1_title": true,
   "title_cell": "Table of Contents",
   "title_sidebar": "Contents",
   "toc_cell": false,
   "toc_position": {},
   "toc_section_display": true,
   "toc_window_display": false
  }
 },
 "nbformat": 4,
 "nbformat_minor": 2
}
